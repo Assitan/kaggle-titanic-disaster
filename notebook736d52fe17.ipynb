{
 "cells": [
  {
   "cell_type": "markdown",
   "id": "4ab1169a",
   "metadata": {
    "papermill": {
     "duration": 0.074928,
     "end_time": "2022-05-26T09:38:40.878062",
     "exception": false,
     "start_time": "2022-05-26T09:38:40.803134",
     "status": "completed"
    },
    "tags": []
   },
   "source": [
    "## Importing Libraries"
   ]
  },
  {
   "cell_type": "code",
   "execution_count": 1,
   "id": "be4c476f",
   "metadata": {
    "execution": {
     "iopub.execute_input": "2022-05-26T09:38:41.037713Z",
     "iopub.status.busy": "2022-05-26T09:38:41.033252Z",
     "iopub.status.idle": "2022-05-26T09:38:42.157218Z",
     "shell.execute_reply": "2022-05-26T09:38:42.157831Z",
     "shell.execute_reply.started": "2022-05-26T09:27:27.390143Z"
    },
    "papermill": {
     "duration": 1.209778,
     "end_time": "2022-05-26T09:38:42.158215",
     "exception": false,
     "start_time": "2022-05-26T09:38:40.948437",
     "status": "completed"
    },
    "tags": []
   },
   "outputs": [
    {
     "name": "stdout",
     "output_type": "stream",
     "text": [
      "/kaggle/input/titanic/train.csv\n",
      "/kaggle/input/titanic/test.csv\n",
      "/kaggle/input/titanic/gender_submission.csv\n"
     ]
    }
   ],
   "source": [
    "# This Python 3 environment comes with many helpful analytics libraries installed\n",
    "# It is defined by the kaggle/python Docker image: https://github.com/kaggle/docker-python\n",
    "\n",
    "import numpy as np  #for algebraic operations on arrays\n",
    "import pandas as pd  #for data exploration and manipulation\n",
    "\n",
    "\n",
    "##plotting libraries\n",
    "import matplotlib.pyplot as plt\n",
    "import seaborn as sns\n",
    "%matplotlib inline\n",
    "\n",
    "import os\n",
    "for dirname, _, filenames in os.walk('/kaggle/input'):\n",
    "    for filename in filenames:\n",
    "        print(os.path.join(dirname, filename))\n",
    "\n",
    "# You can write up to 20GB to the current directory (/kaggle/working/) that gets preserved as output when you create a version using \"Save & Run All\" \n",
    "# You can also write temporary files to /kaggle/temp/, but they won't be saved outside of the current session"
   ]
  },
  {
   "cell_type": "markdown",
   "id": "f55765a8",
   "metadata": {
    "papermill": {
     "duration": 0.070547,
     "end_time": "2022-05-26T09:38:42.301830",
     "exception": false,
     "start_time": "2022-05-26T09:38:42.231283",
     "status": "completed"
    },
    "tags": []
   },
   "source": [
    "## Loading the dataset"
   ]
  },
  {
   "cell_type": "code",
   "execution_count": 2,
   "id": "49a0fa05",
   "metadata": {
    "execution": {
     "iopub.execute_input": "2022-05-26T09:38:42.449152Z",
     "iopub.status.busy": "2022-05-26T09:38:42.448233Z",
     "iopub.status.idle": "2022-05-26T09:38:42.467191Z",
     "shell.execute_reply": "2022-05-26T09:38:42.467718Z",
     "shell.execute_reply.started": "2022-05-26T09:27:27.402739Z"
    },
    "papermill": {
     "duration": 0.095438,
     "end_time": "2022-05-26T09:38:42.467929",
     "exception": false,
     "start_time": "2022-05-26T09:38:42.372491",
     "status": "completed"
    },
    "tags": []
   },
   "outputs": [],
   "source": [
    "df_train = pd.read_csv('/kaggle/input/titanic/train.csv')"
   ]
  },
  {
   "cell_type": "markdown",
   "id": "cbc4f30b",
   "metadata": {
    "papermill": {
     "duration": 0.070846,
     "end_time": "2022-05-26T09:38:42.611573",
     "exception": false,
     "start_time": "2022-05-26T09:38:42.540727",
     "status": "completed"
    },
    "tags": []
   },
   "source": [
    "### View the first five lines"
   ]
  },
  {
   "cell_type": "code",
   "execution_count": 3,
   "id": "8b6f2bb7",
   "metadata": {
    "execution": {
     "iopub.execute_input": "2022-05-26T09:38:42.762157Z",
     "iopub.status.busy": "2022-05-26T09:38:42.761201Z",
     "iopub.status.idle": "2022-05-26T09:38:42.780615Z",
     "shell.execute_reply": "2022-05-26T09:38:42.781152Z",
     "shell.execute_reply.started": "2022-05-26T09:27:27.425167Z"
    },
    "papermill": {
     "duration": 0.099138,
     "end_time": "2022-05-26T09:38:42.781326",
     "exception": false,
     "start_time": "2022-05-26T09:38:42.682188",
     "status": "completed"
    },
    "tags": []
   },
   "outputs": [
    {
     "data": {
      "text/html": [
       "<div>\n",
       "<style scoped>\n",
       "    .dataframe tbody tr th:only-of-type {\n",
       "        vertical-align: middle;\n",
       "    }\n",
       "\n",
       "    .dataframe tbody tr th {\n",
       "        vertical-align: top;\n",
       "    }\n",
       "\n",
       "    .dataframe thead th {\n",
       "        text-align: right;\n",
       "    }\n",
       "</style>\n",
       "<table border=\"1\" class=\"dataframe\">\n",
       "  <thead>\n",
       "    <tr style=\"text-align: right;\">\n",
       "      <th></th>\n",
       "      <th>PassengerId</th>\n",
       "      <th>Survived</th>\n",
       "      <th>Pclass</th>\n",
       "      <th>Name</th>\n",
       "      <th>Sex</th>\n",
       "      <th>Age</th>\n",
       "      <th>SibSp</th>\n",
       "      <th>Parch</th>\n",
       "      <th>Ticket</th>\n",
       "      <th>Fare</th>\n",
       "      <th>Cabin</th>\n",
       "      <th>Embarked</th>\n",
       "    </tr>\n",
       "  </thead>\n",
       "  <tbody>\n",
       "    <tr>\n",
       "      <th>0</th>\n",
       "      <td>1</td>\n",
       "      <td>0</td>\n",
       "      <td>3</td>\n",
       "      <td>Braund, Mr. Owen Harris</td>\n",
       "      <td>male</td>\n",
       "      <td>22.0</td>\n",
       "      <td>1</td>\n",
       "      <td>0</td>\n",
       "      <td>A/5 21171</td>\n",
       "      <td>7.2500</td>\n",
       "      <td>NaN</td>\n",
       "      <td>S</td>\n",
       "    </tr>\n",
       "    <tr>\n",
       "      <th>1</th>\n",
       "      <td>2</td>\n",
       "      <td>1</td>\n",
       "      <td>1</td>\n",
       "      <td>Cumings, Mrs. John Bradley (Florence Briggs Th...</td>\n",
       "      <td>female</td>\n",
       "      <td>38.0</td>\n",
       "      <td>1</td>\n",
       "      <td>0</td>\n",
       "      <td>PC 17599</td>\n",
       "      <td>71.2833</td>\n",
       "      <td>C85</td>\n",
       "      <td>C</td>\n",
       "    </tr>\n",
       "    <tr>\n",
       "      <th>2</th>\n",
       "      <td>3</td>\n",
       "      <td>1</td>\n",
       "      <td>3</td>\n",
       "      <td>Heikkinen, Miss. Laina</td>\n",
       "      <td>female</td>\n",
       "      <td>26.0</td>\n",
       "      <td>0</td>\n",
       "      <td>0</td>\n",
       "      <td>STON/O2. 3101282</td>\n",
       "      <td>7.9250</td>\n",
       "      <td>NaN</td>\n",
       "      <td>S</td>\n",
       "    </tr>\n",
       "    <tr>\n",
       "      <th>3</th>\n",
       "      <td>4</td>\n",
       "      <td>1</td>\n",
       "      <td>1</td>\n",
       "      <td>Futrelle, Mrs. Jacques Heath (Lily May Peel)</td>\n",
       "      <td>female</td>\n",
       "      <td>35.0</td>\n",
       "      <td>1</td>\n",
       "      <td>0</td>\n",
       "      <td>113803</td>\n",
       "      <td>53.1000</td>\n",
       "      <td>C123</td>\n",
       "      <td>S</td>\n",
       "    </tr>\n",
       "    <tr>\n",
       "      <th>4</th>\n",
       "      <td>5</td>\n",
       "      <td>0</td>\n",
       "      <td>3</td>\n",
       "      <td>Allen, Mr. William Henry</td>\n",
       "      <td>male</td>\n",
       "      <td>35.0</td>\n",
       "      <td>0</td>\n",
       "      <td>0</td>\n",
       "      <td>373450</td>\n",
       "      <td>8.0500</td>\n",
       "      <td>NaN</td>\n",
       "      <td>S</td>\n",
       "    </tr>\n",
       "  </tbody>\n",
       "</table>\n",
       "</div>"
      ],
      "text/plain": [
       "   PassengerId  Survived  Pclass  \\\n",
       "0            1         0       3   \n",
       "1            2         1       1   \n",
       "2            3         1       3   \n",
       "3            4         1       1   \n",
       "4            5         0       3   \n",
       "\n",
       "                                                Name     Sex   Age  SibSp  \\\n",
       "0                            Braund, Mr. Owen Harris    male  22.0      1   \n",
       "1  Cumings, Mrs. John Bradley (Florence Briggs Th...  female  38.0      1   \n",
       "2                             Heikkinen, Miss. Laina  female  26.0      0   \n",
       "3       Futrelle, Mrs. Jacques Heath (Lily May Peel)  female  35.0      1   \n",
       "4                           Allen, Mr. William Henry    male  35.0      0   \n",
       "\n",
       "   Parch            Ticket     Fare Cabin Embarked  \n",
       "0      0         A/5 21171   7.2500   NaN        S  \n",
       "1      0          PC 17599  71.2833   C85        C  \n",
       "2      0  STON/O2. 3101282   7.9250   NaN        S  \n",
       "3      0            113803  53.1000  C123        S  \n",
       "4      0            373450   8.0500   NaN        S  "
      ]
     },
     "execution_count": 3,
     "metadata": {},
     "output_type": "execute_result"
    }
   ],
   "source": [
    "df_train.head()"
   ]
  },
  {
   "cell_type": "markdown",
   "id": "6aace2e3",
   "metadata": {
    "papermill": {
     "duration": 0.073675,
     "end_time": "2022-05-26T09:38:42.926780",
     "exception": false,
     "start_time": "2022-05-26T09:38:42.853105",
     "status": "completed"
    },
    "tags": []
   },
   "source": [
    "## Exploratory data analysis"
   ]
  },
  {
   "cell_type": "code",
   "execution_count": 4,
   "id": "e43b124a",
   "metadata": {
    "execution": {
     "iopub.execute_input": "2022-05-26T09:38:43.077853Z",
     "iopub.status.busy": "2022-05-26T09:38:43.075571Z",
     "iopub.status.idle": "2022-05-26T09:38:43.081357Z",
     "shell.execute_reply": "2022-05-26T09:38:43.081870Z",
     "shell.execute_reply.started": "2022-05-26T09:27:27.443682Z"
    },
    "papermill": {
     "duration": 0.081634,
     "end_time": "2022-05-26T09:38:43.082059",
     "exception": false,
     "start_time": "2022-05-26T09:38:43.000425",
     "status": "completed"
    },
    "tags": []
   },
   "outputs": [
    {
     "data": {
      "text/plain": [
       "(891, 12)"
      ]
     },
     "execution_count": 4,
     "metadata": {},
     "output_type": "execute_result"
    }
   ],
   "source": [
    "df_train.shape"
   ]
  },
  {
   "cell_type": "code",
   "execution_count": 5,
   "id": "f247ef54",
   "metadata": {
    "execution": {
     "iopub.execute_input": "2022-05-26T09:38:43.243162Z",
     "iopub.status.busy": "2022-05-26T09:38:43.242491Z",
     "iopub.status.idle": "2022-05-26T09:38:43.245580Z",
     "shell.execute_reply": "2022-05-26T09:38:43.246179Z",
     "shell.execute_reply.started": "2022-05-26T09:27:27.458358Z"
    },
    "papermill": {
     "duration": 0.091392,
     "end_time": "2022-05-26T09:38:43.246364",
     "exception": false,
     "start_time": "2022-05-26T09:38:43.154972",
     "status": "completed"
    },
    "tags": []
   },
   "outputs": [
    {
     "data": {
      "text/html": [
       "<div>\n",
       "<style scoped>\n",
       "    .dataframe tbody tr th:only-of-type {\n",
       "        vertical-align: middle;\n",
       "    }\n",
       "\n",
       "    .dataframe tbody tr th {\n",
       "        vertical-align: top;\n",
       "    }\n",
       "\n",
       "    .dataframe thead th {\n",
       "        text-align: right;\n",
       "    }\n",
       "</style>\n",
       "<table border=\"1\" class=\"dataframe\">\n",
       "  <thead>\n",
       "    <tr style=\"text-align: right;\">\n",
       "      <th></th>\n",
       "      <th>0</th>\n",
       "      <th>1</th>\n",
       "      <th>2</th>\n",
       "      <th>3</th>\n",
       "      <th>4</th>\n",
       "    </tr>\n",
       "  </thead>\n",
       "  <tbody>\n",
       "    <tr>\n",
       "      <th>PassengerId</th>\n",
       "      <td>1</td>\n",
       "      <td>2</td>\n",
       "      <td>3</td>\n",
       "      <td>4</td>\n",
       "      <td>5</td>\n",
       "    </tr>\n",
       "    <tr>\n",
       "      <th>Survived</th>\n",
       "      <td>0</td>\n",
       "      <td>1</td>\n",
       "      <td>1</td>\n",
       "      <td>1</td>\n",
       "      <td>0</td>\n",
       "    </tr>\n",
       "    <tr>\n",
       "      <th>Pclass</th>\n",
       "      <td>3</td>\n",
       "      <td>1</td>\n",
       "      <td>3</td>\n",
       "      <td>1</td>\n",
       "      <td>3</td>\n",
       "    </tr>\n",
       "    <tr>\n",
       "      <th>Name</th>\n",
       "      <td>Braund, Mr. Owen Harris</td>\n",
       "      <td>Cumings, Mrs. John Bradley (Florence Briggs Th...</td>\n",
       "      <td>Heikkinen, Miss. Laina</td>\n",
       "      <td>Futrelle, Mrs. Jacques Heath (Lily May Peel)</td>\n",
       "      <td>Allen, Mr. William Henry</td>\n",
       "    </tr>\n",
       "    <tr>\n",
       "      <th>Sex</th>\n",
       "      <td>male</td>\n",
       "      <td>female</td>\n",
       "      <td>female</td>\n",
       "      <td>female</td>\n",
       "      <td>male</td>\n",
       "    </tr>\n",
       "    <tr>\n",
       "      <th>Age</th>\n",
       "      <td>22.0</td>\n",
       "      <td>38.0</td>\n",
       "      <td>26.0</td>\n",
       "      <td>35.0</td>\n",
       "      <td>35.0</td>\n",
       "    </tr>\n",
       "    <tr>\n",
       "      <th>SibSp</th>\n",
       "      <td>1</td>\n",
       "      <td>1</td>\n",
       "      <td>0</td>\n",
       "      <td>1</td>\n",
       "      <td>0</td>\n",
       "    </tr>\n",
       "    <tr>\n",
       "      <th>Parch</th>\n",
       "      <td>0</td>\n",
       "      <td>0</td>\n",
       "      <td>0</td>\n",
       "      <td>0</td>\n",
       "      <td>0</td>\n",
       "    </tr>\n",
       "    <tr>\n",
       "      <th>Ticket</th>\n",
       "      <td>A/5 21171</td>\n",
       "      <td>PC 17599</td>\n",
       "      <td>STON/O2. 3101282</td>\n",
       "      <td>113803</td>\n",
       "      <td>373450</td>\n",
       "    </tr>\n",
       "    <tr>\n",
       "      <th>Fare</th>\n",
       "      <td>7.25</td>\n",
       "      <td>71.2833</td>\n",
       "      <td>7.925</td>\n",
       "      <td>53.1</td>\n",
       "      <td>8.05</td>\n",
       "    </tr>\n",
       "    <tr>\n",
       "      <th>Cabin</th>\n",
       "      <td>NaN</td>\n",
       "      <td>C85</td>\n",
       "      <td>NaN</td>\n",
       "      <td>C123</td>\n",
       "      <td>NaN</td>\n",
       "    </tr>\n",
       "    <tr>\n",
       "      <th>Embarked</th>\n",
       "      <td>S</td>\n",
       "      <td>C</td>\n",
       "      <td>S</td>\n",
       "      <td>S</td>\n",
       "      <td>S</td>\n",
       "    </tr>\n",
       "  </tbody>\n",
       "</table>\n",
       "</div>"
      ],
      "text/plain": [
       "                                   0  \\\n",
       "PassengerId                        1   \n",
       "Survived                           0   \n",
       "Pclass                             3   \n",
       "Name         Braund, Mr. Owen Harris   \n",
       "Sex                             male   \n",
       "Age                             22.0   \n",
       "SibSp                              1   \n",
       "Parch                              0   \n",
       "Ticket                     A/5 21171   \n",
       "Fare                            7.25   \n",
       "Cabin                            NaN   \n",
       "Embarked                           S   \n",
       "\n",
       "                                                             1  \\\n",
       "PassengerId                                                  2   \n",
       "Survived                                                     1   \n",
       "Pclass                                                       1   \n",
       "Name         Cumings, Mrs. John Bradley (Florence Briggs Th...   \n",
       "Sex                                                     female   \n",
       "Age                                                       38.0   \n",
       "SibSp                                                        1   \n",
       "Parch                                                        0   \n",
       "Ticket                                                PC 17599   \n",
       "Fare                                                   71.2833   \n",
       "Cabin                                                      C85   \n",
       "Embarked                                                     C   \n",
       "\n",
       "                                  2  \\\n",
       "PassengerId                       3   \n",
       "Survived                          1   \n",
       "Pclass                            3   \n",
       "Name         Heikkinen, Miss. Laina   \n",
       "Sex                          female   \n",
       "Age                            26.0   \n",
       "SibSp                             0   \n",
       "Parch                             0   \n",
       "Ticket             STON/O2. 3101282   \n",
       "Fare                          7.925   \n",
       "Cabin                           NaN   \n",
       "Embarked                          S   \n",
       "\n",
       "                                                        3  \\\n",
       "PassengerId                                             4   \n",
       "Survived                                                1   \n",
       "Pclass                                                  1   \n",
       "Name         Futrelle, Mrs. Jacques Heath (Lily May Peel)   \n",
       "Sex                                                female   \n",
       "Age                                                  35.0   \n",
       "SibSp                                                   1   \n",
       "Parch                                                   0   \n",
       "Ticket                                             113803   \n",
       "Fare                                                 53.1   \n",
       "Cabin                                                C123   \n",
       "Embarked                                                S   \n",
       "\n",
       "                                    4  \n",
       "PassengerId                         5  \n",
       "Survived                            0  \n",
       "Pclass                              3  \n",
       "Name         Allen, Mr. William Henry  \n",
       "Sex                              male  \n",
       "Age                              35.0  \n",
       "SibSp                               0  \n",
       "Parch                               0  \n",
       "Ticket                         373450  \n",
       "Fare                             8.05  \n",
       "Cabin                             NaN  \n",
       "Embarked                            S  "
      ]
     },
     "execution_count": 5,
     "metadata": {},
     "output_type": "execute_result"
    }
   ],
   "source": [
    "df_train.head().T"
   ]
  },
  {
   "cell_type": "markdown",
   "id": "1d0ee64c",
   "metadata": {
    "papermill": {
     "duration": 0.071985,
     "end_time": "2022-05-26T09:38:43.390982",
     "exception": false,
     "start_time": "2022-05-26T09:38:43.318997",
     "status": "completed"
    },
    "tags": []
   },
   "source": [
    "There are a lot of variables/features here but the most interesting feature is the column Survived. This is the target variable for our ML model which we want to predict (1 or 0)\n",
    "\n",
    "It has 2 values:\n",
    "\n",
    "1 - Survived.\n",
    "\n",
    "0 - No survived."
   ]
  },
  {
   "cell_type": "code",
   "execution_count": 6,
   "id": "2a848e0d",
   "metadata": {
    "execution": {
     "iopub.execute_input": "2022-05-26T09:38:43.542026Z",
     "iopub.status.busy": "2022-05-26T09:38:43.541338Z",
     "iopub.status.idle": "2022-05-26T09:38:43.563832Z",
     "shell.execute_reply": "2022-05-26T09:38:43.564605Z",
     "shell.execute_reply.started": "2022-05-26T09:27:27.479499Z"
    },
    "papermill": {
     "duration": 0.101535,
     "end_time": "2022-05-26T09:38:43.564831",
     "exception": false,
     "start_time": "2022-05-26T09:38:43.463296",
     "status": "completed"
    },
    "tags": []
   },
   "outputs": [
    {
     "name": "stdout",
     "output_type": "stream",
     "text": [
      "<class 'pandas.core.frame.DataFrame'>\n",
      "RangeIndex: 891 entries, 0 to 890\n",
      "Data columns (total 12 columns):\n",
      " #   Column       Non-Null Count  Dtype  \n",
      "---  ------       --------------  -----  \n",
      " 0   PassengerId  891 non-null    int64  \n",
      " 1   Survived     891 non-null    int64  \n",
      " 2   Pclass       891 non-null    int64  \n",
      " 3   Name         891 non-null    object \n",
      " 4   Sex          891 non-null    object \n",
      " 5   Age          714 non-null    float64\n",
      " 6   SibSp        891 non-null    int64  \n",
      " 7   Parch        891 non-null    int64  \n",
      " 8   Ticket       891 non-null    object \n",
      " 9   Fare         891 non-null    float64\n",
      " 10  Cabin        204 non-null    object \n",
      " 11  Embarked     889 non-null    object \n",
      "dtypes: float64(2), int64(5), object(5)\n",
      "memory usage: 83.7+ KB\n"
     ]
    }
   ],
   "source": [
    "# checking data information\n",
    "df_train.info()"
   ]
  },
  {
   "cell_type": "markdown",
   "id": "34c5fd08",
   "metadata": {
    "papermill": {
     "duration": 0.072563,
     "end_time": "2022-05-26T09:38:43.712059",
     "exception": false,
     "start_time": "2022-05-26T09:38:43.639496",
     "status": "completed"
    },
    "tags": []
   },
   "source": [
    "**Interpreting Data Information**\n",
    "\n",
    "- We have 891 rows, any column that contains lesser number of rows has missing values.\n",
    "- We have 12 columns.\n",
    "- There are categorical features that have data type float64.\n",
    "- There are numerical features that have data type object.\n",
    "\n",
    "We can see quite a number of columns with missing values (Age, Cabin)."
   ]
  },
  {
   "cell_type": "code",
   "execution_count": 7,
   "id": "2c169f9a",
   "metadata": {
    "execution": {
     "iopub.execute_input": "2022-05-26T09:38:43.865899Z",
     "iopub.status.busy": "2022-05-26T09:38:43.865028Z",
     "iopub.status.idle": "2022-05-26T09:38:43.895469Z",
     "shell.execute_reply": "2022-05-26T09:38:43.895940Z",
     "shell.execute_reply.started": "2022-05-26T09:27:27.499087Z"
    },
    "papermill": {
     "duration": 0.111008,
     "end_time": "2022-05-26T09:38:43.896120",
     "exception": false,
     "start_time": "2022-05-26T09:38:43.785112",
     "status": "completed"
    },
    "tags": []
   },
   "outputs": [
    {
     "data": {
      "text/html": [
       "<div>\n",
       "<style scoped>\n",
       "    .dataframe tbody tr th:only-of-type {\n",
       "        vertical-align: middle;\n",
       "    }\n",
       "\n",
       "    .dataframe tbody tr th {\n",
       "        vertical-align: top;\n",
       "    }\n",
       "\n",
       "    .dataframe thead th {\n",
       "        text-align: right;\n",
       "    }\n",
       "</style>\n",
       "<table border=\"1\" class=\"dataframe\">\n",
       "  <thead>\n",
       "    <tr style=\"text-align: right;\">\n",
       "      <th></th>\n",
       "      <th>PassengerId</th>\n",
       "      <th>Survived</th>\n",
       "      <th>Pclass</th>\n",
       "      <th>Age</th>\n",
       "      <th>SibSp</th>\n",
       "      <th>Parch</th>\n",
       "      <th>Fare</th>\n",
       "    </tr>\n",
       "  </thead>\n",
       "  <tbody>\n",
       "    <tr>\n",
       "      <th>count</th>\n",
       "      <td>891.000000</td>\n",
       "      <td>891.000000</td>\n",
       "      <td>891.000000</td>\n",
       "      <td>714.000000</td>\n",
       "      <td>891.000000</td>\n",
       "      <td>891.000000</td>\n",
       "      <td>891.000000</td>\n",
       "    </tr>\n",
       "    <tr>\n",
       "      <th>mean</th>\n",
       "      <td>446.000000</td>\n",
       "      <td>0.383838</td>\n",
       "      <td>2.308642</td>\n",
       "      <td>29.699118</td>\n",
       "      <td>0.523008</td>\n",
       "      <td>0.381594</td>\n",
       "      <td>32.204208</td>\n",
       "    </tr>\n",
       "    <tr>\n",
       "      <th>std</th>\n",
       "      <td>257.353842</td>\n",
       "      <td>0.486592</td>\n",
       "      <td>0.836071</td>\n",
       "      <td>14.526497</td>\n",
       "      <td>1.102743</td>\n",
       "      <td>0.806057</td>\n",
       "      <td>49.693429</td>\n",
       "    </tr>\n",
       "    <tr>\n",
       "      <th>min</th>\n",
       "      <td>1.000000</td>\n",
       "      <td>0.000000</td>\n",
       "      <td>1.000000</td>\n",
       "      <td>0.420000</td>\n",
       "      <td>0.000000</td>\n",
       "      <td>0.000000</td>\n",
       "      <td>0.000000</td>\n",
       "    </tr>\n",
       "    <tr>\n",
       "      <th>25%</th>\n",
       "      <td>223.500000</td>\n",
       "      <td>0.000000</td>\n",
       "      <td>2.000000</td>\n",
       "      <td>20.125000</td>\n",
       "      <td>0.000000</td>\n",
       "      <td>0.000000</td>\n",
       "      <td>7.910400</td>\n",
       "    </tr>\n",
       "    <tr>\n",
       "      <th>50%</th>\n",
       "      <td>446.000000</td>\n",
       "      <td>0.000000</td>\n",
       "      <td>3.000000</td>\n",
       "      <td>28.000000</td>\n",
       "      <td>0.000000</td>\n",
       "      <td>0.000000</td>\n",
       "      <td>14.454200</td>\n",
       "    </tr>\n",
       "    <tr>\n",
       "      <th>75%</th>\n",
       "      <td>668.500000</td>\n",
       "      <td>1.000000</td>\n",
       "      <td>3.000000</td>\n",
       "      <td>38.000000</td>\n",
       "      <td>1.000000</td>\n",
       "      <td>0.000000</td>\n",
       "      <td>31.000000</td>\n",
       "    </tr>\n",
       "    <tr>\n",
       "      <th>max</th>\n",
       "      <td>891.000000</td>\n",
       "      <td>1.000000</td>\n",
       "      <td>3.000000</td>\n",
       "      <td>80.000000</td>\n",
       "      <td>8.000000</td>\n",
       "      <td>6.000000</td>\n",
       "      <td>512.329200</td>\n",
       "    </tr>\n",
       "  </tbody>\n",
       "</table>\n",
       "</div>"
      ],
      "text/plain": [
       "       PassengerId    Survived      Pclass         Age       SibSp  \\\n",
       "count   891.000000  891.000000  891.000000  714.000000  891.000000   \n",
       "mean    446.000000    0.383838    2.308642   29.699118    0.523008   \n",
       "std     257.353842    0.486592    0.836071   14.526497    1.102743   \n",
       "min       1.000000    0.000000    1.000000    0.420000    0.000000   \n",
       "25%     223.500000    0.000000    2.000000   20.125000    0.000000   \n",
       "50%     446.000000    0.000000    3.000000   28.000000    0.000000   \n",
       "75%     668.500000    1.000000    3.000000   38.000000    1.000000   \n",
       "max     891.000000    1.000000    3.000000   80.000000    8.000000   \n",
       "\n",
       "            Parch        Fare  \n",
       "count  891.000000  891.000000  \n",
       "mean     0.381594   32.204208  \n",
       "std      0.806057   49.693429  \n",
       "min      0.000000    0.000000  \n",
       "25%      0.000000    7.910400  \n",
       "50%      0.000000   14.454200  \n",
       "75%      0.000000   31.000000  \n",
       "max      6.000000  512.329200  "
      ]
     },
     "execution_count": 7,
     "metadata": {},
     "output_type": "execute_result"
    }
   ],
   "source": [
    "# statistical summary of numerical variables\n",
    "df_train.describe()"
   ]
  },
  {
   "cell_type": "code",
   "execution_count": 8,
   "id": "6a965724",
   "metadata": {
    "execution": {
     "iopub.execute_input": "2022-05-26T09:38:44.052101Z",
     "iopub.status.busy": "2022-05-26T09:38:44.051150Z",
     "iopub.status.idle": "2022-05-26T09:38:44.069831Z",
     "shell.execute_reply": "2022-05-26T09:38:44.070444Z",
     "shell.execute_reply.started": "2022-05-26T09:27:27.530819Z"
    },
    "papermill": {
     "duration": 0.100536,
     "end_time": "2022-05-26T09:38:44.070616",
     "exception": false,
     "start_time": "2022-05-26T09:38:43.970080",
     "status": "completed"
    },
    "tags": []
   },
   "outputs": [
    {
     "data": {
      "text/html": [
       "<div>\n",
       "<style scoped>\n",
       "    .dataframe tbody tr th:only-of-type {\n",
       "        vertical-align: middle;\n",
       "    }\n",
       "\n",
       "    .dataframe tbody tr th {\n",
       "        vertical-align: top;\n",
       "    }\n",
       "\n",
       "    .dataframe thead th {\n",
       "        text-align: right;\n",
       "    }\n",
       "</style>\n",
       "<table border=\"1\" class=\"dataframe\">\n",
       "  <thead>\n",
       "    <tr style=\"text-align: right;\">\n",
       "      <th></th>\n",
       "      <th>Name</th>\n",
       "      <th>Sex</th>\n",
       "      <th>Ticket</th>\n",
       "      <th>Cabin</th>\n",
       "      <th>Embarked</th>\n",
       "    </tr>\n",
       "  </thead>\n",
       "  <tbody>\n",
       "    <tr>\n",
       "      <th>count</th>\n",
       "      <td>891</td>\n",
       "      <td>891</td>\n",
       "      <td>891</td>\n",
       "      <td>204</td>\n",
       "      <td>889</td>\n",
       "    </tr>\n",
       "    <tr>\n",
       "      <th>unique</th>\n",
       "      <td>891</td>\n",
       "      <td>2</td>\n",
       "      <td>681</td>\n",
       "      <td>147</td>\n",
       "      <td>3</td>\n",
       "    </tr>\n",
       "    <tr>\n",
       "      <th>top</th>\n",
       "      <td>Braund, Mr. Owen Harris</td>\n",
       "      <td>male</td>\n",
       "      <td>347082</td>\n",
       "      <td>B96 B98</td>\n",
       "      <td>S</td>\n",
       "    </tr>\n",
       "    <tr>\n",
       "      <th>freq</th>\n",
       "      <td>1</td>\n",
       "      <td>577</td>\n",
       "      <td>7</td>\n",
       "      <td>4</td>\n",
       "      <td>644</td>\n",
       "    </tr>\n",
       "  </tbody>\n",
       "</table>\n",
       "</div>"
      ],
      "text/plain": [
       "                           Name   Sex  Ticket    Cabin Embarked\n",
       "count                       891   891     891      204      889\n",
       "unique                      891     2     681      147        3\n",
       "top     Braund, Mr. Owen Harris  male  347082  B96 B98        S\n",
       "freq                          1   577       7        4      644"
      ]
     },
     "execution_count": 8,
     "metadata": {},
     "output_type": "execute_result"
    }
   ],
   "source": [
    "# summary statistics for categorical columns\n",
    "df_train.describe(include=['object'])"
   ]
  },
  {
   "cell_type": "markdown",
   "id": "2e1dc125",
   "metadata": {
    "papermill": {
     "duration": 0.07445,
     "end_time": "2022-05-26T09:38:44.219895",
     "exception": false,
     "start_time": "2022-05-26T09:38:44.145445",
     "status": "completed"
    },
    "tags": []
   },
   "source": [
    "## Univariate Analysis"
   ]
  },
  {
   "cell_type": "code",
   "execution_count": 9,
   "id": "cffb89fc",
   "metadata": {
    "execution": {
     "iopub.execute_input": "2022-05-26T09:38:44.371079Z",
     "iopub.status.busy": "2022-05-26T09:38:44.370389Z",
     "iopub.status.idle": "2022-05-26T09:38:44.376052Z",
     "shell.execute_reply": "2022-05-26T09:38:44.376595Z",
     "shell.execute_reply.started": "2022-05-26T09:27:27.554408Z"
    },
    "papermill": {
     "duration": 0.08304,
     "end_time": "2022-05-26T09:38:44.376782",
     "exception": false,
     "start_time": "2022-05-26T09:38:44.293742",
     "status": "completed"
    },
    "tags": []
   },
   "outputs": [
    {
     "data": {
      "text/plain": [
       "0"
      ]
     },
     "execution_count": 9,
     "metadata": {},
     "output_type": "execute_result"
    }
   ],
   "source": [
    "# exploring the target variable\n",
    "# checking for missing values\n",
    "df_train['Survived'].isnull().sum()"
   ]
  },
  {
   "cell_type": "code",
   "execution_count": 10,
   "id": "b469e751",
   "metadata": {
    "execution": {
     "iopub.execute_input": "2022-05-26T09:38:44.529351Z",
     "iopub.status.busy": "2022-05-26T09:38:44.528679Z",
     "iopub.status.idle": "2022-05-26T09:38:44.533766Z",
     "shell.execute_reply": "2022-05-26T09:38:44.534371Z",
     "shell.execute_reply.started": "2022-05-26T09:27:27.640580Z"
    },
    "papermill": {
     "duration": 0.083607,
     "end_time": "2022-05-26T09:38:44.534545",
     "exception": false,
     "start_time": "2022-05-26T09:38:44.450938",
     "status": "completed"
    },
    "tags": []
   },
   "outputs": [
    {
     "data": {
      "text/plain": [
       "2"
      ]
     },
     "execution_count": 10,
     "metadata": {},
     "output_type": "execute_result"
    }
   ],
   "source": [
    "# number of unique values\n",
    "df_train['Survived'].nunique()"
   ]
  },
  {
   "cell_type": "code",
   "execution_count": 11,
   "id": "a9893120",
   "metadata": {
    "execution": {
     "iopub.execute_input": "2022-05-26T09:38:44.687571Z",
     "iopub.status.busy": "2022-05-26T09:38:44.686911Z",
     "iopub.status.idle": "2022-05-26T09:38:44.694549Z",
     "shell.execute_reply": "2022-05-26T09:38:44.695017Z",
     "shell.execute_reply.started": "2022-05-26T09:27:27.649705Z"
    },
    "papermill": {
     "duration": 0.085484,
     "end_time": "2022-05-26T09:38:44.695194",
     "exception": false,
     "start_time": "2022-05-26T09:38:44.609710",
     "status": "completed"
    },
    "tags": []
   },
   "outputs": [
    {
     "data": {
      "text/plain": [
       "0    549\n",
       "1    342\n",
       "Name: Survived, dtype: int64"
      ]
     },
     "execution_count": 11,
     "metadata": {},
     "output_type": "execute_result"
    }
   ],
   "source": [
    "# frequency distribution\n",
    "df_train['Survived'].value_counts()"
   ]
  },
  {
   "cell_type": "code",
   "execution_count": 12,
   "id": "0ab8c0ef",
   "metadata": {
    "execution": {
     "iopub.execute_input": "2022-05-26T09:38:44.852990Z",
     "iopub.status.busy": "2022-05-26T09:38:44.852060Z",
     "iopub.status.idle": "2022-05-26T09:38:44.855518Z",
     "shell.execute_reply": "2022-05-26T09:38:44.856032Z",
     "shell.execute_reply.started": "2022-05-26T09:27:27.661810Z"
    },
    "papermill": {
     "duration": 0.085601,
     "end_time": "2022-05-26T09:38:44.856206",
     "exception": false,
     "start_time": "2022-05-26T09:38:44.770605",
     "status": "completed"
    },
    "tags": []
   },
   "outputs": [
    {
     "data": {
      "text/plain": [
       "0    0.616162\n",
       "1    0.383838\n",
       "Name: Survived, dtype: float64"
      ]
     },
     "execution_count": 12,
     "metadata": {},
     "output_type": "execute_result"
    }
   ],
   "source": [
    "# ratio of freq distribution of values\n",
    "df_train['Survived'].value_counts() / len(df_train)"
   ]
  },
  {
   "cell_type": "code",
   "execution_count": 13,
   "id": "3f971384",
   "metadata": {
    "execution": {
     "iopub.execute_input": "2022-05-26T09:38:45.012304Z",
     "iopub.status.busy": "2022-05-26T09:38:45.011570Z",
     "iopub.status.idle": "2022-05-26T09:38:45.208585Z",
     "shell.execute_reply": "2022-05-26T09:38:45.209207Z",
     "shell.execute_reply.started": "2022-05-26T09:27:27.675075Z"
    },
    "papermill": {
     "duration": 0.278589,
     "end_time": "2022-05-26T09:38:45.209385",
     "exception": false,
     "start_time": "2022-05-26T09:38:44.930796",
     "status": "completed"
    },
    "tags": []
   },
   "outputs": [
    {
     "data": {
      "image/png": "[encoded data removed]",
      "text/plain": [
       "<Figure size 432x576 with 1 Axes>"
      ]
     },
     "metadata": {
      "needs_background": "light"
     },
     "output_type": "display_data"
    }
   ],
   "source": [
    "# visualizing the frequency distribution\n",
    "f, ax = plt.subplots(figsize=(6, 8))\n",
    "ax = sns.countplot(x=\"Survived\", data=df_train, palette=\"Set2\")\n",
    "plt.show()"
   ]
  },
  {
   "cell_type": "markdown",
   "id": "e83f1ac7",
   "metadata": {
    "papermill": {
     "duration": 0.075217,
     "end_time": "2022-05-26T09:38:45.360546",
     "exception": false,
     "start_time": "2022-05-26T09:38:45.285329",
     "status": "completed"
    },
    "tags": []
   },
   "source": [
    "Takeaways from Univariate Analysis :\n",
    "\n",
    "1. We have 2 categories of values, 1 and 0.\n",
    "2. We have far more negative(0) values than psitive(1) values.\n",
    "3. 0 appears 61.6% of time, 1 appears 38.8% of time."
   ]
  },
  {
   "cell_type": "markdown",
   "id": "331c5d1a",
   "metadata": {
    "papermill": {
     "duration": 0.075789,
     "end_time": "2022-05-26T09:38:45.511619",
     "exception": false,
     "start_time": "2022-05-26T09:38:45.435830",
     "status": "completed"
    },
    "tags": []
   },
   "source": [
    "### Biravriate Analysis\n",
    "\n",
    "Bivariate Analysis requires you to learn about relationships between pairs of variables.\n",
    "\n",
    "First, segregating the categorical from the dataframe."
   ]
  },
  {
   "cell_type": "code",
   "execution_count": 14,
   "id": "c24e56f4",
   "metadata": {
    "execution": {
     "iopub.execute_input": "2022-05-26T09:38:45.666633Z",
     "iopub.status.busy": "2022-05-26T09:38:45.665945Z",
     "iopub.status.idle": "2022-05-26T09:38:45.678156Z",
     "shell.execute_reply": "2022-05-26T09:38:45.678693Z",
     "shell.execute_reply.started": "2022-05-26T09:27:27.798429Z"
    },
    "papermill": {
     "duration": 0.091863,
     "end_time": "2022-05-26T09:38:45.678889",
     "exception": false,
     "start_time": "2022-05-26T09:38:45.587026",
     "status": "completed"
    },
    "tags": []
   },
   "outputs": [
    {
     "data": {
      "text/html": [
       "<div>\n",
       "<style scoped>\n",
       "    .dataframe tbody tr th:only-of-type {\n",
       "        vertical-align: middle;\n",
       "    }\n",
       "\n",
       "    .dataframe tbody tr th {\n",
       "        vertical-align: top;\n",
       "    }\n",
       "\n",
       "    .dataframe thead th {\n",
       "        text-align: right;\n",
       "    }\n",
       "</style>\n",
       "<table border=\"1\" class=\"dataframe\">\n",
       "  <thead>\n",
       "    <tr style=\"text-align: right;\">\n",
       "      <th></th>\n",
       "      <th>Name</th>\n",
       "      <th>Sex</th>\n",
       "      <th>Ticket</th>\n",
       "      <th>Cabin</th>\n",
       "      <th>Embarked</th>\n",
       "    </tr>\n",
       "  </thead>\n",
       "  <tbody>\n",
       "    <tr>\n",
       "      <th>0</th>\n",
       "      <td>Braund, Mr. Owen Harris</td>\n",
       "      <td>male</td>\n",
       "      <td>A/5 21171</td>\n",
       "      <td>NaN</td>\n",
       "      <td>S</td>\n",
       "    </tr>\n",
       "    <tr>\n",
       "      <th>1</th>\n",
       "      <td>Cumings, Mrs. John Bradley (Florence Briggs Th...</td>\n",
       "      <td>female</td>\n",
       "      <td>PC 17599</td>\n",
       "      <td>C85</td>\n",
       "      <td>C</td>\n",
       "    </tr>\n",
       "    <tr>\n",
       "      <th>2</th>\n",
       "      <td>Heikkinen, Miss. Laina</td>\n",
       "      <td>female</td>\n",
       "      <td>STON/O2. 3101282</td>\n",
       "      <td>NaN</td>\n",
       "      <td>S</td>\n",
       "    </tr>\n",
       "    <tr>\n",
       "      <th>3</th>\n",
       "      <td>Futrelle, Mrs. Jacques Heath (Lily May Peel)</td>\n",
       "      <td>female</td>\n",
       "      <td>113803</td>\n",
       "      <td>C123</td>\n",
       "      <td>S</td>\n",
       "    </tr>\n",
       "    <tr>\n",
       "      <th>4</th>\n",
       "      <td>Allen, Mr. William Henry</td>\n",
       "      <td>male</td>\n",
       "      <td>373450</td>\n",
       "      <td>NaN</td>\n",
       "      <td>S</td>\n",
       "    </tr>\n",
       "  </tbody>\n",
       "</table>\n",
       "</div>"
      ],
      "text/plain": [
       "                                                Name     Sex  \\\n",
       "0                            Braund, Mr. Owen Harris    male   \n",
       "1  Cumings, Mrs. John Bradley (Florence Briggs Th...  female   \n",
       "2                             Heikkinen, Miss. Laina  female   \n",
       "3       Futrelle, Mrs. Jacques Heath (Lily May Peel)  female   \n",
       "4                           Allen, Mr. William Henry    male   \n",
       "\n",
       "             Ticket Cabin Embarked  \n",
       "0         A/5 21171   NaN        S  \n",
       "1          PC 17599   C85        C  \n",
       "2  STON/O2. 3101282   NaN        S  \n",
       "3            113803  C123        S  \n",
       "4            373450   NaN        S  "
      ]
     },
     "execution_count": 14,
     "metadata": {},
     "output_type": "execute_result"
    }
   ],
   "source": [
    "cat_vars = ['object']\n",
    "cat_df = df_train.select_dtypes(include=cat_vars)\n",
    "cat_df.head()"
   ]
  },
  {
   "cell_type": "markdown",
   "id": "54fbf194",
   "metadata": {
    "papermill": {
     "duration": 0.076894,
     "end_time": "2022-05-26T09:38:45.833141",
     "exception": false,
     "start_time": "2022-05-26T09:38:45.756247",
     "status": "completed"
    },
    "tags": []
   },
   "source": [
    "We have 5 categorical columns out of which:\n",
    "\n",
    "Sex is a binary categorical features."
   ]
  },
  {
   "cell_type": "code",
   "execution_count": 15,
   "id": "f0cd37dd",
   "metadata": {
    "execution": {
     "iopub.execute_input": "2022-05-26T09:38:45.990523Z",
     "iopub.status.busy": "2022-05-26T09:38:45.989644Z",
     "iopub.status.idle": "2022-05-26T09:38:45.997392Z",
     "shell.execute_reply": "2022-05-26T09:38:45.997987Z",
     "shell.execute_reply.started": "2022-05-26T09:27:27.816258Z"
    },
    "papermill": {
     "duration": 0.087814,
     "end_time": "2022-05-26T09:38:45.998175",
     "exception": false,
     "start_time": "2022-05-26T09:38:45.910361",
     "status": "completed"
    },
    "tags": []
   },
   "outputs": [
    {
     "data": {
      "text/plain": [
       "Name          0\n",
       "Sex           0\n",
       "Ticket        0\n",
       "Cabin       687\n",
       "Embarked      2\n",
       "dtype: int64"
      ]
     },
     "execution_count": 15,
     "metadata": {},
     "output_type": "execute_result"
    }
   ],
   "source": [
    "##counting the missing values in categorical features\n",
    "cat_df.isnull().sum()"
   ]
  },
  {
   "cell_type": "markdown",
   "id": "1748d4a5",
   "metadata": {
    "papermill": {
     "duration": 0.077482,
     "end_time": "2022-05-26T09:38:46.155027",
     "exception": false,
     "start_time": "2022-05-26T09:38:46.077545",
     "status": "completed"
    },
    "tags": []
   },
   "source": [
    "Next, we need to check for the number of labels each of these variables has. The number of labels a variable has defines its cardinality."
   ]
  },
  {
   "cell_type": "code",
   "execution_count": 16,
   "id": "7cd7b988",
   "metadata": {
    "execution": {
     "iopub.execute_input": "2022-05-26T09:38:46.315249Z",
     "iopub.status.busy": "2022-05-26T09:38:46.314588Z",
     "iopub.status.idle": "2022-05-26T09:38:46.321891Z",
     "shell.execute_reply": "2022-05-26T09:38:46.322875Z",
     "shell.execute_reply.started": "2022-05-26T09:27:27.830469Z"
    },
    "papermill": {
     "duration": 0.091537,
     "end_time": "2022-05-26T09:38:46.323204",
     "exception": false,
     "start_time": "2022-05-26T09:38:46.231667",
     "status": "completed"
    },
    "tags": []
   },
   "outputs": [
    {
     "name": "stdout",
     "output_type": "stream",
     "text": [
      "Name has 891 labels\n",
      "Sex has 2 labels\n",
      "Ticket has 681 labels\n",
      "Cabin has 148 labels\n",
      "Embarked has 4 labels\n"
     ]
    }
   ],
   "source": [
    "for var in list(cat_df.columns):\n",
    "    print(var, 'has', len(cat_df[var].unique()), 'labels')"
   ]
  },
  {
   "cell_type": "code",
   "execution_count": 17,
   "id": "426de1b5",
   "metadata": {
    "execution": {
     "iopub.execute_input": "2022-05-26T09:38:46.481406Z",
     "iopub.status.busy": "2022-05-26T09:38:46.480737Z",
     "iopub.status.idle": "2022-05-26T09:38:46.487663Z",
     "shell.execute_reply": "2022-05-26T09:38:46.488270Z",
     "shell.execute_reply.started": "2022-05-26T09:27:27.845207Z"
    },
    "papermill": {
     "duration": 0.087214,
     "end_time": "2022-05-26T09:38:46.488450",
     "exception": false,
     "start_time": "2022-05-26T09:38:46.401236",
     "status": "completed"
    },
    "tags": []
   },
   "outputs": [
    {
     "data": {
      "text/plain": [
       "Index(['Name', 'Sex', 'Ticket', 'Cabin', 'Embarked'], dtype='object')"
      ]
     },
     "execution_count": 17,
     "metadata": {},
     "output_type": "execute_result"
    }
   ],
   "source": [
    "cat_df = df_train.select_dtypes(include=cat_vars)\n",
    "cat_df.columns"
   ]
  },
  {
   "cell_type": "code",
   "execution_count": 18,
   "id": "50ec95fc",
   "metadata": {
    "execution": {
     "iopub.execute_input": "2022-05-26T09:38:46.648070Z",
     "iopub.status.busy": "2022-05-26T09:38:46.647421Z",
     "iopub.status.idle": "2022-05-26T09:38:46.658539Z",
     "shell.execute_reply": "2022-05-26T09:38:46.659144Z",
     "shell.execute_reply.started": "2022-05-26T09:27:27.856423Z"
    },
    "papermill": {
     "duration": 0.092431,
     "end_time": "2022-05-26T09:38:46.659318",
     "exception": false,
     "start_time": "2022-05-26T09:38:46.566887",
     "status": "completed"
    },
    "tags": []
   },
   "outputs": [
    {
     "name": "stdout",
     "output_type": "stream",
     "text": [
      "Name          0\n",
      "Sex           0\n",
      "Ticket        0\n",
      "Cabin       687\n",
      "Embarked      2\n",
      "dtype: int64 =============\n",
      "Name has 891 labels\n",
      "Sex has 2 labels\n",
      "Ticket has 681 labels\n",
      "Cabin has 148 labels\n",
      "Embarked has 4 labels\n"
     ]
    }
   ],
   "source": [
    "##printing missing value and labels in each column\n",
    "print(cat_df.isnull().sum(), \"=============\")\n",
    "for var in list(cat_df.columns):\n",
    "    print(var, 'has', len(cat_df[var].unique()), 'labels')"
   ]
  },
  {
   "cell_type": "code",
   "execution_count": 19,
   "id": "50ac9b0e",
   "metadata": {
    "execution": {
     "iopub.execute_input": "2022-05-26T09:38:46.818729Z",
     "iopub.status.busy": "2022-05-26T09:38:46.818136Z",
     "iopub.status.idle": "2022-05-26T09:38:46.838488Z",
     "shell.execute_reply": "2022-05-26T09:38:46.839168Z",
     "shell.execute_reply.started": "2022-05-26T09:27:27.872305Z"
    },
    "papermill": {
     "duration": 0.102378,
     "end_time": "2022-05-26T09:38:46.839413",
     "exception": false,
     "start_time": "2022-05-26T09:38:46.737035",
     "status": "completed"
    },
    "tags": []
   },
   "outputs": [
    {
     "name": "stdout",
     "output_type": "stream",
     "text": [
      "Abbott, Mr. Rossmore Edward              1\n",
      "Abbott, Mrs. Stanton (Rosa Hunt)         1\n",
      "Abelson, Mr. Samuel                      1\n",
      "Abelson, Mrs. Samuel (Hannah Wizosky)    1\n",
      "Adahl, Mr. Mauritz Nils Martin           1\n",
      "                                        ..\n",
      "de Mulder, Mr. Theodore                  1\n",
      "de Pelsmaeker, Mr. Alfons                1\n",
      "del Carlo, Mr. Sebastiano                1\n",
      "van Billiard, Mr. Austin Blyler          1\n",
      "van Melkebeke, Mr. Philemon              1\n",
      "Length: 890, dtype: int64\n"
     ]
    }
   ],
   "source": [
    "##one-hot encoding Name column\n",
    "pd.get_dummies(df_train['Name'], drop_first=True).head()\n",
    "\n",
    "##printing the sum of 1s in each column\n",
    "print(pd.get_dummies(df_train['Name'], drop_first=True).sum(axis=0))"
   ]
  },
  {
   "cell_type": "code",
   "execution_count": 20,
   "id": "67aa14fc",
   "metadata": {
    "execution": {
     "iopub.execute_input": "2022-05-26T09:38:47.000506Z",
     "iopub.status.busy": "2022-05-26T09:38:46.999761Z",
     "iopub.status.idle": "2022-05-26T09:38:47.005011Z",
     "shell.execute_reply": "2022-05-26T09:38:47.005566Z",
     "shell.execute_reply.started": "2022-05-26T09:27:27.897382Z"
    },
    "papermill": {
     "duration": 0.087335,
     "end_time": "2022-05-26T09:38:47.005741",
     "exception": false,
     "start_time": "2022-05-26T09:38:46.918406",
     "status": "completed"
    },
    "tags": []
   },
   "outputs": [
    {
     "name": "stdout",
     "output_type": "stream",
     "text": [
      "342 passengers survived out of 891\n"
     ]
    }
   ],
   "source": [
    "\n",
    "# Examining how many passengers survived\n",
    "print(sum(df_train['Survived']),'passengers survived out of',len(df_train))"
   ]
  },
  {
   "cell_type": "code",
   "execution_count": 21,
   "id": "f07ed043",
   "metadata": {
    "execution": {
     "iopub.execute_input": "2022-05-26T09:38:47.169287Z",
     "iopub.status.busy": "2022-05-26T09:38:47.168292Z",
     "iopub.status.idle": "2022-05-26T09:38:47.181727Z",
     "shell.execute_reply": "2022-05-26T09:38:47.182296Z",
     "shell.execute_reply.started": "2022-05-26T09:27:27.905850Z"
    },
    "papermill": {
     "duration": 0.096895,
     "end_time": "2022-05-26T09:38:47.182486",
     "exception": false,
     "start_time": "2022-05-26T09:38:47.085591",
     "status": "completed"
    },
    "tags": []
   },
   "outputs": [
    {
     "data": {
      "text/html": [
       "<div>\n",
       "<style scoped>\n",
       "    .dataframe tbody tr th:only-of-type {\n",
       "        vertical-align: middle;\n",
       "    }\n",
       "\n",
       "    .dataframe tbody tr th {\n",
       "        vertical-align: top;\n",
       "    }\n",
       "\n",
       "    .dataframe thead th {\n",
       "        text-align: right;\n",
       "    }\n",
       "</style>\n",
       "<table border=\"1\" class=\"dataframe\">\n",
       "  <thead>\n",
       "    <tr style=\"text-align: right;\">\n",
       "      <th></th>\n",
       "      <th>Name</th>\n",
       "      <th>Age</th>\n",
       "    </tr>\n",
       "  </thead>\n",
       "  <tbody>\n",
       "    <tr>\n",
       "      <th>0</th>\n",
       "      <td>Braund, Mr. Owen Harris</td>\n",
       "      <td>22.0</td>\n",
       "    </tr>\n",
       "    <tr>\n",
       "      <th>1</th>\n",
       "      <td>Cumings, Mrs. John Bradley (Florence Briggs Th...</td>\n",
       "      <td>38.0</td>\n",
       "    </tr>\n",
       "    <tr>\n",
       "      <th>2</th>\n",
       "      <td>Heikkinen, Miss. Laina</td>\n",
       "      <td>26.0</td>\n",
       "    </tr>\n",
       "    <tr>\n",
       "      <th>3</th>\n",
       "      <td>Futrelle, Mrs. Jacques Heath (Lily May Peel)</td>\n",
       "      <td>35.0</td>\n",
       "    </tr>\n",
       "    <tr>\n",
       "      <th>4</th>\n",
       "      <td>Allen, Mr. William Henry</td>\n",
       "      <td>35.0</td>\n",
       "    </tr>\n",
       "    <tr>\n",
       "      <th>...</th>\n",
       "      <td>...</td>\n",
       "      <td>...</td>\n",
       "    </tr>\n",
       "    <tr>\n",
       "      <th>886</th>\n",
       "      <td>Montvila, Rev. Juozas</td>\n",
       "      <td>27.0</td>\n",
       "    </tr>\n",
       "    <tr>\n",
       "      <th>887</th>\n",
       "      <td>Graham, Miss. Margaret Edith</td>\n",
       "      <td>19.0</td>\n",
       "    </tr>\n",
       "    <tr>\n",
       "      <th>888</th>\n",
       "      <td>Johnston, Miss. Catherine Helen \"Carrie\"</td>\n",
       "      <td>NaN</td>\n",
       "    </tr>\n",
       "    <tr>\n",
       "      <th>889</th>\n",
       "      <td>Behr, Mr. Karl Howell</td>\n",
       "      <td>26.0</td>\n",
       "    </tr>\n",
       "    <tr>\n",
       "      <th>890</th>\n",
       "      <td>Dooley, Mr. Patrick</td>\n",
       "      <td>32.0</td>\n",
       "    </tr>\n",
       "  </tbody>\n",
       "</table>\n",
       "<p>891 rows × 2 columns</p>\n",
       "</div>"
      ],
      "text/plain": [
       "                                                  Name   Age\n",
       "0                              Braund, Mr. Owen Harris  22.0\n",
       "1    Cumings, Mrs. John Bradley (Florence Briggs Th...  38.0\n",
       "2                               Heikkinen, Miss. Laina  26.0\n",
       "3         Futrelle, Mrs. Jacques Heath (Lily May Peel)  35.0\n",
       "4                             Allen, Mr. William Henry  35.0\n",
       "..                                                 ...   ...\n",
       "886                              Montvila, Rev. Juozas  27.0\n",
       "887                       Graham, Miss. Margaret Edith  19.0\n",
       "888           Johnston, Miss. Catherine Helen \"Carrie\"   NaN\n",
       "889                              Behr, Mr. Karl Howell  26.0\n",
       "890                                Dooley, Mr. Patrick  32.0\n",
       "\n",
       "[891 rows x 2 columns]"
      ]
     },
     "execution_count": 21,
     "metadata": {},
     "output_type": "execute_result"
    }
   ],
   "source": [
    "# One can look at several columns together\n",
    "df_train[[\"Name\", \"Age\"]]"
   ]
  },
  {
   "cell_type": "markdown",
   "id": "f6924192",
   "metadata": {
    "papermill": {
     "duration": 0.078486,
     "end_time": "2022-05-26T09:38:47.340095",
     "exception": false,
     "start_time": "2022-05-26T09:38:47.261609",
     "status": "completed"
    },
    "tags": []
   },
   "source": [
    "## Cleaning up the data"
   ]
  },
  {
   "cell_type": "code",
   "execution_count": 22,
   "id": "b4477d1f",
   "metadata": {
    "execution": {
     "iopub.execute_input": "2022-05-26T09:38:47.507751Z",
     "iopub.status.busy": "2022-05-26T09:38:47.504577Z",
     "iopub.status.idle": "2022-05-26T09:38:47.511552Z",
     "shell.execute_reply": "2022-05-26T09:38:47.510992Z",
     "shell.execute_reply.started": "2022-05-26T09:27:27.929121Z"
    },
    "papermill": {
     "duration": 0.09268,
     "end_time": "2022-05-26T09:38:47.511691",
     "exception": false,
     "start_time": "2022-05-26T09:38:47.419011",
     "status": "completed"
    },
    "tags": []
   },
   "outputs": [
    {
     "data": {
      "text/plain": [
       "PassengerId      0\n",
       "Survived         0\n",
       "Pclass           0\n",
       "Name             0\n",
       "Sex              0\n",
       "Age            177\n",
       "SibSp            0\n",
       "Parch            0\n",
       "Ticket           0\n",
       "Fare             0\n",
       "Cabin          687\n",
       "Embarked         2\n",
       "dtype: int64"
      ]
     },
     "execution_count": 22,
     "metadata": {},
     "output_type": "execute_result"
    }
   ],
   "source": [
    "df_train.isnull().sum()"
   ]
  },
  {
   "cell_type": "markdown",
   "id": "5d0ce742",
   "metadata": {
    "papermill": {
     "duration": 0.079117,
     "end_time": "2022-05-26T09:38:47.670195",
     "exception": false,
     "start_time": "2022-05-26T09:38:47.591078",
     "status": "completed"
    },
    "tags": []
   },
   "source": [
    "**The Cabin column is missing too many values to be useful (687). We have to drop it. Age and Embarked are useful so we'll use a technique to handle them**"
   ]
  },
  {
   "cell_type": "code",
   "execution_count": 23,
   "id": "caed2132",
   "metadata": {
    "execution": {
     "iopub.execute_input": "2022-05-26T09:38:47.836661Z",
     "iopub.status.busy": "2022-05-26T09:38:47.835982Z",
     "iopub.status.idle": "2022-05-26T09:38:47.838813Z",
     "shell.execute_reply": "2022-05-26T09:38:47.839396Z",
     "shell.execute_reply.started": "2022-05-26T09:27:27.949072Z"
    },
    "papermill": {
     "duration": 0.09015,
     "end_time": "2022-05-26T09:38:47.839567",
     "exception": false,
     "start_time": "2022-05-26T09:38:47.749417",
     "status": "completed"
    },
    "tags": []
   },
   "outputs": [
    {
     "data": {
      "text/plain": [
       "0       NaN\n",
       "1       C85\n",
       "2       NaN\n",
       "3      C123\n",
       "4       NaN\n",
       "       ... \n",
       "886     NaN\n",
       "887     B42\n",
       "888     NaN\n",
       "889    C148\n",
       "890     NaN\n",
       "Name: Cabin, Length: 891, dtype: object"
      ]
     },
     "execution_count": 23,
     "metadata": {},
     "output_type": "execute_result"
    }
   ],
   "source": [
    "df_train['Cabin']"
   ]
  },
  {
   "cell_type": "code",
   "execution_count": 24,
   "id": "1478cd0a",
   "metadata": {
    "execution": {
     "iopub.execute_input": "2022-05-26T09:38:48.005010Z",
     "iopub.status.busy": "2022-05-26T09:38:48.004325Z",
     "iopub.status.idle": "2022-05-26T09:38:48.011387Z",
     "shell.execute_reply": "2022-05-26T09:38:48.010681Z",
     "shell.execute_reply.started": "2022-05-26T09:27:27.958852Z"
    },
    "papermill": {
     "duration": 0.092048,
     "end_time": "2022-05-26T09:38:48.011534",
     "exception": false,
     "start_time": "2022-05-26T09:38:47.919486",
     "status": "completed"
    },
    "tags": []
   },
   "outputs": [
    {
     "name": "stdout",
     "output_type": "stream",
     "text": [
      "The Cabin column is missing 687 values out of 891\n"
     ]
    }
   ],
   "source": [
    "print(\"The Cabin column is missing\", sum(df_train['Cabin'].isna()), \"values out of\",len(df_train['Cabin']))"
   ]
  },
  {
   "cell_type": "markdown",
   "id": "84e2e24f",
   "metadata": {
    "papermill": {
     "duration": 0.079728,
     "end_time": "2022-05-26T09:38:48.173197",
     "exception": false,
     "start_time": "2022-05-26T09:38:48.093469",
     "status": "completed"
    },
    "tags": []
   },
   "source": [
    "**Drop missing values**"
   ]
  },
  {
   "cell_type": "code",
   "execution_count": 25,
   "id": "d8471c97",
   "metadata": {
    "execution": {
     "iopub.execute_input": "2022-05-26T09:38:48.338060Z",
     "iopub.status.busy": "2022-05-26T09:38:48.337373Z",
     "iopub.status.idle": "2022-05-26T09:38:48.341614Z",
     "shell.execute_reply": "2022-05-26T09:38:48.342317Z",
     "shell.execute_reply.started": "2022-05-26T09:27:27.969598Z"
    },
    "papermill": {
     "duration": 0.088526,
     "end_time": "2022-05-26T09:38:48.342513",
     "exception": false,
     "start_time": "2022-05-26T09:38:48.253987",
     "status": "completed"
    },
    "tags": []
   },
   "outputs": [],
   "source": [
    "# Drop missing values\n",
    "df_train = df_train.drop('Cabin', axis=1)"
   ]
  },
  {
   "cell_type": "code",
   "execution_count": 26,
   "id": "6d85b64c",
   "metadata": {
    "execution": {
     "iopub.execute_input": "2022-05-26T09:38:48.508123Z",
     "iopub.status.busy": "2022-05-26T09:38:48.507420Z",
     "iopub.status.idle": "2022-05-26T09:38:48.521586Z",
     "shell.execute_reply": "2022-05-26T09:38:48.522128Z",
     "shell.execute_reply.started": "2022-05-26T09:27:27.981553Z"
    },
    "papermill": {
     "duration": 0.098737,
     "end_time": "2022-05-26T09:38:48.522300",
     "exception": false,
     "start_time": "2022-05-26T09:38:48.423563",
     "status": "completed"
    },
    "tags": []
   },
   "outputs": [
    {
     "data": {
      "text/html": [
       "<div>\n",
       "<style scoped>\n",
       "    .dataframe tbody tr th:only-of-type {\n",
       "        vertical-align: middle;\n",
       "    }\n",
       "\n",
       "    .dataframe tbody tr th {\n",
       "        vertical-align: top;\n",
       "    }\n",
       "\n",
       "    .dataframe thead th {\n",
       "        text-align: right;\n",
       "    }\n",
       "</style>\n",
       "<table border=\"1\" class=\"dataframe\">\n",
       "  <thead>\n",
       "    <tr style=\"text-align: right;\">\n",
       "      <th></th>\n",
       "      <th>PassengerId</th>\n",
       "      <th>Survived</th>\n",
       "      <th>Pclass</th>\n",
       "      <th>Name</th>\n",
       "      <th>Sex</th>\n",
       "      <th>Age</th>\n",
       "      <th>SibSp</th>\n",
       "      <th>Parch</th>\n",
       "      <th>Ticket</th>\n",
       "      <th>Fare</th>\n",
       "      <th>Embarked</th>\n",
       "    </tr>\n",
       "  </thead>\n",
       "  <tbody>\n",
       "    <tr>\n",
       "      <th>0</th>\n",
       "      <td>1</td>\n",
       "      <td>0</td>\n",
       "      <td>3</td>\n",
       "      <td>Braund, Mr. Owen Harris</td>\n",
       "      <td>male</td>\n",
       "      <td>22.0</td>\n",
       "      <td>1</td>\n",
       "      <td>0</td>\n",
       "      <td>A/5 21171</td>\n",
       "      <td>7.2500</td>\n",
       "      <td>S</td>\n",
       "    </tr>\n",
       "    <tr>\n",
       "      <th>1</th>\n",
       "      <td>2</td>\n",
       "      <td>1</td>\n",
       "      <td>1</td>\n",
       "      <td>Cumings, Mrs. John Bradley (Florence Briggs Th...</td>\n",
       "      <td>female</td>\n",
       "      <td>38.0</td>\n",
       "      <td>1</td>\n",
       "      <td>0</td>\n",
       "      <td>PC 17599</td>\n",
       "      <td>71.2833</td>\n",
       "      <td>C</td>\n",
       "    </tr>\n",
       "    <tr>\n",
       "      <th>2</th>\n",
       "      <td>3</td>\n",
       "      <td>1</td>\n",
       "      <td>3</td>\n",
       "      <td>Heikkinen, Miss. Laina</td>\n",
       "      <td>female</td>\n",
       "      <td>26.0</td>\n",
       "      <td>0</td>\n",
       "      <td>0</td>\n",
       "      <td>STON/O2. 3101282</td>\n",
       "      <td>7.9250</td>\n",
       "      <td>S</td>\n",
       "    </tr>\n",
       "    <tr>\n",
       "      <th>3</th>\n",
       "      <td>4</td>\n",
       "      <td>1</td>\n",
       "      <td>1</td>\n",
       "      <td>Futrelle, Mrs. Jacques Heath (Lily May Peel)</td>\n",
       "      <td>female</td>\n",
       "      <td>35.0</td>\n",
       "      <td>1</td>\n",
       "      <td>0</td>\n",
       "      <td>113803</td>\n",
       "      <td>53.1000</td>\n",
       "      <td>S</td>\n",
       "    </tr>\n",
       "    <tr>\n",
       "      <th>4</th>\n",
       "      <td>5</td>\n",
       "      <td>0</td>\n",
       "      <td>3</td>\n",
       "      <td>Allen, Mr. William Henry</td>\n",
       "      <td>male</td>\n",
       "      <td>35.0</td>\n",
       "      <td>0</td>\n",
       "      <td>0</td>\n",
       "      <td>373450</td>\n",
       "      <td>8.0500</td>\n",
       "      <td>S</td>\n",
       "    </tr>\n",
       "  </tbody>\n",
       "</table>\n",
       "</div>"
      ],
      "text/plain": [
       "   PassengerId  Survived  Pclass  \\\n",
       "0            1         0       3   \n",
       "1            2         1       1   \n",
       "2            3         1       3   \n",
       "3            4         1       1   \n",
       "4            5         0       3   \n",
       "\n",
       "                                                Name     Sex   Age  SibSp  \\\n",
       "0                            Braund, Mr. Owen Harris    male  22.0      1   \n",
       "1  Cumings, Mrs. John Bradley (Florence Briggs Th...  female  38.0      1   \n",
       "2                             Heikkinen, Miss. Laina  female  26.0      0   \n",
       "3       Futrelle, Mrs. Jacques Heath (Lily May Peel)  female  35.0      1   \n",
       "4                           Allen, Mr. William Henry    male  35.0      0   \n",
       "\n",
       "   Parch            Ticket     Fare Embarked  \n",
       "0      0         A/5 21171   7.2500        S  \n",
       "1      0          PC 17599  71.2833        C  \n",
       "2      0  STON/O2. 3101282   7.9250        S  \n",
       "3      0            113803  53.1000        S  \n",
       "4      0            373450   8.0500        S  "
      ]
     },
     "execution_count": 26,
     "metadata": {},
     "output_type": "execute_result"
    }
   ],
   "source": [
    "df_train.head()"
   ]
  },
  {
   "cell_type": "markdown",
   "id": "d22bdde5",
   "metadata": {
    "papermill": {
     "duration": 0.080508,
     "end_time": "2022-05-26T09:38:48.685982",
     "exception": false,
     "start_time": "2022-05-26T09:38:48.605474",
     "status": "completed"
    },
    "tags": []
   },
   "source": [
    "Other columns such as Age or Embarked are missing some values, but they can still be useful.\n",
    "\n",
    "For the age column, let's fill in the missing values with the median of all ages.\n",
    "\n",
    "For the Embarked column, let's make a new category called 'U', for Unknown port of embarkment."
   ]
  },
  {
   "cell_type": "code",
   "execution_count": 27,
   "id": "3cc916df",
   "metadata": {
    "execution": {
     "iopub.execute_input": "2022-05-26T09:38:48.853513Z",
     "iopub.status.busy": "2022-05-26T09:38:48.852721Z",
     "iopub.status.idle": "2022-05-26T09:38:48.866427Z",
     "shell.execute_reply": "2022-05-26T09:38:48.865442Z",
     "shell.execute_reply.started": "2022-05-26T09:27:28.001862Z"
    },
    "papermill": {
     "duration": 0.099624,
     "end_time": "2022-05-26T09:38:48.866631",
     "exception": false,
     "start_time": "2022-05-26T09:38:48.767007",
     "status": "completed"
    },
    "tags": []
   },
   "outputs": [
    {
     "name": "stdout",
     "output_type": "stream",
     "text": [
      "<class 'pandas.core.frame.DataFrame'>\n",
      "RangeIndex: 891 entries, 0 to 890\n",
      "Data columns (total 11 columns):\n",
      " #   Column       Non-Null Count  Dtype  \n",
      "---  ------       --------------  -----  \n",
      " 0   PassengerId  891 non-null    int64  \n",
      " 1   Survived     891 non-null    int64  \n",
      " 2   Pclass       891 non-null    int64  \n",
      " 3   Name         891 non-null    object \n",
      " 4   Sex          891 non-null    object \n",
      " 5   Age          714 non-null    float64\n",
      " 6   SibSp        891 non-null    int64  \n",
      " 7   Parch        891 non-null    int64  \n",
      " 8   Ticket       891 non-null    object \n",
      " 9   Fare         891 non-null    float64\n",
      " 10  Embarked     889 non-null    object \n",
      "dtypes: float64(2), int64(5), object(4)\n",
      "memory usage: 76.7+ KB\n"
     ]
    }
   ],
   "source": [
    "df_train.info()"
   ]
  },
  {
   "cell_type": "markdown",
   "id": "d45ffc63",
   "metadata": {
    "papermill": {
     "duration": 0.082838,
     "end_time": "2022-05-26T09:38:49.035571",
     "exception": false,
     "start_time": "2022-05-26T09:38:48.952733",
     "status": "completed"
    },
    "tags": []
   },
   "source": [
    "**For the age column, let's fill in the missing values with the median of all ages.**"
   ]
  },
  {
   "cell_type": "code",
   "execution_count": 28,
   "id": "7ac87d5f",
   "metadata": {
    "execution": {
     "iopub.execute_input": "2022-05-26T09:38:49.211036Z",
     "iopub.status.busy": "2022-05-26T09:38:49.206508Z",
     "iopub.status.idle": "2022-05-26T09:38:49.214011Z",
     "shell.execute_reply": "2022-05-26T09:38:49.214566Z",
     "shell.execute_reply.started": "2022-05-26T09:27:28.019001Z"
    },
    "papermill": {
     "duration": 0.095056,
     "end_time": "2022-05-26T09:38:49.214742",
     "exception": false,
     "start_time": "2022-05-26T09:38:49.119686",
     "status": "completed"
    },
    "tags": []
   },
   "outputs": [
    {
     "data": {
      "text/plain": [
       "0      22.0\n",
       "1      38.0\n",
       "2      26.0\n",
       "3      35.0\n",
       "4      35.0\n",
       "       ... \n",
       "886    27.0\n",
       "887    19.0\n",
       "888     NaN\n",
       "889    26.0\n",
       "890    32.0\n",
       "Name: Age, Length: 891, dtype: float64"
      ]
     },
     "execution_count": 28,
     "metadata": {},
     "output_type": "execute_result"
    }
   ],
   "source": [
    "df_train.Age"
   ]
  },
  {
   "cell_type": "code",
   "execution_count": 29,
   "id": "f9b481b6",
   "metadata": {
    "execution": {
     "iopub.execute_input": "2022-05-26T09:38:49.381650Z",
     "iopub.status.busy": "2022-05-26T09:38:49.380995Z",
     "iopub.status.idle": "2022-05-26T09:38:49.386327Z",
     "shell.execute_reply": "2022-05-26T09:38:49.386879Z",
     "shell.execute_reply.started": "2022-05-26T09:27:28.034321Z"
    },
    "papermill": {
     "duration": 0.090381,
     "end_time": "2022-05-26T09:38:49.387053",
     "exception": false,
     "start_time": "2022-05-26T09:38:49.296672",
     "status": "completed"
    },
    "tags": []
   },
   "outputs": [
    {
     "data": {
      "text/plain": [
       "28.0"
      ]
     },
     "execution_count": 29,
     "metadata": {},
     "output_type": "execute_result"
    }
   ],
   "source": [
    "# get the median of all ages\n",
    "median_age = df_train.Age.median()\n",
    "median_age"
   ]
  },
  {
   "cell_type": "code",
   "execution_count": 30,
   "id": "e41fae61",
   "metadata": {
    "execution": {
     "iopub.execute_input": "2022-05-26T09:38:49.554955Z",
     "iopub.status.busy": "2022-05-26T09:38:49.554246Z",
     "iopub.status.idle": "2022-05-26T09:38:49.558242Z",
     "shell.execute_reply": "2022-05-26T09:38:49.558802Z",
     "shell.execute_reply.started": "2022-05-26T09:27:28.048252Z"
    },
    "papermill": {
     "duration": 0.089697,
     "end_time": "2022-05-26T09:38:49.559029",
     "exception": false,
     "start_time": "2022-05-26T09:38:49.469332",
     "status": "completed"
    },
    "tags": []
   },
   "outputs": [],
   "source": [
    "# fill in the missing values with the median of all ages\n",
    "df_train.Age = df_train.Age.fillna(median_age)"
   ]
  },
  {
   "cell_type": "code",
   "execution_count": 31,
   "id": "0ca2f33b",
   "metadata": {
    "execution": {
     "iopub.execute_input": "2022-05-26T09:38:49.754884Z",
     "iopub.status.busy": "2022-05-26T09:38:49.754243Z",
     "iopub.status.idle": "2022-05-26T09:38:49.761150Z",
     "shell.execute_reply": "2022-05-26T09:38:49.761618Z",
     "shell.execute_reply.started": "2022-05-26T09:27:28.060031Z"
    },
    "papermill": {
     "duration": 0.093411,
     "end_time": "2022-05-26T09:38:49.761796",
     "exception": false,
     "start_time": "2022-05-26T09:38:49.668385",
     "status": "completed"
    },
    "tags": []
   },
   "outputs": [
    {
     "data": {
      "text/plain": [
       "0      22.0\n",
       "1      38.0\n",
       "2      26.0\n",
       "3      35.0\n",
       "4      35.0\n",
       "       ... \n",
       "886    27.0\n",
       "887    19.0\n",
       "888    28.0\n",
       "889    26.0\n",
       "890    32.0\n",
       "Name: Age, Length: 891, dtype: float64"
      ]
     },
     "execution_count": 31,
     "metadata": {},
     "output_type": "execute_result"
    }
   ],
   "source": [
    "df_train.Age"
   ]
  },
  {
   "cell_type": "markdown",
   "id": "67c3296d",
   "metadata": {
    "papermill": {
     "duration": 0.083373,
     "end_time": "2022-05-26T09:38:49.927829",
     "exception": false,
     "start_time": "2022-05-26T09:38:49.844456",
     "status": "completed"
    },
    "tags": []
   },
   "source": [
    "**For the Embarked column, let's make a new category called 'U', for Unknown port of embarkment.**"
   ]
  },
  {
   "cell_type": "code",
   "execution_count": 32,
   "id": "65670a22",
   "metadata": {
    "execution": {
     "iopub.execute_input": "2022-05-26T09:38:50.099748Z",
     "iopub.status.busy": "2022-05-26T09:38:50.099002Z",
     "iopub.status.idle": "2022-05-26T09:38:50.103454Z",
     "shell.execute_reply": "2022-05-26T09:38:50.104017Z",
     "shell.execute_reply.started": "2022-05-26T09:27:28.073135Z"
    },
    "papermill": {
     "duration": 0.093355,
     "end_time": "2022-05-26T09:38:50.104186",
     "exception": false,
     "start_time": "2022-05-26T09:38:50.010831",
     "status": "completed"
    },
    "tags": []
   },
   "outputs": [],
   "source": [
    "df_train.Embarked = df_train.Embarked.fillna('U')"
   ]
  },
  {
   "cell_type": "code",
   "execution_count": 33,
   "id": "e2e94f3c",
   "metadata": {
    "execution": {
     "iopub.execute_input": "2022-05-26T09:38:50.270891Z",
     "iopub.status.busy": "2022-05-26T09:38:50.270210Z",
     "iopub.status.idle": "2022-05-26T09:38:50.278165Z",
     "shell.execute_reply": "2022-05-26T09:38:50.278645Z",
     "shell.execute_reply.started": "2022-05-26T09:27:28.083244Z"
    },
    "papermill": {
     "duration": 0.09266,
     "end_time": "2022-05-26T09:38:50.278825",
     "exception": false,
     "start_time": "2022-05-26T09:38:50.186165",
     "status": "completed"
    },
    "tags": []
   },
   "outputs": [
    {
     "data": {
      "text/plain": [
       "PassengerId    0\n",
       "Survived       0\n",
       "Pclass         0\n",
       "Name           0\n",
       "Sex            0\n",
       "Age            0\n",
       "SibSp          0\n",
       "Parch          0\n",
       "Ticket         0\n",
       "Fare           0\n",
       "Embarked       0\n",
       "dtype: int64"
      ]
     },
     "execution_count": 33,
     "metadata": {},
     "output_type": "execute_result"
    }
   ],
   "source": [
    "# check again empty values\n",
    "df_train.isnull().sum()"
   ]
  },
  {
   "cell_type": "markdown",
   "id": "754f9a8a",
   "metadata": {
    "papermill": {
     "duration": 0.081454,
     "end_time": "2022-05-26T09:38:50.444077",
     "exception": false,
     "start_time": "2022-05-26T09:38:50.362623",
     "status": "completed"
    },
    "tags": []
   },
   "source": [
    "## Feature engineering"
   ]
  },
  {
   "cell_type": "markdown",
   "id": "ed77d35f",
   "metadata": {
    "papermill": {
     "duration": 0.081851,
     "end_time": "2022-05-26T09:38:50.607928",
     "exception": false,
     "start_time": "2022-05-26T09:38:50.526077",
     "status": "completed"
    },
    "tags": []
   },
   "source": [
    "### One-hot encoding"
   ]
  },
  {
   "cell_type": "code",
   "execution_count": 34,
   "id": "c25ef8e7",
   "metadata": {
    "execution": {
     "iopub.execute_input": "2022-05-26T09:38:50.775322Z",
     "iopub.status.busy": "2022-05-26T09:38:50.774633Z",
     "iopub.status.idle": "2022-05-26T09:38:50.786805Z",
     "shell.execute_reply": "2022-05-26T09:38:50.787344Z",
     "shell.execute_reply.started": "2022-05-26T09:27:28.098757Z"
    },
    "papermill": {
     "duration": 0.09693,
     "end_time": "2022-05-26T09:38:50.787518",
     "exception": false,
     "start_time": "2022-05-26T09:38:50.690588",
     "status": "completed"
    },
    "tags": []
   },
   "outputs": [
    {
     "name": "stdout",
     "output_type": "stream",
     "text": [
      "<class 'pandas.core.frame.DataFrame'>\n",
      "RangeIndex: 891 entries, 0 to 890\n",
      "Data columns (total 11 columns):\n",
      " #   Column       Non-Null Count  Dtype  \n",
      "---  ------       --------------  -----  \n",
      " 0   PassengerId  891 non-null    int64  \n",
      " 1   Survived     891 non-null    int64  \n",
      " 2   Pclass       891 non-null    int64  \n",
      " 3   Name         891 non-null    object \n",
      " 4   Sex          891 non-null    object \n",
      " 5   Age          891 non-null    float64\n",
      " 6   SibSp        891 non-null    int64  \n",
      " 7   Parch        891 non-null    int64  \n",
      " 8   Ticket       891 non-null    object \n",
      " 9   Fare         891 non-null    float64\n",
      " 10  Embarked     891 non-null    object \n",
      "dtypes: float64(2), int64(5), object(4)\n",
      "memory usage: 76.7+ KB\n"
     ]
    }
   ],
   "source": [
    "# check categorical columns\n",
    "df_train.info()"
   ]
  },
  {
   "cell_type": "code",
   "execution_count": 35,
   "id": "9e6c3e61",
   "metadata": {
    "execution": {
     "iopub.execute_input": "2022-05-26T09:38:50.957673Z",
     "iopub.status.busy": "2022-05-26T09:38:50.956656Z",
     "iopub.status.idle": "2022-05-26T09:38:50.973302Z",
     "shell.execute_reply": "2022-05-26T09:38:50.973897Z",
     "shell.execute_reply.started": "2022-05-26T09:27:28.114455Z"
    },
    "papermill": {
     "duration": 0.104038,
     "end_time": "2022-05-26T09:38:50.974097",
     "exception": false,
     "start_time": "2022-05-26T09:38:50.870059",
     "status": "completed"
    },
    "tags": []
   },
   "outputs": [
    {
     "name": "stdout",
     "output_type": "stream",
     "text": [
      "     Sex_female  Sex_male\n",
      "0             0         1\n",
      "1             1         0\n",
      "2             1         0\n",
      "3             1         0\n",
      "4             0         1\n",
      "..          ...       ...\n",
      "886           0         1\n",
      "887           1         0\n",
      "888           1         0\n",
      "889           0         1\n",
      "890           0         1\n",
      "\n",
      "[891 rows x 2 columns]\n",
      "     Embarked_C  Embarked_Q  Embarked_S  Embarked_U\n",
      "0             0           0           1           0\n",
      "1             1           0           0           0\n",
      "2             0           0           1           0\n",
      "3             0           0           1           0\n",
      "4             0           0           1           0\n",
      "..          ...         ...         ...         ...\n",
      "886           0           0           1           0\n",
      "887           0           0           1           0\n",
      "888           0           0           1           0\n",
      "889           1           0           0           0\n",
      "890           0           1           0           0\n",
      "\n",
      "[891 rows x 4 columns]\n"
     ]
    }
   ],
   "source": [
    "gender_columns = pd.get_dummies(df_train.Sex, prefix='Sex')\n",
    "print(gender_columns)\n",
    "embarked_columns = pd.get_dummies(df_train.Embarked, prefix='Embarked')\n",
    "print(embarked_columns)"
   ]
  },
  {
   "cell_type": "code",
   "execution_count": 36,
   "id": "1217c68e",
   "metadata": {
    "execution": {
     "iopub.execute_input": "2022-05-26T09:38:51.150113Z",
     "iopub.status.busy": "2022-05-26T09:38:51.149439Z",
     "iopub.status.idle": "2022-05-26T09:38:51.161286Z",
     "shell.execute_reply": "2022-05-26T09:38:51.161812Z",
     "shell.execute_reply.started": "2022-05-26T09:27:28.135062Z"
    },
    "papermill": {
     "duration": 0.10247,
     "end_time": "2022-05-26T09:38:51.162004",
     "exception": false,
     "start_time": "2022-05-26T09:38:51.059534",
     "status": "completed"
    },
    "tags": []
   },
   "outputs": [
    {
     "data": {
      "text/html": [
       "<div>\n",
       "<style scoped>\n",
       "    .dataframe tbody tr th:only-of-type {\n",
       "        vertical-align: middle;\n",
       "    }\n",
       "\n",
       "    .dataframe tbody tr th {\n",
       "        vertical-align: top;\n",
       "    }\n",
       "\n",
       "    .dataframe thead th {\n",
       "        text-align: right;\n",
       "    }\n",
       "</style>\n",
       "<table border=\"1\" class=\"dataframe\">\n",
       "  <thead>\n",
       "    <tr style=\"text-align: right;\">\n",
       "      <th></th>\n",
       "      <th>PassengerId</th>\n",
       "      <th>Survived</th>\n",
       "      <th>Pclass</th>\n",
       "      <th>Name</th>\n",
       "      <th>Sex</th>\n",
       "      <th>Age</th>\n",
       "      <th>SibSp</th>\n",
       "      <th>Parch</th>\n",
       "      <th>Ticket</th>\n",
       "      <th>Fare</th>\n",
       "      <th>Embarked</th>\n",
       "    </tr>\n",
       "  </thead>\n",
       "  <tbody>\n",
       "    <tr>\n",
       "      <th>0</th>\n",
       "      <td>1</td>\n",
       "      <td>0</td>\n",
       "      <td>3</td>\n",
       "      <td>Braund, Mr. Owen Harris</td>\n",
       "      <td>male</td>\n",
       "      <td>22.0</td>\n",
       "      <td>1</td>\n",
       "      <td>0</td>\n",
       "      <td>A/5 21171</td>\n",
       "      <td>7.2500</td>\n",
       "      <td>S</td>\n",
       "    </tr>\n",
       "    <tr>\n",
       "      <th>1</th>\n",
       "      <td>2</td>\n",
       "      <td>1</td>\n",
       "      <td>1</td>\n",
       "      <td>Cumings, Mrs. John Bradley (Florence Briggs Th...</td>\n",
       "      <td>female</td>\n",
       "      <td>38.0</td>\n",
       "      <td>1</td>\n",
       "      <td>0</td>\n",
       "      <td>PC 17599</td>\n",
       "      <td>71.2833</td>\n",
       "      <td>C</td>\n",
       "    </tr>\n",
       "    <tr>\n",
       "      <th>2</th>\n",
       "      <td>3</td>\n",
       "      <td>1</td>\n",
       "      <td>3</td>\n",
       "      <td>Heikkinen, Miss. Laina</td>\n",
       "      <td>female</td>\n",
       "      <td>26.0</td>\n",
       "      <td>0</td>\n",
       "      <td>0</td>\n",
       "      <td>STON/O2. 3101282</td>\n",
       "      <td>7.9250</td>\n",
       "      <td>S</td>\n",
       "    </tr>\n",
       "    <tr>\n",
       "      <th>3</th>\n",
       "      <td>4</td>\n",
       "      <td>1</td>\n",
       "      <td>1</td>\n",
       "      <td>Futrelle, Mrs. Jacques Heath (Lily May Peel)</td>\n",
       "      <td>female</td>\n",
       "      <td>35.0</td>\n",
       "      <td>1</td>\n",
       "      <td>0</td>\n",
       "      <td>113803</td>\n",
       "      <td>53.1000</td>\n",
       "      <td>S</td>\n",
       "    </tr>\n",
       "    <tr>\n",
       "      <th>4</th>\n",
       "      <td>5</td>\n",
       "      <td>0</td>\n",
       "      <td>3</td>\n",
       "      <td>Allen, Mr. William Henry</td>\n",
       "      <td>male</td>\n",
       "      <td>35.0</td>\n",
       "      <td>0</td>\n",
       "      <td>0</td>\n",
       "      <td>373450</td>\n",
       "      <td>8.0500</td>\n",
       "      <td>S</td>\n",
       "    </tr>\n",
       "  </tbody>\n",
       "</table>\n",
       "</div>"
      ],
      "text/plain": [
       "   PassengerId  Survived  Pclass  \\\n",
       "0            1         0       3   \n",
       "1            2         1       1   \n",
       "2            3         1       3   \n",
       "3            4         1       1   \n",
       "4            5         0       3   \n",
       "\n",
       "                                                Name     Sex   Age  SibSp  \\\n",
       "0                            Braund, Mr. Owen Harris    male  22.0      1   \n",
       "1  Cumings, Mrs. John Bradley (Florence Briggs Th...  female  38.0      1   \n",
       "2                             Heikkinen, Miss. Laina  female  26.0      0   \n",
       "3       Futrelle, Mrs. Jacques Heath (Lily May Peel)  female  35.0      1   \n",
       "4                           Allen, Mr. William Henry    male  35.0      0   \n",
       "\n",
       "   Parch            Ticket     Fare Embarked  \n",
       "0      0         A/5 21171   7.2500        S  \n",
       "1      0          PC 17599  71.2833        C  \n",
       "2      0  STON/O2. 3101282   7.9250        S  \n",
       "3      0            113803  53.1000        S  \n",
       "4      0            373450   8.0500        S  "
      ]
     },
     "execution_count": 36,
     "metadata": {},
     "output_type": "execute_result"
    }
   ],
   "source": [
    "df_train.head()"
   ]
  },
  {
   "cell_type": "code",
   "execution_count": 37,
   "id": "3b1e8412",
   "metadata": {
    "execution": {
     "iopub.execute_input": "2022-05-26T09:38:51.334068Z",
     "iopub.status.busy": "2022-05-26T09:38:51.333351Z",
     "iopub.status.idle": "2022-05-26T09:38:51.339155Z",
     "shell.execute_reply": "2022-05-26T09:38:51.339757Z",
     "shell.execute_reply.started": "2022-05-26T09:27:28.151916Z"
    },
    "papermill": {
     "duration": 0.094229,
     "end_time": "2022-05-26T09:38:51.339955",
     "exception": false,
     "start_time": "2022-05-26T09:38:51.245726",
     "status": "completed"
    },
    "tags": []
   },
   "outputs": [],
   "source": [
    "# concat dataset with new columns\n",
    "df_train = pd.concat([df_train, gender_columns], axis=1)\n",
    "df_train = pd.concat([df_train, embarked_columns], axis=1)"
   ]
  },
  {
   "cell_type": "code",
   "execution_count": 38,
   "id": "3e260950",
   "metadata": {
    "execution": {
     "iopub.execute_input": "2022-05-26T09:38:51.511252Z",
     "iopub.status.busy": "2022-05-26T09:38:51.510523Z",
     "iopub.status.idle": "2022-05-26T09:38:51.527208Z",
     "shell.execute_reply": "2022-05-26T09:38:51.527763Z",
     "shell.execute_reply.started": "2022-05-26T09:27:28.166599Z"
    },
    "papermill": {
     "duration": 0.104194,
     "end_time": "2022-05-26T09:38:51.527957",
     "exception": false,
     "start_time": "2022-05-26T09:38:51.423763",
     "status": "completed"
    },
    "tags": []
   },
   "outputs": [
    {
     "data": {
      "text/html": [
       "<div>\n",
       "<style scoped>\n",
       "    .dataframe tbody tr th:only-of-type {\n",
       "        vertical-align: middle;\n",
       "    }\n",
       "\n",
       "    .dataframe tbody tr th {\n",
       "        vertical-align: top;\n",
       "    }\n",
       "\n",
       "    .dataframe thead th {\n",
       "        text-align: right;\n",
       "    }\n",
       "</style>\n",
       "<table border=\"1\" class=\"dataframe\">\n",
       "  <thead>\n",
       "    <tr style=\"text-align: right;\">\n",
       "      <th></th>\n",
       "      <th>PassengerId</th>\n",
       "      <th>Survived</th>\n",
       "      <th>Pclass</th>\n",
       "      <th>Name</th>\n",
       "      <th>Sex</th>\n",
       "      <th>Age</th>\n",
       "      <th>SibSp</th>\n",
       "      <th>Parch</th>\n",
       "      <th>Ticket</th>\n",
       "      <th>Fare</th>\n",
       "      <th>Embarked</th>\n",
       "      <th>Sex_female</th>\n",
       "      <th>Sex_male</th>\n",
       "      <th>Embarked_C</th>\n",
       "      <th>Embarked_Q</th>\n",
       "      <th>Embarked_S</th>\n",
       "      <th>Embarked_U</th>\n",
       "    </tr>\n",
       "  </thead>\n",
       "  <tbody>\n",
       "    <tr>\n",
       "      <th>0</th>\n",
       "      <td>1</td>\n",
       "      <td>0</td>\n",
       "      <td>3</td>\n",
       "      <td>Braund, Mr. Owen Harris</td>\n",
       "      <td>male</td>\n",
       "      <td>22.0</td>\n",
       "      <td>1</td>\n",
       "      <td>0</td>\n",
       "      <td>A/5 21171</td>\n",
       "      <td>7.2500</td>\n",
       "      <td>S</td>\n",
       "      <td>0</td>\n",
       "      <td>1</td>\n",
       "      <td>0</td>\n",
       "      <td>0</td>\n",
       "      <td>1</td>\n",
       "      <td>0</td>\n",
       "    </tr>\n",
       "    <tr>\n",
       "      <th>1</th>\n",
       "      <td>2</td>\n",
       "      <td>1</td>\n",
       "      <td>1</td>\n",
       "      <td>Cumings, Mrs. John Bradley (Florence Briggs Th...</td>\n",
       "      <td>female</td>\n",
       "      <td>38.0</td>\n",
       "      <td>1</td>\n",
       "      <td>0</td>\n",
       "      <td>PC 17599</td>\n",
       "      <td>71.2833</td>\n",
       "      <td>C</td>\n",
       "      <td>1</td>\n",
       "      <td>0</td>\n",
       "      <td>1</td>\n",
       "      <td>0</td>\n",
       "      <td>0</td>\n",
       "      <td>0</td>\n",
       "    </tr>\n",
       "    <tr>\n",
       "      <th>2</th>\n",
       "      <td>3</td>\n",
       "      <td>1</td>\n",
       "      <td>3</td>\n",
       "      <td>Heikkinen, Miss. Laina</td>\n",
       "      <td>female</td>\n",
       "      <td>26.0</td>\n",
       "      <td>0</td>\n",
       "      <td>0</td>\n",
       "      <td>STON/O2. 3101282</td>\n",
       "      <td>7.9250</td>\n",
       "      <td>S</td>\n",
       "      <td>1</td>\n",
       "      <td>0</td>\n",
       "      <td>0</td>\n",
       "      <td>0</td>\n",
       "      <td>1</td>\n",
       "      <td>0</td>\n",
       "    </tr>\n",
       "    <tr>\n",
       "      <th>3</th>\n",
       "      <td>4</td>\n",
       "      <td>1</td>\n",
       "      <td>1</td>\n",
       "      <td>Futrelle, Mrs. Jacques Heath (Lily May Peel)</td>\n",
       "      <td>female</td>\n",
       "      <td>35.0</td>\n",
       "      <td>1</td>\n",
       "      <td>0</td>\n",
       "      <td>113803</td>\n",
       "      <td>53.1000</td>\n",
       "      <td>S</td>\n",
       "      <td>1</td>\n",
       "      <td>0</td>\n",
       "      <td>0</td>\n",
       "      <td>0</td>\n",
       "      <td>1</td>\n",
       "      <td>0</td>\n",
       "    </tr>\n",
       "    <tr>\n",
       "      <th>4</th>\n",
       "      <td>5</td>\n",
       "      <td>0</td>\n",
       "      <td>3</td>\n",
       "      <td>Allen, Mr. William Henry</td>\n",
       "      <td>male</td>\n",
       "      <td>35.0</td>\n",
       "      <td>0</td>\n",
       "      <td>0</td>\n",
       "      <td>373450</td>\n",
       "      <td>8.0500</td>\n",
       "      <td>S</td>\n",
       "      <td>0</td>\n",
       "      <td>1</td>\n",
       "      <td>0</td>\n",
       "      <td>0</td>\n",
       "      <td>1</td>\n",
       "      <td>0</td>\n",
       "    </tr>\n",
       "  </tbody>\n",
       "</table>\n",
       "</div>"
      ],
      "text/plain": [
       "   PassengerId  Survived  Pclass  \\\n",
       "0            1         0       3   \n",
       "1            2         1       1   \n",
       "2            3         1       3   \n",
       "3            4         1       1   \n",
       "4            5         0       3   \n",
       "\n",
       "                                                Name     Sex   Age  SibSp  \\\n",
       "0                            Braund, Mr. Owen Harris    male  22.0      1   \n",
       "1  Cumings, Mrs. John Bradley (Florence Briggs Th...  female  38.0      1   \n",
       "2                             Heikkinen, Miss. Laina  female  26.0      0   \n",
       "3       Futrelle, Mrs. Jacques Heath (Lily May Peel)  female  35.0      1   \n",
       "4                           Allen, Mr. William Henry    male  35.0      0   \n",
       "\n",
       "   Parch            Ticket     Fare Embarked  Sex_female  Sex_male  \\\n",
       "0      0         A/5 21171   7.2500        S           0         1   \n",
       "1      0          PC 17599  71.2833        C           1         0   \n",
       "2      0  STON/O2. 3101282   7.9250        S           1         0   \n",
       "3      0            113803  53.1000        S           1         0   \n",
       "4      0            373450   8.0500        S           0         1   \n",
       "\n",
       "   Embarked_C  Embarked_Q  Embarked_S  Embarked_U  \n",
       "0           0           0           1           0  \n",
       "1           1           0           0           0  \n",
       "2           0           0           1           0  \n",
       "3           0           0           1           0  \n",
       "4           0           0           1           0  "
      ]
     },
     "execution_count": 38,
     "metadata": {},
     "output_type": "execute_result"
    }
   ],
   "source": [
    "df_train.head()"
   ]
  },
  {
   "cell_type": "code",
   "execution_count": 39,
   "id": "b5ab5c24",
   "metadata": {
    "execution": {
     "iopub.execute_input": "2022-05-26T09:38:51.701412Z",
     "iopub.status.busy": "2022-05-26T09:38:51.700497Z",
     "iopub.status.idle": "2022-05-26T09:38:51.705463Z",
     "shell.execute_reply": "2022-05-26T09:38:51.706034Z",
     "shell.execute_reply.started": "2022-05-26T09:27:28.188786Z"
    },
    "papermill": {
     "duration": 0.09336,
     "end_time": "2022-05-26T09:38:51.706228",
     "exception": false,
     "start_time": "2022-05-26T09:38:51.612868",
     "status": "completed"
    },
    "tags": []
   },
   "outputs": [],
   "source": [
    "# drop Sex and Embarked\n",
    "df_train = df_train.drop(['Sex', 'Embarked'], axis=1)"
   ]
  },
  {
   "cell_type": "code",
   "execution_count": 40,
   "id": "56f55cef",
   "metadata": {
    "execution": {
     "iopub.execute_input": "2022-05-26T09:38:51.879957Z",
     "iopub.status.busy": "2022-05-26T09:38:51.879159Z",
     "iopub.status.idle": "2022-05-26T09:38:51.894156Z",
     "shell.execute_reply": "2022-05-26T09:38:51.894738Z",
     "shell.execute_reply.started": "2022-05-26T09:27:28.198953Z"
    },
    "papermill": {
     "duration": 0.103621,
     "end_time": "2022-05-26T09:38:51.894935",
     "exception": false,
     "start_time": "2022-05-26T09:38:51.791314",
     "status": "completed"
    },
    "tags": []
   },
   "outputs": [
    {
     "data": {
      "text/html": [
       "<div>\n",
       "<style scoped>\n",
       "    .dataframe tbody tr th:only-of-type {\n",
       "        vertical-align: middle;\n",
       "    }\n",
       "\n",
       "    .dataframe tbody tr th {\n",
       "        vertical-align: top;\n",
       "    }\n",
       "\n",
       "    .dataframe thead th {\n",
       "        text-align: right;\n",
       "    }\n",
       "</style>\n",
       "<table border=\"1\" class=\"dataframe\">\n",
       "  <thead>\n",
       "    <tr style=\"text-align: right;\">\n",
       "      <th></th>\n",
       "      <th>PassengerId</th>\n",
       "      <th>Survived</th>\n",
       "      <th>Pclass</th>\n",
       "      <th>Name</th>\n",
       "      <th>Age</th>\n",
       "      <th>SibSp</th>\n",
       "      <th>Parch</th>\n",
       "      <th>Ticket</th>\n",
       "      <th>Fare</th>\n",
       "      <th>Sex_female</th>\n",
       "      <th>Sex_male</th>\n",
       "      <th>Embarked_C</th>\n",
       "      <th>Embarked_Q</th>\n",
       "      <th>Embarked_S</th>\n",
       "      <th>Embarked_U</th>\n",
       "    </tr>\n",
       "  </thead>\n",
       "  <tbody>\n",
       "    <tr>\n",
       "      <th>0</th>\n",
       "      <td>1</td>\n",
       "      <td>0</td>\n",
       "      <td>3</td>\n",
       "      <td>Braund, Mr. Owen Harris</td>\n",
       "      <td>22.0</td>\n",
       "      <td>1</td>\n",
       "      <td>0</td>\n",
       "      <td>A/5 21171</td>\n",
       "      <td>7.2500</td>\n",
       "      <td>0</td>\n",
       "      <td>1</td>\n",
       "      <td>0</td>\n",
       "      <td>0</td>\n",
       "      <td>1</td>\n",
       "      <td>0</td>\n",
       "    </tr>\n",
       "    <tr>\n",
       "      <th>1</th>\n",
       "      <td>2</td>\n",
       "      <td>1</td>\n",
       "      <td>1</td>\n",
       "      <td>Cumings, Mrs. John Bradley (Florence Briggs Th...</td>\n",
       "      <td>38.0</td>\n",
       "      <td>1</td>\n",
       "      <td>0</td>\n",
       "      <td>PC 17599</td>\n",
       "      <td>71.2833</td>\n",
       "      <td>1</td>\n",
       "      <td>0</td>\n",
       "      <td>1</td>\n",
       "      <td>0</td>\n",
       "      <td>0</td>\n",
       "      <td>0</td>\n",
       "    </tr>\n",
       "    <tr>\n",
       "      <th>2</th>\n",
       "      <td>3</td>\n",
       "      <td>1</td>\n",
       "      <td>3</td>\n",
       "      <td>Heikkinen, Miss. Laina</td>\n",
       "      <td>26.0</td>\n",
       "      <td>0</td>\n",
       "      <td>0</td>\n",
       "      <td>STON/O2. 3101282</td>\n",
       "      <td>7.9250</td>\n",
       "      <td>1</td>\n",
       "      <td>0</td>\n",
       "      <td>0</td>\n",
       "      <td>0</td>\n",
       "      <td>1</td>\n",
       "      <td>0</td>\n",
       "    </tr>\n",
       "    <tr>\n",
       "      <th>3</th>\n",
       "      <td>4</td>\n",
       "      <td>1</td>\n",
       "      <td>1</td>\n",
       "      <td>Futrelle, Mrs. Jacques Heath (Lily May Peel)</td>\n",
       "      <td>35.0</td>\n",
       "      <td>1</td>\n",
       "      <td>0</td>\n",
       "      <td>113803</td>\n",
       "      <td>53.1000</td>\n",
       "      <td>1</td>\n",
       "      <td>0</td>\n",
       "      <td>0</td>\n",
       "      <td>0</td>\n",
       "      <td>1</td>\n",
       "      <td>0</td>\n",
       "    </tr>\n",
       "    <tr>\n",
       "      <th>4</th>\n",
       "      <td>5</td>\n",
       "      <td>0</td>\n",
       "      <td>3</td>\n",
       "      <td>Allen, Mr. William Henry</td>\n",
       "      <td>35.0</td>\n",
       "      <td>0</td>\n",
       "      <td>0</td>\n",
       "      <td>373450</td>\n",
       "      <td>8.0500</td>\n",
       "      <td>0</td>\n",
       "      <td>1</td>\n",
       "      <td>0</td>\n",
       "      <td>0</td>\n",
       "      <td>1</td>\n",
       "      <td>0</td>\n",
       "    </tr>\n",
       "  </tbody>\n",
       "</table>\n",
       "</div>"
      ],
      "text/plain": [
       "   PassengerId  Survived  Pclass  \\\n",
       "0            1         0       3   \n",
       "1            2         1       1   \n",
       "2            3         1       3   \n",
       "3            4         1       1   \n",
       "4            5         0       3   \n",
       "\n",
       "                                                Name   Age  SibSp  Parch  \\\n",
       "0                            Braund, Mr. Owen Harris  22.0      1      0   \n",
       "1  Cumings, Mrs. John Bradley (Florence Briggs Th...  38.0      1      0   \n",
       "2                             Heikkinen, Miss. Laina  26.0      0      0   \n",
       "3       Futrelle, Mrs. Jacques Heath (Lily May Peel)  35.0      1      0   \n",
       "4                           Allen, Mr. William Henry  35.0      0      0   \n",
       "\n",
       "             Ticket     Fare  Sex_female  Sex_male  Embarked_C  Embarked_Q  \\\n",
       "0         A/5 21171   7.2500           0         1           0           0   \n",
       "1          PC 17599  71.2833           1         0           1           0   \n",
       "2  STON/O2. 3101282   7.9250           1         0           0           0   \n",
       "3            113803  53.1000           1         0           0           0   \n",
       "4            373450   8.0500           0         1           0           0   \n",
       "\n",
       "   Embarked_S  Embarked_U  \n",
       "0           1           0  \n",
       "1           0           0  \n",
       "2           1           0  \n",
       "3           1           0  \n",
       "4           1           0  "
      ]
     },
     "execution_count": 40,
     "metadata": {},
     "output_type": "execute_result"
    }
   ],
   "source": [
    "df_train.head()"
   ]
  },
  {
   "cell_type": "code",
   "execution_count": 41,
   "id": "800d122e",
   "metadata": {
    "execution": {
     "iopub.execute_input": "2022-05-26T09:38:52.070496Z",
     "iopub.status.busy": "2022-05-26T09:38:52.069752Z",
     "iopub.status.idle": "2022-05-26T09:38:52.078453Z",
     "shell.execute_reply": "2022-05-26T09:38:52.078991Z",
     "shell.execute_reply.started": "2022-05-26T09:27:28.220318Z"
    },
    "papermill": {
     "duration": 0.098691,
     "end_time": "2022-05-26T09:38:52.079170",
     "exception": false,
     "start_time": "2022-05-26T09:38:51.980479",
     "status": "completed"
    },
    "tags": []
   },
   "outputs": [],
   "source": [
    "# Pclass has 3 class so it's categorical\n",
    "categorized_pclass_columns = pd.get_dummies(df_train['Pclass'], prefix='Pclass')\n",
    "df_train = pd.concat([df_train, categorized_pclass_columns], axis=1)\n",
    "df_train = df_train.drop(['Pclass'], axis=1)"
   ]
  },
  {
   "cell_type": "code",
   "execution_count": 42,
   "id": "ce2a1678",
   "metadata": {
    "execution": {
     "iopub.execute_input": "2022-05-26T09:38:52.254179Z",
     "iopub.status.busy": "2022-05-26T09:38:52.253271Z",
     "iopub.status.idle": "2022-05-26T09:38:52.269283Z",
     "shell.execute_reply": "2022-05-26T09:38:52.269732Z",
     "shell.execute_reply.started": "2022-05-26T09:27:28.229598Z"
    },
    "papermill": {
     "duration": 0.104356,
     "end_time": "2022-05-26T09:38:52.269933",
     "exception": false,
     "start_time": "2022-05-26T09:38:52.165577",
     "status": "completed"
    },
    "tags": []
   },
   "outputs": [
    {
     "data": {
      "text/html": [
       "<div>\n",
       "<style scoped>\n",
       "    .dataframe tbody tr th:only-of-type {\n",
       "        vertical-align: middle;\n",
       "    }\n",
       "\n",
       "    .dataframe tbody tr th {\n",
       "        vertical-align: top;\n",
       "    }\n",
       "\n",
       "    .dataframe thead th {\n",
       "        text-align: right;\n",
       "    }\n",
       "</style>\n",
       "<table border=\"1\" class=\"dataframe\">\n",
       "  <thead>\n",
       "    <tr style=\"text-align: right;\">\n",
       "      <th></th>\n",
       "      <th>PassengerId</th>\n",
       "      <th>Survived</th>\n",
       "      <th>Name</th>\n",
       "      <th>Age</th>\n",
       "      <th>SibSp</th>\n",
       "      <th>Parch</th>\n",
       "      <th>Ticket</th>\n",
       "      <th>Fare</th>\n",
       "      <th>Sex_female</th>\n",
       "      <th>Sex_male</th>\n",
       "      <th>Embarked_C</th>\n",
       "      <th>Embarked_Q</th>\n",
       "      <th>Embarked_S</th>\n",
       "      <th>Embarked_U</th>\n",
       "      <th>Pclass_1</th>\n",
       "      <th>Pclass_2</th>\n",
       "      <th>Pclass_3</th>\n",
       "    </tr>\n",
       "  </thead>\n",
       "  <tbody>\n",
       "    <tr>\n",
       "      <th>0</th>\n",
       "      <td>1</td>\n",
       "      <td>0</td>\n",
       "      <td>Braund, Mr. Owen Harris</td>\n",
       "      <td>22.0</td>\n",
       "      <td>1</td>\n",
       "      <td>0</td>\n",
       "      <td>A/5 21171</td>\n",
       "      <td>7.2500</td>\n",
       "      <td>0</td>\n",
       "      <td>1</td>\n",
       "      <td>0</td>\n",
       "      <td>0</td>\n",
       "      <td>1</td>\n",
       "      <td>0</td>\n",
       "      <td>0</td>\n",
       "      <td>0</td>\n",
       "      <td>1</td>\n",
       "    </tr>\n",
       "    <tr>\n",
       "      <th>1</th>\n",
       "      <td>2</td>\n",
       "      <td>1</td>\n",
       "      <td>Cumings, Mrs. John Bradley (Florence Briggs Th...</td>\n",
       "      <td>38.0</td>\n",
       "      <td>1</td>\n",
       "      <td>0</td>\n",
       "      <td>PC 17599</td>\n",
       "      <td>71.2833</td>\n",
       "      <td>1</td>\n",
       "      <td>0</td>\n",
       "      <td>1</td>\n",
       "      <td>0</td>\n",
       "      <td>0</td>\n",
       "      <td>0</td>\n",
       "      <td>1</td>\n",
       "      <td>0</td>\n",
       "      <td>0</td>\n",
       "    </tr>\n",
       "    <tr>\n",
       "      <th>2</th>\n",
       "      <td>3</td>\n",
       "      <td>1</td>\n",
       "      <td>Heikkinen, Miss. Laina</td>\n",
       "      <td>26.0</td>\n",
       "      <td>0</td>\n",
       "      <td>0</td>\n",
       "      <td>STON/O2. 3101282</td>\n",
       "      <td>7.9250</td>\n",
       "      <td>1</td>\n",
       "      <td>0</td>\n",
       "      <td>0</td>\n",
       "      <td>0</td>\n",
       "      <td>1</td>\n",
       "      <td>0</td>\n",
       "      <td>0</td>\n",
       "      <td>0</td>\n",
       "      <td>1</td>\n",
       "    </tr>\n",
       "    <tr>\n",
       "      <th>3</th>\n",
       "      <td>4</td>\n",
       "      <td>1</td>\n",
       "      <td>Futrelle, Mrs. Jacques Heath (Lily May Peel)</td>\n",
       "      <td>35.0</td>\n",
       "      <td>1</td>\n",
       "      <td>0</td>\n",
       "      <td>113803</td>\n",
       "      <td>53.1000</td>\n",
       "      <td>1</td>\n",
       "      <td>0</td>\n",
       "      <td>0</td>\n",
       "      <td>0</td>\n",
       "      <td>1</td>\n",
       "      <td>0</td>\n",
       "      <td>1</td>\n",
       "      <td>0</td>\n",
       "      <td>0</td>\n",
       "    </tr>\n",
       "    <tr>\n",
       "      <th>4</th>\n",
       "      <td>5</td>\n",
       "      <td>0</td>\n",
       "      <td>Allen, Mr. William Henry</td>\n",
       "      <td>35.0</td>\n",
       "      <td>0</td>\n",
       "      <td>0</td>\n",
       "      <td>373450</td>\n",
       "      <td>8.0500</td>\n",
       "      <td>0</td>\n",
       "      <td>1</td>\n",
       "      <td>0</td>\n",
       "      <td>0</td>\n",
       "      <td>1</td>\n",
       "      <td>0</td>\n",
       "      <td>0</td>\n",
       "      <td>0</td>\n",
       "      <td>1</td>\n",
       "    </tr>\n",
       "  </tbody>\n",
       "</table>\n",
       "</div>"
      ],
      "text/plain": [
       "   PassengerId  Survived                                               Name  \\\n",
       "0            1         0                            Braund, Mr. Owen Harris   \n",
       "1            2         1  Cumings, Mrs. John Bradley (Florence Briggs Th...   \n",
       "2            3         1                             Heikkinen, Miss. Laina   \n",
       "3            4         1       Futrelle, Mrs. Jacques Heath (Lily May Peel)   \n",
       "4            5         0                           Allen, Mr. William Henry   \n",
       "\n",
       "    Age  SibSp  Parch            Ticket     Fare  Sex_female  Sex_male  \\\n",
       "0  22.0      1      0         A/5 21171   7.2500           0         1   \n",
       "1  38.0      1      0          PC 17599  71.2833           1         0   \n",
       "2  26.0      0      0  STON/O2. 3101282   7.9250           1         0   \n",
       "3  35.0      1      0            113803  53.1000           1         0   \n",
       "4  35.0      0      0            373450   8.0500           0         1   \n",
       "\n",
       "   Embarked_C  Embarked_Q  Embarked_S  Embarked_U  Pclass_1  Pclass_2  \\\n",
       "0           0           0           1           0         0         0   \n",
       "1           1           0           0           0         1         0   \n",
       "2           0           0           1           0         0         0   \n",
       "3           0           0           1           0         1         0   \n",
       "4           0           0           1           0         0         0   \n",
       "\n",
       "   Pclass_3  \n",
       "0         1  \n",
       "1         0  \n",
       "2         1  \n",
       "3         0  \n",
       "4         1  "
      ]
     },
     "execution_count": 42,
     "metadata": {},
     "output_type": "execute_result"
    }
   ],
   "source": [
    "df_train.head()"
   ]
  },
  {
   "cell_type": "markdown",
   "id": "e9b7ccec",
   "metadata": {
    "papermill": {
     "duration": 0.085259,
     "end_time": "2022-05-26T09:38:52.441017",
     "exception": false,
     "start_time": "2022-05-26T09:38:52.355758",
     "status": "completed"
    },
    "tags": []
   },
   "source": [
    "### Binning (numerical to categorical)"
   ]
  },
  {
   "cell_type": "markdown",
   "id": "295c66b8",
   "metadata": {
    "papermill": {
     "duration": 0.085622,
     "end_time": "2022-05-26T09:38:52.612182",
     "exception": false,
     "start_time": "2022-05-26T09:38:52.526560",
     "status": "completed"
    },
    "tags": []
   },
   "source": [
    "**The goal is to check the best possibility of survival when the passenger is between an age of groups**"
   ]
  },
  {
   "cell_type": "code",
   "execution_count": 43,
   "id": "17b3ba09",
   "metadata": {
    "execution": {
     "iopub.execute_input": "2022-05-26T09:38:52.787422Z",
     "iopub.status.busy": "2022-05-26T09:38:52.786439Z",
     "iopub.status.idle": "2022-05-26T09:38:52.802402Z",
     "shell.execute_reply": "2022-05-26T09:38:52.801811Z",
     "shell.execute_reply.started": "2022-05-26T09:27:28.252520Z"
    },
    "papermill": {
     "duration": 0.104333,
     "end_time": "2022-05-26T09:38:52.802546",
     "exception": false,
     "start_time": "2022-05-26T09:38:52.698213",
     "status": "completed"
    },
    "tags": []
   },
   "outputs": [],
   "source": [
    "bins = [0, 10, 20, 30, 40, 50, 60, 70, 80]\n",
    "categorized_age = pd.cut(df_train.Age, bins)\n",
    "df_train['Categorized_age'] = categorized_age\n",
    "df_train = df_train.drop([\"Age\"], axis=1)"
   ]
  },
  {
   "cell_type": "code",
   "execution_count": 44,
   "id": "930dc11d",
   "metadata": {
    "execution": {
     "iopub.execute_input": "2022-05-26T09:38:52.986494Z",
     "iopub.status.busy": "2022-05-26T09:38:52.985703Z",
     "iopub.status.idle": "2022-05-26T09:38:52.988257Z",
     "shell.execute_reply": "2022-05-26T09:38:52.988705Z",
     "shell.execute_reply.started": "2022-05-26T09:27:28.266851Z"
    },
    "papermill": {
     "duration": 0.100024,
     "end_time": "2022-05-26T09:38:52.988936",
     "exception": false,
     "start_time": "2022-05-26T09:38:52.888912",
     "status": "completed"
    },
    "tags": []
   },
   "outputs": [],
   "source": [
    "# one-hot encoding\n",
    "categorized_age_columns = pd.get_dummies(df_train['Categorized_age'], prefix='Categorized_age')\n",
    "df_train = pd.concat([df_train, categorized_age_columns], axis=1)\n",
    "df_train = df_train.drop(['Categorized_age'], axis=1)"
   ]
  },
  {
   "cell_type": "code",
   "execution_count": 45,
   "id": "71b29c81",
   "metadata": {
    "execution": {
     "iopub.execute_input": "2022-05-26T09:38:53.167148Z",
     "iopub.status.busy": "2022-05-26T09:38:53.165227Z",
     "iopub.status.idle": "2022-05-26T09:38:53.180266Z",
     "shell.execute_reply": "2022-05-26T09:38:53.179407Z",
     "shell.execute_reply.started": "2022-05-26T09:27:28.287865Z"
    },
    "papermill": {
     "duration": 0.103707,
     "end_time": "2022-05-26T09:38:53.180464",
     "exception": false,
     "start_time": "2022-05-26T09:38:53.076757",
     "status": "completed"
    },
    "tags": []
   },
   "outputs": [
    {
     "name": "stdout",
     "output_type": "stream",
     "text": [
      "<class 'pandas.core.frame.DataFrame'>\n",
      "RangeIndex: 891 entries, 0 to 890\n",
      "Data columns (total 24 columns):\n",
      " #   Column                    Non-Null Count  Dtype  \n",
      "---  ------                    --------------  -----  \n",
      " 0   PassengerId               891 non-null    int64  \n",
      " 1   Survived                  891 non-null    int64  \n",
      " 2   Name                      891 non-null    object \n",
      " 3   SibSp                     891 non-null    int64  \n",
      " 4   Parch                     891 non-null    int64  \n",
      " 5   Ticket                    891 non-null    object \n",
      " 6   Fare                      891 non-null    float64\n",
      " 7   Sex_female                891 non-null    uint8  \n",
      " 8   Sex_male                  891 non-null    uint8  \n",
      " 9   Embarked_C                891 non-null    uint8  \n",
      " 10  Embarked_Q                891 non-null    uint8  \n",
      " 11  Embarked_S                891 non-null    uint8  \n",
      " 12  Embarked_U                891 non-null    uint8  \n",
      " 13  Pclass_1                  891 non-null    uint8  \n",
      " 14  Pclass_2                  891 non-null    uint8  \n",
      " 15  Pclass_3                  891 non-null    uint8  \n",
      " 16  Categorized_age_(0, 10]   891 non-null    uint8  \n",
      " 17  Categorized_age_(10, 20]  891 non-null    uint8  \n",
      " 18  Categorized_age_(20, 30]  891 non-null    uint8  \n",
      " 19  Categorized_age_(30, 40]  891 non-null    uint8  \n",
      " 20  Categorized_age_(40, 50]  891 non-null    uint8  \n",
      " 21  Categorized_age_(50, 60]  891 non-null    uint8  \n",
      " 22  Categorized_age_(60, 70]  891 non-null    uint8  \n",
      " 23  Categorized_age_(70, 80]  891 non-null    uint8  \n",
      "dtypes: float64(1), int64(4), object(2), uint8(17)\n",
      "memory usage: 63.6+ KB\n"
     ]
    }
   ],
   "source": [
    "df_train.info()"
   ]
  },
  {
   "cell_type": "markdown",
   "id": "17b2c826",
   "metadata": {
    "papermill": {
     "duration": 0.08519,
     "end_time": "2022-05-26T09:38:53.353199",
     "exception": false,
     "start_time": "2022-05-26T09:38:53.268009",
     "status": "completed"
    },
    "tags": []
   },
   "source": [
    "### Feature selection"
   ]
  },
  {
   "cell_type": "code",
   "execution_count": 46,
   "id": "45c9afde",
   "metadata": {
    "execution": {
     "iopub.execute_input": "2022-05-26T09:38:53.529983Z",
     "iopub.status.busy": "2022-05-26T09:38:53.529267Z",
     "iopub.status.idle": "2022-05-26T09:38:53.533947Z",
     "shell.execute_reply": "2022-05-26T09:38:53.534510Z",
     "shell.execute_reply.started": "2022-05-26T09:27:28.305471Z"
    },
    "papermill": {
     "duration": 0.09538,
     "end_time": "2022-05-26T09:38:53.534677",
     "exception": false,
     "start_time": "2022-05-26T09:38:53.439297",
     "status": "completed"
    },
    "tags": []
   },
   "outputs": [],
   "source": [
    "# we have to drop Name, Ticket because there are too many unique values\n",
    "# we keep PassengerId for the submission\n",
    "df_train = df_train.drop(['Name', 'Ticket'], axis=1)"
   ]
  },
  {
   "cell_type": "code",
   "execution_count": 47,
   "id": "a90338bb",
   "metadata": {
    "execution": {
     "iopub.execute_input": "2022-05-26T09:38:53.709888Z",
     "iopub.status.busy": "2022-05-26T09:38:53.709195Z",
     "iopub.status.idle": "2022-05-26T09:38:53.725897Z",
     "shell.execute_reply": "2022-05-26T09:38:53.726368Z",
     "shell.execute_reply.started": "2022-05-26T09:27:28.312349Z"
    },
    "papermill": {
     "duration": 0.105386,
     "end_time": "2022-05-26T09:38:53.726551",
     "exception": false,
     "start_time": "2022-05-26T09:38:53.621165",
     "status": "completed"
    },
    "tags": []
   },
   "outputs": [
    {
     "data": {
      "text/html": [
       "<div>\n",
       "<style scoped>\n",
       "    .dataframe tbody tr th:only-of-type {\n",
       "        vertical-align: middle;\n",
       "    }\n",
       "\n",
       "    .dataframe tbody tr th {\n",
       "        vertical-align: top;\n",
       "    }\n",
       "\n",
       "    .dataframe thead th {\n",
       "        text-align: right;\n",
       "    }\n",
       "</style>\n",
       "<table border=\"1\" class=\"dataframe\">\n",
       "  <thead>\n",
       "    <tr style=\"text-align: right;\">\n",
       "      <th></th>\n",
       "      <th>PassengerId</th>\n",
       "      <th>Survived</th>\n",
       "      <th>SibSp</th>\n",
       "      <th>Parch</th>\n",
       "      <th>Fare</th>\n",
       "      <th>Sex_female</th>\n",
       "      <th>Sex_male</th>\n",
       "      <th>Embarked_C</th>\n",
       "      <th>Embarked_Q</th>\n",
       "      <th>Embarked_S</th>\n",
       "      <th>...</th>\n",
       "      <th>Pclass_2</th>\n",
       "      <th>Pclass_3</th>\n",
       "      <th>Categorized_age_(0, 10]</th>\n",
       "      <th>Categorized_age_(10, 20]</th>\n",
       "      <th>Categorized_age_(20, 30]</th>\n",
       "      <th>Categorized_age_(30, 40]</th>\n",
       "      <th>Categorized_age_(40, 50]</th>\n",
       "      <th>Categorized_age_(50, 60]</th>\n",
       "      <th>Categorized_age_(60, 70]</th>\n",
       "      <th>Categorized_age_(70, 80]</th>\n",
       "    </tr>\n",
       "  </thead>\n",
       "  <tbody>\n",
       "    <tr>\n",
       "      <th>0</th>\n",
       "      <td>1</td>\n",
       "      <td>0</td>\n",
       "      <td>1</td>\n",
       "      <td>0</td>\n",
       "      <td>7.2500</td>\n",
       "      <td>0</td>\n",
       "      <td>1</td>\n",
       "      <td>0</td>\n",
       "      <td>0</td>\n",
       "      <td>1</td>\n",
       "      <td>...</td>\n",
       "      <td>0</td>\n",
       "      <td>1</td>\n",
       "      <td>0</td>\n",
       "      <td>0</td>\n",
       "      <td>1</td>\n",
       "      <td>0</td>\n",
       "      <td>0</td>\n",
       "      <td>0</td>\n",
       "      <td>0</td>\n",
       "      <td>0</td>\n",
       "    </tr>\n",
       "    <tr>\n",
       "      <th>1</th>\n",
       "      <td>2</td>\n",
       "      <td>1</td>\n",
       "      <td>1</td>\n",
       "      <td>0</td>\n",
       "      <td>71.2833</td>\n",
       "      <td>1</td>\n",
       "      <td>0</td>\n",
       "      <td>1</td>\n",
       "      <td>0</td>\n",
       "      <td>0</td>\n",
       "      <td>...</td>\n",
       "      <td>0</td>\n",
       "      <td>0</td>\n",
       "      <td>0</td>\n",
       "      <td>0</td>\n",
       "      <td>0</td>\n",
       "      <td>1</td>\n",
       "      <td>0</td>\n",
       "      <td>0</td>\n",
       "      <td>0</td>\n",
       "      <td>0</td>\n",
       "    </tr>\n",
       "    <tr>\n",
       "      <th>2</th>\n",
       "      <td>3</td>\n",
       "      <td>1</td>\n",
       "      <td>0</td>\n",
       "      <td>0</td>\n",
       "      <td>7.9250</td>\n",
       "      <td>1</td>\n",
       "      <td>0</td>\n",
       "      <td>0</td>\n",
       "      <td>0</td>\n",
       "      <td>1</td>\n",
       "      <td>...</td>\n",
       "      <td>0</td>\n",
       "      <td>1</td>\n",
       "      <td>0</td>\n",
       "      <td>0</td>\n",
       "      <td>1</td>\n",
       "      <td>0</td>\n",
       "      <td>0</td>\n",
       "      <td>0</td>\n",
       "      <td>0</td>\n",
       "      <td>0</td>\n",
       "    </tr>\n",
       "    <tr>\n",
       "      <th>3</th>\n",
       "      <td>4</td>\n",
       "      <td>1</td>\n",
       "      <td>1</td>\n",
       "      <td>0</td>\n",
       "      <td>53.1000</td>\n",
       "      <td>1</td>\n",
       "      <td>0</td>\n",
       "      <td>0</td>\n",
       "      <td>0</td>\n",
       "      <td>1</td>\n",
       "      <td>...</td>\n",
       "      <td>0</td>\n",
       "      <td>0</td>\n",
       "      <td>0</td>\n",
       "      <td>0</td>\n",
       "      <td>0</td>\n",
       "      <td>1</td>\n",
       "      <td>0</td>\n",
       "      <td>0</td>\n",
       "      <td>0</td>\n",
       "      <td>0</td>\n",
       "    </tr>\n",
       "    <tr>\n",
       "      <th>4</th>\n",
       "      <td>5</td>\n",
       "      <td>0</td>\n",
       "      <td>0</td>\n",
       "      <td>0</td>\n",
       "      <td>8.0500</td>\n",
       "      <td>0</td>\n",
       "      <td>1</td>\n",
       "      <td>0</td>\n",
       "      <td>0</td>\n",
       "      <td>1</td>\n",
       "      <td>...</td>\n",
       "      <td>0</td>\n",
       "      <td>1</td>\n",
       "      <td>0</td>\n",
       "      <td>0</td>\n",
       "      <td>0</td>\n",
       "      <td>1</td>\n",
       "      <td>0</td>\n",
       "      <td>0</td>\n",
       "      <td>0</td>\n",
       "      <td>0</td>\n",
       "    </tr>\n",
       "  </tbody>\n",
       "</table>\n",
       "<p>5 rows × 22 columns</p>\n",
       "</div>"
      ],
      "text/plain": [
       "   PassengerId  Survived  SibSp  Parch     Fare  Sex_female  Sex_male  \\\n",
       "0            1         0      1      0   7.2500           0         1   \n",
       "1            2         1      1      0  71.2833           1         0   \n",
       "2            3         1      0      0   7.9250           1         0   \n",
       "3            4         1      1      0  53.1000           1         0   \n",
       "4            5         0      0      0   8.0500           0         1   \n",
       "\n",
       "   Embarked_C  Embarked_Q  Embarked_S  ...  Pclass_2  Pclass_3  \\\n",
       "0           0           0           1  ...         0         1   \n",
       "1           1           0           0  ...         0         0   \n",
       "2           0           0           1  ...         0         1   \n",
       "3           0           0           1  ...         0         0   \n",
       "4           0           0           1  ...         0         1   \n",
       "\n",
       "   Categorized_age_(0, 10]  Categorized_age_(10, 20]  \\\n",
       "0                        0                         0   \n",
       "1                        0                         0   \n",
       "2                        0                         0   \n",
       "3                        0                         0   \n",
       "4                        0                         0   \n",
       "\n",
       "   Categorized_age_(20, 30]  Categorized_age_(30, 40]  \\\n",
       "0                         1                         0   \n",
       "1                         0                         1   \n",
       "2                         1                         0   \n",
       "3                         0                         1   \n",
       "4                         0                         1   \n",
       "\n",
       "   Categorized_age_(40, 50]  Categorized_age_(50, 60]  \\\n",
       "0                         0                         0   \n",
       "1                         0                         0   \n",
       "2                         0                         0   \n",
       "3                         0                         0   \n",
       "4                         0                         0   \n",
       "\n",
       "   Categorized_age_(60, 70]  Categorized_age_(70, 80]  \n",
       "0                         0                         0  \n",
       "1                         0                         0  \n",
       "2                         0                         0  \n",
       "3                         0                         0  \n",
       "4                         0                         0  \n",
       "\n",
       "[5 rows x 22 columns]"
      ]
     },
     "execution_count": 47,
     "metadata": {},
     "output_type": "execute_result"
    }
   ],
   "source": [
    "df_train.head()"
   ]
  },
  {
   "cell_type": "code",
   "execution_count": 48,
   "id": "f481fc20",
   "metadata": {
    "execution": {
     "iopub.execute_input": "2022-05-26T09:38:53.905171Z",
     "iopub.status.busy": "2022-05-26T09:38:53.904350Z",
     "iopub.status.idle": "2022-05-26T09:38:53.917703Z",
     "shell.execute_reply": "2022-05-26T09:38:53.918523Z",
     "shell.execute_reply.started": "2022-05-26T09:27:28.340731Z"
    },
    "papermill": {
     "duration": 0.103697,
     "end_time": "2022-05-26T09:38:53.918774",
     "exception": false,
     "start_time": "2022-05-26T09:38:53.815077",
     "status": "completed"
    },
    "tags": []
   },
   "outputs": [
    {
     "name": "stdout",
     "output_type": "stream",
     "text": [
      "<class 'pandas.core.frame.DataFrame'>\n",
      "RangeIndex: 891 entries, 0 to 890\n",
      "Data columns (total 22 columns):\n",
      " #   Column                    Non-Null Count  Dtype  \n",
      "---  ------                    --------------  -----  \n",
      " 0   PassengerId               891 non-null    int64  \n",
      " 1   Survived                  891 non-null    int64  \n",
      " 2   SibSp                     891 non-null    int64  \n",
      " 3   Parch                     891 non-null    int64  \n",
      " 4   Fare                      891 non-null    float64\n",
      " 5   Sex_female                891 non-null    uint8  \n",
      " 6   Sex_male                  891 non-null    uint8  \n",
      " 7   Embarked_C                891 non-null    uint8  \n",
      " 8   Embarked_Q                891 non-null    uint8  \n",
      " 9   Embarked_S                891 non-null    uint8  \n",
      " 10  Embarked_U                891 non-null    uint8  \n",
      " 11  Pclass_1                  891 non-null    uint8  \n",
      " 12  Pclass_2                  891 non-null    uint8  \n",
      " 13  Pclass_3                  891 non-null    uint8  \n",
      " 14  Categorized_age_(0, 10]   891 non-null    uint8  \n",
      " 15  Categorized_age_(10, 20]  891 non-null    uint8  \n",
      " 16  Categorized_age_(20, 30]  891 non-null    uint8  \n",
      " 17  Categorized_age_(30, 40]  891 non-null    uint8  \n",
      " 18  Categorized_age_(40, 50]  891 non-null    uint8  \n",
      " 19  Categorized_age_(50, 60]  891 non-null    uint8  \n",
      " 20  Categorized_age_(60, 70]  891 non-null    uint8  \n",
      " 21  Categorized_age_(70, 80]  891 non-null    uint8  \n",
      "dtypes: float64(1), int64(4), uint8(17)\n",
      "memory usage: 49.7 KB\n"
     ]
    }
   ],
   "source": [
    "df_train.info()"
   ]
  },
  {
   "cell_type": "markdown",
   "id": "37655ce4",
   "metadata": {
    "papermill": {
     "duration": 0.08901,
     "end_time": "2022-05-26T09:38:54.097024",
     "exception": false,
     "start_time": "2022-05-26T09:38:54.008014",
     "status": "completed"
    },
    "tags": []
   },
   "source": [
    "## Training models"
   ]
  },
  {
   "cell_type": "code",
   "execution_count": 49,
   "id": "54b22134",
   "metadata": {
    "execution": {
     "iopub.execute_input": "2022-05-26T09:38:54.277872Z",
     "iopub.status.busy": "2022-05-26T09:38:54.277200Z",
     "iopub.status.idle": "2022-05-26T09:38:54.279402Z",
     "shell.execute_reply": "2022-05-26T09:38:54.280043Z",
     "shell.execute_reply.started": "2022-05-26T09:27:28.357459Z"
    },
    "papermill": {
     "duration": 0.09493,
     "end_time": "2022-05-26T09:38:54.280226",
     "exception": false,
     "start_time": "2022-05-26T09:38:54.185296",
     "status": "completed"
    },
    "tags": []
   },
   "outputs": [],
   "source": [
    "# separate the features from the labels\n",
    "features = df_train.drop([\"Survived\"], axis=1)\n",
    "labels = df_train[\"Survived\"]"
   ]
  },
  {
   "cell_type": "code",
   "execution_count": 50,
   "id": "ac8e1a29",
   "metadata": {
    "execution": {
     "iopub.execute_input": "2022-05-26T09:38:54.458131Z",
     "iopub.status.busy": "2022-05-26T09:38:54.457435Z",
     "iopub.status.idle": "2022-05-26T09:38:54.646565Z",
     "shell.execute_reply": "2022-05-26T09:38:54.647143Z",
     "shell.execute_reply.started": "2022-05-26T09:27:28.368860Z"
    },
    "papermill": {
     "duration": 0.280054,
     "end_time": "2022-05-26T09:38:54.647332",
     "exception": false,
     "start_time": "2022-05-26T09:38:54.367278",
     "status": "completed"
    },
    "tags": []
   },
   "outputs": [],
   "source": [
    "from sklearn.model_selection import train_test_split"
   ]
  },
  {
   "cell_type": "code",
   "execution_count": 51,
   "id": "42abd5c1",
   "metadata": {
    "execution": {
     "iopub.execute_input": "2022-05-26T09:38:54.827191Z",
     "iopub.status.busy": "2022-05-26T09:38:54.826491Z",
     "iopub.status.idle": "2022-05-26T09:38:54.834318Z",
     "shell.execute_reply": "2022-05-26T09:38:54.834875Z",
     "shell.execute_reply.started": "2022-05-26T09:27:28.376718Z"
    },
    "papermill": {
     "duration": 0.099734,
     "end_time": "2022-05-26T09:38:54.835056",
     "exception": false,
     "start_time": "2022-05-26T09:38:54.735322",
     "status": "completed"
    },
    "tags": []
   },
   "outputs": [],
   "source": [
    "# 60% training, 20% validation, and 20% testing\n",
    "# fix random_state to make sure we always get the same split\n",
    "features_train, features_validation_test, labels_train, labels_validation_test = train_test_split(\n",
    "    features, labels, test_size=0.4, random_state=100)"
   ]
  },
  {
   "cell_type": "code",
   "execution_count": 52,
   "id": "1ad0ccaa",
   "metadata": {
    "execution": {
     "iopub.execute_input": "2022-05-26T09:38:55.016386Z",
     "iopub.status.busy": "2022-05-26T09:38:55.015352Z",
     "iopub.status.idle": "2022-05-26T09:38:55.021560Z",
     "shell.execute_reply": "2022-05-26T09:38:55.022070Z",
     "shell.execute_reply.started": "2022-05-26T09:27:28.390887Z"
    },
    "papermill": {
     "duration": 0.098033,
     "end_time": "2022-05-26T09:38:55.022256",
     "exception": false,
     "start_time": "2022-05-26T09:38:54.924223",
     "status": "completed"
    },
    "tags": []
   },
   "outputs": [],
   "source": [
    "# we need to perform the operation twice\n",
    "features_validation, features_test, labels_validation, labels_test = train_test_split(\n",
    "    features_validation_test, labels_validation_test, test_size=0.5, random_state=100)"
   ]
  },
  {
   "cell_type": "markdown",
   "id": "f553bebd",
   "metadata": {
    "papermill": {
     "duration": 0.089452,
     "end_time": "2022-05-26T09:38:55.202409",
     "exception": false,
     "start_time": "2022-05-26T09:38:55.112957",
     "status": "completed"
    },
    "tags": []
   },
   "source": [
    "### Training different models"
   ]
  },
  {
   "cell_type": "markdown",
   "id": "c78b8c34",
   "metadata": {
    "papermill": {
     "duration": 0.086571,
     "end_time": "2022-05-26T09:38:55.376047",
     "exception": false,
     "start_time": "2022-05-26T09:38:55.289476",
     "status": "completed"
    },
    "tags": []
   },
   "source": [
    "**Logistic regression**\n",
    "\n",
    "**Decision tree**\n",
    "\n",
    "**Naive Bayes**\n",
    "\n",
    "**Support vector machine (SVM)**"
   ]
  },
  {
   "cell_type": "code",
   "execution_count": 53,
   "id": "b018ad12",
   "metadata": {
    "execution": {
     "iopub.execute_input": "2022-05-26T09:38:55.554355Z",
     "iopub.status.busy": "2022-05-26T09:38:55.553295Z",
     "iopub.status.idle": "2022-05-26T09:38:56.022172Z",
     "shell.execute_reply": "2022-05-26T09:38:56.023182Z",
     "shell.execute_reply.started": "2022-05-26T09:27:28.404582Z"
    },
    "papermill": {
     "duration": 0.559956,
     "end_time": "2022-05-26T09:38:56.023483",
     "exception": false,
     "start_time": "2022-05-26T09:38:55.463527",
     "status": "completed"
    },
    "tags": []
   },
   "outputs": [
    {
     "data": {
      "text/plain": [
       "LogisticRegression(max_iter=1000)"
      ]
     },
     "execution_count": 53,
     "metadata": {},
     "output_type": "execute_result"
    }
   ],
   "source": [
    "from sklearn.linear_model import LogisticRegression\n",
    "from sklearn.tree import DecisionTreeClassifier\n",
    "from sklearn.naive_bayes import GaussianNB\n",
    "from sklearn.svm import SVC\n",
    "from sklearn.ensemble import RandomForestClassifier\n",
    "from sklearn.ensemble import GradientBoostingClassifier\n",
    "from sklearn.ensemble import AdaBoostClassifier\n",
    "\n",
    "lr_model = LogisticRegression(max_iter=1000,solver='lbfgs')\n",
    "lr_model.fit(features_train, labels_train)"
   ]
  },
  {
   "cell_type": "code",
   "execution_count": 54,
   "id": "83912e72",
   "metadata": {
    "execution": {
     "iopub.execute_input": "2022-05-26T09:38:56.283191Z",
     "iopub.status.busy": "2022-05-26T09:38:56.282210Z",
     "iopub.status.idle": "2022-05-26T09:38:56.291156Z",
     "shell.execute_reply": "2022-05-26T09:38:56.291730Z",
     "shell.execute_reply.started": "2022-05-26T09:27:28.632373Z"
    },
    "papermill": {
     "duration": 0.127474,
     "end_time": "2022-05-26T09:38:56.291950",
     "exception": false,
     "start_time": "2022-05-26T09:38:56.164476",
     "status": "completed"
    },
    "tags": []
   },
   "outputs": [
    {
     "data": {
      "text/plain": [
       "DecisionTreeClassifier()"
      ]
     },
     "execution_count": 54,
     "metadata": {},
     "output_type": "execute_result"
    }
   ],
   "source": [
    "dt_model = DecisionTreeClassifier()\n",
    "dt_model.fit(features_train, labels_train)"
   ]
  },
  {
   "cell_type": "code",
   "execution_count": 55,
   "id": "beb13d9c",
   "metadata": {
    "execution": {
     "iopub.execute_input": "2022-05-26T09:38:56.489334Z",
     "iopub.status.busy": "2022-05-26T09:38:56.488329Z",
     "iopub.status.idle": "2022-05-26T09:38:56.499051Z",
     "shell.execute_reply": "2022-05-26T09:38:56.499605Z",
     "shell.execute_reply.started": "2022-05-26T09:27:28.650852Z"
    },
    "papermill": {
     "duration": 0.114713,
     "end_time": "2022-05-26T09:38:56.499779",
     "exception": false,
     "start_time": "2022-05-26T09:38:56.385066",
     "status": "completed"
    },
    "tags": []
   },
   "outputs": [
    {
     "data": {
      "text/plain": [
       "GaussianNB()"
      ]
     },
     "execution_count": 55,
     "metadata": {},
     "output_type": "execute_result"
    }
   ],
   "source": [
    "nb_model = GaussianNB()\n",
    "nb_model.fit(features_train, labels_train)"
   ]
  },
  {
   "cell_type": "code",
   "execution_count": 56,
   "id": "ae19c96c",
   "metadata": {
    "execution": {
     "iopub.execute_input": "2022-05-26T09:38:56.710617Z",
     "iopub.status.busy": "2022-05-26T09:38:56.709590Z",
     "iopub.status.idle": "2022-05-26T09:38:56.727292Z",
     "shell.execute_reply": "2022-05-26T09:38:56.727872Z",
     "shell.execute_reply.started": "2022-05-26T09:27:28.664474Z"
    },
    "papermill": {
     "duration": 0.113896,
     "end_time": "2022-05-26T09:38:56.728051",
     "exception": false,
     "start_time": "2022-05-26T09:38:56.614155",
     "status": "completed"
    },
    "tags": []
   },
   "outputs": [
    {
     "data": {
      "text/plain": [
       "SVC()"
      ]
     },
     "execution_count": 56,
     "metadata": {},
     "output_type": "execute_result"
    }
   ],
   "source": [
    "svm_model = SVC()\n",
    "svm_model.fit(features_train, labels_train)"
   ]
  },
  {
   "cell_type": "code",
   "execution_count": 57,
   "id": "e19df1da",
   "metadata": {
    "execution": {
     "iopub.execute_input": "2022-05-26T09:38:56.909395Z",
     "iopub.status.busy": "2022-05-26T09:38:56.908388Z",
     "iopub.status.idle": "2022-05-26T09:38:57.137450Z",
     "shell.execute_reply": "2022-05-26T09:38:57.137957Z",
     "shell.execute_reply.started": "2022-05-26T09:27:28.702641Z"
    },
    "papermill": {
     "duration": 0.321566,
     "end_time": "2022-05-26T09:38:57.138150",
     "exception": false,
     "start_time": "2022-05-26T09:38:56.816584",
     "status": "completed"
    },
    "tags": []
   },
   "outputs": [
    {
     "data": {
      "text/plain": [
       "RandomForestClassifier()"
      ]
     },
     "execution_count": 57,
     "metadata": {},
     "output_type": "execute_result"
    }
   ],
   "source": [
    "rf_model = RandomForestClassifier()\n",
    "rf_model.fit(features_train, labels_train)"
   ]
  },
  {
   "cell_type": "code",
   "execution_count": 58,
   "id": "0af03fa5",
   "metadata": {
    "execution": {
     "iopub.execute_input": "2022-05-26T09:38:57.319732Z",
     "iopub.status.busy": "2022-05-26T09:38:57.319095Z",
     "iopub.status.idle": "2022-05-26T09:38:57.448024Z",
     "shell.execute_reply": "2022-05-26T09:38:57.447458Z",
     "shell.execute_reply.started": "2022-05-26T09:27:28.900762Z"
    },
    "papermill": {
     "duration": 0.220446,
     "end_time": "2022-05-26T09:38:57.448171",
     "exception": false,
     "start_time": "2022-05-26T09:38:57.227725",
     "status": "completed"
    },
    "tags": []
   },
   "outputs": [
    {
     "data": {
      "text/plain": [
       "GradientBoostingClassifier()"
      ]
     },
     "execution_count": 58,
     "metadata": {},
     "output_type": "execute_result"
    }
   ],
   "source": [
    "gb_model = GradientBoostingClassifier()\n",
    "gb_model.fit(features_train, labels_train)"
   ]
  },
  {
   "cell_type": "code",
   "execution_count": 59,
   "id": "00385407",
   "metadata": {
    "execution": {
     "iopub.execute_input": "2022-05-26T09:38:57.630085Z",
     "iopub.status.busy": "2022-05-26T09:38:57.629426Z",
     "iopub.status.idle": "2022-05-26T09:38:57.734817Z",
     "shell.execute_reply": "2022-05-26T09:38:57.735444Z",
     "shell.execute_reply.started": "2022-05-26T09:27:29.022789Z"
    },
    "papermill": {
     "duration": 0.198083,
     "end_time": "2022-05-26T09:38:57.735621",
     "exception": false,
     "start_time": "2022-05-26T09:38:57.537538",
     "status": "completed"
    },
    "tags": []
   },
   "outputs": [
    {
     "data": {
      "text/plain": [
       "AdaBoostClassifier()"
      ]
     },
     "execution_count": 59,
     "metadata": {},
     "output_type": "execute_result"
    }
   ],
   "source": [
    "ab_model = AdaBoostClassifier()\n",
    "ab_model.fit(features_train, labels_train)"
   ]
  },
  {
   "cell_type": "markdown",
   "id": "ca90e72f",
   "metadata": {
    "papermill": {
     "duration": 0.088525,
     "end_time": "2022-05-26T09:38:57.914579",
     "exception": false,
     "start_time": "2022-05-26T09:38:57.826054",
     "status": "completed"
    },
    "tags": []
   },
   "source": [
    "## Evaluating models"
   ]
  },
  {
   "cell_type": "markdown",
   "id": "fba8eea8",
   "metadata": {
    "papermill": {
     "duration": 0.089882,
     "end_time": "2022-05-26T09:38:58.094799",
     "exception": false,
     "start_time": "2022-05-26T09:38:58.004917",
     "status": "completed"
    },
    "tags": []
   },
   "source": [
    "### Accuracy"
   ]
  },
  {
   "cell_type": "code",
   "execution_count": 60,
   "id": "799b5af8",
   "metadata": {
    "execution": {
     "iopub.execute_input": "2022-05-26T09:38:58.283738Z",
     "iopub.status.busy": "2022-05-26T09:38:58.283081Z",
     "iopub.status.idle": "2022-05-26T09:38:58.326013Z",
     "shell.execute_reply": "2022-05-26T09:38:58.326548Z",
     "shell.execute_reply.started": "2022-05-26T09:27:29.117312Z"
    },
    "papermill": {
     "duration": 0.142741,
     "end_time": "2022-05-26T09:38:58.326724",
     "exception": false,
     "start_time": "2022-05-26T09:38:58.183983",
     "status": "completed"
    },
    "scrolled": true,
    "tags": []
   },
   "outputs": [
    {
     "name": "stdout",
     "output_type": "stream",
     "text": [
      "Scores of the models\n",
      "Logistic regression: 0.7696629213483146\n",
      "Decision tree: 0.7359550561797753\n",
      "Naive Bayes: 0.7471910112359551\n",
      "SVM: 0.6235955056179775\n",
      "Random forest: 0.7865168539325843\n",
      "Gradient boosting: 0.797752808988764\n",
      "AdaBoost: 0.7584269662921348\n"
     ]
    }
   ],
   "source": [
    "print(\"Scores of the models\")\n",
    "print(\"Logistic regression:\", lr_model.score(features_validation, labels_validation))\n",
    "print(\"Decision tree:\", dt_model.score(features_validation, labels_validation))\n",
    "print(\"Naive Bayes:\", nb_model.score(features_validation, labels_validation))\n",
    "print(\"SVM:\", svm_model.score(features_validation, labels_validation))\n",
    "print(\"Random forest:\", rf_model.score(features_validation, labels_validation))\n",
    "print(\"Gradient boosting:\", gb_model.score(features_validation, labels_validation))\n",
    "print(\"AdaBoost:\", ab_model.score(features_validation, labels_validation))"
   ]
  },
  {
   "cell_type": "markdown",
   "id": "21eff869",
   "metadata": {
    "papermill": {
     "duration": 0.089037,
     "end_time": "2022-05-26T09:38:58.505353",
     "exception": false,
     "start_time": "2022-05-26T09:38:58.416316",
     "status": "completed"
    },
    "tags": []
   },
   "source": [
    "**Gradient boosting is the winner with 80.0% of accuracy**"
   ]
  },
  {
   "cell_type": "markdown",
   "id": "ab4da26a",
   "metadata": {
    "papermill": {
     "duration": 0.08979,
     "end_time": "2022-05-26T09:38:58.686137",
     "exception": false,
     "start_time": "2022-05-26T09:38:58.596347",
     "status": "completed"
    },
    "tags": []
   },
   "source": [
    "## Clean test dataset"
   ]
  },
  {
   "cell_type": "markdown",
   "id": "280fcc01",
   "metadata": {
    "papermill": {
     "duration": 0.089477,
     "end_time": "2022-05-26T09:38:58.864727",
     "exception": false,
     "start_time": "2022-05-26T09:38:58.775250",
     "status": "completed"
    },
    "tags": []
   },
   "source": [
    "**This is a file with more passengers on the Titanic, except it doesn’t have the Survived column.**\n",
    "**Basically we redo the same operations that the training dataset, but we need to check the values to see if there are some differences**"
   ]
  },
  {
   "cell_type": "code",
   "execution_count": 61,
   "id": "d0cf35bc",
   "metadata": {
    "execution": {
     "iopub.execute_input": "2022-05-26T09:38:59.050946Z",
     "iopub.status.busy": "2022-05-26T09:38:59.050265Z",
     "iopub.status.idle": "2022-05-26T09:38:59.060245Z",
     "shell.execute_reply": "2022-05-26T09:38:59.060780Z",
     "shell.execute_reply.started": "2022-05-26T09:27:29.167179Z"
    },
    "papermill": {
     "duration": 0.104583,
     "end_time": "2022-05-26T09:38:59.060975",
     "exception": false,
     "start_time": "2022-05-26T09:38:58.956392",
     "status": "completed"
    },
    "tags": []
   },
   "outputs": [],
   "source": [
    "df_test = pd.read_csv('/kaggle/input/titanic/test.csv')"
   ]
  },
  {
   "cell_type": "code",
   "execution_count": 62,
   "id": "c4857d6a",
   "metadata": {
    "execution": {
     "iopub.execute_input": "2022-05-26T09:38:59.245539Z",
     "iopub.status.busy": "2022-05-26T09:38:59.244819Z",
     "iopub.status.idle": "2022-05-26T09:38:59.252616Z",
     "shell.execute_reply": "2022-05-26T09:38:59.253199Z",
     "shell.execute_reply.started": "2022-05-26T09:27:29.177966Z"
    },
    "papermill": {
     "duration": 0.100389,
     "end_time": "2022-05-26T09:38:59.253368",
     "exception": false,
     "start_time": "2022-05-26T09:38:59.152979",
     "status": "completed"
    },
    "tags": []
   },
   "outputs": [
    {
     "data": {
      "text/plain": [
       "PassengerId      0\n",
       "Pclass           0\n",
       "Name             0\n",
       "Sex              0\n",
       "Age             86\n",
       "SibSp            0\n",
       "Parch            0\n",
       "Ticket           0\n",
       "Fare             1\n",
       "Cabin          327\n",
       "Embarked         0\n",
       "dtype: int64"
      ]
     },
     "execution_count": 62,
     "metadata": {},
     "output_type": "execute_result"
    }
   ],
   "source": [
    "# Check empty values\n",
    "df_test.isnull().sum()"
   ]
  },
  {
   "cell_type": "markdown",
   "id": "1eb7b2b7",
   "metadata": {
    "papermill": {
     "duration": 0.088799,
     "end_time": "2022-05-26T09:38:59.431754",
     "exception": false,
     "start_time": "2022-05-26T09:38:59.342955",
     "status": "completed"
    },
    "tags": []
   },
   "source": [
    "### Cleaning data"
   ]
  },
  {
   "cell_type": "code",
   "execution_count": 63,
   "id": "964e93ba",
   "metadata": {
    "execution": {
     "iopub.execute_input": "2022-05-26T09:38:59.616162Z",
     "iopub.status.busy": "2022-05-26T09:38:59.615494Z",
     "iopub.status.idle": "2022-05-26T09:38:59.619577Z",
     "shell.execute_reply": "2022-05-26T09:38:59.620109Z",
     "shell.execute_reply.started": "2022-05-26T09:27:29.193147Z"
    },
    "papermill": {
     "duration": 0.098863,
     "end_time": "2022-05-26T09:38:59.620282",
     "exception": false,
     "start_time": "2022-05-26T09:38:59.521419",
     "status": "completed"
    },
    "tags": []
   },
   "outputs": [],
   "source": [
    "# One Fare is messing, we're gonna replace it with the Fare's mean\n",
    "fare_mean = df_test.Fare.mean()\n",
    "fare_mean\n",
    "df_test.Fare = df_test.Fare.fillna(fare_mean)"
   ]
  },
  {
   "cell_type": "code",
   "execution_count": 64,
   "id": "54f11f1e",
   "metadata": {
    "execution": {
     "iopub.execute_input": "2022-05-26T09:38:59.801949Z",
     "iopub.status.busy": "2022-05-26T09:38:59.801256Z",
     "iopub.status.idle": "2022-05-26T09:38:59.809190Z",
     "shell.execute_reply": "2022-05-26T09:38:59.809726Z",
     "shell.execute_reply.started": "2022-05-26T09:27:29.207260Z"
    },
    "papermill": {
     "duration": 0.100254,
     "end_time": "2022-05-26T09:38:59.809913",
     "exception": false,
     "start_time": "2022-05-26T09:38:59.709659",
     "status": "completed"
    },
    "tags": []
   },
   "outputs": [
    {
     "data": {
      "text/plain": [
       "PassengerId      0\n",
       "Pclass           0\n",
       "Name             0\n",
       "Sex              0\n",
       "Age             86\n",
       "SibSp            0\n",
       "Parch            0\n",
       "Ticket           0\n",
       "Fare             0\n",
       "Cabin          327\n",
       "Embarked         0\n",
       "dtype: int64"
      ]
     },
     "execution_count": 64,
     "metadata": {},
     "output_type": "execute_result"
    }
   ],
   "source": [
    "df_test.isnull().sum()"
   ]
  },
  {
   "cell_type": "code",
   "execution_count": 65,
   "id": "2d91ed92",
   "metadata": {
    "execution": {
     "iopub.execute_input": "2022-05-26T09:38:59.991540Z",
     "iopub.status.busy": "2022-05-26T09:38:59.990877Z",
     "iopub.status.idle": "2022-05-26T09:39:00.006746Z",
     "shell.execute_reply": "2022-05-26T09:39:00.007282Z",
     "shell.execute_reply.started": "2022-05-26T09:27:29.223859Z"
    },
    "papermill": {
     "duration": 0.108025,
     "end_time": "2022-05-26T09:39:00.007456",
     "exception": false,
     "start_time": "2022-05-26T09:38:59.899431",
     "status": "completed"
    },
    "tags": []
   },
   "outputs": [
    {
     "data": {
      "text/html": [
       "<div>\n",
       "<style scoped>\n",
       "    .dataframe tbody tr th:only-of-type {\n",
       "        vertical-align: middle;\n",
       "    }\n",
       "\n",
       "    .dataframe tbody tr th {\n",
       "        vertical-align: top;\n",
       "    }\n",
       "\n",
       "    .dataframe thead th {\n",
       "        text-align: right;\n",
       "    }\n",
       "</style>\n",
       "<table border=\"1\" class=\"dataframe\">\n",
       "  <thead>\n",
       "    <tr style=\"text-align: right;\">\n",
       "      <th></th>\n",
       "      <th>PassengerId</th>\n",
       "      <th>Pclass</th>\n",
       "      <th>Name</th>\n",
       "      <th>Sex</th>\n",
       "      <th>Age</th>\n",
       "      <th>SibSp</th>\n",
       "      <th>Parch</th>\n",
       "      <th>Ticket</th>\n",
       "      <th>Fare</th>\n",
       "      <th>Embarked</th>\n",
       "    </tr>\n",
       "  </thead>\n",
       "  <tbody>\n",
       "    <tr>\n",
       "      <th>0</th>\n",
       "      <td>892</td>\n",
       "      <td>3</td>\n",
       "      <td>Kelly, Mr. James</td>\n",
       "      <td>male</td>\n",
       "      <td>34.5</td>\n",
       "      <td>0</td>\n",
       "      <td>0</td>\n",
       "      <td>330911</td>\n",
       "      <td>7.8292</td>\n",
       "      <td>Q</td>\n",
       "    </tr>\n",
       "    <tr>\n",
       "      <th>1</th>\n",
       "      <td>893</td>\n",
       "      <td>3</td>\n",
       "      <td>Wilkes, Mrs. James (Ellen Needs)</td>\n",
       "      <td>female</td>\n",
       "      <td>47.0</td>\n",
       "      <td>1</td>\n",
       "      <td>0</td>\n",
       "      <td>363272</td>\n",
       "      <td>7.0000</td>\n",
       "      <td>S</td>\n",
       "    </tr>\n",
       "    <tr>\n",
       "      <th>2</th>\n",
       "      <td>894</td>\n",
       "      <td>2</td>\n",
       "      <td>Myles, Mr. Thomas Francis</td>\n",
       "      <td>male</td>\n",
       "      <td>62.0</td>\n",
       "      <td>0</td>\n",
       "      <td>0</td>\n",
       "      <td>240276</td>\n",
       "      <td>9.6875</td>\n",
       "      <td>Q</td>\n",
       "    </tr>\n",
       "    <tr>\n",
       "      <th>3</th>\n",
       "      <td>895</td>\n",
       "      <td>3</td>\n",
       "      <td>Wirz, Mr. Albert</td>\n",
       "      <td>male</td>\n",
       "      <td>27.0</td>\n",
       "      <td>0</td>\n",
       "      <td>0</td>\n",
       "      <td>315154</td>\n",
       "      <td>8.6625</td>\n",
       "      <td>S</td>\n",
       "    </tr>\n",
       "    <tr>\n",
       "      <th>4</th>\n",
       "      <td>896</td>\n",
       "      <td>3</td>\n",
       "      <td>Hirvonen, Mrs. Alexander (Helga E Lindqvist)</td>\n",
       "      <td>female</td>\n",
       "      <td>22.0</td>\n",
       "      <td>1</td>\n",
       "      <td>1</td>\n",
       "      <td>3101298</td>\n",
       "      <td>12.2875</td>\n",
       "      <td>S</td>\n",
       "    </tr>\n",
       "  </tbody>\n",
       "</table>\n",
       "</div>"
      ],
      "text/plain": [
       "   PassengerId  Pclass                                          Name     Sex  \\\n",
       "0          892       3                              Kelly, Mr. James    male   \n",
       "1          893       3              Wilkes, Mrs. James (Ellen Needs)  female   \n",
       "2          894       2                     Myles, Mr. Thomas Francis    male   \n",
       "3          895       3                              Wirz, Mr. Albert    male   \n",
       "4          896       3  Hirvonen, Mrs. Alexander (Helga E Lindqvist)  female   \n",
       "\n",
       "    Age  SibSp  Parch   Ticket     Fare Embarked  \n",
       "0  34.5      0      0   330911   7.8292        Q  \n",
       "1  47.0      1      0   363272   7.0000        S  \n",
       "2  62.0      0      0   240276   9.6875        Q  \n",
       "3  27.0      0      0   315154   8.6625        S  \n",
       "4  22.0      1      1  3101298  12.2875        S  "
      ]
     },
     "execution_count": 65,
     "metadata": {},
     "output_type": "execute_result"
    }
   ],
   "source": [
    "# Drop Cabin and fill Age with the median previously found\n",
    "df_test = df_test.drop(['Cabin'], axis=1)\n",
    "df_test.Age = df_test.Age.fillna(28.0)\n",
    "df_test.head()"
   ]
  },
  {
   "cell_type": "markdown",
   "id": "d84c46f0",
   "metadata": {
    "papermill": {
     "duration": 0.092266,
     "end_time": "2022-05-26T09:39:00.190020",
     "exception": false,
     "start_time": "2022-05-26T09:39:00.097754",
     "status": "completed"
    },
    "tags": []
   },
   "source": [
    "### Feature engineering"
   ]
  },
  {
   "cell_type": "code",
   "execution_count": 66,
   "id": "3854a763",
   "metadata": {
    "execution": {
     "iopub.execute_input": "2022-05-26T09:39:00.376058Z",
     "iopub.status.busy": "2022-05-26T09:39:00.375384Z",
     "iopub.status.idle": "2022-05-26T09:39:00.422624Z",
     "shell.execute_reply": "2022-05-26T09:39:00.423175Z",
     "shell.execute_reply.started": "2022-05-26T09:27:29.248789Z"
    },
    "papermill": {
     "duration": 0.14161,
     "end_time": "2022-05-26T09:39:00.423344",
     "exception": false,
     "start_time": "2022-05-26T09:39:00.281734",
     "status": "completed"
    },
    "tags": []
   },
   "outputs": [
    {
     "data": {
      "text/html": [
       "<div>\n",
       "<style scoped>\n",
       "    .dataframe tbody tr th:only-of-type {\n",
       "        vertical-align: middle;\n",
       "    }\n",
       "\n",
       "    .dataframe tbody tr th {\n",
       "        vertical-align: top;\n",
       "    }\n",
       "\n",
       "    .dataframe thead th {\n",
       "        text-align: right;\n",
       "    }\n",
       "</style>\n",
       "<table border=\"1\" class=\"dataframe\">\n",
       "  <thead>\n",
       "    <tr style=\"text-align: right;\">\n",
       "      <th></th>\n",
       "      <th>PassengerId</th>\n",
       "      <th>SibSp</th>\n",
       "      <th>Parch</th>\n",
       "      <th>Fare</th>\n",
       "      <th>Sex_female</th>\n",
       "      <th>Sex_male</th>\n",
       "      <th>Embarked_C</th>\n",
       "      <th>Embarked_Q</th>\n",
       "      <th>Embarked_S</th>\n",
       "      <th>Embarked_U</th>\n",
       "      <th>...</th>\n",
       "      <th>Pclass_2</th>\n",
       "      <th>Pclass_3</th>\n",
       "      <th>Categorized_age_(0, 10]</th>\n",
       "      <th>Categorized_age_(10, 20]</th>\n",
       "      <th>Categorized_age_(20, 30]</th>\n",
       "      <th>Categorized_age_(30, 40]</th>\n",
       "      <th>Categorized_age_(40, 50]</th>\n",
       "      <th>Categorized_age_(50, 60]</th>\n",
       "      <th>Categorized_age_(60, 70]</th>\n",
       "      <th>Categorized_age_(70, 80]</th>\n",
       "    </tr>\n",
       "  </thead>\n",
       "  <tbody>\n",
       "    <tr>\n",
       "      <th>0</th>\n",
       "      <td>892</td>\n",
       "      <td>0</td>\n",
       "      <td>0</td>\n",
       "      <td>7.8292</td>\n",
       "      <td>0</td>\n",
       "      <td>1</td>\n",
       "      <td>0</td>\n",
       "      <td>1</td>\n",
       "      <td>0</td>\n",
       "      <td>0</td>\n",
       "      <td>...</td>\n",
       "      <td>0</td>\n",
       "      <td>1</td>\n",
       "      <td>0</td>\n",
       "      <td>0</td>\n",
       "      <td>1</td>\n",
       "      <td>0</td>\n",
       "      <td>0</td>\n",
       "      <td>0</td>\n",
       "      <td>0</td>\n",
       "      <td>0</td>\n",
       "    </tr>\n",
       "    <tr>\n",
       "      <th>1</th>\n",
       "      <td>893</td>\n",
       "      <td>1</td>\n",
       "      <td>0</td>\n",
       "      <td>7.0000</td>\n",
       "      <td>1</td>\n",
       "      <td>0</td>\n",
       "      <td>0</td>\n",
       "      <td>0</td>\n",
       "      <td>1</td>\n",
       "      <td>0</td>\n",
       "      <td>...</td>\n",
       "      <td>0</td>\n",
       "      <td>1</td>\n",
       "      <td>0</td>\n",
       "      <td>0</td>\n",
       "      <td>0</td>\n",
       "      <td>1</td>\n",
       "      <td>0</td>\n",
       "      <td>0</td>\n",
       "      <td>0</td>\n",
       "      <td>0</td>\n",
       "    </tr>\n",
       "    <tr>\n",
       "      <th>2</th>\n",
       "      <td>894</td>\n",
       "      <td>0</td>\n",
       "      <td>0</td>\n",
       "      <td>9.6875</td>\n",
       "      <td>0</td>\n",
       "      <td>1</td>\n",
       "      <td>0</td>\n",
       "      <td>1</td>\n",
       "      <td>0</td>\n",
       "      <td>0</td>\n",
       "      <td>...</td>\n",
       "      <td>1</td>\n",
       "      <td>0</td>\n",
       "      <td>0</td>\n",
       "      <td>0</td>\n",
       "      <td>1</td>\n",
       "      <td>0</td>\n",
       "      <td>0</td>\n",
       "      <td>0</td>\n",
       "      <td>0</td>\n",
       "      <td>0</td>\n",
       "    </tr>\n",
       "    <tr>\n",
       "      <th>3</th>\n",
       "      <td>895</td>\n",
       "      <td>0</td>\n",
       "      <td>0</td>\n",
       "      <td>8.6625</td>\n",
       "      <td>0</td>\n",
       "      <td>1</td>\n",
       "      <td>0</td>\n",
       "      <td>0</td>\n",
       "      <td>1</td>\n",
       "      <td>0</td>\n",
       "      <td>...</td>\n",
       "      <td>0</td>\n",
       "      <td>1</td>\n",
       "      <td>0</td>\n",
       "      <td>0</td>\n",
       "      <td>0</td>\n",
       "      <td>1</td>\n",
       "      <td>0</td>\n",
       "      <td>0</td>\n",
       "      <td>0</td>\n",
       "      <td>0</td>\n",
       "    </tr>\n",
       "    <tr>\n",
       "      <th>4</th>\n",
       "      <td>896</td>\n",
       "      <td>1</td>\n",
       "      <td>1</td>\n",
       "      <td>12.2875</td>\n",
       "      <td>1</td>\n",
       "      <td>0</td>\n",
       "      <td>0</td>\n",
       "      <td>0</td>\n",
       "      <td>1</td>\n",
       "      <td>0</td>\n",
       "      <td>...</td>\n",
       "      <td>0</td>\n",
       "      <td>1</td>\n",
       "      <td>0</td>\n",
       "      <td>0</td>\n",
       "      <td>0</td>\n",
       "      <td>1</td>\n",
       "      <td>0</td>\n",
       "      <td>0</td>\n",
       "      <td>0</td>\n",
       "      <td>0</td>\n",
       "    </tr>\n",
       "    <tr>\n",
       "      <th>...</th>\n",
       "      <td>...</td>\n",
       "      <td>...</td>\n",
       "      <td>...</td>\n",
       "      <td>...</td>\n",
       "      <td>...</td>\n",
       "      <td>...</td>\n",
       "      <td>...</td>\n",
       "      <td>...</td>\n",
       "      <td>...</td>\n",
       "      <td>...</td>\n",
       "      <td>...</td>\n",
       "      <td>...</td>\n",
       "      <td>...</td>\n",
       "      <td>...</td>\n",
       "      <td>...</td>\n",
       "      <td>...</td>\n",
       "      <td>...</td>\n",
       "      <td>...</td>\n",
       "      <td>...</td>\n",
       "      <td>...</td>\n",
       "      <td>...</td>\n",
       "    </tr>\n",
       "    <tr>\n",
       "      <th>413</th>\n",
       "      <td>1305</td>\n",
       "      <td>0</td>\n",
       "      <td>0</td>\n",
       "      <td>8.0500</td>\n",
       "      <td>0</td>\n",
       "      <td>1</td>\n",
       "      <td>0</td>\n",
       "      <td>0</td>\n",
       "      <td>1</td>\n",
       "      <td>0</td>\n",
       "      <td>...</td>\n",
       "      <td>0</td>\n",
       "      <td>1</td>\n",
       "      <td>0</td>\n",
       "      <td>0</td>\n",
       "      <td>1</td>\n",
       "      <td>0</td>\n",
       "      <td>0</td>\n",
       "      <td>0</td>\n",
       "      <td>0</td>\n",
       "      <td>0</td>\n",
       "    </tr>\n",
       "    <tr>\n",
       "      <th>414</th>\n",
       "      <td>1306</td>\n",
       "      <td>0</td>\n",
       "      <td>0</td>\n",
       "      <td>108.9000</td>\n",
       "      <td>1</td>\n",
       "      <td>0</td>\n",
       "      <td>1</td>\n",
       "      <td>0</td>\n",
       "      <td>0</td>\n",
       "      <td>0</td>\n",
       "      <td>...</td>\n",
       "      <td>0</td>\n",
       "      <td>0</td>\n",
       "      <td>0</td>\n",
       "      <td>0</td>\n",
       "      <td>0</td>\n",
       "      <td>0</td>\n",
       "      <td>1</td>\n",
       "      <td>0</td>\n",
       "      <td>0</td>\n",
       "      <td>0</td>\n",
       "    </tr>\n",
       "    <tr>\n",
       "      <th>415</th>\n",
       "      <td>1307</td>\n",
       "      <td>0</td>\n",
       "      <td>0</td>\n",
       "      <td>7.2500</td>\n",
       "      <td>0</td>\n",
       "      <td>1</td>\n",
       "      <td>0</td>\n",
       "      <td>0</td>\n",
       "      <td>1</td>\n",
       "      <td>0</td>\n",
       "      <td>...</td>\n",
       "      <td>0</td>\n",
       "      <td>1</td>\n",
       "      <td>0</td>\n",
       "      <td>0</td>\n",
       "      <td>1</td>\n",
       "      <td>0</td>\n",
       "      <td>0</td>\n",
       "      <td>0</td>\n",
       "      <td>0</td>\n",
       "      <td>0</td>\n",
       "    </tr>\n",
       "    <tr>\n",
       "      <th>416</th>\n",
       "      <td>1308</td>\n",
       "      <td>0</td>\n",
       "      <td>0</td>\n",
       "      <td>8.0500</td>\n",
       "      <td>0</td>\n",
       "      <td>1</td>\n",
       "      <td>0</td>\n",
       "      <td>0</td>\n",
       "      <td>1</td>\n",
       "      <td>0</td>\n",
       "      <td>...</td>\n",
       "      <td>0</td>\n",
       "      <td>1</td>\n",
       "      <td>0</td>\n",
       "      <td>0</td>\n",
       "      <td>0</td>\n",
       "      <td>1</td>\n",
       "      <td>0</td>\n",
       "      <td>0</td>\n",
       "      <td>0</td>\n",
       "      <td>0</td>\n",
       "    </tr>\n",
       "    <tr>\n",
       "      <th>417</th>\n",
       "      <td>1309</td>\n",
       "      <td>1</td>\n",
       "      <td>1</td>\n",
       "      <td>22.3583</td>\n",
       "      <td>0</td>\n",
       "      <td>1</td>\n",
       "      <td>1</td>\n",
       "      <td>0</td>\n",
       "      <td>0</td>\n",
       "      <td>0</td>\n",
       "      <td>...</td>\n",
       "      <td>0</td>\n",
       "      <td>1</td>\n",
       "      <td>0</td>\n",
       "      <td>1</td>\n",
       "      <td>0</td>\n",
       "      <td>0</td>\n",
       "      <td>0</td>\n",
       "      <td>0</td>\n",
       "      <td>0</td>\n",
       "      <td>0</td>\n",
       "    </tr>\n",
       "  </tbody>\n",
       "</table>\n",
       "<p>418 rows × 21 columns</p>\n",
       "</div>"
      ],
      "text/plain": [
       "     PassengerId  SibSp  Parch      Fare  Sex_female  Sex_male  Embarked_C  \\\n",
       "0            892      0      0    7.8292           0         1           0   \n",
       "1            893      1      0    7.0000           1         0           0   \n",
       "2            894      0      0    9.6875           0         1           0   \n",
       "3            895      0      0    8.6625           0         1           0   \n",
       "4            896      1      1   12.2875           1         0           0   \n",
       "..           ...    ...    ...       ...         ...       ...         ...   \n",
       "413         1305      0      0    8.0500           0         1           0   \n",
       "414         1306      0      0  108.9000           1         0           1   \n",
       "415         1307      0      0    7.2500           0         1           0   \n",
       "416         1308      0      0    8.0500           0         1           0   \n",
       "417         1309      1      1   22.3583           0         1           1   \n",
       "\n",
       "     Embarked_Q  Embarked_S  Embarked_U  ...  Pclass_2  Pclass_3  \\\n",
       "0             1           0           0  ...         0         1   \n",
       "1             0           1           0  ...         0         1   \n",
       "2             1           0           0  ...         1         0   \n",
       "3             0           1           0  ...         0         1   \n",
       "4             0           1           0  ...         0         1   \n",
       "..          ...         ...         ...  ...       ...       ...   \n",
       "413           0           1           0  ...         0         1   \n",
       "414           0           0           0  ...         0         0   \n",
       "415           0           1           0  ...         0         1   \n",
       "416           0           1           0  ...         0         1   \n",
       "417           0           0           0  ...         0         1   \n",
       "\n",
       "     Categorized_age_(0, 10]  Categorized_age_(10, 20]  \\\n",
       "0                          0                         0   \n",
       "1                          0                         0   \n",
       "2                          0                         0   \n",
       "3                          0                         0   \n",
       "4                          0                         0   \n",
       "..                       ...                       ...   \n",
       "413                        0                         0   \n",
       "414                        0                         0   \n",
       "415                        0                         0   \n",
       "416                        0                         0   \n",
       "417                        0                         1   \n",
       "\n",
       "     Categorized_age_(20, 30]  Categorized_age_(30, 40]  \\\n",
       "0                           1                         0   \n",
       "1                           0                         1   \n",
       "2                           1                         0   \n",
       "3                           0                         1   \n",
       "4                           0                         1   \n",
       "..                        ...                       ...   \n",
       "413                         1                         0   \n",
       "414                         0                         0   \n",
       "415                         1                         0   \n",
       "416                         0                         1   \n",
       "417                         0                         0   \n",
       "\n",
       "     Categorized_age_(40, 50]  Categorized_age_(50, 60]  \\\n",
       "0                           0                         0   \n",
       "1                           0                         0   \n",
       "2                           0                         0   \n",
       "3                           0                         0   \n",
       "4                           0                         0   \n",
       "..                        ...                       ...   \n",
       "413                         0                         0   \n",
       "414                         1                         0   \n",
       "415                         0                         0   \n",
       "416                         0                         0   \n",
       "417                         0                         0   \n",
       "\n",
       "     Categorized_age_(60, 70]  Categorized_age_(70, 80]  \n",
       "0                           0                         0  \n",
       "1                           0                         0  \n",
       "2                           0                         0  \n",
       "3                           0                         0  \n",
       "4                           0                         0  \n",
       "..                        ...                       ...  \n",
       "413                         0                         0  \n",
       "414                         0                         0  \n",
       "415                         0                         0  \n",
       "416                         0                         0  \n",
       "417                         0                         0  \n",
       "\n",
       "[418 rows x 21 columns]"
      ]
     },
     "execution_count": 66,
     "metadata": {},
     "output_type": "execute_result"
    }
   ],
   "source": [
    "test_gender_columns = pd.get_dummies(df_test['Sex'], prefix='Sex')\n",
    "test_embarked_columns = pd.get_dummies(df_test[\"Embarked\"], prefix=\"Embarked\")\n",
    "df_test = pd.concat([df_test, test_gender_columns], axis=1)\n",
    "df_test = pd.concat([df_test, test_embarked_columns], axis=1)\n",
    "df_test = df_test.drop(['Sex', 'Embarked'], axis=1)\n",
    "\n",
    "# the test data has no missing 'Embarked' fields. Therefore, the processed test data will not\n",
    "# have an 'Embarked_Q' column. We need to artificially add one filled with zeros.\n",
    "df_test['Embarked_U'] = pd.DataFrame([0 for i in range(len(df_test))])\n",
    "\n",
    "test_categorized_pclass_columns = pd.get_dummies(df_test['Pclass'], prefix='Pclass')\n",
    "df_test = pd.concat([df_test, test_categorized_pclass_columns], axis=1)\n",
    "df_test = df_test.drop(['Pclass'], axis=1)\n",
    "\n",
    "bins = [0, 10, 20, 30, 40, 50, 60, 70, 80]\n",
    "test_categorized_age = pd.cut(df_test['Age'], bins)\n",
    "df_test['Categorized_age'] = categorized_age\n",
    "df_test = df_test.drop([\"Age\"], axis=1)\n",
    "\n",
    "test_cagegorized_age_columns = pd.get_dummies(df_test['Categorized_age'], prefix='Categorized_age')\n",
    "df_test = pd.concat([df_test, test_cagegorized_age_columns], axis=1)\n",
    "df_test = df_test.drop(['Categorized_age'], axis=1)\n",
    "\n",
    "df_test = df_test.drop(['Name', 'Ticket'], axis=1)\n",
    "df_test"
   ]
  },
  {
   "cell_type": "code",
   "execution_count": 67,
   "id": "31be8d58",
   "metadata": {
    "execution": {
     "iopub.execute_input": "2022-05-26T09:39:00.630857Z",
     "iopub.status.busy": "2022-05-26T09:39:00.622628Z",
     "iopub.status.idle": "2022-05-26T09:39:00.641057Z",
     "shell.execute_reply": "2022-05-26T09:39:00.641943Z",
     "shell.execute_reply.started": "2022-05-26T09:27:29.296189Z"
    },
    "papermill": {
     "duration": 0.127238,
     "end_time": "2022-05-26T09:39:00.642135",
     "exception": false,
     "start_time": "2022-05-26T09:39:00.514897",
     "status": "completed"
    },
    "tags": []
   },
   "outputs": [
    {
     "name": "stdout",
     "output_type": "stream",
     "text": [
      "<class 'pandas.core.frame.DataFrame'>\n",
      "RangeIndex: 418 entries, 0 to 417\n",
      "Data columns (total 21 columns):\n",
      " #   Column                    Non-Null Count  Dtype  \n",
      "---  ------                    --------------  -----  \n",
      " 0   PassengerId               418 non-null    int64  \n",
      " 1   SibSp                     418 non-null    int64  \n",
      " 2   Parch                     418 non-null    int64  \n",
      " 3   Fare                      418 non-null    float64\n",
      " 4   Sex_female                418 non-null    uint8  \n",
      " 5   Sex_male                  418 non-null    uint8  \n",
      " 6   Embarked_C                418 non-null    uint8  \n",
      " 7   Embarked_Q                418 non-null    uint8  \n",
      " 8   Embarked_S                418 non-null    uint8  \n",
      " 9   Embarked_U                418 non-null    int64  \n",
      " 10  Pclass_1                  418 non-null    uint8  \n",
      " 11  Pclass_2                  418 non-null    uint8  \n",
      " 12  Pclass_3                  418 non-null    uint8  \n",
      " 13  Categorized_age_(0, 10]   418 non-null    uint8  \n",
      " 14  Categorized_age_(10, 20]  418 non-null    uint8  \n",
      " 15  Categorized_age_(20, 30]  418 non-null    uint8  \n",
      " 16  Categorized_age_(30, 40]  418 non-null    uint8  \n",
      " 17  Categorized_age_(40, 50]  418 non-null    uint8  \n",
      " 18  Categorized_age_(50, 60]  418 non-null    uint8  \n",
      " 19  Categorized_age_(60, 70]  418 non-null    uint8  \n",
      " 20  Categorized_age_(70, 80]  418 non-null    uint8  \n",
      "dtypes: float64(1), int64(4), uint8(16)\n",
      "memory usage: 23.0 KB\n"
     ]
    }
   ],
   "source": [
    "df_test.info()"
   ]
  },
  {
   "cell_type": "markdown",
   "id": "3e911a98",
   "metadata": {
    "papermill": {
     "duration": 0.092481,
     "end_time": "2022-05-26T09:39:00.837085",
     "exception": false,
     "start_time": "2022-05-26T09:39:00.744604",
     "status": "completed"
    },
    "tags": []
   },
   "source": [
    "**Check how many how many survivors were predicted by Gradient boosting model**"
   ]
  },
  {
   "cell_type": "markdown",
   "id": "08bb85dc",
   "metadata": {
    "papermill": {
     "duration": 0.092417,
     "end_time": "2022-05-26T09:39:01.021912",
     "exception": false,
     "start_time": "2022-05-26T09:39:00.929495",
     "status": "completed"
    },
    "tags": []
   },
   "source": [
    "## Prepare submission file"
   ]
  },
  {
   "cell_type": "code",
   "execution_count": 68,
   "id": "45372b2c",
   "metadata": {
    "execution": {
     "iopub.execute_input": "2022-05-26T09:39:01.213492Z",
     "iopub.status.busy": "2022-05-26T09:39:01.212707Z",
     "iopub.status.idle": "2022-05-26T09:39:01.237240Z",
     "shell.execute_reply": "2022-05-26T09:39:01.237940Z",
     "shell.execute_reply.started": "2022-05-26T09:27:29.310589Z"
    },
    "papermill": {
     "duration": 0.123178,
     "end_time": "2022-05-26T09:39:01.238121",
     "exception": false,
     "start_time": "2022-05-26T09:39:01.114943",
     "status": "completed"
    },
    "tags": []
   },
   "outputs": [],
   "source": [
    "# submission = gb_model.predict(df_test)\n",
    "# test random forest to see if the score is better\n",
    "\n",
    "submission = rf_model.predict(df_test)"
   ]
  },
  {
   "cell_type": "code",
   "execution_count": 69,
   "id": "a669119b",
   "metadata": {
    "execution": {
     "iopub.execute_input": "2022-05-26T09:39:01.433421Z",
     "iopub.status.busy": "2022-05-26T09:39:01.432426Z",
     "iopub.status.idle": "2022-05-26T09:39:01.435356Z",
     "shell.execute_reply": "2022-05-26T09:39:01.435825Z",
     "shell.execute_reply.started": "2022-05-26T09:27:29.329101Z"
    },
    "papermill": {
     "duration": 0.102688,
     "end_time": "2022-05-26T09:39:01.436037",
     "exception": false,
     "start_time": "2022-05-26T09:39:01.333349",
     "status": "completed"
    },
    "tags": []
   },
   "outputs": [],
   "source": [
    "test = pd.DataFrame({\"PassengerId\": df_test[\"PassengerId\"].values,\n",
    "                   \"Survived\": submission,\n",
    "                  })"
   ]
  },
  {
   "cell_type": "code",
   "execution_count": 70,
   "id": "118b53c9",
   "metadata": {
    "execution": {
     "iopub.execute_input": "2022-05-26T09:39:01.631581Z",
     "iopub.status.busy": "2022-05-26T09:39:01.630749Z",
     "iopub.status.idle": "2022-05-26T09:39:01.636374Z",
     "shell.execute_reply": "2022-05-26T09:39:01.636970Z",
     "shell.execute_reply.started": "2022-05-26T09:27:29.339228Z"
    },
    "papermill": {
     "duration": 0.107544,
     "end_time": "2022-05-26T09:39:01.637156",
     "exception": false,
     "start_time": "2022-05-26T09:39:01.529612",
     "status": "completed"
    },
    "tags": []
   },
   "outputs": [],
   "source": [
    "test.to_csv(\"submission.csv\", index=False)"
   ]
  }
 ],
 "metadata": {
  "kernelspec": {
   "display_name": "Python 3",
   "language": "python",
   "name": "python3"
  },
  "language_info": {
   "codemirror_mode": {
    "name": "ipython",
    "version": 3
   },
   "file_extension": ".py",
   "mimetype": "text/x-python",
   "name": "python",
   "nbconvert_exporter": "python",
   "pygments_lexer": "ipython3",
   "version": "3.7.12"
  },
  "papermill": {
   "default_parameters": {},
   "duration": 32.336292,
   "end_time": "2022-05-26T09:39:02.444579",
   "environment_variables": {},
   "exception": null,
   "input_path": "__notebook__.ipynb",
   "output_path": "__notebook__.ipynb",
   "parameters": {},
   "start_time": "2022-05-26T09:38:30.108287",
   "version": "2.3.3"
  }
 },
 "nbformat": 4,
 "nbformat_minor": 5
}
