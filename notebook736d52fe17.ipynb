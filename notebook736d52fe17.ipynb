{
 "cells": [
  {
   "cell_type": "markdown",
   "id": "1f64d8a1",
   "metadata": {
    "papermill": {
     "duration": 0.104707,
     "end_time": "2023-01-17T01:50:07.251505",
     "exception": false,
     "start_time": "2023-01-17T01:50:07.146798",
     "status": "completed"
    },
    "tags": []
   },
   "source": [
    "## Importing Libraries"
   ]
  },
  {
   "cell_type": "code",
   "execution_count": 1,
   "id": "c8198f47",
   "metadata": {
    "execution": {
     "iopub.execute_input": "2023-01-17T01:50:07.421957Z",
     "iopub.status.busy": "2023-01-17T01:50:07.420814Z",
     "iopub.status.idle": "2023-01-17T01:50:08.601787Z",
     "shell.execute_reply": "2023-01-17T01:50:08.602588Z",
     "shell.execute_reply.started": "2023-01-17T01:33:05.633024Z"
    },
    "papermill": {
     "duration": 1.27182,
     "end_time": "2023-01-17T01:50:08.602943",
     "exception": false,
     "start_time": "2023-01-17T01:50:07.331123",
     "status": "completed"
    },
    "tags": []
   },
   "outputs": [
    {
     "name": "stdout",
     "output_type": "stream",
     "text": [
      "/kaggle/input/titanic/train.csv\n",
      "/kaggle/input/titanic/test.csv\n",
      "/kaggle/input/titanic/gender_submission.csv\n"
     ]
    }
   ],
   "source": [
    "# This Python 3 environment comes with many helpful analytics libraries installed\n",
    "# It is defined by the kaggle/python Docker image: https://github.com/kaggle/docker-python\n",
    "\n",
    "import numpy as np  #for algebraic operations on arrays\n",
    "import pandas as pd  #for data exploration and manipulation\n",
    "\n",
    "\n",
    "##plotting libraries\n",
    "import matplotlib.pyplot as plt\n",
    "import seaborn as sns\n",
    "%matplotlib inline\n",
    "\n",
    "import os\n",
    "for dirname, _, filenames in os.walk('/kaggle/input'):\n",
    "    for filename in filenames:\n",
    "        print(os.path.join(dirname, filename))\n",
    "\n",
    "# You can write up to 20GB to the current directory (/kaggle/working/) that gets preserved as output when you create a version using \"Save & Run All\" \n",
    "# You can also write temporary files to /kaggle/temp/, but they won't be saved outside of the current session"
   ]
  },
  {
   "cell_type": "markdown",
   "id": "805b98a6",
   "metadata": {
    "papermill": {
     "duration": 0.079848,
     "end_time": "2023-01-17T01:50:08.763225",
     "exception": false,
     "start_time": "2023-01-17T01:50:08.683377",
     "status": "completed"
    },
    "tags": []
   },
   "source": [
    "## Loading the dataset"
   ]
  },
  {
   "cell_type": "code",
   "execution_count": 2,
   "id": "ffbd9c96",
   "metadata": {
    "execution": {
     "iopub.execute_input": "2023-01-17T01:50:08.930322Z",
     "iopub.status.busy": "2023-01-17T01:50:08.929487Z",
     "iopub.status.idle": "2023-01-17T01:50:08.949145Z",
     "shell.execute_reply": "2023-01-17T01:50:08.949669Z",
     "shell.execute_reply.started": "2023-01-17T01:33:06.691210Z"
    },
    "papermill": {
     "duration": 0.107654,
     "end_time": "2023-01-17T01:50:08.949888",
     "exception": false,
     "start_time": "2023-01-17T01:50:08.842234",
     "status": "completed"
    },
    "tags": []
   },
   "outputs": [],
   "source": [
    "df_train = pd.read_csv('/kaggle/input/titanic/train.csv')"
   ]
  },
  {
   "cell_type": "markdown",
   "id": "1220e533",
   "metadata": {
    "papermill": {
     "duration": 0.076021,
     "end_time": "2023-01-17T01:50:09.102729",
     "exception": false,
     "start_time": "2023-01-17T01:50:09.026708",
     "status": "completed"
    },
    "tags": []
   },
   "source": [
    "### View the first five lines"
   ]
  },
  {
   "cell_type": "code",
   "execution_count": 3,
   "id": "b330db81",
   "metadata": {
    "execution": {
     "iopub.execute_input": "2023-01-17T01:50:09.263535Z",
     "iopub.status.busy": "2023-01-17T01:50:09.262413Z",
     "iopub.status.idle": "2023-01-17T01:50:09.289591Z",
     "shell.execute_reply": "2023-01-17T01:50:09.290406Z",
     "shell.execute_reply.started": "2023-01-17T01:33:06.715236Z"
    },
    "papermill": {
     "duration": 0.110578,
     "end_time": "2023-01-17T01:50:09.290691",
     "exception": false,
     "start_time": "2023-01-17T01:50:09.180113",
     "status": "completed"
    },
    "tags": []
   },
   "outputs": [
    {
     "data": {
      "text/html": [
       "<div>\n",
       "<style scoped>\n",
       "    .dataframe tbody tr th:only-of-type {\n",
       "        vertical-align: middle;\n",
       "    }\n",
       "\n",
       "    .dataframe tbody tr th {\n",
       "        vertical-align: top;\n",
       "    }\n",
       "\n",
       "    .dataframe thead th {\n",
       "        text-align: right;\n",
       "    }\n",
       "</style>\n",
       "<table border=\"1\" class=\"dataframe\">\n",
       "  <thead>\n",
       "    <tr style=\"text-align: right;\">\n",
       "      <th></th>\n",
       "      <th>PassengerId</th>\n",
       "      <th>Survived</th>\n",
       "      <th>Pclass</th>\n",
       "      <th>Name</th>\n",
       "      <th>Sex</th>\n",
       "      <th>Age</th>\n",
       "      <th>SibSp</th>\n",
       "      <th>Parch</th>\n",
       "      <th>Ticket</th>\n",
       "      <th>Fare</th>\n",
       "      <th>Cabin</th>\n",
       "      <th>Embarked</th>\n",
       "    </tr>\n",
       "  </thead>\n",
       "  <tbody>\n",
       "    <tr>\n",
       "      <th>0</th>\n",
       "      <td>1</td>\n",
       "      <td>0</td>\n",
       "      <td>3</td>\n",
       "      <td>Braund, Mr. Owen Harris</td>\n",
       "      <td>male</td>\n",
       "      <td>22.0</td>\n",
       "      <td>1</td>\n",
       "      <td>0</td>\n",
       "      <td>A/5 21171</td>\n",
       "      <td>7.2500</td>\n",
       "      <td>NaN</td>\n",
       "      <td>S</td>\n",
       "    </tr>\n",
       "    <tr>\n",
       "      <th>1</th>\n",
       "      <td>2</td>\n",
       "      <td>1</td>\n",
       "      <td>1</td>\n",
       "      <td>Cumings, Mrs. John Bradley (Florence Briggs Th...</td>\n",
       "      <td>female</td>\n",
       "      <td>38.0</td>\n",
       "      <td>1</td>\n",
       "      <td>0</td>\n",
       "      <td>PC 17599</td>\n",
       "      <td>71.2833</td>\n",
       "      <td>C85</td>\n",
       "      <td>C</td>\n",
       "    </tr>\n",
       "    <tr>\n",
       "      <th>2</th>\n",
       "      <td>3</td>\n",
       "      <td>1</td>\n",
       "      <td>3</td>\n",
       "      <td>Heikkinen, Miss. Laina</td>\n",
       "      <td>female</td>\n",
       "      <td>26.0</td>\n",
       "      <td>0</td>\n",
       "      <td>0</td>\n",
       "      <td>STON/O2. 3101282</td>\n",
       "      <td>7.9250</td>\n",
       "      <td>NaN</td>\n",
       "      <td>S</td>\n",
       "    </tr>\n",
       "    <tr>\n",
       "      <th>3</th>\n",
       "      <td>4</td>\n",
       "      <td>1</td>\n",
       "      <td>1</td>\n",
       "      <td>Futrelle, Mrs. Jacques Heath (Lily May Peel)</td>\n",
       "      <td>female</td>\n",
       "      <td>35.0</td>\n",
       "      <td>1</td>\n",
       "      <td>0</td>\n",
       "      <td>113803</td>\n",
       "      <td>53.1000</td>\n",
       "      <td>C123</td>\n",
       "      <td>S</td>\n",
       "    </tr>\n",
       "    <tr>\n",
       "      <th>4</th>\n",
       "      <td>5</td>\n",
       "      <td>0</td>\n",
       "      <td>3</td>\n",
       "      <td>Allen, Mr. William Henry</td>\n",
       "      <td>male</td>\n",
       "      <td>35.0</td>\n",
       "      <td>0</td>\n",
       "      <td>0</td>\n",
       "      <td>373450</td>\n",
       "      <td>8.0500</td>\n",
       "      <td>NaN</td>\n",
       "      <td>S</td>\n",
       "    </tr>\n",
       "  </tbody>\n",
       "</table>\n",
       "</div>"
      ],
      "text/plain": [
       "   PassengerId  Survived  Pclass  \\\n",
       "0            1         0       3   \n",
       "1            2         1       1   \n",
       "2            3         1       3   \n",
       "3            4         1       1   \n",
       "4            5         0       3   \n",
       "\n",
       "                                                Name     Sex   Age  SibSp  \\\n",
       "0                            Braund, Mr. Owen Harris    male  22.0      1   \n",
       "1  Cumings, Mrs. John Bradley (Florence Briggs Th...  female  38.0      1   \n",
       "2                             Heikkinen, Miss. Laina  female  26.0      0   \n",
       "3       Futrelle, Mrs. Jacques Heath (Lily May Peel)  female  35.0      1   \n",
       "4                           Allen, Mr. William Henry    male  35.0      0   \n",
       "\n",
       "   Parch            Ticket     Fare Cabin Embarked  \n",
       "0      0         A/5 21171   7.2500   NaN        S  \n",
       "1      0          PC 17599  71.2833   C85        C  \n",
       "2      0  STON/O2. 3101282   7.9250   NaN        S  \n",
       "3      0            113803  53.1000  C123        S  \n",
       "4      0            373450   8.0500   NaN        S  "
      ]
     },
     "execution_count": 3,
     "metadata": {},
     "output_type": "execute_result"
    }
   ],
   "source": [
    "df_train.head()"
   ]
  },
  {
   "cell_type": "markdown",
   "id": "e4cbccc0",
   "metadata": {
    "papermill": {
     "duration": 0.079116,
     "end_time": "2023-01-17T01:50:09.447166",
     "exception": false,
     "start_time": "2023-01-17T01:50:09.368050",
     "status": "completed"
    },
    "tags": []
   },
   "source": [
    "## Exploratory data analysis"
   ]
  },
  {
   "cell_type": "code",
   "execution_count": 4,
   "id": "75cfbcd6",
   "metadata": {
    "execution": {
     "iopub.execute_input": "2023-01-17T01:50:09.607364Z",
     "iopub.status.busy": "2023-01-17T01:50:09.606199Z",
     "iopub.status.idle": "2023-01-17T01:50:09.611944Z",
     "shell.execute_reply": "2023-01-17T01:50:09.612446Z",
     "shell.execute_reply.started": "2023-01-17T01:33:06.742094Z"
    },
    "papermill": {
     "duration": 0.088568,
     "end_time": "2023-01-17T01:50:09.612644",
     "exception": false,
     "start_time": "2023-01-17T01:50:09.524076",
     "status": "completed"
    },
    "tags": []
   },
   "outputs": [
    {
     "data": {
      "text/plain": [
       "(891, 12)"
      ]
     },
     "execution_count": 4,
     "metadata": {},
     "output_type": "execute_result"
    }
   ],
   "source": [
    "df_train.shape"
   ]
  },
  {
   "cell_type": "code",
   "execution_count": 5,
   "id": "5715dd62",
   "metadata": {
    "execution": {
     "iopub.execute_input": "2023-01-17T01:50:09.770778Z",
     "iopub.status.busy": "2023-01-17T01:50:09.769706Z",
     "iopub.status.idle": "2023-01-17T01:50:09.785799Z",
     "shell.execute_reply": "2023-01-17T01:50:09.786447Z",
     "shell.execute_reply.started": "2023-01-17T01:33:06.751849Z"
    },
    "papermill": {
     "duration": 0.096722,
     "end_time": "2023-01-17T01:50:09.786642",
     "exception": false,
     "start_time": "2023-01-17T01:50:09.689920",
     "status": "completed"
    },
    "tags": []
   },
   "outputs": [
    {
     "data": {
      "text/html": [
       "<div>\n",
       "<style scoped>\n",
       "    .dataframe tbody tr th:only-of-type {\n",
       "        vertical-align: middle;\n",
       "    }\n",
       "\n",
       "    .dataframe tbody tr th {\n",
       "        vertical-align: top;\n",
       "    }\n",
       "\n",
       "    .dataframe thead th {\n",
       "        text-align: right;\n",
       "    }\n",
       "</style>\n",
       "<table border=\"1\" class=\"dataframe\">\n",
       "  <thead>\n",
       "    <tr style=\"text-align: right;\">\n",
       "      <th></th>\n",
       "      <th>0</th>\n",
       "      <th>1</th>\n",
       "      <th>2</th>\n",
       "      <th>3</th>\n",
       "      <th>4</th>\n",
       "    </tr>\n",
       "  </thead>\n",
       "  <tbody>\n",
       "    <tr>\n",
       "      <th>PassengerId</th>\n",
       "      <td>1</td>\n",
       "      <td>2</td>\n",
       "      <td>3</td>\n",
       "      <td>4</td>\n",
       "      <td>5</td>\n",
       "    </tr>\n",
       "    <tr>\n",
       "      <th>Survived</th>\n",
       "      <td>0</td>\n",
       "      <td>1</td>\n",
       "      <td>1</td>\n",
       "      <td>1</td>\n",
       "      <td>0</td>\n",
       "    </tr>\n",
       "    <tr>\n",
       "      <th>Pclass</th>\n",
       "      <td>3</td>\n",
       "      <td>1</td>\n",
       "      <td>3</td>\n",
       "      <td>1</td>\n",
       "      <td>3</td>\n",
       "    </tr>\n",
       "    <tr>\n",
       "      <th>Name</th>\n",
       "      <td>Braund, Mr. Owen Harris</td>\n",
       "      <td>Cumings, Mrs. John Bradley (Florence Briggs Th...</td>\n",
       "      <td>Heikkinen, Miss. Laina</td>\n",
       "      <td>Futrelle, Mrs. Jacques Heath (Lily May Peel)</td>\n",
       "      <td>Allen, Mr. William Henry</td>\n",
       "    </tr>\n",
       "    <tr>\n",
       "      <th>Sex</th>\n",
       "      <td>male</td>\n",
       "      <td>female</td>\n",
       "      <td>female</td>\n",
       "      <td>female</td>\n",
       "      <td>male</td>\n",
       "    </tr>\n",
       "    <tr>\n",
       "      <th>Age</th>\n",
       "      <td>22.0</td>\n",
       "      <td>38.0</td>\n",
       "      <td>26.0</td>\n",
       "      <td>35.0</td>\n",
       "      <td>35.0</td>\n",
       "    </tr>\n",
       "    <tr>\n",
       "      <th>SibSp</th>\n",
       "      <td>1</td>\n",
       "      <td>1</td>\n",
       "      <td>0</td>\n",
       "      <td>1</td>\n",
       "      <td>0</td>\n",
       "    </tr>\n",
       "    <tr>\n",
       "      <th>Parch</th>\n",
       "      <td>0</td>\n",
       "      <td>0</td>\n",
       "      <td>0</td>\n",
       "      <td>0</td>\n",
       "      <td>0</td>\n",
       "    </tr>\n",
       "    <tr>\n",
       "      <th>Ticket</th>\n",
       "      <td>A/5 21171</td>\n",
       "      <td>PC 17599</td>\n",
       "      <td>STON/O2. 3101282</td>\n",
       "      <td>113803</td>\n",
       "      <td>373450</td>\n",
       "    </tr>\n",
       "    <tr>\n",
       "      <th>Fare</th>\n",
       "      <td>7.25</td>\n",
       "      <td>71.2833</td>\n",
       "      <td>7.925</td>\n",
       "      <td>53.1</td>\n",
       "      <td>8.05</td>\n",
       "    </tr>\n",
       "    <tr>\n",
       "      <th>Cabin</th>\n",
       "      <td>NaN</td>\n",
       "      <td>C85</td>\n",
       "      <td>NaN</td>\n",
       "      <td>C123</td>\n",
       "      <td>NaN</td>\n",
       "    </tr>\n",
       "    <tr>\n",
       "      <th>Embarked</th>\n",
       "      <td>S</td>\n",
       "      <td>C</td>\n",
       "      <td>S</td>\n",
       "      <td>S</td>\n",
       "      <td>S</td>\n",
       "    </tr>\n",
       "  </tbody>\n",
       "</table>\n",
       "</div>"
      ],
      "text/plain": [
       "                                   0  \\\n",
       "PassengerId                        1   \n",
       "Survived                           0   \n",
       "Pclass                             3   \n",
       "Name         Braund, Mr. Owen Harris   \n",
       "Sex                             male   \n",
       "Age                             22.0   \n",
       "SibSp                              1   \n",
       "Parch                              0   \n",
       "Ticket                     A/5 21171   \n",
       "Fare                            7.25   \n",
       "Cabin                            NaN   \n",
       "Embarked                           S   \n",
       "\n",
       "                                                             1  \\\n",
       "PassengerId                                                  2   \n",
       "Survived                                                     1   \n",
       "Pclass                                                       1   \n",
       "Name         Cumings, Mrs. John Bradley (Florence Briggs Th...   \n",
       "Sex                                                     female   \n",
       "Age                                                       38.0   \n",
       "SibSp                                                        1   \n",
       "Parch                                                        0   \n",
       "Ticket                                                PC 17599   \n",
       "Fare                                                   71.2833   \n",
       "Cabin                                                      C85   \n",
       "Embarked                                                     C   \n",
       "\n",
       "                                  2  \\\n",
       "PassengerId                       3   \n",
       "Survived                          1   \n",
       "Pclass                            3   \n",
       "Name         Heikkinen, Miss. Laina   \n",
       "Sex                          female   \n",
       "Age                            26.0   \n",
       "SibSp                             0   \n",
       "Parch                             0   \n",
       "Ticket             STON/O2. 3101282   \n",
       "Fare                          7.925   \n",
       "Cabin                           NaN   \n",
       "Embarked                          S   \n",
       "\n",
       "                                                        3  \\\n",
       "PassengerId                                             4   \n",
       "Survived                                                1   \n",
       "Pclass                                                  1   \n",
       "Name         Futrelle, Mrs. Jacques Heath (Lily May Peel)   \n",
       "Sex                                                female   \n",
       "Age                                                  35.0   \n",
       "SibSp                                                   1   \n",
       "Parch                                                   0   \n",
       "Ticket                                             113803   \n",
       "Fare                                                 53.1   \n",
       "Cabin                                                C123   \n",
       "Embarked                                                S   \n",
       "\n",
       "                                    4  \n",
       "PassengerId                         5  \n",
       "Survived                            0  \n",
       "Pclass                              3  \n",
       "Name         Allen, Mr. William Henry  \n",
       "Sex                              male  \n",
       "Age                              35.0  \n",
       "SibSp                               0  \n",
       "Parch                               0  \n",
       "Ticket                         373450  \n",
       "Fare                             8.05  \n",
       "Cabin                             NaN  \n",
       "Embarked                            S  "
      ]
     },
     "execution_count": 5,
     "metadata": {},
     "output_type": "execute_result"
    }
   ],
   "source": [
    "df_train.head().T"
   ]
  },
  {
   "cell_type": "markdown",
   "id": "84e6dced",
   "metadata": {
    "papermill": {
     "duration": 0.077426,
     "end_time": "2023-01-17T01:50:09.946349",
     "exception": false,
     "start_time": "2023-01-17T01:50:09.868923",
     "status": "completed"
    },
    "tags": []
   },
   "source": [
    "There are a lot of variables/features here but the most interesting feature is the column Survived. This is the target variable for our ML model which we want to predict (1 or 0)\n",
    "\n",
    "It has 2 values:\n",
    "\n",
    "1 - Survived.\n",
    "\n",
    "0 - No survived."
   ]
  },
  {
   "cell_type": "code",
   "execution_count": 6,
   "id": "0d507978",
   "metadata": {
    "execution": {
     "iopub.execute_input": "2023-01-17T01:50:10.127940Z",
     "iopub.status.busy": "2023-01-17T01:50:10.126928Z",
     "iopub.status.idle": "2023-01-17T01:50:10.130756Z",
     "shell.execute_reply": "2023-01-17T01:50:10.131534Z",
     "shell.execute_reply.started": "2023-01-17T01:33:06.774160Z"
    },
    "papermill": {
     "duration": 0.107778,
     "end_time": "2023-01-17T01:50:10.131793",
     "exception": false,
     "start_time": "2023-01-17T01:50:10.024015",
     "status": "completed"
    },
    "tags": []
   },
   "outputs": [
    {
     "name": "stdout",
     "output_type": "stream",
     "text": [
      "<class 'pandas.core.frame.DataFrame'>\n",
      "RangeIndex: 891 entries, 0 to 890\n",
      "Data columns (total 12 columns):\n",
      " #   Column       Non-Null Count  Dtype  \n",
      "---  ------       --------------  -----  \n",
      " 0   PassengerId  891 non-null    int64  \n",
      " 1   Survived     891 non-null    int64  \n",
      " 2   Pclass       891 non-null    int64  \n",
      " 3   Name         891 non-null    object \n",
      " 4   Sex          891 non-null    object \n",
      " 5   Age          714 non-null    float64\n",
      " 6   SibSp        891 non-null    int64  \n",
      " 7   Parch        891 non-null    int64  \n",
      " 8   Ticket       891 non-null    object \n",
      " 9   Fare         891 non-null    float64\n",
      " 10  Cabin        204 non-null    object \n",
      " 11  Embarked     889 non-null    object \n",
      "dtypes: float64(2), int64(5), object(5)\n",
      "memory usage: 83.7+ KB\n"
     ]
    }
   ],
   "source": [
    "# checking data information\n",
    "df_train.info()"
   ]
  },
  {
   "cell_type": "markdown",
   "id": "a5adffb8",
   "metadata": {
    "papermill": {
     "duration": 0.078339,
     "end_time": "2023-01-17T01:50:10.290113",
     "exception": false,
     "start_time": "2023-01-17T01:50:10.211774",
     "status": "completed"
    },
    "tags": []
   },
   "source": [
    "**Interpreting Data Information**\n",
    "\n",
    "- We have 891 rows, any column that contains lesser number of rows has missing values.\n",
    "- We have 12 columns.\n",
    "- There are categorical features that have data type float64.\n",
    "- There are numerical features that have data type object.\n",
    "\n",
    "We can see quite a number of columns with missing values (Age, Cabin)."
   ]
  },
  {
   "cell_type": "code",
   "execution_count": 7,
   "id": "2a989ef5",
   "metadata": {
    "execution": {
     "iopub.execute_input": "2023-01-17T01:50:10.474289Z",
     "iopub.status.busy": "2023-01-17T01:50:10.472967Z",
     "iopub.status.idle": "2023-01-17T01:50:10.476841Z",
     "shell.execute_reply": "2023-01-17T01:50:10.477544Z",
     "shell.execute_reply.started": "2023-01-17T01:33:06.796267Z"
    },
    "papermill": {
     "duration": 0.109866,
     "end_time": "2023-01-17T01:50:10.477754",
     "exception": false,
     "start_time": "2023-01-17T01:50:10.367888",
     "status": "completed"
    },
    "tags": []
   },
   "outputs": [
    {
     "data": {
      "text/html": [
       "<div>\n",
       "<style scoped>\n",
       "    .dataframe tbody tr th:only-of-type {\n",
       "        vertical-align: middle;\n",
       "    }\n",
       "\n",
       "    .dataframe tbody tr th {\n",
       "        vertical-align: top;\n",
       "    }\n",
       "\n",
       "    .dataframe thead th {\n",
       "        text-align: right;\n",
       "    }\n",
       "</style>\n",
       "<table border=\"1\" class=\"dataframe\">\n",
       "  <thead>\n",
       "    <tr style=\"text-align: right;\">\n",
       "      <th></th>\n",
       "      <th>Total</th>\n",
       "      <th>Percent</th>\n",
       "    </tr>\n",
       "  </thead>\n",
       "  <tbody>\n",
       "    <tr>\n",
       "      <th>Cabin</th>\n",
       "      <td>687</td>\n",
       "      <td>0.771044</td>\n",
       "    </tr>\n",
       "    <tr>\n",
       "      <th>Age</th>\n",
       "      <td>177</td>\n",
       "      <td>0.198653</td>\n",
       "    </tr>\n",
       "    <tr>\n",
       "      <th>Embarked</th>\n",
       "      <td>2</td>\n",
       "      <td>0.002245</td>\n",
       "    </tr>\n",
       "    <tr>\n",
       "      <th>PassengerId</th>\n",
       "      <td>0</td>\n",
       "      <td>0.000000</td>\n",
       "    </tr>\n",
       "    <tr>\n",
       "      <th>Survived</th>\n",
       "      <td>0</td>\n",
       "      <td>0.000000</td>\n",
       "    </tr>\n",
       "  </tbody>\n",
       "</table>\n",
       "</div>"
      ],
      "text/plain": [
       "             Total   Percent\n",
       "Cabin          687  0.771044\n",
       "Age            177  0.198653\n",
       "Embarked         2  0.002245\n",
       "PassengerId      0  0.000000\n",
       "Survived         0  0.000000"
      ]
     },
     "execution_count": 7,
     "metadata": {},
     "output_type": "execute_result"
    }
   ],
   "source": [
    "# Make sure to get all missing data\n",
    "total = df_train.isnull().sum().sort_values(ascending=False)\n",
    "percent = (df_train.isnull().sum()/df_train.isnull().count()).sort_values(ascending=False)\n",
    "missing_data = pd.concat([total, percent], axis=1, keys=['Total', 'Percent'])\n",
    "missing_data.head(5)"
   ]
  },
  {
   "cell_type": "code",
   "execution_count": 8,
   "id": "d0a4e8eb",
   "metadata": {
    "execution": {
     "iopub.execute_input": "2023-01-17T01:50:10.654916Z",
     "iopub.status.busy": "2023-01-17T01:50:10.653698Z",
     "iopub.status.idle": "2023-01-17T01:50:10.685554Z",
     "shell.execute_reply": "2023-01-17T01:50:10.686143Z",
     "shell.execute_reply.started": "2023-01-17T01:33:06.820471Z"
    },
    "papermill": {
     "duration": 0.123417,
     "end_time": "2023-01-17T01:50:10.686382",
     "exception": false,
     "start_time": "2023-01-17T01:50:10.562965",
     "status": "completed"
    },
    "tags": []
   },
   "outputs": [
    {
     "data": {
      "text/html": [
       "<div>\n",
       "<style scoped>\n",
       "    .dataframe tbody tr th:only-of-type {\n",
       "        vertical-align: middle;\n",
       "    }\n",
       "\n",
       "    .dataframe tbody tr th {\n",
       "        vertical-align: top;\n",
       "    }\n",
       "\n",
       "    .dataframe thead th {\n",
       "        text-align: right;\n",
       "    }\n",
       "</style>\n",
       "<table border=\"1\" class=\"dataframe\">\n",
       "  <thead>\n",
       "    <tr style=\"text-align: right;\">\n",
       "      <th></th>\n",
       "      <th>PassengerId</th>\n",
       "      <th>Survived</th>\n",
       "      <th>Pclass</th>\n",
       "      <th>Age</th>\n",
       "      <th>SibSp</th>\n",
       "      <th>Parch</th>\n",
       "      <th>Fare</th>\n",
       "    </tr>\n",
       "  </thead>\n",
       "  <tbody>\n",
       "    <tr>\n",
       "      <th>count</th>\n",
       "      <td>891.000000</td>\n",
       "      <td>891.000000</td>\n",
       "      <td>891.000000</td>\n",
       "      <td>714.000000</td>\n",
       "      <td>891.000000</td>\n",
       "      <td>891.000000</td>\n",
       "      <td>891.000000</td>\n",
       "    </tr>\n",
       "    <tr>\n",
       "      <th>mean</th>\n",
       "      <td>446.000000</td>\n",
       "      <td>0.383838</td>\n",
       "      <td>2.308642</td>\n",
       "      <td>29.699118</td>\n",
       "      <td>0.523008</td>\n",
       "      <td>0.381594</td>\n",
       "      <td>32.204208</td>\n",
       "    </tr>\n",
       "    <tr>\n",
       "      <th>std</th>\n",
       "      <td>257.353842</td>\n",
       "      <td>0.486592</td>\n",
       "      <td>0.836071</td>\n",
       "      <td>14.526497</td>\n",
       "      <td>1.102743</td>\n",
       "      <td>0.806057</td>\n",
       "      <td>49.693429</td>\n",
       "    </tr>\n",
       "    <tr>\n",
       "      <th>min</th>\n",
       "      <td>1.000000</td>\n",
       "      <td>0.000000</td>\n",
       "      <td>1.000000</td>\n",
       "      <td>0.420000</td>\n",
       "      <td>0.000000</td>\n",
       "      <td>0.000000</td>\n",
       "      <td>0.000000</td>\n",
       "    </tr>\n",
       "    <tr>\n",
       "      <th>25%</th>\n",
       "      <td>223.500000</td>\n",
       "      <td>0.000000</td>\n",
       "      <td>2.000000</td>\n",
       "      <td>20.125000</td>\n",
       "      <td>0.000000</td>\n",
       "      <td>0.000000</td>\n",
       "      <td>7.910400</td>\n",
       "    </tr>\n",
       "    <tr>\n",
       "      <th>50%</th>\n",
       "      <td>446.000000</td>\n",
       "      <td>0.000000</td>\n",
       "      <td>3.000000</td>\n",
       "      <td>28.000000</td>\n",
       "      <td>0.000000</td>\n",
       "      <td>0.000000</td>\n",
       "      <td>14.454200</td>\n",
       "    </tr>\n",
       "    <tr>\n",
       "      <th>75%</th>\n",
       "      <td>668.500000</td>\n",
       "      <td>1.000000</td>\n",
       "      <td>3.000000</td>\n",
       "      <td>38.000000</td>\n",
       "      <td>1.000000</td>\n",
       "      <td>0.000000</td>\n",
       "      <td>31.000000</td>\n",
       "    </tr>\n",
       "    <tr>\n",
       "      <th>max</th>\n",
       "      <td>891.000000</td>\n",
       "      <td>1.000000</td>\n",
       "      <td>3.000000</td>\n",
       "      <td>80.000000</td>\n",
       "      <td>8.000000</td>\n",
       "      <td>6.000000</td>\n",
       "      <td>512.329200</td>\n",
       "    </tr>\n",
       "  </tbody>\n",
       "</table>\n",
       "</div>"
      ],
      "text/plain": [
       "       PassengerId    Survived      Pclass         Age       SibSp  \\\n",
       "count   891.000000  891.000000  891.000000  714.000000  891.000000   \n",
       "mean    446.000000    0.383838    2.308642   29.699118    0.523008   \n",
       "std     257.353842    0.486592    0.836071   14.526497    1.102743   \n",
       "min       1.000000    0.000000    1.000000    0.420000    0.000000   \n",
       "25%     223.500000    0.000000    2.000000   20.125000    0.000000   \n",
       "50%     446.000000    0.000000    3.000000   28.000000    0.000000   \n",
       "75%     668.500000    1.000000    3.000000   38.000000    1.000000   \n",
       "max     891.000000    1.000000    3.000000   80.000000    8.000000   \n",
       "\n",
       "            Parch        Fare  \n",
       "count  891.000000  891.000000  \n",
       "mean     0.381594   32.204208  \n",
       "std      0.806057   49.693429  \n",
       "min      0.000000    0.000000  \n",
       "25%      0.000000    7.910400  \n",
       "50%      0.000000   14.454200  \n",
       "75%      0.000000   31.000000  \n",
       "max      6.000000  512.329200  "
      ]
     },
     "execution_count": 8,
     "metadata": {},
     "output_type": "execute_result"
    }
   ],
   "source": [
    "# statistical summary of numerical variables\n",
    "df_train.describe()"
   ]
  },
  {
   "cell_type": "code",
   "execution_count": 9,
   "id": "eeb8cc17",
   "metadata": {
    "execution": {
     "iopub.execute_input": "2023-01-17T01:50:10.882458Z",
     "iopub.status.busy": "2023-01-17T01:50:10.881269Z",
     "iopub.status.idle": "2023-01-17T01:50:10.886009Z",
     "shell.execute_reply": "2023-01-17T01:50:10.885454Z",
     "shell.execute_reply.started": "2023-01-17T01:33:06.855503Z"
    },
    "papermill": {
     "duration": 0.112135,
     "end_time": "2023-01-17T01:50:10.886174",
     "exception": false,
     "start_time": "2023-01-17T01:50:10.774039",
     "status": "completed"
    },
    "tags": []
   },
   "outputs": [
    {
     "data": {
      "text/html": [
       "<div>\n",
       "<style scoped>\n",
       "    .dataframe tbody tr th:only-of-type {\n",
       "        vertical-align: middle;\n",
       "    }\n",
       "\n",
       "    .dataframe tbody tr th {\n",
       "        vertical-align: top;\n",
       "    }\n",
       "\n",
       "    .dataframe thead th {\n",
       "        text-align: right;\n",
       "    }\n",
       "</style>\n",
       "<table border=\"1\" class=\"dataframe\">\n",
       "  <thead>\n",
       "    <tr style=\"text-align: right;\">\n",
       "      <th></th>\n",
       "      <th>Name</th>\n",
       "      <th>Sex</th>\n",
       "      <th>Ticket</th>\n",
       "      <th>Cabin</th>\n",
       "      <th>Embarked</th>\n",
       "    </tr>\n",
       "  </thead>\n",
       "  <tbody>\n",
       "    <tr>\n",
       "      <th>count</th>\n",
       "      <td>891</td>\n",
       "      <td>891</td>\n",
       "      <td>891</td>\n",
       "      <td>204</td>\n",
       "      <td>889</td>\n",
       "    </tr>\n",
       "    <tr>\n",
       "      <th>unique</th>\n",
       "      <td>891</td>\n",
       "      <td>2</td>\n",
       "      <td>681</td>\n",
       "      <td>147</td>\n",
       "      <td>3</td>\n",
       "    </tr>\n",
       "    <tr>\n",
       "      <th>top</th>\n",
       "      <td>Braund, Mr. Owen Harris</td>\n",
       "      <td>male</td>\n",
       "      <td>347082</td>\n",
       "      <td>B96 B98</td>\n",
       "      <td>S</td>\n",
       "    </tr>\n",
       "    <tr>\n",
       "      <th>freq</th>\n",
       "      <td>1</td>\n",
       "      <td>577</td>\n",
       "      <td>7</td>\n",
       "      <td>4</td>\n",
       "      <td>644</td>\n",
       "    </tr>\n",
       "  </tbody>\n",
       "</table>\n",
       "</div>"
      ],
      "text/plain": [
       "                           Name   Sex  Ticket    Cabin Embarked\n",
       "count                       891   891     891      204      889\n",
       "unique                      891     2     681      147        3\n",
       "top     Braund, Mr. Owen Harris  male  347082  B96 B98        S\n",
       "freq                          1   577       7        4      644"
      ]
     },
     "execution_count": 9,
     "metadata": {},
     "output_type": "execute_result"
    }
   ],
   "source": [
    "# summary statistics for categorical columns\n",
    "df_train.describe(include=['object'])"
   ]
  },
  {
   "cell_type": "markdown",
   "id": "cca814a3",
   "metadata": {
    "papermill": {
     "duration": 0.086468,
     "end_time": "2023-01-17T01:50:11.060981",
     "exception": false,
     "start_time": "2023-01-17T01:50:10.974513",
     "status": "completed"
    },
    "tags": []
   },
   "source": [
    "## Univariate Analysis"
   ]
  },
  {
   "cell_type": "code",
   "execution_count": 10,
   "id": "b9dc40e0",
   "metadata": {
    "execution": {
     "iopub.execute_input": "2023-01-17T01:50:11.236872Z",
     "iopub.status.busy": "2023-01-17T01:50:11.236018Z",
     "iopub.status.idle": "2023-01-17T01:50:11.242001Z",
     "shell.execute_reply": "2023-01-17T01:50:11.242676Z",
     "shell.execute_reply.started": "2023-01-17T01:33:06.882477Z"
    },
    "papermill": {
     "duration": 0.095416,
     "end_time": "2023-01-17T01:50:11.242895",
     "exception": false,
     "start_time": "2023-01-17T01:50:11.147479",
     "status": "completed"
    },
    "tags": []
   },
   "outputs": [
    {
     "data": {
      "text/plain": [
       "0"
      ]
     },
     "execution_count": 10,
     "metadata": {},
     "output_type": "execute_result"
    }
   ],
   "source": [
    "# exploring the target variable\n",
    "# checking for missing values\n",
    "df_train['Survived'].isnull().sum()"
   ]
  },
  {
   "cell_type": "code",
   "execution_count": 11,
   "id": "f9dcda2e",
   "metadata": {
    "execution": {
     "iopub.execute_input": "2023-01-17T01:50:11.418447Z",
     "iopub.status.busy": "2023-01-17T01:50:11.417594Z",
     "iopub.status.idle": "2023-01-17T01:50:11.425225Z",
     "shell.execute_reply": "2023-01-17T01:50:11.425812Z",
     "shell.execute_reply.started": "2023-01-17T01:33:06.891673Z"
    },
    "papermill": {
     "duration": 0.098452,
     "end_time": "2023-01-17T01:50:11.426006",
     "exception": false,
     "start_time": "2023-01-17T01:50:11.327554",
     "status": "completed"
    },
    "tags": []
   },
   "outputs": [
    {
     "data": {
      "text/plain": [
       "2"
      ]
     },
     "execution_count": 11,
     "metadata": {},
     "output_type": "execute_result"
    }
   ],
   "source": [
    "# number of unique values\n",
    "df_train['Survived'].nunique()"
   ]
  },
  {
   "cell_type": "code",
   "execution_count": 12,
   "id": "bc603f3f",
   "metadata": {
    "execution": {
     "iopub.execute_input": "2023-01-17T01:50:11.595686Z",
     "iopub.status.busy": "2023-01-17T01:50:11.594950Z",
     "iopub.status.idle": "2023-01-17T01:50:11.602216Z",
     "shell.execute_reply": "2023-01-17T01:50:11.602864Z",
     "shell.execute_reply.started": "2023-01-17T01:33:06.906434Z"
    },
    "papermill": {
     "duration": 0.093029,
     "end_time": "2023-01-17T01:50:11.603059",
     "exception": false,
     "start_time": "2023-01-17T01:50:11.510030",
     "status": "completed"
    },
    "tags": []
   },
   "outputs": [
    {
     "data": {
      "text/plain": [
       "0    549\n",
       "1    342\n",
       "Name: Survived, dtype: int64"
      ]
     },
     "execution_count": 12,
     "metadata": {},
     "output_type": "execute_result"
    }
   ],
   "source": [
    "# frequency distribution\n",
    "df_train['Survived'].value_counts()"
   ]
  },
  {
   "cell_type": "code",
   "execution_count": 13,
   "id": "2610304b",
   "metadata": {
    "execution": {
     "iopub.execute_input": "2023-01-17T01:50:11.775222Z",
     "iopub.status.busy": "2023-01-17T01:50:11.774469Z",
     "iopub.status.idle": "2023-01-17T01:50:11.782010Z",
     "shell.execute_reply": "2023-01-17T01:50:11.782573Z",
     "shell.execute_reply.started": "2023-01-17T01:33:06.920189Z"
    },
    "papermill": {
     "duration": 0.09564,
     "end_time": "2023-01-17T01:50:11.782766",
     "exception": false,
     "start_time": "2023-01-17T01:50:11.687126",
     "status": "completed"
    },
    "tags": []
   },
   "outputs": [
    {
     "data": {
      "text/plain": [
       "0    0.616162\n",
       "1    0.383838\n",
       "Name: Survived, dtype: float64"
      ]
     },
     "execution_count": 13,
     "metadata": {},
     "output_type": "execute_result"
    }
   ],
   "source": [
    "# ratio of freq distribution of values\n",
    "df_train['Survived'].value_counts() / len(df_train)"
   ]
  },
  {
   "cell_type": "code",
   "execution_count": 14,
   "id": "43c04fa1",
   "metadata": {
    "execution": {
     "iopub.execute_input": "2023-01-17T01:50:11.954267Z",
     "iopub.status.busy": "2023-01-17T01:50:11.953497Z",
     "iopub.status.idle": "2023-01-17T01:50:12.184321Z",
     "shell.execute_reply": "2023-01-17T01:50:12.183629Z",
     "shell.execute_reply.started": "2023-01-17T01:33:06.937898Z"
    },
    "papermill": {
     "duration": 0.316565,
     "end_time": "2023-01-17T01:50:12.184482",
     "exception": false,
     "start_time": "2023-01-17T01:50:11.867917",
     "status": "completed"
    },
    "tags": []
   },
   "outputs": [
    {
     "data": {
      "image/png": "[encoded data removed]",
      "text/plain": [
       "<Figure size 432x576 with 1 Axes>"
      ]
     },
     "metadata": {
      "needs_background": "light"
     },
     "output_type": "display_data"
    }
   ],
   "source": [
    "# visualizing the frequency distribution\n",
    "f, ax = plt.subplots(figsize=(6, 8))\n",
    "ax = sns.countplot(x=\"Survived\", data=df_train, palette=\"Set2\")\n",
    "plt.show()"
   ]
  },
  {
   "cell_type": "markdown",
   "id": "0178549d",
   "metadata": {
    "papermill": {
     "duration": 0.081145,
     "end_time": "2023-01-17T01:50:12.349773",
     "exception": false,
     "start_time": "2023-01-17T01:50:12.268628",
     "status": "completed"
    },
    "tags": []
   },
   "source": [
    "Takeaways from Univariate Analysis :\n",
    "\n",
    "1. We have 2 categories of values, 1 and 0.\n",
    "2. We have far more negative(0) values than psitive(1) values.\n",
    "3. 0 appears 61.6% of time, 1 appears 38.8% of time."
   ]
  },
  {
   "cell_type": "markdown",
   "id": "b1fddbf8",
   "metadata": {
    "papermill": {
     "duration": 0.091448,
     "end_time": "2023-01-17T01:50:12.528606",
     "exception": false,
     "start_time": "2023-01-17T01:50:12.437158",
     "status": "completed"
    },
    "tags": []
   },
   "source": [
    "### Biravriate Analysis\n",
    "\n",
    "Bivariate Analysis requires you to learn about relationships between pairs of variables.\n",
    "\n",
    "First, segregating the categorical from the dataframe."
   ]
  },
  {
   "cell_type": "code",
   "execution_count": 15,
   "id": "40876acc",
   "metadata": {
    "execution": {
     "iopub.execute_input": "2023-01-17T01:50:12.709161Z",
     "iopub.status.busy": "2023-01-17T01:50:12.708148Z",
     "iopub.status.idle": "2023-01-17T01:50:12.712056Z",
     "shell.execute_reply": "2023-01-17T01:50:12.712646Z",
     "shell.execute_reply.started": "2023-01-17T01:33:07.154885Z"
    },
    "papermill": {
     "duration": 0.099805,
     "end_time": "2023-01-17T01:50:12.712851",
     "exception": false,
     "start_time": "2023-01-17T01:50:12.613046",
     "status": "completed"
    },
    "tags": []
   },
   "outputs": [
    {
     "data": {
      "text/html": [
       "<div>\n",
       "<style scoped>\n",
       "    .dataframe tbody tr th:only-of-type {\n",
       "        vertical-align: middle;\n",
       "    }\n",
       "\n",
       "    .dataframe tbody tr th {\n",
       "        vertical-align: top;\n",
       "    }\n",
       "\n",
       "    .dataframe thead th {\n",
       "        text-align: right;\n",
       "    }\n",
       "</style>\n",
       "<table border=\"1\" class=\"dataframe\">\n",
       "  <thead>\n",
       "    <tr style=\"text-align: right;\">\n",
       "      <th></th>\n",
       "      <th>Name</th>\n",
       "      <th>Sex</th>\n",
       "      <th>Ticket</th>\n",
       "      <th>Cabin</th>\n",
       "      <th>Embarked</th>\n",
       "    </tr>\n",
       "  </thead>\n",
       "  <tbody>\n",
       "    <tr>\n",
       "      <th>0</th>\n",
       "      <td>Braund, Mr. Owen Harris</td>\n",
       "      <td>male</td>\n",
       "      <td>A/5 21171</td>\n",
       "      <td>NaN</td>\n",
       "      <td>S</td>\n",
       "    </tr>\n",
       "    <tr>\n",
       "      <th>1</th>\n",
       "      <td>Cumings, Mrs. John Bradley (Florence Briggs Th...</td>\n",
       "      <td>female</td>\n",
       "      <td>PC 17599</td>\n",
       "      <td>C85</td>\n",
       "      <td>C</td>\n",
       "    </tr>\n",
       "    <tr>\n",
       "      <th>2</th>\n",
       "      <td>Heikkinen, Miss. Laina</td>\n",
       "      <td>female</td>\n",
       "      <td>STON/O2. 3101282</td>\n",
       "      <td>NaN</td>\n",
       "      <td>S</td>\n",
       "    </tr>\n",
       "    <tr>\n",
       "      <th>3</th>\n",
       "      <td>Futrelle, Mrs. Jacques Heath (Lily May Peel)</td>\n",
       "      <td>female</td>\n",
       "      <td>113803</td>\n",
       "      <td>C123</td>\n",
       "      <td>S</td>\n",
       "    </tr>\n",
       "    <tr>\n",
       "      <th>4</th>\n",
       "      <td>Allen, Mr. William Henry</td>\n",
       "      <td>male</td>\n",
       "      <td>373450</td>\n",
       "      <td>NaN</td>\n",
       "      <td>S</td>\n",
       "    </tr>\n",
       "  </tbody>\n",
       "</table>\n",
       "</div>"
      ],
      "text/plain": [
       "                                                Name     Sex  \\\n",
       "0                            Braund, Mr. Owen Harris    male   \n",
       "1  Cumings, Mrs. John Bradley (Florence Briggs Th...  female   \n",
       "2                             Heikkinen, Miss. Laina  female   \n",
       "3       Futrelle, Mrs. Jacques Heath (Lily May Peel)  female   \n",
       "4                           Allen, Mr. William Henry    male   \n",
       "\n",
       "             Ticket Cabin Embarked  \n",
       "0         A/5 21171   NaN        S  \n",
       "1          PC 17599   C85        C  \n",
       "2  STON/O2. 3101282   NaN        S  \n",
       "3            113803  C123        S  \n",
       "4            373450   NaN        S  "
      ]
     },
     "execution_count": 15,
     "metadata": {},
     "output_type": "execute_result"
    }
   ],
   "source": [
    "cat_vars = ['object']\n",
    "cat_df = df_train.select_dtypes(include=cat_vars)\n",
    "cat_df.head()"
   ]
  },
  {
   "cell_type": "markdown",
   "id": "7100c74f",
   "metadata": {
    "papermill": {
     "duration": 0.081451,
     "end_time": "2023-01-17T01:50:12.876016",
     "exception": false,
     "start_time": "2023-01-17T01:50:12.794565",
     "status": "completed"
    },
    "tags": []
   },
   "source": [
    "We have 5 categorical columns out of which:\n",
    "\n",
    "Sex is a binary categorical features."
   ]
  },
  {
   "cell_type": "code",
   "execution_count": 16,
   "id": "a06befaf",
   "metadata": {
    "execution": {
     "iopub.execute_input": "2023-01-17T01:50:13.055024Z",
     "iopub.status.busy": "2023-01-17T01:50:13.053990Z",
     "iopub.status.idle": "2023-01-17T01:50:13.058957Z",
     "shell.execute_reply": "2023-01-17T01:50:13.058080Z",
     "shell.execute_reply.started": "2023-01-17T01:33:07.174263Z"
    },
    "papermill": {
     "duration": 0.099108,
     "end_time": "2023-01-17T01:50:13.059141",
     "exception": false,
     "start_time": "2023-01-17T01:50:12.960033",
     "status": "completed"
    },
    "tags": []
   },
   "outputs": [
    {
     "data": {
      "text/plain": [
       "Name          0\n",
       "Sex           0\n",
       "Ticket        0\n",
       "Cabin       687\n",
       "Embarked      2\n",
       "dtype: int64"
      ]
     },
     "execution_count": 16,
     "metadata": {},
     "output_type": "execute_result"
    }
   ],
   "source": [
    "##counting the missing values in categorical features\n",
    "cat_df.isnull().sum()"
   ]
  },
  {
   "cell_type": "markdown",
   "id": "b7183b83",
   "metadata": {
    "papermill": {
     "duration": 0.082028,
     "end_time": "2023-01-17T01:50:13.227290",
     "exception": false,
     "start_time": "2023-01-17T01:50:13.145262",
     "status": "completed"
    },
    "tags": []
   },
   "source": [
    "Next, we need to check for the number of labels each of these variables has. The number of labels a variable has defines its cardinality."
   ]
  },
  {
   "cell_type": "code",
   "execution_count": 17,
   "id": "8a99326a",
   "metadata": {
    "execution": {
     "iopub.execute_input": "2023-01-17T01:50:13.404454Z",
     "iopub.status.busy": "2023-01-17T01:50:13.403202Z",
     "iopub.status.idle": "2023-01-17T01:50:13.411792Z",
     "shell.execute_reply": "2023-01-17T01:50:13.412643Z",
     "shell.execute_reply.started": "2023-01-17T01:33:07.183617Z"
    },
    "papermill": {
     "duration": 0.101845,
     "end_time": "2023-01-17T01:50:13.412907",
     "exception": false,
     "start_time": "2023-01-17T01:50:13.311062",
     "status": "completed"
    },
    "tags": []
   },
   "outputs": [
    {
     "name": "stdout",
     "output_type": "stream",
     "text": [
      "Name has 891 labels\n",
      "Sex has 2 labels\n",
      "Ticket has 681 labels\n",
      "Cabin has 148 labels\n",
      "Embarked has 4 labels\n"
     ]
    }
   ],
   "source": [
    "for var in list(cat_df.columns):\n",
    "    print(var, 'has', len(cat_df[var].unique()), 'labels')"
   ]
  },
  {
   "cell_type": "code",
   "execution_count": 18,
   "id": "75e51271",
   "metadata": {
    "execution": {
     "iopub.execute_input": "2023-01-17T01:50:13.596753Z",
     "iopub.status.busy": "2023-01-17T01:50:13.595903Z",
     "iopub.status.idle": "2023-01-17T01:50:13.599598Z",
     "shell.execute_reply": "2023-01-17T01:50:13.599009Z",
     "shell.execute_reply.started": "2023-01-17T01:33:07.207400Z"
    },
    "papermill": {
     "duration": 0.098758,
     "end_time": "2023-01-17T01:50:13.599756",
     "exception": false,
     "start_time": "2023-01-17T01:50:13.500998",
     "status": "completed"
    },
    "tags": []
   },
   "outputs": [
    {
     "data": {
      "text/plain": [
       "Index(['Name', 'Sex', 'Ticket', 'Cabin', 'Embarked'], dtype='object')"
      ]
     },
     "execution_count": 18,
     "metadata": {},
     "output_type": "execute_result"
    }
   ],
   "source": [
    "cat_df = df_train.select_dtypes(include=cat_vars)\n",
    "cat_df.columns"
   ]
  },
  {
   "cell_type": "code",
   "execution_count": 19,
   "id": "83eac26d",
   "metadata": {
    "execution": {
     "iopub.execute_input": "2023-01-17T01:50:13.783013Z",
     "iopub.status.busy": "2023-01-17T01:50:13.782189Z",
     "iopub.status.idle": "2023-01-17T01:50:13.797490Z",
     "shell.execute_reply": "2023-01-17T01:50:13.796782Z",
     "shell.execute_reply.started": "2023-01-17T01:33:07.218992Z"
    },
    "papermill": {
     "duration": 0.106109,
     "end_time": "2023-01-17T01:50:13.797660",
     "exception": false,
     "start_time": "2023-01-17T01:50:13.691551",
     "status": "completed"
    },
    "tags": []
   },
   "outputs": [
    {
     "name": "stdout",
     "output_type": "stream",
     "text": [
      "Name          0\n",
      "Sex           0\n",
      "Ticket        0\n",
      "Cabin       687\n",
      "Embarked      2\n",
      "dtype: int64 =============\n",
      "Name has 891 labels\n",
      "Sex has 2 labels\n",
      "Ticket has 681 labels\n",
      "Cabin has 148 labels\n",
      "Embarked has 4 labels\n"
     ]
    }
   ],
   "source": [
    "##printing missing value and labels in each column\n",
    "print(cat_df.isnull().sum(), \"=============\")\n",
    "for var in list(cat_df.columns):\n",
    "    print(var, 'has', len(cat_df[var].unique()), 'labels')"
   ]
  },
  {
   "cell_type": "code",
   "execution_count": 20,
   "id": "3a30b70f",
   "metadata": {
    "execution": {
     "iopub.execute_input": "2023-01-17T01:50:13.979010Z",
     "iopub.status.busy": "2023-01-17T01:50:13.978183Z",
     "iopub.status.idle": "2023-01-17T01:50:13.999247Z",
     "shell.execute_reply": "2023-01-17T01:50:13.998484Z",
     "shell.execute_reply.started": "2023-01-17T01:33:07.236231Z"
    },
    "papermill": {
     "duration": 0.11524,
     "end_time": "2023-01-17T01:50:13.999457",
     "exception": false,
     "start_time": "2023-01-17T01:50:13.884217",
     "status": "completed"
    },
    "tags": []
   },
   "outputs": [
    {
     "name": "stdout",
     "output_type": "stream",
     "text": [
      "Abbott, Mr. Rossmore Edward              1\n",
      "Abbott, Mrs. Stanton (Rosa Hunt)         1\n",
      "Abelson, Mr. Samuel                      1\n",
      "Abelson, Mrs. Samuel (Hannah Wizosky)    1\n",
      "Adahl, Mr. Mauritz Nils Martin           1\n",
      "                                        ..\n",
      "de Mulder, Mr. Theodore                  1\n",
      "de Pelsmaeker, Mr. Alfons                1\n",
      "del Carlo, Mr. Sebastiano                1\n",
      "van Billiard, Mr. Austin Blyler          1\n",
      "van Melkebeke, Mr. Philemon              1\n",
      "Length: 890, dtype: int64\n"
     ]
    }
   ],
   "source": [
    "# one-hot encoding Name column\n",
    "pd.get_dummies(df_train['Name'], drop_first=True).head()\n",
    "\n",
    "##printing the sum of 1s in each column\n",
    "print(pd.get_dummies(df_train['Name'], drop_first=True).sum(axis=0))"
   ]
  },
  {
   "cell_type": "code",
   "execution_count": 21,
   "id": "e93bfedf",
   "metadata": {
    "execution": {
     "iopub.execute_input": "2023-01-17T01:50:14.183659Z",
     "iopub.status.busy": "2023-01-17T01:50:14.182818Z",
     "iopub.status.idle": "2023-01-17T01:50:14.186506Z",
     "shell.execute_reply": "2023-01-17T01:50:14.187069Z",
     "shell.execute_reply.started": "2023-01-17T01:33:07.259188Z"
    },
    "papermill": {
     "duration": 0.098556,
     "end_time": "2023-01-17T01:50:14.187269",
     "exception": false,
     "start_time": "2023-01-17T01:50:14.088713",
     "status": "completed"
    },
    "tags": []
   },
   "outputs": [
    {
     "name": "stdout",
     "output_type": "stream",
     "text": [
      "342 passengers survived out of 891\n"
     ]
    }
   ],
   "source": [
    "# Examining how many passengers survived\n",
    "print(sum(df_train['Survived']),'passengers survived out of',len(df_train))"
   ]
  },
  {
   "cell_type": "code",
   "execution_count": 22,
   "id": "52b46282",
   "metadata": {
    "execution": {
     "iopub.execute_input": "2023-01-17T01:50:14.369648Z",
     "iopub.status.busy": "2023-01-17T01:50:14.368842Z",
     "iopub.status.idle": "2023-01-17T01:50:14.384831Z",
     "shell.execute_reply": "2023-01-17T01:50:14.384166Z",
     "shell.execute_reply.started": "2023-01-17T01:33:07.266600Z"
    },
    "papermill": {
     "duration": 0.108591,
     "end_time": "2023-01-17T01:50:14.385019",
     "exception": false,
     "start_time": "2023-01-17T01:50:14.276428",
     "status": "completed"
    },
    "tags": []
   },
   "outputs": [
    {
     "data": {
      "text/html": [
       "<div>\n",
       "<style scoped>\n",
       "    .dataframe tbody tr th:only-of-type {\n",
       "        vertical-align: middle;\n",
       "    }\n",
       "\n",
       "    .dataframe tbody tr th {\n",
       "        vertical-align: top;\n",
       "    }\n",
       "\n",
       "    .dataframe thead th {\n",
       "        text-align: right;\n",
       "    }\n",
       "</style>\n",
       "<table border=\"1\" class=\"dataframe\">\n",
       "  <thead>\n",
       "    <tr style=\"text-align: right;\">\n",
       "      <th></th>\n",
       "      <th>Name</th>\n",
       "      <th>Age</th>\n",
       "    </tr>\n",
       "  </thead>\n",
       "  <tbody>\n",
       "    <tr>\n",
       "      <th>0</th>\n",
       "      <td>Braund, Mr. Owen Harris</td>\n",
       "      <td>22.0</td>\n",
       "    </tr>\n",
       "    <tr>\n",
       "      <th>1</th>\n",
       "      <td>Cumings, Mrs. John Bradley (Florence Briggs Th...</td>\n",
       "      <td>38.0</td>\n",
       "    </tr>\n",
       "    <tr>\n",
       "      <th>2</th>\n",
       "      <td>Heikkinen, Miss. Laina</td>\n",
       "      <td>26.0</td>\n",
       "    </tr>\n",
       "    <tr>\n",
       "      <th>3</th>\n",
       "      <td>Futrelle, Mrs. Jacques Heath (Lily May Peel)</td>\n",
       "      <td>35.0</td>\n",
       "    </tr>\n",
       "    <tr>\n",
       "      <th>4</th>\n",
       "      <td>Allen, Mr. William Henry</td>\n",
       "      <td>35.0</td>\n",
       "    </tr>\n",
       "    <tr>\n",
       "      <th>...</th>\n",
       "      <td>...</td>\n",
       "      <td>...</td>\n",
       "    </tr>\n",
       "    <tr>\n",
       "      <th>886</th>\n",
       "      <td>Montvila, Rev. Juozas</td>\n",
       "      <td>27.0</td>\n",
       "    </tr>\n",
       "    <tr>\n",
       "      <th>887</th>\n",
       "      <td>Graham, Miss. Margaret Edith</td>\n",
       "      <td>19.0</td>\n",
       "    </tr>\n",
       "    <tr>\n",
       "      <th>888</th>\n",
       "      <td>Johnston, Miss. Catherine Helen \"Carrie\"</td>\n",
       "      <td>NaN</td>\n",
       "    </tr>\n",
       "    <tr>\n",
       "      <th>889</th>\n",
       "      <td>Behr, Mr. Karl Howell</td>\n",
       "      <td>26.0</td>\n",
       "    </tr>\n",
       "    <tr>\n",
       "      <th>890</th>\n",
       "      <td>Dooley, Mr. Patrick</td>\n",
       "      <td>32.0</td>\n",
       "    </tr>\n",
       "  </tbody>\n",
       "</table>\n",
       "<p>891 rows × 2 columns</p>\n",
       "</div>"
      ],
      "text/plain": [
       "                                                  Name   Age\n",
       "0                              Braund, Mr. Owen Harris  22.0\n",
       "1    Cumings, Mrs. John Bradley (Florence Briggs Th...  38.0\n",
       "2                               Heikkinen, Miss. Laina  26.0\n",
       "3         Futrelle, Mrs. Jacques Heath (Lily May Peel)  35.0\n",
       "4                             Allen, Mr. William Henry  35.0\n",
       "..                                                 ...   ...\n",
       "886                              Montvila, Rev. Juozas  27.0\n",
       "887                       Graham, Miss. Margaret Edith  19.0\n",
       "888           Johnston, Miss. Catherine Helen \"Carrie\"   NaN\n",
       "889                              Behr, Mr. Karl Howell  26.0\n",
       "890                                Dooley, Mr. Patrick  32.0\n",
       "\n",
       "[891 rows x 2 columns]"
      ]
     },
     "execution_count": 22,
     "metadata": {},
     "output_type": "execute_result"
    }
   ],
   "source": [
    "# One can look at several columns together\n",
    "df_train[[\"Name\", \"Age\"]]"
   ]
  },
  {
   "cell_type": "markdown",
   "id": "6d73dabb",
   "metadata": {
    "papermill": {
     "duration": 0.092337,
     "end_time": "2023-01-17T01:50:14.574151",
     "exception": false,
     "start_time": "2023-01-17T01:50:14.481814",
     "status": "completed"
    },
    "tags": []
   },
   "source": [
    "## Cleaning up the data"
   ]
  },
  {
   "cell_type": "code",
   "execution_count": 23,
   "id": "54fe9988",
   "metadata": {
    "execution": {
     "iopub.execute_input": "2023-01-17T01:50:14.759883Z",
     "iopub.status.busy": "2023-01-17T01:50:14.758849Z",
     "iopub.status.idle": "2023-01-17T01:50:14.762712Z",
     "shell.execute_reply": "2023-01-17T01:50:14.763203Z",
     "shell.execute_reply.started": "2023-01-17T01:33:07.288043Z"
    },
    "papermill": {
     "duration": 0.098233,
     "end_time": "2023-01-17T01:50:14.763421",
     "exception": false,
     "start_time": "2023-01-17T01:50:14.665188",
     "status": "completed"
    },
    "tags": []
   },
   "outputs": [
    {
     "data": {
      "text/plain": [
       "PassengerId      0\n",
       "Survived         0\n",
       "Pclass           0\n",
       "Name             0\n",
       "Sex              0\n",
       "Age            177\n",
       "SibSp            0\n",
       "Parch            0\n",
       "Ticket           0\n",
       "Fare             0\n",
       "Cabin          687\n",
       "Embarked         2\n",
       "dtype: int64"
      ]
     },
     "execution_count": 23,
     "metadata": {},
     "output_type": "execute_result"
    }
   ],
   "source": [
    "df_train.isnull().sum()"
   ]
  },
  {
   "cell_type": "markdown",
   "id": "676400b2",
   "metadata": {
    "papermill": {
     "duration": 0.089501,
     "end_time": "2023-01-17T01:50:14.938844",
     "exception": false,
     "start_time": "2023-01-17T01:50:14.849343",
     "status": "completed"
    },
    "tags": []
   },
   "source": [
    "**The Cabin column is missing too many values to be useful (687). We have to drop it. Age and Embarked are useful so we'll use a technique to handle them**"
   ]
  },
  {
   "cell_type": "code",
   "execution_count": 24,
   "id": "48008ab3",
   "metadata": {
    "execution": {
     "iopub.execute_input": "2023-01-17T01:50:15.125647Z",
     "iopub.status.busy": "2023-01-17T01:50:15.124517Z",
     "iopub.status.idle": "2023-01-17T01:50:15.128761Z",
     "shell.execute_reply": "2023-01-17T01:50:15.129323Z",
     "shell.execute_reply.started": "2023-01-17T01:33:07.304030Z"
    },
    "papermill": {
     "duration": 0.101028,
     "end_time": "2023-01-17T01:50:15.129518",
     "exception": false,
     "start_time": "2023-01-17T01:50:15.028490",
     "status": "completed"
    },
    "tags": []
   },
   "outputs": [
    {
     "data": {
      "text/plain": [
       "0       NaN\n",
       "1       C85\n",
       "2       NaN\n",
       "3      C123\n",
       "4       NaN\n",
       "       ... \n",
       "886     NaN\n",
       "887     B42\n",
       "888     NaN\n",
       "889    C148\n",
       "890     NaN\n",
       "Name: Cabin, Length: 891, dtype: object"
      ]
     },
     "execution_count": 24,
     "metadata": {},
     "output_type": "execute_result"
    }
   ],
   "source": [
    "df_train['Cabin']"
   ]
  },
  {
   "cell_type": "code",
   "execution_count": 25,
   "id": "ef12e9f9",
   "metadata": {
    "execution": {
     "iopub.execute_input": "2023-01-17T01:50:15.318889Z",
     "iopub.status.busy": "2023-01-17T01:50:15.317937Z",
     "iopub.status.idle": "2023-01-17T01:50:15.323038Z",
     "shell.execute_reply": "2023-01-17T01:50:15.322177Z",
     "shell.execute_reply.started": "2023-01-17T01:33:07.315669Z"
    },
    "papermill": {
     "duration": 0.104099,
     "end_time": "2023-01-17T01:50:15.323253",
     "exception": false,
     "start_time": "2023-01-17T01:50:15.219154",
     "status": "completed"
    },
    "tags": []
   },
   "outputs": [
    {
     "name": "stdout",
     "output_type": "stream",
     "text": [
      "The Cabin column is missing 687 values out of 891\n"
     ]
    }
   ],
   "source": [
    "print(\"The Cabin column is missing\", sum(df_train['Cabin'].isna()), \"values out of\",len(df_train['Cabin']))"
   ]
  },
  {
   "cell_type": "markdown",
   "id": "b068ec92",
   "metadata": {
    "papermill": {
     "duration": 0.109102,
     "end_time": "2023-01-17T01:50:15.527440",
     "exception": false,
     "start_time": "2023-01-17T01:50:15.418338",
     "status": "completed"
    },
    "tags": []
   },
   "source": [
    "**Drop missing values**"
   ]
  },
  {
   "cell_type": "code",
   "execution_count": 26,
   "id": "42eea463",
   "metadata": {
    "execution": {
     "iopub.execute_input": "2023-01-17T01:50:15.739750Z",
     "iopub.status.busy": "2023-01-17T01:50:15.738931Z",
     "iopub.status.idle": "2023-01-17T01:50:15.742099Z",
     "shell.execute_reply": "2023-01-17T01:50:15.741549Z",
     "shell.execute_reply.started": "2023-01-17T01:33:07.327855Z"
    },
    "papermill": {
     "duration": 0.10505,
     "end_time": "2023-01-17T01:50:15.742261",
     "exception": false,
     "start_time": "2023-01-17T01:50:15.637211",
     "status": "completed"
    },
    "tags": []
   },
   "outputs": [],
   "source": [
    "# Drop missing values\n",
    "df_train = df_train.drop('Cabin', axis=1)"
   ]
  },
  {
   "cell_type": "code",
   "execution_count": 27,
   "id": "6539e438",
   "metadata": {
    "execution": {
     "iopub.execute_input": "2023-01-17T01:50:15.945360Z",
     "iopub.status.busy": "2023-01-17T01:50:15.944550Z",
     "iopub.status.idle": "2023-01-17T01:50:15.949116Z",
     "shell.execute_reply": "2023-01-17T01:50:15.948550Z",
     "shell.execute_reply.started": "2023-01-17T01:33:07.339766Z"
    },
    "papermill": {
     "duration": 0.11612,
     "end_time": "2023-01-17T01:50:15.949311",
     "exception": false,
     "start_time": "2023-01-17T01:50:15.833191",
     "status": "completed"
    },
    "tags": []
   },
   "outputs": [
    {
     "data": {
      "text/html": [
       "<div>\n",
       "<style scoped>\n",
       "    .dataframe tbody tr th:only-of-type {\n",
       "        vertical-align: middle;\n",
       "    }\n",
       "\n",
       "    .dataframe tbody tr th {\n",
       "        vertical-align: top;\n",
       "    }\n",
       "\n",
       "    .dataframe thead th {\n",
       "        text-align: right;\n",
       "    }\n",
       "</style>\n",
       "<table border=\"1\" class=\"dataframe\">\n",
       "  <thead>\n",
       "    <tr style=\"text-align: right;\">\n",
       "      <th></th>\n",
       "      <th>PassengerId</th>\n",
       "      <th>Survived</th>\n",
       "      <th>Pclass</th>\n",
       "      <th>Name</th>\n",
       "      <th>Sex</th>\n",
       "      <th>Age</th>\n",
       "      <th>SibSp</th>\n",
       "      <th>Parch</th>\n",
       "      <th>Ticket</th>\n",
       "      <th>Fare</th>\n",
       "      <th>Embarked</th>\n",
       "    </tr>\n",
       "  </thead>\n",
       "  <tbody>\n",
       "    <tr>\n",
       "      <th>0</th>\n",
       "      <td>1</td>\n",
       "      <td>0</td>\n",
       "      <td>3</td>\n",
       "      <td>Braund, Mr. Owen Harris</td>\n",
       "      <td>male</td>\n",
       "      <td>22.0</td>\n",
       "      <td>1</td>\n",
       "      <td>0</td>\n",
       "      <td>A/5 21171</td>\n",
       "      <td>7.2500</td>\n",
       "      <td>S</td>\n",
       "    </tr>\n",
       "    <tr>\n",
       "      <th>1</th>\n",
       "      <td>2</td>\n",
       "      <td>1</td>\n",
       "      <td>1</td>\n",
       "      <td>Cumings, Mrs. John Bradley (Florence Briggs Th...</td>\n",
       "      <td>female</td>\n",
       "      <td>38.0</td>\n",
       "      <td>1</td>\n",
       "      <td>0</td>\n",
       "      <td>PC 17599</td>\n",
       "      <td>71.2833</td>\n",
       "      <td>C</td>\n",
       "    </tr>\n",
       "    <tr>\n",
       "      <th>2</th>\n",
       "      <td>3</td>\n",
       "      <td>1</td>\n",
       "      <td>3</td>\n",
       "      <td>Heikkinen, Miss. Laina</td>\n",
       "      <td>female</td>\n",
       "      <td>26.0</td>\n",
       "      <td>0</td>\n",
       "      <td>0</td>\n",
       "      <td>STON/O2. 3101282</td>\n",
       "      <td>7.9250</td>\n",
       "      <td>S</td>\n",
       "    </tr>\n",
       "    <tr>\n",
       "      <th>3</th>\n",
       "      <td>4</td>\n",
       "      <td>1</td>\n",
       "      <td>1</td>\n",
       "      <td>Futrelle, Mrs. Jacques Heath (Lily May Peel)</td>\n",
       "      <td>female</td>\n",
       "      <td>35.0</td>\n",
       "      <td>1</td>\n",
       "      <td>0</td>\n",
       "      <td>113803</td>\n",
       "      <td>53.1000</td>\n",
       "      <td>S</td>\n",
       "    </tr>\n",
       "    <tr>\n",
       "      <th>4</th>\n",
       "      <td>5</td>\n",
       "      <td>0</td>\n",
       "      <td>3</td>\n",
       "      <td>Allen, Mr. William Henry</td>\n",
       "      <td>male</td>\n",
       "      <td>35.0</td>\n",
       "      <td>0</td>\n",
       "      <td>0</td>\n",
       "      <td>373450</td>\n",
       "      <td>8.0500</td>\n",
       "      <td>S</td>\n",
       "    </tr>\n",
       "  </tbody>\n",
       "</table>\n",
       "</div>"
      ],
      "text/plain": [
       "   PassengerId  Survived  Pclass  \\\n",
       "0            1         0       3   \n",
       "1            2         1       1   \n",
       "2            3         1       3   \n",
       "3            4         1       1   \n",
       "4            5         0       3   \n",
       "\n",
       "                                                Name     Sex   Age  SibSp  \\\n",
       "0                            Braund, Mr. Owen Harris    male  22.0      1   \n",
       "1  Cumings, Mrs. John Bradley (Florence Briggs Th...  female  38.0      1   \n",
       "2                             Heikkinen, Miss. Laina  female  26.0      0   \n",
       "3       Futrelle, Mrs. Jacques Heath (Lily May Peel)  female  35.0      1   \n",
       "4                           Allen, Mr. William Henry    male  35.0      0   \n",
       "\n",
       "   Parch            Ticket     Fare Embarked  \n",
       "0      0         A/5 21171   7.2500        S  \n",
       "1      0          PC 17599  71.2833        C  \n",
       "2      0  STON/O2. 3101282   7.9250        S  \n",
       "3      0            113803  53.1000        S  \n",
       "4      0            373450   8.0500        S  "
      ]
     },
     "execution_count": 27,
     "metadata": {},
     "output_type": "execute_result"
    }
   ],
   "source": [
    "df_train.head()"
   ]
  },
  {
   "cell_type": "markdown",
   "id": "4d49cbb4",
   "metadata": {
    "papermill": {
     "duration": 0.090921,
     "end_time": "2023-01-17T01:50:16.132103",
     "exception": false,
     "start_time": "2023-01-17T01:50:16.041182",
     "status": "completed"
    },
    "tags": []
   },
   "source": [
    "Other columns such as Age or Embarked are missing some values, but they can still be useful.\n",
    "\n",
    "For the age column, let's fill in the missing values with the median of all ages.\n",
    "\n",
    "For the Embarked column, let's make a new category called 'U', for Unknown port of embarkment."
   ]
  },
  {
   "cell_type": "code",
   "execution_count": 28,
   "id": "401c2456",
   "metadata": {
    "execution": {
     "iopub.execute_input": "2023-01-17T01:50:16.323112Z",
     "iopub.status.busy": "2023-01-17T01:50:16.322227Z",
     "iopub.status.idle": "2023-01-17T01:50:16.327214Z",
     "shell.execute_reply": "2023-01-17T01:50:16.327881Z",
     "shell.execute_reply.started": "2023-01-17T01:33:07.362352Z"
    },
    "papermill": {
     "duration": 0.108609,
     "end_time": "2023-01-17T01:50:16.328098",
     "exception": false,
     "start_time": "2023-01-17T01:50:16.219489",
     "status": "completed"
    },
    "tags": []
   },
   "outputs": [
    {
     "name": "stdout",
     "output_type": "stream",
     "text": [
      "<class 'pandas.core.frame.DataFrame'>\n",
      "RangeIndex: 891 entries, 0 to 890\n",
      "Data columns (total 11 columns):\n",
      " #   Column       Non-Null Count  Dtype  \n",
      "---  ------       --------------  -----  \n",
      " 0   PassengerId  891 non-null    int64  \n",
      " 1   Survived     891 non-null    int64  \n",
      " 2   Pclass       891 non-null    int64  \n",
      " 3   Name         891 non-null    object \n",
      " 4   Sex          891 non-null    object \n",
      " 5   Age          714 non-null    float64\n",
      " 6   SibSp        891 non-null    int64  \n",
      " 7   Parch        891 non-null    int64  \n",
      " 8   Ticket       891 non-null    object \n",
      " 9   Fare         891 non-null    float64\n",
      " 10  Embarked     889 non-null    object \n",
      "dtypes: float64(2), int64(5), object(4)\n",
      "memory usage: 76.7+ KB\n"
     ]
    }
   ],
   "source": [
    "df_train.info()"
   ]
  },
  {
   "cell_type": "markdown",
   "id": "6b22880e",
   "metadata": {
    "papermill": {
     "duration": 0.088423,
     "end_time": "2023-01-17T01:50:16.507471",
     "exception": false,
     "start_time": "2023-01-17T01:50:16.419048",
     "status": "completed"
    },
    "tags": []
   },
   "source": [
    "**For the age column, let's fill in the missing values with the median of all ages.**"
   ]
  },
  {
   "cell_type": "code",
   "execution_count": 29,
   "id": "aa7ddb7e",
   "metadata": {
    "execution": {
     "iopub.execute_input": "2023-01-17T01:50:16.700249Z",
     "iopub.status.busy": "2023-01-17T01:50:16.698492Z",
     "iopub.status.idle": "2023-01-17T01:50:16.703189Z",
     "shell.execute_reply": "2023-01-17T01:50:16.703760Z",
     "shell.execute_reply.started": "2023-01-17T01:33:07.378034Z"
    },
    "papermill": {
     "duration": 0.104521,
     "end_time": "2023-01-17T01:50:16.703985",
     "exception": false,
     "start_time": "2023-01-17T01:50:16.599464",
     "status": "completed"
    },
    "tags": []
   },
   "outputs": [
    {
     "data": {
      "text/plain": [
       "0      22.0\n",
       "1      38.0\n",
       "2      26.0\n",
       "3      35.0\n",
       "4      35.0\n",
       "       ... \n",
       "886    27.0\n",
       "887    19.0\n",
       "888     NaN\n",
       "889    26.0\n",
       "890    32.0\n",
       "Name: Age, Length: 891, dtype: float64"
      ]
     },
     "execution_count": 29,
     "metadata": {},
     "output_type": "execute_result"
    }
   ],
   "source": [
    "df_train.Age"
   ]
  },
  {
   "cell_type": "code",
   "execution_count": 30,
   "id": "831757c9",
   "metadata": {
    "execution": {
     "iopub.execute_input": "2023-01-17T01:50:16.890958Z",
     "iopub.status.busy": "2023-01-17T01:50:16.890054Z",
     "iopub.status.idle": "2023-01-17T01:50:16.894068Z",
     "shell.execute_reply": "2023-01-17T01:50:16.893510Z",
     "shell.execute_reply.started": "2023-01-17T01:33:07.396160Z"
    },
    "papermill": {
     "duration": 0.098818,
     "end_time": "2023-01-17T01:50:16.894244",
     "exception": false,
     "start_time": "2023-01-17T01:50:16.795426",
     "status": "completed"
    },
    "tags": []
   },
   "outputs": [
    {
     "data": {
      "text/plain": [
       "28.0"
      ]
     },
     "execution_count": 30,
     "metadata": {},
     "output_type": "execute_result"
    }
   ],
   "source": [
    "# get the median of all ages\n",
    "median_age = df_train.Age.median()\n",
    "median_age"
   ]
  },
  {
   "cell_type": "code",
   "execution_count": 31,
   "id": "2ff91de2",
   "metadata": {
    "execution": {
     "iopub.execute_input": "2023-01-17T01:50:17.076810Z",
     "iopub.status.busy": "2023-01-17T01:50:17.075930Z",
     "iopub.status.idle": "2023-01-17T01:50:17.080053Z",
     "shell.execute_reply": "2023-01-17T01:50:17.079338Z",
     "shell.execute_reply.started": "2023-01-17T01:33:07.409959Z"
    },
    "papermill": {
     "duration": 0.095784,
     "end_time": "2023-01-17T01:50:17.080204",
     "exception": false,
     "start_time": "2023-01-17T01:50:16.984420",
     "status": "completed"
    },
    "tags": []
   },
   "outputs": [],
   "source": [
    "# fill in the missing values with the median of all ages\n",
    "df_train.Age = df_train.Age.fillna(median_age)"
   ]
  },
  {
   "cell_type": "code",
   "execution_count": 32,
   "id": "19e6e2b7",
   "metadata": {
    "execution": {
     "iopub.execute_input": "2023-01-17T01:50:17.265035Z",
     "iopub.status.busy": "2023-01-17T01:50:17.264015Z",
     "iopub.status.idle": "2023-01-17T01:50:17.269496Z",
     "shell.execute_reply": "2023-01-17T01:50:17.268545Z",
     "shell.execute_reply.started": "2023-01-17T01:33:07.420008Z"
    },
    "papermill": {
     "duration": 0.100825,
     "end_time": "2023-01-17T01:50:17.269671",
     "exception": false,
     "start_time": "2023-01-17T01:50:17.168846",
     "status": "completed"
    },
    "tags": []
   },
   "outputs": [
    {
     "data": {
      "text/plain": [
       "0      22.0\n",
       "1      38.0\n",
       "2      26.0\n",
       "3      35.0\n",
       "4      35.0\n",
       "       ... \n",
       "886    27.0\n",
       "887    19.0\n",
       "888    28.0\n",
       "889    26.0\n",
       "890    32.0\n",
       "Name: Age, Length: 891, dtype: float64"
      ]
     },
     "execution_count": 32,
     "metadata": {},
     "output_type": "execute_result"
    }
   ],
   "source": [
    "df_train.Age"
   ]
  },
  {
   "cell_type": "markdown",
   "id": "1cab8cd6",
   "metadata": {
    "papermill": {
     "duration": 0.098236,
     "end_time": "2023-01-17T01:50:17.462453",
     "exception": false,
     "start_time": "2023-01-17T01:50:17.364217",
     "status": "completed"
    },
    "tags": []
   },
   "source": [
    "**For the Embarked column, let's make a new category called 'U', for Unknown port of embarkment.**"
   ]
  },
  {
   "cell_type": "code",
   "execution_count": 33,
   "id": "88d228f4",
   "metadata": {
    "execution": {
     "iopub.execute_input": "2023-01-17T01:50:17.663428Z",
     "iopub.status.busy": "2023-01-17T01:50:17.662224Z",
     "iopub.status.idle": "2023-01-17T01:50:17.665486Z",
     "shell.execute_reply": "2023-01-17T01:50:17.664792Z",
     "shell.execute_reply.started": "2023-01-17T01:33:07.438686Z"
    },
    "papermill": {
     "duration": 0.102971,
     "end_time": "2023-01-17T01:50:17.665655",
     "exception": false,
     "start_time": "2023-01-17T01:50:17.562684",
     "status": "completed"
    },
    "tags": []
   },
   "outputs": [],
   "source": [
    "df_train.Embarked = df_train.Embarked.fillna('U')"
   ]
  },
  {
   "cell_type": "code",
   "execution_count": 34,
   "id": "4165122c",
   "metadata": {
    "execution": {
     "iopub.execute_input": "2023-01-17T01:50:17.865283Z",
     "iopub.status.busy": "2023-01-17T01:50:17.864449Z",
     "iopub.status.idle": "2023-01-17T01:50:17.868081Z",
     "shell.execute_reply": "2023-01-17T01:50:17.867502Z",
     "shell.execute_reply.started": "2023-01-17T01:33:07.450949Z"
    },
    "papermill": {
     "duration": 0.108494,
     "end_time": "2023-01-17T01:50:17.868241",
     "exception": false,
     "start_time": "2023-01-17T01:50:17.759747",
     "status": "completed"
    },
    "tags": []
   },
   "outputs": [
    {
     "data": {
      "text/plain": [
       "PassengerId    0\n",
       "Survived       0\n",
       "Pclass         0\n",
       "Name           0\n",
       "Sex            0\n",
       "Age            0\n",
       "SibSp          0\n",
       "Parch          0\n",
       "Ticket         0\n",
       "Fare           0\n",
       "Embarked       0\n",
       "dtype: int64"
      ]
     },
     "execution_count": 34,
     "metadata": {},
     "output_type": "execute_result"
    }
   ],
   "source": [
    "# check again empty values\n",
    "df_train.isnull().sum()"
   ]
  },
  {
   "cell_type": "markdown",
   "id": "b63194f8",
   "metadata": {
    "papermill": {
     "duration": 0.100884,
     "end_time": "2023-01-17T01:50:18.063985",
     "exception": false,
     "start_time": "2023-01-17T01:50:17.963101",
     "status": "completed"
    },
    "tags": []
   },
   "source": [
    "## Feature engineering"
   ]
  },
  {
   "cell_type": "markdown",
   "id": "1c7aea09",
   "metadata": {
    "papermill": {
     "duration": 0.092737,
     "end_time": "2023-01-17T01:50:18.248222",
     "exception": false,
     "start_time": "2023-01-17T01:50:18.155485",
     "status": "completed"
    },
    "tags": []
   },
   "source": [
    "### One-hot encoding"
   ]
  },
  {
   "cell_type": "code",
   "execution_count": 35,
   "id": "ff6ec59e",
   "metadata": {
    "execution": {
     "iopub.execute_input": "2023-01-17T01:50:18.448087Z",
     "iopub.status.busy": "2023-01-17T01:50:18.447144Z",
     "iopub.status.idle": "2023-01-17T01:50:18.462546Z",
     "shell.execute_reply": "2023-01-17T01:50:18.461478Z",
     "shell.execute_reply.started": "2023-01-17T01:33:07.472544Z"
    },
    "papermill": {
     "duration": 0.116815,
     "end_time": "2023-01-17T01:50:18.462799",
     "exception": false,
     "start_time": "2023-01-17T01:50:18.345984",
     "status": "completed"
    },
    "tags": []
   },
   "outputs": [
    {
     "name": "stdout",
     "output_type": "stream",
     "text": [
      "<class 'pandas.core.frame.DataFrame'>\n",
      "RangeIndex: 891 entries, 0 to 890\n",
      "Data columns (total 11 columns):\n",
      " #   Column       Non-Null Count  Dtype  \n",
      "---  ------       --------------  -----  \n",
      " 0   PassengerId  891 non-null    int64  \n",
      " 1   Survived     891 non-null    int64  \n",
      " 2   Pclass       891 non-null    int64  \n",
      " 3   Name         891 non-null    object \n",
      " 4   Sex          891 non-null    object \n",
      " 5   Age          891 non-null    float64\n",
      " 6   SibSp        891 non-null    int64  \n",
      " 7   Parch        891 non-null    int64  \n",
      " 8   Ticket       891 non-null    object \n",
      " 9   Fare         891 non-null    float64\n",
      " 10  Embarked     891 non-null    object \n",
      "dtypes: float64(2), int64(5), object(4)\n",
      "memory usage: 76.7+ KB\n"
     ]
    }
   ],
   "source": [
    "# check categorical columns\n",
    "df_train.info()"
   ]
  },
  {
   "cell_type": "code",
   "execution_count": 36,
   "id": "51b9dbc7",
   "metadata": {
    "execution": {
     "iopub.execute_input": "2023-01-17T01:50:18.668830Z",
     "iopub.status.busy": "2023-01-17T01:50:18.667928Z",
     "iopub.status.idle": "2023-01-17T01:50:18.682323Z",
     "shell.execute_reply": "2023-01-17T01:50:18.683169Z",
     "shell.execute_reply.started": "2023-01-17T01:33:07.494286Z"
    },
    "papermill": {
     "duration": 0.12098,
     "end_time": "2023-01-17T01:50:18.683475",
     "exception": false,
     "start_time": "2023-01-17T01:50:18.562495",
     "status": "completed"
    },
    "tags": []
   },
   "outputs": [
    {
     "name": "stdout",
     "output_type": "stream",
     "text": [
      "     Sex_female  Sex_male\n",
      "0             0         1\n",
      "1             1         0\n",
      "2             1         0\n",
      "3             1         0\n",
      "4             0         1\n",
      "..          ...       ...\n",
      "886           0         1\n",
      "887           1         0\n",
      "888           1         0\n",
      "889           0         1\n",
      "890           0         1\n",
      "\n",
      "[891 rows x 2 columns]\n",
      "     Embarked_C  Embarked_Q  Embarked_S  Embarked_U\n",
      "0             0           0           1           0\n",
      "1             1           0           0           0\n",
      "2             0           0           1           0\n",
      "3             0           0           1           0\n",
      "4             0           0           1           0\n",
      "..          ...         ...         ...         ...\n",
      "886           0           0           1           0\n",
      "887           0           0           1           0\n",
      "888           0           0           1           0\n",
      "889           1           0           0           0\n",
      "890           0           1           0           0\n",
      "\n",
      "[891 rows x 4 columns]\n"
     ]
    }
   ],
   "source": [
    "gender_columns = pd.get_dummies(df_train.Sex, prefix='Sex')\n",
    "print(gender_columns)\n",
    "embarked_columns = pd.get_dummies(df_train.Embarked, prefix='Embarked')\n",
    "print(embarked_columns)"
   ]
  },
  {
   "cell_type": "code",
   "execution_count": 37,
   "id": "0eb82268",
   "metadata": {
    "execution": {
     "iopub.execute_input": "2023-01-17T01:50:18.868690Z",
     "iopub.status.busy": "2023-01-17T01:50:18.867968Z",
     "iopub.status.idle": "2023-01-17T01:50:18.884802Z",
     "shell.execute_reply": "2023-01-17T01:50:18.885455Z",
     "shell.execute_reply.started": "2023-01-17T01:33:07.512369Z"
    },
    "papermill": {
     "duration": 0.111297,
     "end_time": "2023-01-17T01:50:18.885665",
     "exception": false,
     "start_time": "2023-01-17T01:50:18.774368",
     "status": "completed"
    },
    "tags": []
   },
   "outputs": [
    {
     "data": {
      "text/html": [
       "<div>\n",
       "<style scoped>\n",
       "    .dataframe tbody tr th:only-of-type {\n",
       "        vertical-align: middle;\n",
       "    }\n",
       "\n",
       "    .dataframe tbody tr th {\n",
       "        vertical-align: top;\n",
       "    }\n",
       "\n",
       "    .dataframe thead th {\n",
       "        text-align: right;\n",
       "    }\n",
       "</style>\n",
       "<table border=\"1\" class=\"dataframe\">\n",
       "  <thead>\n",
       "    <tr style=\"text-align: right;\">\n",
       "      <th></th>\n",
       "      <th>PassengerId</th>\n",
       "      <th>Survived</th>\n",
       "      <th>Pclass</th>\n",
       "      <th>Name</th>\n",
       "      <th>Sex</th>\n",
       "      <th>Age</th>\n",
       "      <th>SibSp</th>\n",
       "      <th>Parch</th>\n",
       "      <th>Ticket</th>\n",
       "      <th>Fare</th>\n",
       "      <th>Embarked</th>\n",
       "    </tr>\n",
       "  </thead>\n",
       "  <tbody>\n",
       "    <tr>\n",
       "      <th>0</th>\n",
       "      <td>1</td>\n",
       "      <td>0</td>\n",
       "      <td>3</td>\n",
       "      <td>Braund, Mr. Owen Harris</td>\n",
       "      <td>male</td>\n",
       "      <td>22.0</td>\n",
       "      <td>1</td>\n",
       "      <td>0</td>\n",
       "      <td>A/5 21171</td>\n",
       "      <td>7.2500</td>\n",
       "      <td>S</td>\n",
       "    </tr>\n",
       "    <tr>\n",
       "      <th>1</th>\n",
       "      <td>2</td>\n",
       "      <td>1</td>\n",
       "      <td>1</td>\n",
       "      <td>Cumings, Mrs. John Bradley (Florence Briggs Th...</td>\n",
       "      <td>female</td>\n",
       "      <td>38.0</td>\n",
       "      <td>1</td>\n",
       "      <td>0</td>\n",
       "      <td>PC 17599</td>\n",
       "      <td>71.2833</td>\n",
       "      <td>C</td>\n",
       "    </tr>\n",
       "    <tr>\n",
       "      <th>2</th>\n",
       "      <td>3</td>\n",
       "      <td>1</td>\n",
       "      <td>3</td>\n",
       "      <td>Heikkinen, Miss. Laina</td>\n",
       "      <td>female</td>\n",
       "      <td>26.0</td>\n",
       "      <td>0</td>\n",
       "      <td>0</td>\n",
       "      <td>STON/O2. 3101282</td>\n",
       "      <td>7.9250</td>\n",
       "      <td>S</td>\n",
       "    </tr>\n",
       "    <tr>\n",
       "      <th>3</th>\n",
       "      <td>4</td>\n",
       "      <td>1</td>\n",
       "      <td>1</td>\n",
       "      <td>Futrelle, Mrs. Jacques Heath (Lily May Peel)</td>\n",
       "      <td>female</td>\n",
       "      <td>35.0</td>\n",
       "      <td>1</td>\n",
       "      <td>0</td>\n",
       "      <td>113803</td>\n",
       "      <td>53.1000</td>\n",
       "      <td>S</td>\n",
       "    </tr>\n",
       "    <tr>\n",
       "      <th>4</th>\n",
       "      <td>5</td>\n",
       "      <td>0</td>\n",
       "      <td>3</td>\n",
       "      <td>Allen, Mr. William Henry</td>\n",
       "      <td>male</td>\n",
       "      <td>35.0</td>\n",
       "      <td>0</td>\n",
       "      <td>0</td>\n",
       "      <td>373450</td>\n",
       "      <td>8.0500</td>\n",
       "      <td>S</td>\n",
       "    </tr>\n",
       "  </tbody>\n",
       "</table>\n",
       "</div>"
      ],
      "text/plain": [
       "   PassengerId  Survived  Pclass  \\\n",
       "0            1         0       3   \n",
       "1            2         1       1   \n",
       "2            3         1       3   \n",
       "3            4         1       1   \n",
       "4            5         0       3   \n",
       "\n",
       "                                                Name     Sex   Age  SibSp  \\\n",
       "0                            Braund, Mr. Owen Harris    male  22.0      1   \n",
       "1  Cumings, Mrs. John Bradley (Florence Briggs Th...  female  38.0      1   \n",
       "2                             Heikkinen, Miss. Laina  female  26.0      0   \n",
       "3       Futrelle, Mrs. Jacques Heath (Lily May Peel)  female  35.0      1   \n",
       "4                           Allen, Mr. William Henry    male  35.0      0   \n",
       "\n",
       "   Parch            Ticket     Fare Embarked  \n",
       "0      0         A/5 21171   7.2500        S  \n",
       "1      0          PC 17599  71.2833        C  \n",
       "2      0  STON/O2. 3101282   7.9250        S  \n",
       "3      0            113803  53.1000        S  \n",
       "4      0            373450   8.0500        S  "
      ]
     },
     "execution_count": 37,
     "metadata": {},
     "output_type": "execute_result"
    }
   ],
   "source": [
    "df_train.head()"
   ]
  },
  {
   "cell_type": "code",
   "execution_count": 38,
   "id": "5b376159",
   "metadata": {
    "execution": {
     "iopub.execute_input": "2023-01-17T01:50:19.084225Z",
     "iopub.status.busy": "2023-01-17T01:50:19.083483Z",
     "iopub.status.idle": "2023-01-17T01:50:19.086177Z",
     "shell.execute_reply": "2023-01-17T01:50:19.086880Z",
     "shell.execute_reply.started": "2023-01-17T01:33:07.531941Z"
    },
    "papermill": {
     "duration": 0.108096,
     "end_time": "2023-01-17T01:50:19.087083",
     "exception": false,
     "start_time": "2023-01-17T01:50:18.978987",
     "status": "completed"
    },
    "tags": []
   },
   "outputs": [],
   "source": [
    "# concat dataset with new columns\n",
    "df_train = pd.concat([df_train, gender_columns], axis=1)\n",
    "df_train = pd.concat([df_train, embarked_columns], axis=1)"
   ]
  },
  {
   "cell_type": "code",
   "execution_count": 39,
   "id": "22d49724",
   "metadata": {
    "execution": {
     "iopub.execute_input": "2023-01-17T01:50:19.284258Z",
     "iopub.status.busy": "2023-01-17T01:50:19.283427Z",
     "iopub.status.idle": "2023-01-17T01:50:19.299609Z",
     "shell.execute_reply": "2023-01-17T01:50:19.300196Z",
     "shell.execute_reply.started": "2023-01-17T01:33:07.540251Z"
    },
    "papermill": {
     "duration": 0.120655,
     "end_time": "2023-01-17T01:50:19.300417",
     "exception": false,
     "start_time": "2023-01-17T01:50:19.179762",
     "status": "completed"
    },
    "tags": []
   },
   "outputs": [
    {
     "data": {
      "text/html": [
       "<div>\n",
       "<style scoped>\n",
       "    .dataframe tbody tr th:only-of-type {\n",
       "        vertical-align: middle;\n",
       "    }\n",
       "\n",
       "    .dataframe tbody tr th {\n",
       "        vertical-align: top;\n",
       "    }\n",
       "\n",
       "    .dataframe thead th {\n",
       "        text-align: right;\n",
       "    }\n",
       "</style>\n",
       "<table border=\"1\" class=\"dataframe\">\n",
       "  <thead>\n",
       "    <tr style=\"text-align: right;\">\n",
       "      <th></th>\n",
       "      <th>PassengerId</th>\n",
       "      <th>Survived</th>\n",
       "      <th>Pclass</th>\n",
       "      <th>Name</th>\n",
       "      <th>Sex</th>\n",
       "      <th>Age</th>\n",
       "      <th>SibSp</th>\n",
       "      <th>Parch</th>\n",
       "      <th>Ticket</th>\n",
       "      <th>Fare</th>\n",
       "      <th>Embarked</th>\n",
       "      <th>Sex_female</th>\n",
       "      <th>Sex_male</th>\n",
       "      <th>Embarked_C</th>\n",
       "      <th>Embarked_Q</th>\n",
       "      <th>Embarked_S</th>\n",
       "      <th>Embarked_U</th>\n",
       "    </tr>\n",
       "  </thead>\n",
       "  <tbody>\n",
       "    <tr>\n",
       "      <th>0</th>\n",
       "      <td>1</td>\n",
       "      <td>0</td>\n",
       "      <td>3</td>\n",
       "      <td>Braund, Mr. Owen Harris</td>\n",
       "      <td>male</td>\n",
       "      <td>22.0</td>\n",
       "      <td>1</td>\n",
       "      <td>0</td>\n",
       "      <td>A/5 21171</td>\n",
       "      <td>7.2500</td>\n",
       "      <td>S</td>\n",
       "      <td>0</td>\n",
       "      <td>1</td>\n",
       "      <td>0</td>\n",
       "      <td>0</td>\n",
       "      <td>1</td>\n",
       "      <td>0</td>\n",
       "    </tr>\n",
       "    <tr>\n",
       "      <th>1</th>\n",
       "      <td>2</td>\n",
       "      <td>1</td>\n",
       "      <td>1</td>\n",
       "      <td>Cumings, Mrs. John Bradley (Florence Briggs Th...</td>\n",
       "      <td>female</td>\n",
       "      <td>38.0</td>\n",
       "      <td>1</td>\n",
       "      <td>0</td>\n",
       "      <td>PC 17599</td>\n",
       "      <td>71.2833</td>\n",
       "      <td>C</td>\n",
       "      <td>1</td>\n",
       "      <td>0</td>\n",
       "      <td>1</td>\n",
       "      <td>0</td>\n",
       "      <td>0</td>\n",
       "      <td>0</td>\n",
       "    </tr>\n",
       "    <tr>\n",
       "      <th>2</th>\n",
       "      <td>3</td>\n",
       "      <td>1</td>\n",
       "      <td>3</td>\n",
       "      <td>Heikkinen, Miss. Laina</td>\n",
       "      <td>female</td>\n",
       "      <td>26.0</td>\n",
       "      <td>0</td>\n",
       "      <td>0</td>\n",
       "      <td>STON/O2. 3101282</td>\n",
       "      <td>7.9250</td>\n",
       "      <td>S</td>\n",
       "      <td>1</td>\n",
       "      <td>0</td>\n",
       "      <td>0</td>\n",
       "      <td>0</td>\n",
       "      <td>1</td>\n",
       "      <td>0</td>\n",
       "    </tr>\n",
       "    <tr>\n",
       "      <th>3</th>\n",
       "      <td>4</td>\n",
       "      <td>1</td>\n",
       "      <td>1</td>\n",
       "      <td>Futrelle, Mrs. Jacques Heath (Lily May Peel)</td>\n",
       "      <td>female</td>\n",
       "      <td>35.0</td>\n",
       "      <td>1</td>\n",
       "      <td>0</td>\n",
       "      <td>113803</td>\n",
       "      <td>53.1000</td>\n",
       "      <td>S</td>\n",
       "      <td>1</td>\n",
       "      <td>0</td>\n",
       "      <td>0</td>\n",
       "      <td>0</td>\n",
       "      <td>1</td>\n",
       "      <td>0</td>\n",
       "    </tr>\n",
       "    <tr>\n",
       "      <th>4</th>\n",
       "      <td>5</td>\n",
       "      <td>0</td>\n",
       "      <td>3</td>\n",
       "      <td>Allen, Mr. William Henry</td>\n",
       "      <td>male</td>\n",
       "      <td>35.0</td>\n",
       "      <td>0</td>\n",
       "      <td>0</td>\n",
       "      <td>373450</td>\n",
       "      <td>8.0500</td>\n",
       "      <td>S</td>\n",
       "      <td>0</td>\n",
       "      <td>1</td>\n",
       "      <td>0</td>\n",
       "      <td>0</td>\n",
       "      <td>1</td>\n",
       "      <td>0</td>\n",
       "    </tr>\n",
       "  </tbody>\n",
       "</table>\n",
       "</div>"
      ],
      "text/plain": [
       "   PassengerId  Survived  Pclass  \\\n",
       "0            1         0       3   \n",
       "1            2         1       1   \n",
       "2            3         1       3   \n",
       "3            4         1       1   \n",
       "4            5         0       3   \n",
       "\n",
       "                                                Name     Sex   Age  SibSp  \\\n",
       "0                            Braund, Mr. Owen Harris    male  22.0      1   \n",
       "1  Cumings, Mrs. John Bradley (Florence Briggs Th...  female  38.0      1   \n",
       "2                             Heikkinen, Miss. Laina  female  26.0      0   \n",
       "3       Futrelle, Mrs. Jacques Heath (Lily May Peel)  female  35.0      1   \n",
       "4                           Allen, Mr. William Henry    male  35.0      0   \n",
       "\n",
       "   Parch            Ticket     Fare Embarked  Sex_female  Sex_male  \\\n",
       "0      0         A/5 21171   7.2500        S           0         1   \n",
       "1      0          PC 17599  71.2833        C           1         0   \n",
       "2      0  STON/O2. 3101282   7.9250        S           1         0   \n",
       "3      0            113803  53.1000        S           1         0   \n",
       "4      0            373450   8.0500        S           0         1   \n",
       "\n",
       "   Embarked_C  Embarked_Q  Embarked_S  Embarked_U  \n",
       "0           0           0           1           0  \n",
       "1           1           0           0           0  \n",
       "2           0           0           1           0  \n",
       "3           0           0           1           0  \n",
       "4           0           0           1           0  "
      ]
     },
     "execution_count": 39,
     "metadata": {},
     "output_type": "execute_result"
    }
   ],
   "source": [
    "df_train.head()"
   ]
  },
  {
   "cell_type": "code",
   "execution_count": 40,
   "id": "3ad87ebe",
   "metadata": {
    "execution": {
     "iopub.execute_input": "2023-01-17T01:50:19.491640Z",
     "iopub.status.busy": "2023-01-17T01:50:19.490803Z",
     "iopub.status.idle": "2023-01-17T01:50:19.497274Z",
     "shell.execute_reply": "2023-01-17T01:50:19.497836Z",
     "shell.execute_reply.started": "2023-01-17T01:33:07.566679Z"
    },
    "papermill": {
     "duration": 0.104067,
     "end_time": "2023-01-17T01:50:19.498069",
     "exception": false,
     "start_time": "2023-01-17T01:50:19.394002",
     "status": "completed"
    },
    "tags": []
   },
   "outputs": [],
   "source": [
    "# drop Sex and Embarked\n",
    "df_train = df_train.drop(['Sex', 'Embarked'], axis=1)"
   ]
  },
  {
   "cell_type": "code",
   "execution_count": 41,
   "id": "7ad1ae8d",
   "metadata": {
    "execution": {
     "iopub.execute_input": "2023-01-17T01:50:19.690710Z",
     "iopub.status.busy": "2023-01-17T01:50:19.689796Z",
     "iopub.status.idle": "2023-01-17T01:50:19.706965Z",
     "shell.execute_reply": "2023-01-17T01:50:19.706339Z",
     "shell.execute_reply.started": "2023-01-17T01:33:07.577912Z"
    },
    "papermill": {
     "duration": 0.111669,
     "end_time": "2023-01-17T01:50:19.707125",
     "exception": false,
     "start_time": "2023-01-17T01:50:19.595456",
     "status": "completed"
    },
    "tags": []
   },
   "outputs": [
    {
     "data": {
      "text/html": [
       "<div>\n",
       "<style scoped>\n",
       "    .dataframe tbody tr th:only-of-type {\n",
       "        vertical-align: middle;\n",
       "    }\n",
       "\n",
       "    .dataframe tbody tr th {\n",
       "        vertical-align: top;\n",
       "    }\n",
       "\n",
       "    .dataframe thead th {\n",
       "        text-align: right;\n",
       "    }\n",
       "</style>\n",
       "<table border=\"1\" class=\"dataframe\">\n",
       "  <thead>\n",
       "    <tr style=\"text-align: right;\">\n",
       "      <th></th>\n",
       "      <th>PassengerId</th>\n",
       "      <th>Survived</th>\n",
       "      <th>Pclass</th>\n",
       "      <th>Name</th>\n",
       "      <th>Age</th>\n",
       "      <th>SibSp</th>\n",
       "      <th>Parch</th>\n",
       "      <th>Ticket</th>\n",
       "      <th>Fare</th>\n",
       "      <th>Sex_female</th>\n",
       "      <th>Sex_male</th>\n",
       "      <th>Embarked_C</th>\n",
       "      <th>Embarked_Q</th>\n",
       "      <th>Embarked_S</th>\n",
       "      <th>Embarked_U</th>\n",
       "    </tr>\n",
       "  </thead>\n",
       "  <tbody>\n",
       "    <tr>\n",
       "      <th>0</th>\n",
       "      <td>1</td>\n",
       "      <td>0</td>\n",
       "      <td>3</td>\n",
       "      <td>Braund, Mr. Owen Harris</td>\n",
       "      <td>22.0</td>\n",
       "      <td>1</td>\n",
       "      <td>0</td>\n",
       "      <td>A/5 21171</td>\n",
       "      <td>7.2500</td>\n",
       "      <td>0</td>\n",
       "      <td>1</td>\n",
       "      <td>0</td>\n",
       "      <td>0</td>\n",
       "      <td>1</td>\n",
       "      <td>0</td>\n",
       "    </tr>\n",
       "    <tr>\n",
       "      <th>1</th>\n",
       "      <td>2</td>\n",
       "      <td>1</td>\n",
       "      <td>1</td>\n",
       "      <td>Cumings, Mrs. John Bradley (Florence Briggs Th...</td>\n",
       "      <td>38.0</td>\n",
       "      <td>1</td>\n",
       "      <td>0</td>\n",
       "      <td>PC 17599</td>\n",
       "      <td>71.2833</td>\n",
       "      <td>1</td>\n",
       "      <td>0</td>\n",
       "      <td>1</td>\n",
       "      <td>0</td>\n",
       "      <td>0</td>\n",
       "      <td>0</td>\n",
       "    </tr>\n",
       "    <tr>\n",
       "      <th>2</th>\n",
       "      <td>3</td>\n",
       "      <td>1</td>\n",
       "      <td>3</td>\n",
       "      <td>Heikkinen, Miss. Laina</td>\n",
       "      <td>26.0</td>\n",
       "      <td>0</td>\n",
       "      <td>0</td>\n",
       "      <td>STON/O2. 3101282</td>\n",
       "      <td>7.9250</td>\n",
       "      <td>1</td>\n",
       "      <td>0</td>\n",
       "      <td>0</td>\n",
       "      <td>0</td>\n",
       "      <td>1</td>\n",
       "      <td>0</td>\n",
       "    </tr>\n",
       "    <tr>\n",
       "      <th>3</th>\n",
       "      <td>4</td>\n",
       "      <td>1</td>\n",
       "      <td>1</td>\n",
       "      <td>Futrelle, Mrs. Jacques Heath (Lily May Peel)</td>\n",
       "      <td>35.0</td>\n",
       "      <td>1</td>\n",
       "      <td>0</td>\n",
       "      <td>113803</td>\n",
       "      <td>53.1000</td>\n",
       "      <td>1</td>\n",
       "      <td>0</td>\n",
       "      <td>0</td>\n",
       "      <td>0</td>\n",
       "      <td>1</td>\n",
       "      <td>0</td>\n",
       "    </tr>\n",
       "    <tr>\n",
       "      <th>4</th>\n",
       "      <td>5</td>\n",
       "      <td>0</td>\n",
       "      <td>3</td>\n",
       "      <td>Allen, Mr. William Henry</td>\n",
       "      <td>35.0</td>\n",
       "      <td>0</td>\n",
       "      <td>0</td>\n",
       "      <td>373450</td>\n",
       "      <td>8.0500</td>\n",
       "      <td>0</td>\n",
       "      <td>1</td>\n",
       "      <td>0</td>\n",
       "      <td>0</td>\n",
       "      <td>1</td>\n",
       "      <td>0</td>\n",
       "    </tr>\n",
       "  </tbody>\n",
       "</table>\n",
       "</div>"
      ],
      "text/plain": [
       "   PassengerId  Survived  Pclass  \\\n",
       "0            1         0       3   \n",
       "1            2         1       1   \n",
       "2            3         1       3   \n",
       "3            4         1       1   \n",
       "4            5         0       3   \n",
       "\n",
       "                                                Name   Age  SibSp  Parch  \\\n",
       "0                            Braund, Mr. Owen Harris  22.0      1      0   \n",
       "1  Cumings, Mrs. John Bradley (Florence Briggs Th...  38.0      1      0   \n",
       "2                             Heikkinen, Miss. Laina  26.0      0      0   \n",
       "3       Futrelle, Mrs. Jacques Heath (Lily May Peel)  35.0      1      0   \n",
       "4                           Allen, Mr. William Henry  35.0      0      0   \n",
       "\n",
       "             Ticket     Fare  Sex_female  Sex_male  Embarked_C  Embarked_Q  \\\n",
       "0         A/5 21171   7.2500           0         1           0           0   \n",
       "1          PC 17599  71.2833           1         0           1           0   \n",
       "2  STON/O2. 3101282   7.9250           1         0           0           0   \n",
       "3            113803  53.1000           1         0           0           0   \n",
       "4            373450   8.0500           0         1           0           0   \n",
       "\n",
       "   Embarked_S  Embarked_U  \n",
       "0           1           0  \n",
       "1           0           0  \n",
       "2           1           0  \n",
       "3           1           0  \n",
       "4           1           0  "
      ]
     },
     "execution_count": 41,
     "metadata": {},
     "output_type": "execute_result"
    }
   ],
   "source": [
    "df_train.head()"
   ]
  },
  {
   "cell_type": "code",
   "execution_count": 42,
   "id": "ed147fc9",
   "metadata": {
    "execution": {
     "iopub.execute_input": "2023-01-17T01:50:19.908753Z",
     "iopub.status.busy": "2023-01-17T01:50:19.905421Z",
     "iopub.status.idle": "2023-01-17T01:50:19.915656Z",
     "shell.execute_reply": "2023-01-17T01:50:19.916165Z",
     "shell.execute_reply.started": "2023-01-17T01:33:07.598432Z"
    },
    "papermill": {
     "duration": 0.112908,
     "end_time": "2023-01-17T01:50:19.916414",
     "exception": false,
     "start_time": "2023-01-17T01:50:19.803506",
     "status": "completed"
    },
    "tags": []
   },
   "outputs": [],
   "source": [
    "# Pclass has 3 class so it's categorical\n",
    "categorized_pclass_columns = pd.get_dummies(df_train['Pclass'], prefix='Pclass')\n",
    "df_train = pd.concat([df_train, categorized_pclass_columns], axis=1)\n",
    "df_train = df_train.drop(['Pclass'], axis=1)"
   ]
  },
  {
   "cell_type": "code",
   "execution_count": 43,
   "id": "85d5aaba",
   "metadata": {
    "execution": {
     "iopub.execute_input": "2023-01-17T01:50:20.115614Z",
     "iopub.status.busy": "2023-01-17T01:50:20.114842Z",
     "iopub.status.idle": "2023-01-17T01:50:20.133737Z",
     "shell.execute_reply": "2023-01-17T01:50:20.133005Z",
     "shell.execute_reply.started": "2023-01-17T01:33:07.617082Z"
    },
    "papermill": {
     "duration": 0.119422,
     "end_time": "2023-01-17T01:50:20.133898",
     "exception": false,
     "start_time": "2023-01-17T01:50:20.014476",
     "status": "completed"
    },
    "tags": []
   },
   "outputs": [
    {
     "data": {
      "text/html": [
       "<div>\n",
       "<style scoped>\n",
       "    .dataframe tbody tr th:only-of-type {\n",
       "        vertical-align: middle;\n",
       "    }\n",
       "\n",
       "    .dataframe tbody tr th {\n",
       "        vertical-align: top;\n",
       "    }\n",
       "\n",
       "    .dataframe thead th {\n",
       "        text-align: right;\n",
       "    }\n",
       "</style>\n",
       "<table border=\"1\" class=\"dataframe\">\n",
       "  <thead>\n",
       "    <tr style=\"text-align: right;\">\n",
       "      <th></th>\n",
       "      <th>PassengerId</th>\n",
       "      <th>Survived</th>\n",
       "      <th>Name</th>\n",
       "      <th>Age</th>\n",
       "      <th>SibSp</th>\n",
       "      <th>Parch</th>\n",
       "      <th>Ticket</th>\n",
       "      <th>Fare</th>\n",
       "      <th>Sex_female</th>\n",
       "      <th>Sex_male</th>\n",
       "      <th>Embarked_C</th>\n",
       "      <th>Embarked_Q</th>\n",
       "      <th>Embarked_S</th>\n",
       "      <th>Embarked_U</th>\n",
       "      <th>Pclass_1</th>\n",
       "      <th>Pclass_2</th>\n",
       "      <th>Pclass_3</th>\n",
       "    </tr>\n",
       "  </thead>\n",
       "  <tbody>\n",
       "    <tr>\n",
       "      <th>0</th>\n",
       "      <td>1</td>\n",
       "      <td>0</td>\n",
       "      <td>Braund, Mr. Owen Harris</td>\n",
       "      <td>22.0</td>\n",
       "      <td>1</td>\n",
       "      <td>0</td>\n",
       "      <td>A/5 21171</td>\n",
       "      <td>7.2500</td>\n",
       "      <td>0</td>\n",
       "      <td>1</td>\n",
       "      <td>0</td>\n",
       "      <td>0</td>\n",
       "      <td>1</td>\n",
       "      <td>0</td>\n",
       "      <td>0</td>\n",
       "      <td>0</td>\n",
       "      <td>1</td>\n",
       "    </tr>\n",
       "    <tr>\n",
       "      <th>1</th>\n",
       "      <td>2</td>\n",
       "      <td>1</td>\n",
       "      <td>Cumings, Mrs. John Bradley (Florence Briggs Th...</td>\n",
       "      <td>38.0</td>\n",
       "      <td>1</td>\n",
       "      <td>0</td>\n",
       "      <td>PC 17599</td>\n",
       "      <td>71.2833</td>\n",
       "      <td>1</td>\n",
       "      <td>0</td>\n",
       "      <td>1</td>\n",
       "      <td>0</td>\n",
       "      <td>0</td>\n",
       "      <td>0</td>\n",
       "      <td>1</td>\n",
       "      <td>0</td>\n",
       "      <td>0</td>\n",
       "    </tr>\n",
       "    <tr>\n",
       "      <th>2</th>\n",
       "      <td>3</td>\n",
       "      <td>1</td>\n",
       "      <td>Heikkinen, Miss. Laina</td>\n",
       "      <td>26.0</td>\n",
       "      <td>0</td>\n",
       "      <td>0</td>\n",
       "      <td>STON/O2. 3101282</td>\n",
       "      <td>7.9250</td>\n",
       "      <td>1</td>\n",
       "      <td>0</td>\n",
       "      <td>0</td>\n",
       "      <td>0</td>\n",
       "      <td>1</td>\n",
       "      <td>0</td>\n",
       "      <td>0</td>\n",
       "      <td>0</td>\n",
       "      <td>1</td>\n",
       "    </tr>\n",
       "    <tr>\n",
       "      <th>3</th>\n",
       "      <td>4</td>\n",
       "      <td>1</td>\n",
       "      <td>Futrelle, Mrs. Jacques Heath (Lily May Peel)</td>\n",
       "      <td>35.0</td>\n",
       "      <td>1</td>\n",
       "      <td>0</td>\n",
       "      <td>113803</td>\n",
       "      <td>53.1000</td>\n",
       "      <td>1</td>\n",
       "      <td>0</td>\n",
       "      <td>0</td>\n",
       "      <td>0</td>\n",
       "      <td>1</td>\n",
       "      <td>0</td>\n",
       "      <td>1</td>\n",
       "      <td>0</td>\n",
       "      <td>0</td>\n",
       "    </tr>\n",
       "    <tr>\n",
       "      <th>4</th>\n",
       "      <td>5</td>\n",
       "      <td>0</td>\n",
       "      <td>Allen, Mr. William Henry</td>\n",
       "      <td>35.0</td>\n",
       "      <td>0</td>\n",
       "      <td>0</td>\n",
       "      <td>373450</td>\n",
       "      <td>8.0500</td>\n",
       "      <td>0</td>\n",
       "      <td>1</td>\n",
       "      <td>0</td>\n",
       "      <td>0</td>\n",
       "      <td>1</td>\n",
       "      <td>0</td>\n",
       "      <td>0</td>\n",
       "      <td>0</td>\n",
       "      <td>1</td>\n",
       "    </tr>\n",
       "  </tbody>\n",
       "</table>\n",
       "</div>"
      ],
      "text/plain": [
       "   PassengerId  Survived                                               Name  \\\n",
       "0            1         0                            Braund, Mr. Owen Harris   \n",
       "1            2         1  Cumings, Mrs. John Bradley (Florence Briggs Th...   \n",
       "2            3         1                             Heikkinen, Miss. Laina   \n",
       "3            4         1       Futrelle, Mrs. Jacques Heath (Lily May Peel)   \n",
       "4            5         0                           Allen, Mr. William Henry   \n",
       "\n",
       "    Age  SibSp  Parch            Ticket     Fare  Sex_female  Sex_male  \\\n",
       "0  22.0      1      0         A/5 21171   7.2500           0         1   \n",
       "1  38.0      1      0          PC 17599  71.2833           1         0   \n",
       "2  26.0      0      0  STON/O2. 3101282   7.9250           1         0   \n",
       "3  35.0      1      0            113803  53.1000           1         0   \n",
       "4  35.0      0      0            373450   8.0500           0         1   \n",
       "\n",
       "   Embarked_C  Embarked_Q  Embarked_S  Embarked_U  Pclass_1  Pclass_2  \\\n",
       "0           0           0           1           0         0         0   \n",
       "1           1           0           0           0         1         0   \n",
       "2           0           0           1           0         0         0   \n",
       "3           0           0           1           0         1         0   \n",
       "4           0           0           1           0         0         0   \n",
       "\n",
       "   Pclass_3  \n",
       "0         1  \n",
       "1         0  \n",
       "2         1  \n",
       "3         0  \n",
       "4         1  "
      ]
     },
     "execution_count": 43,
     "metadata": {},
     "output_type": "execute_result"
    }
   ],
   "source": [
    "df_train.head()"
   ]
  },
  {
   "cell_type": "markdown",
   "id": "9c24e00a",
   "metadata": {
    "papermill": {
     "duration": 0.099825,
     "end_time": "2023-01-17T01:50:20.331089",
     "exception": false,
     "start_time": "2023-01-17T01:50:20.231264",
     "status": "completed"
    },
    "tags": []
   },
   "source": [
    "### Binning (numerical to categorical)"
   ]
  },
  {
   "cell_type": "markdown",
   "id": "cb85cfe0",
   "metadata": {
    "papermill": {
     "duration": 0.096861,
     "end_time": "2023-01-17T01:50:20.524362",
     "exception": false,
     "start_time": "2023-01-17T01:50:20.427501",
     "status": "completed"
    },
    "tags": []
   },
   "source": [
    "**The goal is to check the best possibility of survival when the passenger is between an age of groups**"
   ]
  },
  {
   "cell_type": "code",
   "execution_count": 44,
   "id": "544cd878",
   "metadata": {
    "execution": {
     "iopub.execute_input": "2023-01-17T01:50:20.740327Z",
     "iopub.status.busy": "2023-01-17T01:50:20.739525Z",
     "iopub.status.idle": "2023-01-17T01:50:20.746745Z",
     "shell.execute_reply": "2023-01-17T01:50:20.747291Z",
     "shell.execute_reply.started": "2023-01-17T01:33:07.647056Z"
    },
    "papermill": {
     "duration": 0.127948,
     "end_time": "2023-01-17T01:50:20.747530",
     "exception": false,
     "start_time": "2023-01-17T01:50:20.619582",
     "status": "completed"
    },
    "tags": []
   },
   "outputs": [],
   "source": [
    "bins = [0, 10, 20, 30, 40, 50, 60, 70, 80]\n",
    "categorized_age = pd.cut(df_train.Age, bins)\n",
    "df_train['Categorized_age'] = categorized_age\n",
    "df_train = df_train.drop([\"Age\"], axis=1)"
   ]
  },
  {
   "cell_type": "code",
   "execution_count": 45,
   "id": "65a398f7",
   "metadata": {
    "execution": {
     "iopub.execute_input": "2023-01-17T01:50:20.950327Z",
     "iopub.status.busy": "2023-01-17T01:50:20.949564Z",
     "iopub.status.idle": "2023-01-17T01:50:20.959647Z",
     "shell.execute_reply": "2023-01-17T01:50:20.959029Z",
     "shell.execute_reply.started": "2023-01-17T01:33:07.670168Z"
    },
    "papermill": {
     "duration": 0.115074,
     "end_time": "2023-01-17T01:50:20.959822",
     "exception": false,
     "start_time": "2023-01-17T01:50:20.844748",
     "status": "completed"
    },
    "tags": []
   },
   "outputs": [],
   "source": [
    "# one-hot encoding\n",
    "categorized_age_columns = pd.get_dummies(df_train['Categorized_age'], prefix='Categorized_age')\n",
    "df_train = pd.concat([df_train, categorized_age_columns], axis=1)\n",
    "df_train = df_train.drop(['Categorized_age'], axis=1)"
   ]
  },
  {
   "cell_type": "code",
   "execution_count": 46,
   "id": "3be9485e",
   "metadata": {
    "execution": {
     "iopub.execute_input": "2023-01-17T01:50:21.157699Z",
     "iopub.status.busy": "2023-01-17T01:50:21.156862Z",
     "iopub.status.idle": "2023-01-17T01:50:21.170086Z",
     "shell.execute_reply": "2023-01-17T01:50:21.170853Z",
     "shell.execute_reply.started": "2023-01-17T01:33:07.687482Z"
    },
    "papermill": {
     "duration": 0.118479,
     "end_time": "2023-01-17T01:50:21.171064",
     "exception": false,
     "start_time": "2023-01-17T01:50:21.052585",
     "status": "completed"
    },
    "tags": []
   },
   "outputs": [
    {
     "name": "stdout",
     "output_type": "stream",
     "text": [
      "<class 'pandas.core.frame.DataFrame'>\n",
      "RangeIndex: 891 entries, 0 to 890\n",
      "Data columns (total 24 columns):\n",
      " #   Column                    Non-Null Count  Dtype  \n",
      "---  ------                    --------------  -----  \n",
      " 0   PassengerId               891 non-null    int64  \n",
      " 1   Survived                  891 non-null    int64  \n",
      " 2   Name                      891 non-null    object \n",
      " 3   SibSp                     891 non-null    int64  \n",
      " 4   Parch                     891 non-null    int64  \n",
      " 5   Ticket                    891 non-null    object \n",
      " 6   Fare                      891 non-null    float64\n",
      " 7   Sex_female                891 non-null    uint8  \n",
      " 8   Sex_male                  891 non-null    uint8  \n",
      " 9   Embarked_C                891 non-null    uint8  \n",
      " 10  Embarked_Q                891 non-null    uint8  \n",
      " 11  Embarked_S                891 non-null    uint8  \n",
      " 12  Embarked_U                891 non-null    uint8  \n",
      " 13  Pclass_1                  891 non-null    uint8  \n",
      " 14  Pclass_2                  891 non-null    uint8  \n",
      " 15  Pclass_3                  891 non-null    uint8  \n",
      " 16  Categorized_age_(0, 10]   891 non-null    uint8  \n",
      " 17  Categorized_age_(10, 20]  891 non-null    uint8  \n",
      " 18  Categorized_age_(20, 30]  891 non-null    uint8  \n",
      " 19  Categorized_age_(30, 40]  891 non-null    uint8  \n",
      " 20  Categorized_age_(40, 50]  891 non-null    uint8  \n",
      " 21  Categorized_age_(50, 60]  891 non-null    uint8  \n",
      " 22  Categorized_age_(60, 70]  891 non-null    uint8  \n",
      " 23  Categorized_age_(70, 80]  891 non-null    uint8  \n",
      "dtypes: float64(1), int64(4), object(2), uint8(17)\n",
      "memory usage: 63.6+ KB\n"
     ]
    }
   ],
   "source": [
    "df_train.info()"
   ]
  },
  {
   "cell_type": "markdown",
   "id": "49da2a7d",
   "metadata": {
    "papermill": {
     "duration": 0.096067,
     "end_time": "2023-01-17T01:50:21.364542",
     "exception": false,
     "start_time": "2023-01-17T01:50:21.268475",
     "status": "completed"
    },
    "tags": []
   },
   "source": [
    "### Create features"
   ]
  },
  {
   "cell_type": "code",
   "execution_count": 47,
   "id": "0db3c6e7",
   "metadata": {
    "execution": {
     "iopub.execute_input": "2023-01-17T01:50:21.568995Z",
     "iopub.status.busy": "2023-01-17T01:50:21.567895Z",
     "iopub.status.idle": "2023-01-17T01:50:21.573661Z",
     "shell.execute_reply": "2023-01-17T01:50:21.574193Z",
     "shell.execute_reply.started": "2023-01-17T01:33:07.710281Z"
    },
    "papermill": {
     "duration": 0.111138,
     "end_time": "2023-01-17T01:50:21.574765",
     "exception": false,
     "start_time": "2023-01-17T01:50:21.463627",
     "status": "completed"
    },
    "tags": []
   },
   "outputs": [],
   "source": [
    "df_train['Family_Size'] = df_train['Parch'] + df_train['SibSp']"
   ]
  },
  {
   "cell_type": "markdown",
   "id": "e619a2f8",
   "metadata": {
    "papermill": {
     "duration": 0.099952,
     "end_time": "2023-01-17T01:50:21.775659",
     "exception": false,
     "start_time": "2023-01-17T01:50:21.675707",
     "status": "completed"
    },
    "tags": []
   },
   "source": [
    "### Feature selection"
   ]
  },
  {
   "cell_type": "code",
   "execution_count": 48,
   "id": "45591a69",
   "metadata": {
    "execution": {
     "iopub.execute_input": "2023-01-17T01:50:21.980028Z",
     "iopub.status.busy": "2023-01-17T01:50:21.979059Z",
     "iopub.status.idle": "2023-01-17T01:50:21.982533Z",
     "shell.execute_reply": "2023-01-17T01:50:21.981921Z",
     "shell.execute_reply.started": "2023-01-17T01:33:07.722772Z"
    },
    "papermill": {
     "duration": 0.110464,
     "end_time": "2023-01-17T01:50:21.982723",
     "exception": false,
     "start_time": "2023-01-17T01:50:21.872259",
     "status": "completed"
    },
    "tags": []
   },
   "outputs": [],
   "source": [
    "#Save the 'PassengerId' column\n",
    "train_PassengerId = df_train['PassengerId']\n",
    "\n",
    "# we have to drop Name, Ticket because there are too many unique values\n",
    "# we keep PassengerId for the submission\n",
    "df_train = df_train.drop(['Name', 'Ticket', 'PassengerId', 'Parch'], axis=1)"
   ]
  },
  {
   "cell_type": "code",
   "execution_count": 49,
   "id": "e1552997",
   "metadata": {
    "execution": {
     "iopub.execute_input": "2023-01-17T01:50:22.182201Z",
     "iopub.status.busy": "2023-01-17T01:50:22.181055Z",
     "iopub.status.idle": "2023-01-17T01:50:22.200737Z",
     "shell.execute_reply": "2023-01-17T01:50:22.201460Z",
     "shell.execute_reply.started": "2023-01-17T01:33:07.738287Z"
    },
    "papermill": {
     "duration": 0.124473,
     "end_time": "2023-01-17T01:50:22.201664",
     "exception": false,
     "start_time": "2023-01-17T01:50:22.077191",
     "status": "completed"
    },
    "tags": []
   },
   "outputs": [
    {
     "data": {
      "text/html": [
       "<div>\n",
       "<style scoped>\n",
       "    .dataframe tbody tr th:only-of-type {\n",
       "        vertical-align: middle;\n",
       "    }\n",
       "\n",
       "    .dataframe tbody tr th {\n",
       "        vertical-align: top;\n",
       "    }\n",
       "\n",
       "    .dataframe thead th {\n",
       "        text-align: right;\n",
       "    }\n",
       "</style>\n",
       "<table border=\"1\" class=\"dataframe\">\n",
       "  <thead>\n",
       "    <tr style=\"text-align: right;\">\n",
       "      <th></th>\n",
       "      <th>Survived</th>\n",
       "      <th>SibSp</th>\n",
       "      <th>Fare</th>\n",
       "      <th>Sex_female</th>\n",
       "      <th>Sex_male</th>\n",
       "      <th>Embarked_C</th>\n",
       "      <th>Embarked_Q</th>\n",
       "      <th>Embarked_S</th>\n",
       "      <th>Embarked_U</th>\n",
       "      <th>Pclass_1</th>\n",
       "      <th>...</th>\n",
       "      <th>Pclass_3</th>\n",
       "      <th>Categorized_age_(0, 10]</th>\n",
       "      <th>Categorized_age_(10, 20]</th>\n",
       "      <th>Categorized_age_(20, 30]</th>\n",
       "      <th>Categorized_age_(30, 40]</th>\n",
       "      <th>Categorized_age_(40, 50]</th>\n",
       "      <th>Categorized_age_(50, 60]</th>\n",
       "      <th>Categorized_age_(60, 70]</th>\n",
       "      <th>Categorized_age_(70, 80]</th>\n",
       "      <th>Family_Size</th>\n",
       "    </tr>\n",
       "  </thead>\n",
       "  <tbody>\n",
       "    <tr>\n",
       "      <th>0</th>\n",
       "      <td>0</td>\n",
       "      <td>1</td>\n",
       "      <td>7.2500</td>\n",
       "      <td>0</td>\n",
       "      <td>1</td>\n",
       "      <td>0</td>\n",
       "      <td>0</td>\n",
       "      <td>1</td>\n",
       "      <td>0</td>\n",
       "      <td>0</td>\n",
       "      <td>...</td>\n",
       "      <td>1</td>\n",
       "      <td>0</td>\n",
       "      <td>0</td>\n",
       "      <td>1</td>\n",
       "      <td>0</td>\n",
       "      <td>0</td>\n",
       "      <td>0</td>\n",
       "      <td>0</td>\n",
       "      <td>0</td>\n",
       "      <td>1</td>\n",
       "    </tr>\n",
       "    <tr>\n",
       "      <th>1</th>\n",
       "      <td>1</td>\n",
       "      <td>1</td>\n",
       "      <td>71.2833</td>\n",
       "      <td>1</td>\n",
       "      <td>0</td>\n",
       "      <td>1</td>\n",
       "      <td>0</td>\n",
       "      <td>0</td>\n",
       "      <td>0</td>\n",
       "      <td>1</td>\n",
       "      <td>...</td>\n",
       "      <td>0</td>\n",
       "      <td>0</td>\n",
       "      <td>0</td>\n",
       "      <td>0</td>\n",
       "      <td>1</td>\n",
       "      <td>0</td>\n",
       "      <td>0</td>\n",
       "      <td>0</td>\n",
       "      <td>0</td>\n",
       "      <td>1</td>\n",
       "    </tr>\n",
       "    <tr>\n",
       "      <th>2</th>\n",
       "      <td>1</td>\n",
       "      <td>0</td>\n",
       "      <td>7.9250</td>\n",
       "      <td>1</td>\n",
       "      <td>0</td>\n",
       "      <td>0</td>\n",
       "      <td>0</td>\n",
       "      <td>1</td>\n",
       "      <td>0</td>\n",
       "      <td>0</td>\n",
       "      <td>...</td>\n",
       "      <td>1</td>\n",
       "      <td>0</td>\n",
       "      <td>0</td>\n",
       "      <td>1</td>\n",
       "      <td>0</td>\n",
       "      <td>0</td>\n",
       "      <td>0</td>\n",
       "      <td>0</td>\n",
       "      <td>0</td>\n",
       "      <td>0</td>\n",
       "    </tr>\n",
       "    <tr>\n",
       "      <th>3</th>\n",
       "      <td>1</td>\n",
       "      <td>1</td>\n",
       "      <td>53.1000</td>\n",
       "      <td>1</td>\n",
       "      <td>0</td>\n",
       "      <td>0</td>\n",
       "      <td>0</td>\n",
       "      <td>1</td>\n",
       "      <td>0</td>\n",
       "      <td>1</td>\n",
       "      <td>...</td>\n",
       "      <td>0</td>\n",
       "      <td>0</td>\n",
       "      <td>0</td>\n",
       "      <td>0</td>\n",
       "      <td>1</td>\n",
       "      <td>0</td>\n",
       "      <td>0</td>\n",
       "      <td>0</td>\n",
       "      <td>0</td>\n",
       "      <td>1</td>\n",
       "    </tr>\n",
       "    <tr>\n",
       "      <th>4</th>\n",
       "      <td>0</td>\n",
       "      <td>0</td>\n",
       "      <td>8.0500</td>\n",
       "      <td>0</td>\n",
       "      <td>1</td>\n",
       "      <td>0</td>\n",
       "      <td>0</td>\n",
       "      <td>1</td>\n",
       "      <td>0</td>\n",
       "      <td>0</td>\n",
       "      <td>...</td>\n",
       "      <td>1</td>\n",
       "      <td>0</td>\n",
       "      <td>0</td>\n",
       "      <td>0</td>\n",
       "      <td>1</td>\n",
       "      <td>0</td>\n",
       "      <td>0</td>\n",
       "      <td>0</td>\n",
       "      <td>0</td>\n",
       "      <td>0</td>\n",
       "    </tr>\n",
       "  </tbody>\n",
       "</table>\n",
       "<p>5 rows × 21 columns</p>\n",
       "</div>"
      ],
      "text/plain": [
       "   Survived  SibSp     Fare  Sex_female  Sex_male  Embarked_C  Embarked_Q  \\\n",
       "0         0      1   7.2500           0         1           0           0   \n",
       "1         1      1  71.2833           1         0           1           0   \n",
       "2         1      0   7.9250           1         0           0           0   \n",
       "3         1      1  53.1000           1         0           0           0   \n",
       "4         0      0   8.0500           0         1           0           0   \n",
       "\n",
       "   Embarked_S  Embarked_U  Pclass_1  ...  Pclass_3  Categorized_age_(0, 10]  \\\n",
       "0           1           0         0  ...         1                        0   \n",
       "1           0           0         1  ...         0                        0   \n",
       "2           1           0         0  ...         1                        0   \n",
       "3           1           0         1  ...         0                        0   \n",
       "4           1           0         0  ...         1                        0   \n",
       "\n",
       "   Categorized_age_(10, 20]  Categorized_age_(20, 30]  \\\n",
       "0                         0                         1   \n",
       "1                         0                         0   \n",
       "2                         0                         1   \n",
       "3                         0                         0   \n",
       "4                         0                         0   \n",
       "\n",
       "   Categorized_age_(30, 40]  Categorized_age_(40, 50]  \\\n",
       "0                         0                         0   \n",
       "1                         1                         0   \n",
       "2                         0                         0   \n",
       "3                         1                         0   \n",
       "4                         1                         0   \n",
       "\n",
       "   Categorized_age_(50, 60]  Categorized_age_(60, 70]  \\\n",
       "0                         0                         0   \n",
       "1                         0                         0   \n",
       "2                         0                         0   \n",
       "3                         0                         0   \n",
       "4                         0                         0   \n",
       "\n",
       "   Categorized_age_(70, 80]  Family_Size  \n",
       "0                         0            1  \n",
       "1                         0            1  \n",
       "2                         0            0  \n",
       "3                         0            1  \n",
       "4                         0            0  \n",
       "\n",
       "[5 rows x 21 columns]"
      ]
     },
     "execution_count": 49,
     "metadata": {},
     "output_type": "execute_result"
    }
   ],
   "source": [
    "df_train.head()"
   ]
  },
  {
   "cell_type": "code",
   "execution_count": 50,
   "id": "f075ba4f",
   "metadata": {
    "execution": {
     "iopub.execute_input": "2023-01-17T01:50:22.409913Z",
     "iopub.status.busy": "2023-01-17T01:50:22.408502Z",
     "iopub.status.idle": "2023-01-17T01:50:22.422474Z",
     "shell.execute_reply": "2023-01-17T01:50:22.423138Z",
     "shell.execute_reply.started": "2023-01-17T01:33:07.766198Z"
    },
    "papermill": {
     "duration": 0.118768,
     "end_time": "2023-01-17T01:50:22.423414",
     "exception": false,
     "start_time": "2023-01-17T01:50:22.304646",
     "status": "completed"
    },
    "tags": []
   },
   "outputs": [
    {
     "name": "stdout",
     "output_type": "stream",
     "text": [
      "<class 'pandas.core.frame.DataFrame'>\n",
      "RangeIndex: 891 entries, 0 to 890\n",
      "Data columns (total 21 columns):\n",
      " #   Column                    Non-Null Count  Dtype  \n",
      "---  ------                    --------------  -----  \n",
      " 0   Survived                  891 non-null    int64  \n",
      " 1   SibSp                     891 non-null    int64  \n",
      " 2   Fare                      891 non-null    float64\n",
      " 3   Sex_female                891 non-null    uint8  \n",
      " 4   Sex_male                  891 non-null    uint8  \n",
      " 5   Embarked_C                891 non-null    uint8  \n",
      " 6   Embarked_Q                891 non-null    uint8  \n",
      " 7   Embarked_S                891 non-null    uint8  \n",
      " 8   Embarked_U                891 non-null    uint8  \n",
      " 9   Pclass_1                  891 non-null    uint8  \n",
      " 10  Pclass_2                  891 non-null    uint8  \n",
      " 11  Pclass_3                  891 non-null    uint8  \n",
      " 12  Categorized_age_(0, 10]   891 non-null    uint8  \n",
      " 13  Categorized_age_(10, 20]  891 non-null    uint8  \n",
      " 14  Categorized_age_(20, 30]  891 non-null    uint8  \n",
      " 15  Categorized_age_(30, 40]  891 non-null    uint8  \n",
      " 16  Categorized_age_(40, 50]  891 non-null    uint8  \n",
      " 17  Categorized_age_(50, 60]  891 non-null    uint8  \n",
      " 18  Categorized_age_(60, 70]  891 non-null    uint8  \n",
      " 19  Categorized_age_(70, 80]  891 non-null    uint8  \n",
      " 20  Family_Size               891 non-null    int64  \n",
      "dtypes: float64(1), int64(3), uint8(17)\n",
      "memory usage: 42.8 KB\n"
     ]
    }
   ],
   "source": [
    "df_train.info()"
   ]
  },
  {
   "cell_type": "markdown",
   "id": "482d74a6",
   "metadata": {
    "papermill": {
     "duration": 0.096082,
     "end_time": "2023-01-17T01:50:22.622151",
     "exception": false,
     "start_time": "2023-01-17T01:50:22.526069",
     "status": "completed"
    },
    "tags": []
   },
   "source": [
    "## Training models"
   ]
  },
  {
   "cell_type": "code",
   "execution_count": 51,
   "id": "e6f97669",
   "metadata": {
    "execution": {
     "iopub.execute_input": "2023-01-17T01:50:22.819780Z",
     "iopub.status.busy": "2023-01-17T01:50:22.818923Z",
     "iopub.status.idle": "2023-01-17T01:50:22.825816Z",
     "shell.execute_reply": "2023-01-17T01:50:22.825199Z",
     "shell.execute_reply.started": "2023-01-17T01:33:07.783053Z"
    },
    "papermill": {
     "duration": 0.106156,
     "end_time": "2023-01-17T01:50:22.826003",
     "exception": false,
     "start_time": "2023-01-17T01:50:22.719847",
     "status": "completed"
    },
    "tags": []
   },
   "outputs": [],
   "source": [
    "# separate the features from the labels\n",
    "features = df_train.drop([\"Survived\"], axis=1)\n",
    "labels = df_train[\"Survived\"]"
   ]
  },
  {
   "cell_type": "code",
   "execution_count": 52,
   "id": "82a05df3",
   "metadata": {
    "execution": {
     "iopub.execute_input": "2023-01-17T01:50:23.026028Z",
     "iopub.status.busy": "2023-01-17T01:50:23.025259Z",
     "iopub.status.idle": "2023-01-17T01:50:23.248586Z",
     "shell.execute_reply": "2023-01-17T01:50:23.249081Z",
     "shell.execute_reply.started": "2023-01-17T01:33:07.790418Z"
    },
    "papermill": {
     "duration": 0.325682,
     "end_time": "2023-01-17T01:50:23.249315",
     "exception": false,
     "start_time": "2023-01-17T01:50:22.923633",
     "status": "completed"
    },
    "tags": []
   },
   "outputs": [],
   "source": [
    "from sklearn.model_selection import train_test_split"
   ]
  },
  {
   "cell_type": "code",
   "execution_count": 53,
   "id": "77d645ec",
   "metadata": {
    "execution": {
     "iopub.execute_input": "2023-01-17T01:50:23.454514Z",
     "iopub.status.busy": "2023-01-17T01:50:23.453700Z",
     "iopub.status.idle": "2023-01-17T01:50:23.456892Z",
     "shell.execute_reply": "2023-01-17T01:50:23.457392Z",
     "shell.execute_reply.started": "2023-01-17T01:33:07.989046Z"
    },
    "papermill": {
     "duration": 0.108866,
     "end_time": "2023-01-17T01:50:23.457594",
     "exception": false,
     "start_time": "2023-01-17T01:50:23.348728",
     "status": "completed"
    },
    "tags": []
   },
   "outputs": [],
   "source": [
    "# 60% training, 20% validation, and 20% testing\n",
    "# fix random_state to make sure we always get the same split\n",
    "features_train, features_validation_test, labels_train, labels_validation_test = train_test_split(\n",
    "    features, labels, test_size=0.4, random_state=100)"
   ]
  },
  {
   "cell_type": "code",
   "execution_count": 54,
   "id": "28a5cb00",
   "metadata": {
    "execution": {
     "iopub.execute_input": "2023-01-17T01:50:23.658560Z",
     "iopub.status.busy": "2023-01-17T01:50:23.657814Z",
     "iopub.status.idle": "2023-01-17T01:50:23.664244Z",
     "shell.execute_reply": "2023-01-17T01:50:23.664989Z",
     "shell.execute_reply.started": "2023-01-17T01:33:07.999003Z"
    },
    "papermill": {
     "duration": 0.107057,
     "end_time": "2023-01-17T01:50:23.665241",
     "exception": false,
     "start_time": "2023-01-17T01:50:23.558184",
     "status": "completed"
    },
    "tags": []
   },
   "outputs": [],
   "source": [
    "# we need to perform the operation twice\n",
    "features_validation, features_test, labels_validation, labels_test = train_test_split(\n",
    "    features_validation_test, labels_validation_test, test_size=0.5, random_state=100)"
   ]
  },
  {
   "cell_type": "markdown",
   "id": "fd26fbd4",
   "metadata": {
    "papermill": {
     "duration": 0.098623,
     "end_time": "2023-01-17T01:50:23.863081",
     "exception": false,
     "start_time": "2023-01-17T01:50:23.764458",
     "status": "completed"
    },
    "tags": []
   },
   "source": [
    "### Training different models"
   ]
  },
  {
   "cell_type": "markdown",
   "id": "0b1a9c4a",
   "metadata": {
    "papermill": {
     "duration": 0.095406,
     "end_time": "2023-01-17T01:50:24.055478",
     "exception": false,
     "start_time": "2023-01-17T01:50:23.960072",
     "status": "completed"
    },
    "tags": []
   },
   "source": [
    "**Logistic regression**\n",
    "\n",
    "**Decision tree**\n",
    "\n",
    "**Naive Bayes**\n",
    "\n",
    "**Support vector machine (SVM)**\n",
    "\n",
    "**Random forest**\n",
    "\n",
    "**Gradient Boosting**\n",
    "\n",
    "**AdaBoost**"
   ]
  },
  {
   "cell_type": "code",
   "execution_count": 55,
   "id": "19f27a17",
   "metadata": {
    "execution": {
     "iopub.execute_input": "2023-01-17T01:50:24.249264Z",
     "iopub.status.busy": "2023-01-17T01:50:24.245704Z",
     "iopub.status.idle": "2023-01-17T01:50:24.708417Z",
     "shell.execute_reply": "2023-01-17T01:50:24.710165Z",
     "shell.execute_reply.started": "2023-01-17T01:33:08.009646Z"
    },
    "papermill": {
     "duration": 0.561366,
     "end_time": "2023-01-17T01:50:24.710556",
     "exception": false,
     "start_time": "2023-01-17T01:50:24.149190",
     "status": "completed"
    },
    "tags": []
   },
   "outputs": [
    {
     "data": {
      "text/plain": [
       "LogisticRegression(max_iter=1000)"
      ]
     },
     "execution_count": 55,
     "metadata": {},
     "output_type": "execute_result"
    }
   ],
   "source": [
    "from sklearn.linear_model import LogisticRegression\n",
    "from sklearn.tree import DecisionTreeClassifier\n",
    "from sklearn.naive_bayes import GaussianNB\n",
    "from sklearn.svm import SVC\n",
    "from sklearn.ensemble import RandomForestClassifier\n",
    "from sklearn.ensemble import GradientBoostingClassifier\n",
    "from sklearn.ensemble import AdaBoostClassifier\n",
    "\n",
    "lr_model = LogisticRegression(max_iter=1000,solver='lbfgs')\n",
    "lr_model.fit(features_train, labels_train)"
   ]
  },
  {
   "cell_type": "code",
   "execution_count": 56,
   "id": "b66533a5",
   "metadata": {
    "execution": {
     "iopub.execute_input": "2023-01-17T01:50:24.969182Z",
     "iopub.status.busy": "2023-01-17T01:50:24.968433Z",
     "iopub.status.idle": "2023-01-17T01:50:24.977242Z",
     "shell.execute_reply": "2023-01-17T01:50:24.977760Z",
     "shell.execute_reply.started": "2023-01-17T01:33:08.441148Z"
    },
    "papermill": {
     "duration": 0.110398,
     "end_time": "2023-01-17T01:50:24.977963",
     "exception": false,
     "start_time": "2023-01-17T01:50:24.867565",
     "status": "completed"
    },
    "tags": []
   },
   "outputs": [
    {
     "data": {
      "text/plain": [
       "DecisionTreeClassifier()"
      ]
     },
     "execution_count": 56,
     "metadata": {},
     "output_type": "execute_result"
    }
   ],
   "source": [
    "dt_model = DecisionTreeClassifier()\n",
    "dt_model.fit(features_train, labels_train)"
   ]
  },
  {
   "cell_type": "code",
   "execution_count": 57,
   "id": "9c72111f",
   "metadata": {
    "execution": {
     "iopub.execute_input": "2023-01-17T01:50:25.169293Z",
     "iopub.status.busy": "2023-01-17T01:50:25.168569Z",
     "iopub.status.idle": "2023-01-17T01:50:25.177967Z",
     "shell.execute_reply": "2023-01-17T01:50:25.178604Z",
     "shell.execute_reply.started": "2023-01-17T01:33:08.467817Z"
    },
    "papermill": {
     "duration": 0.105664,
     "end_time": "2023-01-17T01:50:25.178799",
     "exception": false,
     "start_time": "2023-01-17T01:50:25.073135",
     "status": "completed"
    },
    "tags": []
   },
   "outputs": [
    {
     "data": {
      "text/plain": [
       "GaussianNB()"
      ]
     },
     "execution_count": 57,
     "metadata": {},
     "output_type": "execute_result"
    }
   ],
   "source": [
    "nb_model = GaussianNB()\n",
    "nb_model.fit(features_train, labels_train)"
   ]
  },
  {
   "cell_type": "code",
   "execution_count": 58,
   "id": "5da49da8",
   "metadata": {
    "execution": {
     "iopub.execute_input": "2023-01-17T01:50:25.376593Z",
     "iopub.status.busy": "2023-01-17T01:50:25.375818Z",
     "iopub.status.idle": "2023-01-17T01:50:25.392944Z",
     "shell.execute_reply": "2023-01-17T01:50:25.393614Z",
     "shell.execute_reply.started": "2023-01-17T01:33:08.484221Z"
    },
    "papermill": {
     "duration": 0.120799,
     "end_time": "2023-01-17T01:50:25.393826",
     "exception": false,
     "start_time": "2023-01-17T01:50:25.273027",
     "status": "completed"
    },
    "tags": []
   },
   "outputs": [
    {
     "data": {
      "text/plain": [
       "SVC()"
      ]
     },
     "execution_count": 58,
     "metadata": {},
     "output_type": "execute_result"
    }
   ],
   "source": [
    "svm_model = SVC()\n",
    "svm_model.fit(features_train, labels_train)"
   ]
  },
  {
   "cell_type": "code",
   "execution_count": 59,
   "id": "afabbe46",
   "metadata": {
    "execution": {
     "iopub.execute_input": "2023-01-17T01:50:25.600462Z",
     "iopub.status.busy": "2023-01-17T01:50:25.599659Z",
     "iopub.status.idle": "2023-01-17T01:50:25.802774Z",
     "shell.execute_reply": "2023-01-17T01:50:25.803283Z",
     "shell.execute_reply.started": "2023-01-17T01:33:08.527669Z"
    },
    "papermill": {
     "duration": 0.309537,
     "end_time": "2023-01-17T01:50:25.803493",
     "exception": false,
     "start_time": "2023-01-17T01:50:25.493956",
     "status": "completed"
    },
    "tags": []
   },
   "outputs": [
    {
     "data": {
      "text/plain": [
       "RandomForestClassifier()"
      ]
     },
     "execution_count": 59,
     "metadata": {},
     "output_type": "execute_result"
    }
   ],
   "source": [
    "rf_model = RandomForestClassifier()\n",
    "rf_model.fit(features_train, labels_train)"
   ]
  },
  {
   "cell_type": "code",
   "execution_count": 60,
   "id": "d07bd699",
   "metadata": {
    "execution": {
     "iopub.execute_input": "2023-01-17T01:50:26.005599Z",
     "iopub.status.busy": "2023-01-17T01:50:26.004606Z",
     "iopub.status.idle": "2023-01-17T01:50:26.117270Z",
     "shell.execute_reply": "2023-01-17T01:50:26.117806Z",
     "shell.execute_reply.started": "2023-01-17T01:33:08.723490Z"
    },
    "papermill": {
     "duration": 0.217611,
     "end_time": "2023-01-17T01:50:26.118024",
     "exception": false,
     "start_time": "2023-01-17T01:50:25.900413",
     "status": "completed"
    },
    "tags": []
   },
   "outputs": [
    {
     "data": {
      "text/plain": [
       "GradientBoostingClassifier()"
      ]
     },
     "execution_count": 60,
     "metadata": {},
     "output_type": "execute_result"
    }
   ],
   "source": [
    "gb_model = GradientBoostingClassifier()\n",
    "gb_model.fit(features_train, labels_train)"
   ]
  },
  {
   "cell_type": "code",
   "execution_count": 61,
   "id": "80448b7b",
   "metadata": {
    "execution": {
     "iopub.execute_input": "2023-01-17T01:50:26.329480Z",
     "iopub.status.busy": "2023-01-17T01:50:26.328766Z",
     "iopub.status.idle": "2023-01-17T01:50:26.431092Z",
     "shell.execute_reply": "2023-01-17T01:50:26.430524Z",
     "shell.execute_reply.started": "2023-01-17T01:33:08.834512Z"
    },
    "papermill": {
     "duration": 0.206173,
     "end_time": "2023-01-17T01:50:26.431259",
     "exception": false,
     "start_time": "2023-01-17T01:50:26.225086",
     "status": "completed"
    },
    "tags": []
   },
   "outputs": [
    {
     "data": {
      "text/plain": [
       "AdaBoostClassifier()"
      ]
     },
     "execution_count": 61,
     "metadata": {},
     "output_type": "execute_result"
    }
   ],
   "source": [
    "ab_model = AdaBoostClassifier()\n",
    "ab_model.fit(features_train, labels_train)"
   ]
  },
  {
   "cell_type": "markdown",
   "id": "98da7f56",
   "metadata": {
    "papermill": {
     "duration": 0.112355,
     "end_time": "2023-01-17T01:50:26.663193",
     "exception": false,
     "start_time": "2023-01-17T01:50:26.550838",
     "status": "completed"
    },
    "tags": []
   },
   "source": [
    "## Evaluating models"
   ]
  },
  {
   "cell_type": "markdown",
   "id": "25f762b3",
   "metadata": {
    "papermill": {
     "duration": 0.095925,
     "end_time": "2023-01-17T01:50:26.854814",
     "exception": false,
     "start_time": "2023-01-17T01:50:26.758889",
     "status": "completed"
    },
    "tags": []
   },
   "source": [
    "### Accuracy"
   ]
  },
  {
   "cell_type": "code",
   "execution_count": 62,
   "id": "60e8ef4b",
   "metadata": {
    "execution": {
     "iopub.execute_input": "2023-01-17T01:50:27.047880Z",
     "iopub.status.busy": "2023-01-17T01:50:27.047137Z",
     "iopub.status.idle": "2023-01-17T01:50:27.098124Z",
     "shell.execute_reply": "2023-01-17T01:50:27.097513Z",
     "shell.execute_reply.started": "2023-01-17T01:33:08.935414Z"
    },
    "papermill": {
     "duration": 0.149169,
     "end_time": "2023-01-17T01:50:27.098279",
     "exception": false,
     "start_time": "2023-01-17T01:50:26.949110",
     "status": "completed"
    },
    "scrolled": true,
    "tags": []
   },
   "outputs": [
    {
     "name": "stdout",
     "output_type": "stream",
     "text": [
      "Scores of the models\n",
      "Logistic regression: 0.7696629213483146\n",
      "Decision tree: 0.7808988764044944\n",
      "Naive Bayes: 0.7584269662921348\n",
      "SVM: 0.6910112359550562\n",
      "Random forest: 0.7752808988764045\n",
      "Gradient boosting: 0.8033707865168539\n",
      "AdaBoost: 0.7696629213483146\n"
     ]
    }
   ],
   "source": [
    "print(\"Scores of the models\")\n",
    "print(\"Logistic regression:\", lr_model.score(features_validation, labels_validation))\n",
    "print(\"Decision tree:\", dt_model.score(features_validation, labels_validation))\n",
    "print(\"Naive Bayes:\", nb_model.score(features_validation, labels_validation))\n",
    "print(\"SVM:\", svm_model.score(features_validation, labels_validation))\n",
    "print(\"Random forest:\", rf_model.score(features_validation, labels_validation))\n",
    "print(\"Gradient boosting:\", gb_model.score(features_validation, labels_validation))\n",
    "print(\"AdaBoost:\", ab_model.score(features_validation, labels_validation))"
   ]
  },
  {
   "cell_type": "markdown",
   "id": "f1ed7a06",
   "metadata": {
    "papermill": {
     "duration": 0.097178,
     "end_time": "2023-01-17T01:50:27.290401",
     "exception": false,
     "start_time": "2023-01-17T01:50:27.193223",
     "status": "completed"
    },
    "tags": []
   },
   "source": [
    "### F1-score"
   ]
  },
  {
   "cell_type": "code",
   "execution_count": 63,
   "id": "7b74f235",
   "metadata": {
    "execution": {
     "iopub.execute_input": "2023-01-17T01:50:27.496703Z",
     "iopub.status.busy": "2023-01-17T01:50:27.489706Z",
     "iopub.status.idle": "2023-01-17T01:50:27.551156Z",
     "shell.execute_reply": "2023-01-17T01:50:27.551734Z",
     "shell.execute_reply.started": "2023-01-17T01:33:08.992282Z"
    },
    "papermill": {
     "duration": 0.162398,
     "end_time": "2023-01-17T01:50:27.551935",
     "exception": false,
     "start_time": "2023-01-17T01:50:27.389537",
     "status": "completed"
    },
    "tags": []
   },
   "outputs": [
    {
     "name": "stdout",
     "output_type": "stream",
     "text": [
      "F1-scores of the models:\n",
      "Logistic regression: 0.6870229007633588\n",
      "Decision Tree: 0.706766917293233\n",
      "Naive Bayes: 0.6906474820143885\n",
      "Support Vector Machine: 0.4329896907216495\n",
      "Random Forest: 0.6969696969696969\n",
      "Gradient boosting: 0.7286821705426356\n",
      "AdaBoost: 0.6917293233082706\n"
     ]
    }
   ],
   "source": [
    "from sklearn.metrics import f1_score\n",
    "\n",
    "print(\"F1-scores of the models:\")\n",
    "\n",
    "lr_predicted_labels = lr_model.predict(features_validation)\n",
    "print(\"Logistic regression:\", f1_score(labels_validation, lr_predicted_labels))\n",
    "\n",
    "dt_predicted_labels = dt_model.predict(features_validation)\n",
    "print(\"Decision Tree:\", f1_score(labels_validation, dt_predicted_labels))\n",
    "\n",
    "nb_predicted_labels = nb_model.predict(features_validation)\n",
    "print(\"Naive Bayes:\", f1_score(labels_validation, nb_predicted_labels))\n",
    "\n",
    "svm_predicted_labels = svm_model.predict(features_validation)\n",
    "print(\"Support Vector Machine:\", f1_score(labels_validation, svm_predicted_labels))\n",
    "\n",
    "rf_predicted_labels = rf_model.predict(features_validation)\n",
    "print(\"Random Forest:\", f1_score(labels_validation, rf_predicted_labels))\n",
    "\n",
    "gb_predicted_labels = gb_model.predict(features_validation)\n",
    "print(\"Gradient boosting:\", f1_score(labels_validation, gb_predicted_labels))\n",
    "\n",
    "ab_predicted_labels = ab_model.predict(features_validation)\n",
    "print(\"AdaBoost:\", f1_score(labels_validation, ab_predicted_labels))"
   ]
  },
  {
   "cell_type": "markdown",
   "id": "03eab29b",
   "metadata": {
    "papermill": {
     "duration": 0.100144,
     "end_time": "2023-01-17T01:50:27.752869",
     "exception": false,
     "start_time": "2023-01-17T01:50:27.652725",
     "status": "completed"
    },
    "tags": []
   },
   "source": [
    "### Randomized Search"
   ]
  },
  {
   "cell_type": "code",
   "execution_count": 64,
   "id": "f0530d7c",
   "metadata": {
    "execution": {
     "iopub.execute_input": "2023-01-17T01:50:27.948365Z",
     "iopub.status.busy": "2023-01-17T01:50:27.947632Z",
     "iopub.status.idle": "2023-01-17T01:50:27.950289Z",
     "shell.execute_reply": "2023-01-17T01:50:27.949625Z",
     "shell.execute_reply.started": "2023-01-17T01:33:09.052909Z"
    },
    "papermill": {
     "duration": 0.102815,
     "end_time": "2023-01-17T01:50:27.950459",
     "exception": false,
     "start_time": "2023-01-17T01:50:27.847644",
     "status": "completed"
    },
    "tags": []
   },
   "outputs": [],
   "source": [
    "from sklearn.model_selection import RandomizedSearchCV"
   ]
  },
  {
   "cell_type": "code",
   "execution_count": 65,
   "id": "f88ae822",
   "metadata": {
    "execution": {
     "iopub.execute_input": "2023-01-17T01:50:28.149518Z",
     "iopub.status.busy": "2023-01-17T01:50:28.148119Z",
     "iopub.status.idle": "2023-01-17T01:50:28.150506Z",
     "shell.execute_reply": "2023-01-17T01:50:28.151066Z",
     "shell.execute_reply.started": "2023-01-17T01:33:09.059201Z"
    },
    "papermill": {
     "duration": 0.105098,
     "end_time": "2023-01-17T01:50:28.151273",
     "exception": false,
     "start_time": "2023-01-17T01:50:28.046175",
     "status": "completed"
    },
    "tags": []
   },
   "outputs": [],
   "source": [
    "# RandomForestClassifier hyperparameters\n",
    "rf_grid = {\"n_estimators\": np.arange(10, 1000, 50),\n",
    "           \"max_depth\": [None, 3, 5, 10],\n",
    "           \"min_samples_split\": np.arange(2, 20, 2),\n",
    "           \"min_samples_leaf\": np.arange(1, 20, 2)}"
   ]
  },
  {
   "cell_type": "code",
   "execution_count": 66,
   "id": "6137f836",
   "metadata": {
    "execution": {
     "iopub.execute_input": "2023-01-17T01:50:28.354181Z",
     "iopub.status.busy": "2023-01-17T01:50:28.353493Z",
     "iopub.status.idle": "2023-01-17T01:51:52.651860Z",
     "shell.execute_reply": "2023-01-17T01:51:52.651261Z",
     "shell.execute_reply.started": "2023-01-17T01:33:09.071342Z"
    },
    "papermill": {
     "duration": 84.404244,
     "end_time": "2023-01-17T01:51:52.652029",
     "exception": false,
     "start_time": "2023-01-17T01:50:28.247785",
     "status": "completed"
    },
    "tags": []
   },
   "outputs": [
    {
     "name": "stdout",
     "output_type": "stream",
     "text": [
      "Fitting 5 folds for each of 20 candidates, totalling 100 fits\n"
     ]
    },
    {
     "name": "stderr",
     "output_type": "stream",
     "text": [
      "[Parallel(n_jobs=1)]: Using backend SequentialBackend with 1 concurrent workers.\n",
      "[Parallel(n_jobs=1)]: Done 100 out of 100 | elapsed:  1.4min finished\n"
     ]
    },
    {
     "data": {
      "text/plain": [
       "RandomizedSearchCV(cv=5, estimator=RandomForestClassifier(), n_iter=20,\n",
       "                   param_distributions={'max_depth': [None, 3, 5, 10],\n",
       "                                        'min_samples_leaf': array([ 1,  3,  5,  7,  9, 11, 13, 15, 17, 19]),\n",
       "                                        'min_samples_split': array([ 2,  4,  6,  8, 10, 12, 14, 16, 18]),\n",
       "                                        'n_estimators': array([ 10,  60, 110, 160, 210, 260, 310, 360, 410, 460, 510, 560, 610,\n",
       "       660, 710, 760, 810, 860, 910, 960])},\n",
       "                   verbose=True)"
      ]
     },
     "execution_count": 66,
     "metadata": {},
     "output_type": "execute_result"
    }
   ],
   "source": [
    "# Setup random seed\n",
    "np.random.seed(42)\n",
    "\n",
    "# Setup random hyperparameter search for RandomForestClassifier\n",
    "rs_rf = RandomizedSearchCV(RandomForestClassifier(),\n",
    "                           param_distributions=rf_grid,\n",
    "                           cv=5,\n",
    "                           n_iter=20,\n",
    "                           verbose=True)\n",
    "\n",
    "# Fit random hyperparameter search model\n",
    "rs_rf.fit(features_train, labels_train)"
   ]
  },
  {
   "cell_type": "code",
   "execution_count": 67,
   "id": "53a2ce4e",
   "metadata": {
    "execution": {
     "iopub.execute_input": "2023-01-17T01:51:52.852499Z",
     "iopub.status.busy": "2023-01-17T01:51:52.849460Z",
     "iopub.status.idle": "2023-01-17T01:51:52.856527Z",
     "shell.execute_reply": "2023-01-17T01:51:52.855932Z",
     "shell.execute_reply.started": "2023-01-17T01:34:31.634371Z"
    },
    "papermill": {
     "duration": 0.107344,
     "end_time": "2023-01-17T01:51:52.856694",
     "exception": false,
     "start_time": "2023-01-17T01:51:52.749350",
     "status": "completed"
    },
    "tags": []
   },
   "outputs": [
    {
     "data": {
      "text/plain": [
       "{'n_estimators': 510,\n",
       " 'min_samples_split': 14,\n",
       " 'min_samples_leaf': 1,\n",
       " 'max_depth': None}"
      ]
     },
     "execution_count": 67,
     "metadata": {},
     "output_type": "execute_result"
    }
   ],
   "source": [
    "# Find the best parameters\n",
    "rs_rf.best_params_"
   ]
  },
  {
   "cell_type": "code",
   "execution_count": 68,
   "id": "4cc7ed51",
   "metadata": {
    "execution": {
     "iopub.execute_input": "2023-01-17T01:51:53.065833Z",
     "iopub.status.busy": "2023-01-17T01:51:53.064625Z",
     "iopub.status.idle": "2023-01-17T01:51:53.151988Z",
     "shell.execute_reply": "2023-01-17T01:51:53.151255Z",
     "shell.execute_reply.started": "2023-01-17T01:47:43.507669Z"
    },
    "papermill": {
     "duration": 0.196088,
     "end_time": "2023-01-17T01:51:53.152148",
     "exception": false,
     "start_time": "2023-01-17T01:51:52.956060",
     "status": "completed"
    },
    "tags": []
   },
   "outputs": [
    {
     "data": {
      "text/plain": [
       "0.8782771535580525"
      ]
     },
     "execution_count": 68,
     "metadata": {},
     "output_type": "execute_result"
    }
   ],
   "source": [
    "# Evaluate the randomized search random forest model\n",
    "rs_rf.score(features_train, labels_train)"
   ]
  },
  {
   "cell_type": "markdown",
   "id": "49af1944",
   "metadata": {
    "papermill": {
     "duration": 0.100707,
     "end_time": "2023-01-17T01:51:53.353658",
     "exception": false,
     "start_time": "2023-01-17T01:51:53.252951",
     "status": "completed"
    },
    "tags": []
   },
   "source": [
    "## Clean test dataset"
   ]
  },
  {
   "cell_type": "markdown",
   "id": "18ae321a",
   "metadata": {
    "papermill": {
     "duration": 0.101061,
     "end_time": "2023-01-17T01:51:53.563273",
     "exception": false,
     "start_time": "2023-01-17T01:51:53.462212",
     "status": "completed"
    },
    "tags": []
   },
   "source": [
    "**This is a file with more passengers on the Titanic, except it doesn’t have the Survived column.**\n",
    "**Basically we redo the same operations that the training dataset, but we need to check the values to see if there are some differences**"
   ]
  },
  {
   "cell_type": "code",
   "execution_count": 69,
   "id": "d6f7a35c",
   "metadata": {
    "execution": {
     "iopub.execute_input": "2023-01-17T01:51:53.777016Z",
     "iopub.status.busy": "2023-01-17T01:51:53.776114Z",
     "iopub.status.idle": "2023-01-17T01:51:53.788993Z",
     "shell.execute_reply": "2023-01-17T01:51:53.789593Z",
     "shell.execute_reply.started": "2023-01-17T01:34:31.720323Z"
    },
    "papermill": {
     "duration": 0.120142,
     "end_time": "2023-01-17T01:51:53.789812",
     "exception": false,
     "start_time": "2023-01-17T01:51:53.669670",
     "status": "completed"
    },
    "tags": []
   },
   "outputs": [],
   "source": [
    "df_test = pd.read_csv('/kaggle/input/titanic/test.csv')"
   ]
  },
  {
   "cell_type": "code",
   "execution_count": 70,
   "id": "2b456659",
   "metadata": {
    "execution": {
     "iopub.execute_input": "2023-01-17T01:51:54.002043Z",
     "iopub.status.busy": "2023-01-17T01:51:53.998838Z",
     "iopub.status.idle": "2023-01-17T01:51:54.005905Z",
     "shell.execute_reply": "2023-01-17T01:51:54.006741Z",
     "shell.execute_reply.started": "2023-01-17T01:34:31.735553Z"
    },
    "papermill": {
     "duration": 0.118369,
     "end_time": "2023-01-17T01:51:54.006958",
     "exception": false,
     "start_time": "2023-01-17T01:51:53.888589",
     "status": "completed"
    },
    "tags": []
   },
   "outputs": [
    {
     "data": {
      "text/plain": [
       "PassengerId      0\n",
       "Pclass           0\n",
       "Name             0\n",
       "Sex              0\n",
       "Age             86\n",
       "SibSp            0\n",
       "Parch            0\n",
       "Ticket           0\n",
       "Fare             1\n",
       "Cabin          327\n",
       "Embarked         0\n",
       "dtype: int64"
      ]
     },
     "execution_count": 70,
     "metadata": {},
     "output_type": "execute_result"
    }
   ],
   "source": [
    "# Check empty values\n",
    "df_test.isnull().sum()"
   ]
  },
  {
   "cell_type": "markdown",
   "id": "d81ae09a",
   "metadata": {
    "papermill": {
     "duration": 0.095992,
     "end_time": "2023-01-17T01:51:54.203700",
     "exception": false,
     "start_time": "2023-01-17T01:51:54.107708",
     "status": "completed"
    },
    "tags": []
   },
   "source": [
    "### Cleaning data"
   ]
  },
  {
   "cell_type": "code",
   "execution_count": 71,
   "id": "b7340249",
   "metadata": {
    "execution": {
     "iopub.execute_input": "2023-01-17T01:51:54.408444Z",
     "iopub.status.busy": "2023-01-17T01:51:54.407708Z",
     "iopub.status.idle": "2023-01-17T01:51:54.414118Z",
     "shell.execute_reply": "2023-01-17T01:51:54.413522Z",
     "shell.execute_reply.started": "2023-01-17T01:34:31.745402Z"
    },
    "papermill": {
     "duration": 0.112459,
     "end_time": "2023-01-17T01:51:54.414288",
     "exception": false,
     "start_time": "2023-01-17T01:51:54.301829",
     "status": "completed"
    },
    "tags": []
   },
   "outputs": [],
   "source": [
    "# One Fare is messing, we're gonna replace it with the Fare's mean\n",
    "fare_mean = df_test.Fare.mean()\n",
    "fare_mean\n",
    "df_test.Fare = df_test.Fare.fillna(fare_mean)"
   ]
  },
  {
   "cell_type": "code",
   "execution_count": 72,
   "id": "e7daa506",
   "metadata": {
    "execution": {
     "iopub.execute_input": "2023-01-17T01:51:54.656922Z",
     "iopub.status.busy": "2023-01-17T01:51:54.656018Z",
     "iopub.status.idle": "2023-01-17T01:51:54.665334Z",
     "shell.execute_reply": "2023-01-17T01:51:54.664539Z",
     "shell.execute_reply.started": "2023-01-17T01:34:31.755436Z"
    },
    "papermill": {
     "duration": 0.12511,
     "end_time": "2023-01-17T01:51:54.665505",
     "exception": false,
     "start_time": "2023-01-17T01:51:54.540395",
     "status": "completed"
    },
    "tags": []
   },
   "outputs": [
    {
     "data": {
      "text/plain": [
       "PassengerId      0\n",
       "Pclass           0\n",
       "Name             0\n",
       "Sex              0\n",
       "Age             86\n",
       "SibSp            0\n",
       "Parch            0\n",
       "Ticket           0\n",
       "Fare             0\n",
       "Cabin          327\n",
       "Embarked         0\n",
       "dtype: int64"
      ]
     },
     "execution_count": 72,
     "metadata": {},
     "output_type": "execute_result"
    }
   ],
   "source": [
    "df_test.isnull().sum()"
   ]
  },
  {
   "cell_type": "code",
   "execution_count": 73,
   "id": "110b9d51",
   "metadata": {
    "execution": {
     "iopub.execute_input": "2023-01-17T01:51:54.875022Z",
     "iopub.status.busy": "2023-01-17T01:51:54.874263Z",
     "iopub.status.idle": "2023-01-17T01:51:54.889360Z",
     "shell.execute_reply": "2023-01-17T01:51:54.888626Z",
     "shell.execute_reply.started": "2023-01-17T01:34:31.775495Z"
    },
    "papermill": {
     "duration": 0.121688,
     "end_time": "2023-01-17T01:51:54.889520",
     "exception": false,
     "start_time": "2023-01-17T01:51:54.767832",
     "status": "completed"
    },
    "tags": []
   },
   "outputs": [
    {
     "data": {
      "text/html": [
       "<div>\n",
       "<style scoped>\n",
       "    .dataframe tbody tr th:only-of-type {\n",
       "        vertical-align: middle;\n",
       "    }\n",
       "\n",
       "    .dataframe tbody tr th {\n",
       "        vertical-align: top;\n",
       "    }\n",
       "\n",
       "    .dataframe thead th {\n",
       "        text-align: right;\n",
       "    }\n",
       "</style>\n",
       "<table border=\"1\" class=\"dataframe\">\n",
       "  <thead>\n",
       "    <tr style=\"text-align: right;\">\n",
       "      <th></th>\n",
       "      <th>PassengerId</th>\n",
       "      <th>Pclass</th>\n",
       "      <th>Name</th>\n",
       "      <th>Sex</th>\n",
       "      <th>Age</th>\n",
       "      <th>SibSp</th>\n",
       "      <th>Parch</th>\n",
       "      <th>Ticket</th>\n",
       "      <th>Fare</th>\n",
       "      <th>Embarked</th>\n",
       "    </tr>\n",
       "  </thead>\n",
       "  <tbody>\n",
       "    <tr>\n",
       "      <th>0</th>\n",
       "      <td>892</td>\n",
       "      <td>3</td>\n",
       "      <td>Kelly, Mr. James</td>\n",
       "      <td>male</td>\n",
       "      <td>34.5</td>\n",
       "      <td>0</td>\n",
       "      <td>0</td>\n",
       "      <td>330911</td>\n",
       "      <td>7.8292</td>\n",
       "      <td>Q</td>\n",
       "    </tr>\n",
       "    <tr>\n",
       "      <th>1</th>\n",
       "      <td>893</td>\n",
       "      <td>3</td>\n",
       "      <td>Wilkes, Mrs. James (Ellen Needs)</td>\n",
       "      <td>female</td>\n",
       "      <td>47.0</td>\n",
       "      <td>1</td>\n",
       "      <td>0</td>\n",
       "      <td>363272</td>\n",
       "      <td>7.0000</td>\n",
       "      <td>S</td>\n",
       "    </tr>\n",
       "    <tr>\n",
       "      <th>2</th>\n",
       "      <td>894</td>\n",
       "      <td>2</td>\n",
       "      <td>Myles, Mr. Thomas Francis</td>\n",
       "      <td>male</td>\n",
       "      <td>62.0</td>\n",
       "      <td>0</td>\n",
       "      <td>0</td>\n",
       "      <td>240276</td>\n",
       "      <td>9.6875</td>\n",
       "      <td>Q</td>\n",
       "    </tr>\n",
       "    <tr>\n",
       "      <th>3</th>\n",
       "      <td>895</td>\n",
       "      <td>3</td>\n",
       "      <td>Wirz, Mr. Albert</td>\n",
       "      <td>male</td>\n",
       "      <td>27.0</td>\n",
       "      <td>0</td>\n",
       "      <td>0</td>\n",
       "      <td>315154</td>\n",
       "      <td>8.6625</td>\n",
       "      <td>S</td>\n",
       "    </tr>\n",
       "    <tr>\n",
       "      <th>4</th>\n",
       "      <td>896</td>\n",
       "      <td>3</td>\n",
       "      <td>Hirvonen, Mrs. Alexander (Helga E Lindqvist)</td>\n",
       "      <td>female</td>\n",
       "      <td>22.0</td>\n",
       "      <td>1</td>\n",
       "      <td>1</td>\n",
       "      <td>3101298</td>\n",
       "      <td>12.2875</td>\n",
       "      <td>S</td>\n",
       "    </tr>\n",
       "  </tbody>\n",
       "</table>\n",
       "</div>"
      ],
      "text/plain": [
       "   PassengerId  Pclass                                          Name     Sex  \\\n",
       "0          892       3                              Kelly, Mr. James    male   \n",
       "1          893       3              Wilkes, Mrs. James (Ellen Needs)  female   \n",
       "2          894       2                     Myles, Mr. Thomas Francis    male   \n",
       "3          895       3                              Wirz, Mr. Albert    male   \n",
       "4          896       3  Hirvonen, Mrs. Alexander (Helga E Lindqvist)  female   \n",
       "\n",
       "    Age  SibSp  Parch   Ticket     Fare Embarked  \n",
       "0  34.5      0      0   330911   7.8292        Q  \n",
       "1  47.0      1      0   363272   7.0000        S  \n",
       "2  62.0      0      0   240276   9.6875        Q  \n",
       "3  27.0      0      0   315154   8.6625        S  \n",
       "4  22.0      1      1  3101298  12.2875        S  "
      ]
     },
     "execution_count": 73,
     "metadata": {},
     "output_type": "execute_result"
    }
   ],
   "source": [
    "# Drop Cabin and fill Age with the median previously found\n",
    "df_test = df_test.drop(['Cabin'], axis=1)\n",
    "df_test.Age = df_test.Age.fillna(28.0)\n",
    "df_test.head()"
   ]
  },
  {
   "cell_type": "markdown",
   "id": "420b9534",
   "metadata": {
    "papermill": {
     "duration": 0.097987,
     "end_time": "2023-01-17T01:51:55.087238",
     "exception": false,
     "start_time": "2023-01-17T01:51:54.989251",
     "status": "completed"
    },
    "tags": []
   },
   "source": [
    "### Feature engineering"
   ]
  },
  {
   "cell_type": "code",
   "execution_count": 74,
   "id": "32b703db",
   "metadata": {
    "execution": {
     "iopub.execute_input": "2023-01-17T01:51:55.303594Z",
     "iopub.status.busy": "2023-01-17T01:51:55.291862Z",
     "iopub.status.idle": "2023-01-17T01:51:55.342582Z",
     "shell.execute_reply": "2023-01-17T01:51:55.341908Z",
     "shell.execute_reply.started": "2023-01-17T01:34:31.802794Z"
    },
    "papermill": {
     "duration": 0.157401,
     "end_time": "2023-01-17T01:51:55.342744",
     "exception": false,
     "start_time": "2023-01-17T01:51:55.185343",
     "status": "completed"
    },
    "tags": []
   },
   "outputs": [
    {
     "data": {
      "text/html": [
       "<div>\n",
       "<style scoped>\n",
       "    .dataframe tbody tr th:only-of-type {\n",
       "        vertical-align: middle;\n",
       "    }\n",
       "\n",
       "    .dataframe tbody tr th {\n",
       "        vertical-align: top;\n",
       "    }\n",
       "\n",
       "    .dataframe thead th {\n",
       "        text-align: right;\n",
       "    }\n",
       "</style>\n",
       "<table border=\"1\" class=\"dataframe\">\n",
       "  <thead>\n",
       "    <tr style=\"text-align: right;\">\n",
       "      <th></th>\n",
       "      <th>SibSp</th>\n",
       "      <th>Parch</th>\n",
       "      <th>Fare</th>\n",
       "      <th>Sex_female</th>\n",
       "      <th>Sex_male</th>\n",
       "      <th>Embarked_C</th>\n",
       "      <th>Embarked_Q</th>\n",
       "      <th>Embarked_S</th>\n",
       "      <th>Embarked_U</th>\n",
       "      <th>Pclass_1</th>\n",
       "      <th>Pclass_2</th>\n",
       "      <th>Pclass_3</th>\n",
       "      <th>Categorized_age_(0, 10]</th>\n",
       "      <th>Categorized_age_(10, 20]</th>\n",
       "      <th>Categorized_age_(20, 30]</th>\n",
       "      <th>Categorized_age_(30, 40]</th>\n",
       "      <th>Categorized_age_(40, 50]</th>\n",
       "      <th>Categorized_age_(50, 60]</th>\n",
       "      <th>Categorized_age_(60, 70]</th>\n",
       "      <th>Categorized_age_(70, 80]</th>\n",
       "    </tr>\n",
       "  </thead>\n",
       "  <tbody>\n",
       "    <tr>\n",
       "      <th>0</th>\n",
       "      <td>0</td>\n",
       "      <td>0</td>\n",
       "      <td>7.8292</td>\n",
       "      <td>0</td>\n",
       "      <td>1</td>\n",
       "      <td>0</td>\n",
       "      <td>1</td>\n",
       "      <td>0</td>\n",
       "      <td>0</td>\n",
       "      <td>0</td>\n",
       "      <td>0</td>\n",
       "      <td>1</td>\n",
       "      <td>0</td>\n",
       "      <td>0</td>\n",
       "      <td>1</td>\n",
       "      <td>0</td>\n",
       "      <td>0</td>\n",
       "      <td>0</td>\n",
       "      <td>0</td>\n",
       "      <td>0</td>\n",
       "    </tr>\n",
       "    <tr>\n",
       "      <th>1</th>\n",
       "      <td>1</td>\n",
       "      <td>0</td>\n",
       "      <td>7.0000</td>\n",
       "      <td>1</td>\n",
       "      <td>0</td>\n",
       "      <td>0</td>\n",
       "      <td>0</td>\n",
       "      <td>1</td>\n",
       "      <td>0</td>\n",
       "      <td>0</td>\n",
       "      <td>0</td>\n",
       "      <td>1</td>\n",
       "      <td>0</td>\n",
       "      <td>0</td>\n",
       "      <td>0</td>\n",
       "      <td>1</td>\n",
       "      <td>0</td>\n",
       "      <td>0</td>\n",
       "      <td>0</td>\n",
       "      <td>0</td>\n",
       "    </tr>\n",
       "    <tr>\n",
       "      <th>2</th>\n",
       "      <td>0</td>\n",
       "      <td>0</td>\n",
       "      <td>9.6875</td>\n",
       "      <td>0</td>\n",
       "      <td>1</td>\n",
       "      <td>0</td>\n",
       "      <td>1</td>\n",
       "      <td>0</td>\n",
       "      <td>0</td>\n",
       "      <td>0</td>\n",
       "      <td>1</td>\n",
       "      <td>0</td>\n",
       "      <td>0</td>\n",
       "      <td>0</td>\n",
       "      <td>1</td>\n",
       "      <td>0</td>\n",
       "      <td>0</td>\n",
       "      <td>0</td>\n",
       "      <td>0</td>\n",
       "      <td>0</td>\n",
       "    </tr>\n",
       "    <tr>\n",
       "      <th>3</th>\n",
       "      <td>0</td>\n",
       "      <td>0</td>\n",
       "      <td>8.6625</td>\n",
       "      <td>0</td>\n",
       "      <td>1</td>\n",
       "      <td>0</td>\n",
       "      <td>0</td>\n",
       "      <td>1</td>\n",
       "      <td>0</td>\n",
       "      <td>0</td>\n",
       "      <td>0</td>\n",
       "      <td>1</td>\n",
       "      <td>0</td>\n",
       "      <td>0</td>\n",
       "      <td>0</td>\n",
       "      <td>1</td>\n",
       "      <td>0</td>\n",
       "      <td>0</td>\n",
       "      <td>0</td>\n",
       "      <td>0</td>\n",
       "    </tr>\n",
       "    <tr>\n",
       "      <th>4</th>\n",
       "      <td>1</td>\n",
       "      <td>1</td>\n",
       "      <td>12.2875</td>\n",
       "      <td>1</td>\n",
       "      <td>0</td>\n",
       "      <td>0</td>\n",
       "      <td>0</td>\n",
       "      <td>1</td>\n",
       "      <td>0</td>\n",
       "      <td>0</td>\n",
       "      <td>0</td>\n",
       "      <td>1</td>\n",
       "      <td>0</td>\n",
       "      <td>0</td>\n",
       "      <td>0</td>\n",
       "      <td>1</td>\n",
       "      <td>0</td>\n",
       "      <td>0</td>\n",
       "      <td>0</td>\n",
       "      <td>0</td>\n",
       "    </tr>\n",
       "    <tr>\n",
       "      <th>...</th>\n",
       "      <td>...</td>\n",
       "      <td>...</td>\n",
       "      <td>...</td>\n",
       "      <td>...</td>\n",
       "      <td>...</td>\n",
       "      <td>...</td>\n",
       "      <td>...</td>\n",
       "      <td>...</td>\n",
       "      <td>...</td>\n",
       "      <td>...</td>\n",
       "      <td>...</td>\n",
       "      <td>...</td>\n",
       "      <td>...</td>\n",
       "      <td>...</td>\n",
       "      <td>...</td>\n",
       "      <td>...</td>\n",
       "      <td>...</td>\n",
       "      <td>...</td>\n",
       "      <td>...</td>\n",
       "      <td>...</td>\n",
       "    </tr>\n",
       "    <tr>\n",
       "      <th>413</th>\n",
       "      <td>0</td>\n",
       "      <td>0</td>\n",
       "      <td>8.0500</td>\n",
       "      <td>0</td>\n",
       "      <td>1</td>\n",
       "      <td>0</td>\n",
       "      <td>0</td>\n",
       "      <td>1</td>\n",
       "      <td>0</td>\n",
       "      <td>0</td>\n",
       "      <td>0</td>\n",
       "      <td>1</td>\n",
       "      <td>0</td>\n",
       "      <td>0</td>\n",
       "      <td>1</td>\n",
       "      <td>0</td>\n",
       "      <td>0</td>\n",
       "      <td>0</td>\n",
       "      <td>0</td>\n",
       "      <td>0</td>\n",
       "    </tr>\n",
       "    <tr>\n",
       "      <th>414</th>\n",
       "      <td>0</td>\n",
       "      <td>0</td>\n",
       "      <td>108.9000</td>\n",
       "      <td>1</td>\n",
       "      <td>0</td>\n",
       "      <td>1</td>\n",
       "      <td>0</td>\n",
       "      <td>0</td>\n",
       "      <td>0</td>\n",
       "      <td>1</td>\n",
       "      <td>0</td>\n",
       "      <td>0</td>\n",
       "      <td>0</td>\n",
       "      <td>0</td>\n",
       "      <td>0</td>\n",
       "      <td>0</td>\n",
       "      <td>1</td>\n",
       "      <td>0</td>\n",
       "      <td>0</td>\n",
       "      <td>0</td>\n",
       "    </tr>\n",
       "    <tr>\n",
       "      <th>415</th>\n",
       "      <td>0</td>\n",
       "      <td>0</td>\n",
       "      <td>7.2500</td>\n",
       "      <td>0</td>\n",
       "      <td>1</td>\n",
       "      <td>0</td>\n",
       "      <td>0</td>\n",
       "      <td>1</td>\n",
       "      <td>0</td>\n",
       "      <td>0</td>\n",
       "      <td>0</td>\n",
       "      <td>1</td>\n",
       "      <td>0</td>\n",
       "      <td>0</td>\n",
       "      <td>1</td>\n",
       "      <td>0</td>\n",
       "      <td>0</td>\n",
       "      <td>0</td>\n",
       "      <td>0</td>\n",
       "      <td>0</td>\n",
       "    </tr>\n",
       "    <tr>\n",
       "      <th>416</th>\n",
       "      <td>0</td>\n",
       "      <td>0</td>\n",
       "      <td>8.0500</td>\n",
       "      <td>0</td>\n",
       "      <td>1</td>\n",
       "      <td>0</td>\n",
       "      <td>0</td>\n",
       "      <td>1</td>\n",
       "      <td>0</td>\n",
       "      <td>0</td>\n",
       "      <td>0</td>\n",
       "      <td>1</td>\n",
       "      <td>0</td>\n",
       "      <td>0</td>\n",
       "      <td>0</td>\n",
       "      <td>1</td>\n",
       "      <td>0</td>\n",
       "      <td>0</td>\n",
       "      <td>0</td>\n",
       "      <td>0</td>\n",
       "    </tr>\n",
       "    <tr>\n",
       "      <th>417</th>\n",
       "      <td>1</td>\n",
       "      <td>1</td>\n",
       "      <td>22.3583</td>\n",
       "      <td>0</td>\n",
       "      <td>1</td>\n",
       "      <td>1</td>\n",
       "      <td>0</td>\n",
       "      <td>0</td>\n",
       "      <td>0</td>\n",
       "      <td>0</td>\n",
       "      <td>0</td>\n",
       "      <td>1</td>\n",
       "      <td>0</td>\n",
       "      <td>1</td>\n",
       "      <td>0</td>\n",
       "      <td>0</td>\n",
       "      <td>0</td>\n",
       "      <td>0</td>\n",
       "      <td>0</td>\n",
       "      <td>0</td>\n",
       "    </tr>\n",
       "  </tbody>\n",
       "</table>\n",
       "<p>418 rows × 20 columns</p>\n",
       "</div>"
      ],
      "text/plain": [
       "     SibSp  Parch      Fare  Sex_female  Sex_male  Embarked_C  Embarked_Q  \\\n",
       "0        0      0    7.8292           0         1           0           1   \n",
       "1        1      0    7.0000           1         0           0           0   \n",
       "2        0      0    9.6875           0         1           0           1   \n",
       "3        0      0    8.6625           0         1           0           0   \n",
       "4        1      1   12.2875           1         0           0           0   \n",
       "..     ...    ...       ...         ...       ...         ...         ...   \n",
       "413      0      0    8.0500           0         1           0           0   \n",
       "414      0      0  108.9000           1         0           1           0   \n",
       "415      0      0    7.2500           0         1           0           0   \n",
       "416      0      0    8.0500           0         1           0           0   \n",
       "417      1      1   22.3583           0         1           1           0   \n",
       "\n",
       "     Embarked_S  Embarked_U  Pclass_1  Pclass_2  Pclass_3  \\\n",
       "0             0           0         0         0         1   \n",
       "1             1           0         0         0         1   \n",
       "2             0           0         0         1         0   \n",
       "3             1           0         0         0         1   \n",
       "4             1           0         0         0         1   \n",
       "..          ...         ...       ...       ...       ...   \n",
       "413           1           0         0         0         1   \n",
       "414           0           0         1         0         0   \n",
       "415           1           0         0         0         1   \n",
       "416           1           0         0         0         1   \n",
       "417           0           0         0         0         1   \n",
       "\n",
       "     Categorized_age_(0, 10]  Categorized_age_(10, 20]  \\\n",
       "0                          0                         0   \n",
       "1                          0                         0   \n",
       "2                          0                         0   \n",
       "3                          0                         0   \n",
       "4                          0                         0   \n",
       "..                       ...                       ...   \n",
       "413                        0                         0   \n",
       "414                        0                         0   \n",
       "415                        0                         0   \n",
       "416                        0                         0   \n",
       "417                        0                         1   \n",
       "\n",
       "     Categorized_age_(20, 30]  Categorized_age_(30, 40]  \\\n",
       "0                           1                         0   \n",
       "1                           0                         1   \n",
       "2                           1                         0   \n",
       "3                           0                         1   \n",
       "4                           0                         1   \n",
       "..                        ...                       ...   \n",
       "413                         1                         0   \n",
       "414                         0                         0   \n",
       "415                         1                         0   \n",
       "416                         0                         1   \n",
       "417                         0                         0   \n",
       "\n",
       "     Categorized_age_(40, 50]  Categorized_age_(50, 60]  \\\n",
       "0                           0                         0   \n",
       "1                           0                         0   \n",
       "2                           0                         0   \n",
       "3                           0                         0   \n",
       "4                           0                         0   \n",
       "..                        ...                       ...   \n",
       "413                         0                         0   \n",
       "414                         1                         0   \n",
       "415                         0                         0   \n",
       "416                         0                         0   \n",
       "417                         0                         0   \n",
       "\n",
       "     Categorized_age_(60, 70]  Categorized_age_(70, 80]  \n",
       "0                           0                         0  \n",
       "1                           0                         0  \n",
       "2                           0                         0  \n",
       "3                           0                         0  \n",
       "4                           0                         0  \n",
       "..                        ...                       ...  \n",
       "413                         0                         0  \n",
       "414                         0                         0  \n",
       "415                         0                         0  \n",
       "416                         0                         0  \n",
       "417                         0                         0  \n",
       "\n",
       "[418 rows x 20 columns]"
      ]
     },
     "execution_count": 74,
     "metadata": {},
     "output_type": "execute_result"
    }
   ],
   "source": [
    "test_gender_columns = pd.get_dummies(df_test['Sex'], prefix='Sex')\n",
    "test_embarked_columns = pd.get_dummies(df_test[\"Embarked\"], prefix=\"Embarked\")\n",
    "df_test = pd.concat([df_test, test_gender_columns], axis=1)\n",
    "df_test = pd.concat([df_test, test_embarked_columns], axis=1)\n",
    "df_test = df_test.drop(['Sex', 'Embarked'], axis=1)\n",
    "\n",
    "# the test data has no missing 'Embarked' fields. Therefore, the processed test data will not\n",
    "# have an 'Embarked_Q' column. We need to artificially add one filled with zeros.\n",
    "df_test['Embarked_U'] = pd.DataFrame([0 for i in range(len(df_test))])\n",
    "\n",
    "test_categorized_pclass_columns = pd.get_dummies(df_test['Pclass'], prefix='Pclass')\n",
    "df_test = pd.concat([df_test, test_categorized_pclass_columns], axis=1)\n",
    "df_test = df_test.drop(['Pclass'], axis=1)\n",
    "\n",
    "bins = [0, 10, 20, 30, 40, 50, 60, 70, 80]\n",
    "test_categorized_age = pd.cut(df_test['Age'], bins)\n",
    "df_test['Categorized_age'] = categorized_age\n",
    "df_test = df_test.drop([\"Age\"], axis=1)\n",
    "\n",
    "test_cagegorized_age_columns = pd.get_dummies(df_test['Categorized_age'], prefix='Categorized_age')\n",
    "df_test = pd.concat([df_test, test_cagegorized_age_columns], axis=1)\n",
    "df_test = df_test.drop(['Categorized_age'], axis=1)\n",
    "\n",
    "test_PassengerId = df_test['PassengerId']\n",
    "\n",
    "df_test = df_test.drop(['Name', 'Ticket', 'PassengerId'], axis=1)\n",
    "df_test"
   ]
  },
  {
   "cell_type": "code",
   "execution_count": 75,
   "id": "e956db28",
   "metadata": {
    "execution": {
     "iopub.execute_input": "2023-01-17T01:51:55.553391Z",
     "iopub.status.busy": "2023-01-17T01:51:55.552491Z",
     "iopub.status.idle": "2023-01-17T01:51:55.568554Z",
     "shell.execute_reply": "2023-01-17T01:51:55.567851Z",
     "shell.execute_reply.started": "2023-01-17T01:34:31.861103Z"
    },
    "papermill": {
     "duration": 0.125883,
     "end_time": "2023-01-17T01:51:55.568732",
     "exception": false,
     "start_time": "2023-01-17T01:51:55.442849",
     "status": "completed"
    },
    "tags": []
   },
   "outputs": [
    {
     "name": "stdout",
     "output_type": "stream",
     "text": [
      "<class 'pandas.core.frame.DataFrame'>\n",
      "RangeIndex: 418 entries, 0 to 417\n",
      "Data columns (total 20 columns):\n",
      " #   Column                    Non-Null Count  Dtype  \n",
      "---  ------                    --------------  -----  \n",
      " 0   SibSp                     418 non-null    int64  \n",
      " 1   Parch                     418 non-null    int64  \n",
      " 2   Fare                      418 non-null    float64\n",
      " 3   Sex_female                418 non-null    uint8  \n",
      " 4   Sex_male                  418 non-null    uint8  \n",
      " 5   Embarked_C                418 non-null    uint8  \n",
      " 6   Embarked_Q                418 non-null    uint8  \n",
      " 7   Embarked_S                418 non-null    uint8  \n",
      " 8   Embarked_U                418 non-null    int64  \n",
      " 9   Pclass_1                  418 non-null    uint8  \n",
      " 10  Pclass_2                  418 non-null    uint8  \n",
      " 11  Pclass_3                  418 non-null    uint8  \n",
      " 12  Categorized_age_(0, 10]   418 non-null    uint8  \n",
      " 13  Categorized_age_(10, 20]  418 non-null    uint8  \n",
      " 14  Categorized_age_(20, 30]  418 non-null    uint8  \n",
      " 15  Categorized_age_(30, 40]  418 non-null    uint8  \n",
      " 16  Categorized_age_(40, 50]  418 non-null    uint8  \n",
      " 17  Categorized_age_(50, 60]  418 non-null    uint8  \n",
      " 18  Categorized_age_(60, 70]  418 non-null    uint8  \n",
      " 19  Categorized_age_(70, 80]  418 non-null    uint8  \n",
      "dtypes: float64(1), int64(3), uint8(16)\n",
      "memory usage: 19.7 KB\n"
     ]
    }
   ],
   "source": [
    "df_test.info()"
   ]
  },
  {
   "cell_type": "markdown",
   "id": "01f723a2",
   "metadata": {
    "papermill": {
     "duration": 0.098904,
     "end_time": "2023-01-17T01:51:55.773623",
     "exception": false,
     "start_time": "2023-01-17T01:51:55.674719",
     "status": "completed"
    },
    "tags": []
   },
   "source": [
    "### Test our model"
   ]
  },
  {
   "cell_type": "code",
   "execution_count": 76,
   "id": "acec51d1",
   "metadata": {
    "execution": {
     "iopub.execute_input": "2023-01-17T01:51:55.975541Z",
     "iopub.status.busy": "2023-01-17T01:51:55.974856Z",
     "iopub.status.idle": "2023-01-17T01:51:56.039982Z",
     "shell.execute_reply": "2023-01-17T01:51:56.039222Z",
     "shell.execute_reply.started": "2023-01-17T01:48:31.720408Z"
    },
    "papermill": {
     "duration": 0.166682,
     "end_time": "2023-01-17T01:51:56.040135",
     "exception": false,
     "start_time": "2023-01-17T01:51:55.873453",
     "status": "completed"
    },
    "tags": []
   },
   "outputs": [
    {
     "data": {
      "text/plain": [
       "0.8268156424581006"
      ]
     },
     "execution_count": 76,
     "metadata": {},
     "output_type": "execute_result"
    }
   ],
   "source": [
    "# Evaluate the randomized search random forest model\n",
    "rs_rf.score(features_test, labels_test)"
   ]
  },
  {
   "cell_type": "markdown",
   "id": "ffdc86a2",
   "metadata": {
    "papermill": {
     "duration": 0.099153,
     "end_time": "2023-01-17T01:51:56.239808",
     "exception": false,
     "start_time": "2023-01-17T01:51:56.140655",
     "status": "completed"
    },
    "tags": []
   },
   "source": [
    "**Check how many how many survivors were predicted by all the models**"
   ]
  },
  {
   "cell_type": "code",
   "execution_count": 77,
   "id": "d1dee178",
   "metadata": {
    "execution": {
     "iopub.execute_input": "2023-01-17T01:51:56.449483Z",
     "iopub.status.busy": "2023-01-17T01:51:56.448751Z",
     "iopub.status.idle": "2023-01-17T01:51:56.451452Z",
     "shell.execute_reply": "2023-01-17T01:51:56.451956Z",
     "shell.execute_reply.started": "2023-01-17T01:34:31.875446Z"
    },
    "papermill": {
     "duration": 0.110287,
     "end_time": "2023-01-17T01:51:56.452134",
     "exception": false,
     "start_time": "2023-01-17T01:51:56.341847",
     "status": "completed"
    },
    "tags": []
   },
   "outputs": [
    {
     "data": {
      "text/plain": [
       "418"
      ]
     },
     "execution_count": 77,
     "metadata": {},
     "output_type": "execute_result"
    }
   ],
   "source": [
    "# Logistic regression\n",
    "sum(lr_model.predict(df_test))"
   ]
  },
  {
   "cell_type": "code",
   "execution_count": 78,
   "id": "182a0f17",
   "metadata": {
    "execution": {
     "iopub.execute_input": "2023-01-17T01:51:56.660743Z",
     "iopub.status.busy": "2023-01-17T01:51:56.660012Z",
     "iopub.status.idle": "2023-01-17T01:51:56.667590Z",
     "shell.execute_reply": "2023-01-17T01:51:56.666857Z",
     "shell.execute_reply.started": "2023-01-17T01:34:31.891449Z"
    },
    "papermill": {
     "duration": 0.11478,
     "end_time": "2023-01-17T01:51:56.667752",
     "exception": false,
     "start_time": "2023-01-17T01:51:56.552972",
     "status": "completed"
    },
    "tags": []
   },
   "outputs": [
    {
     "data": {
      "text/plain": [
       "279"
      ]
     },
     "execution_count": 78,
     "metadata": {},
     "output_type": "execute_result"
    }
   ],
   "source": [
    "# Decision tree\n",
    "sum(dt_model.predict(df_test))"
   ]
  },
  {
   "cell_type": "code",
   "execution_count": 79,
   "id": "9b6176e3",
   "metadata": {
    "execution": {
     "iopub.execute_input": "2023-01-17T01:51:56.875847Z",
     "iopub.status.busy": "2023-01-17T01:51:56.875117Z",
     "iopub.status.idle": "2023-01-17T01:51:56.880000Z",
     "shell.execute_reply": "2023-01-17T01:51:56.880561Z",
     "shell.execute_reply.started": "2023-01-17T01:34:31.907227Z"
    },
    "papermill": {
     "duration": 0.112193,
     "end_time": "2023-01-17T01:51:56.880754",
     "exception": false,
     "start_time": "2023-01-17T01:51:56.768561",
     "status": "completed"
    },
    "tags": []
   },
   "outputs": [
    {
     "data": {
      "text/plain": [
       "416"
      ]
     },
     "execution_count": 79,
     "metadata": {},
     "output_type": "execute_result"
    }
   ],
   "source": [
    "# Naive Bayes\n",
    "sum(nb_model.predict(df_test))"
   ]
  },
  {
   "cell_type": "code",
   "execution_count": 80,
   "id": "6fdbff6e",
   "metadata": {
    "execution": {
     "iopub.execute_input": "2023-01-17T01:51:57.088076Z",
     "iopub.status.busy": "2023-01-17T01:51:57.086049Z",
     "iopub.status.idle": "2023-01-17T01:51:57.100890Z",
     "shell.execute_reply": "2023-01-17T01:51:57.101465Z",
     "shell.execute_reply.started": "2023-01-17T01:34:31.920033Z"
    },
    "papermill": {
     "duration": 0.119535,
     "end_time": "2023-01-17T01:51:57.101666",
     "exception": false,
     "start_time": "2023-01-17T01:51:56.982131",
     "status": "completed"
    },
    "tags": []
   },
   "outputs": [
    {
     "data": {
      "text/plain": [
       "99"
      ]
     },
     "execution_count": 80,
     "metadata": {},
     "output_type": "execute_result"
    }
   ],
   "source": [
    "# Support vector machine\n",
    "sum(svm_model.predict(df_test))"
   ]
  },
  {
   "cell_type": "code",
   "execution_count": 81,
   "id": "ad0970a5",
   "metadata": {
    "execution": {
     "iopub.execute_input": "2023-01-17T01:51:57.310080Z",
     "iopub.status.busy": "2023-01-17T01:51:57.309366Z",
     "iopub.status.idle": "2023-01-17T01:51:57.319211Z",
     "shell.execute_reply": "2023-01-17T01:51:57.318657Z",
     "shell.execute_reply.started": "2023-01-17T01:34:31.937098Z"
    },
    "papermill": {
     "duration": 0.115021,
     "end_time": "2023-01-17T01:51:57.319385",
     "exception": false,
     "start_time": "2023-01-17T01:51:57.204364",
     "status": "completed"
    },
    "tags": []
   },
   "outputs": [
    {
     "data": {
      "text/plain": [
       "293"
      ]
     },
     "execution_count": 81,
     "metadata": {},
     "output_type": "execute_result"
    }
   ],
   "source": [
    "# Gradient boosting\n",
    "sum(gb_model.predict(df_test))"
   ]
  },
  {
   "cell_type": "code",
   "execution_count": 82,
   "id": "869b3b39",
   "metadata": {
    "execution": {
     "iopub.execute_input": "2023-01-17T01:51:57.532440Z",
     "iopub.status.busy": "2023-01-17T01:51:57.531663Z",
     "iopub.status.idle": "2023-01-17T01:51:57.548990Z",
     "shell.execute_reply": "2023-01-17T01:51:57.549615Z",
     "shell.execute_reply.started": "2023-01-17T01:34:31.947684Z"
    },
    "papermill": {
     "duration": 0.128654,
     "end_time": "2023-01-17T01:51:57.549833",
     "exception": false,
     "start_time": "2023-01-17T01:51:57.421179",
     "status": "completed"
    },
    "tags": []
   },
   "outputs": [
    {
     "data": {
      "text/plain": [
       "2"
      ]
     },
     "execution_count": 82,
     "metadata": {},
     "output_type": "execute_result"
    }
   ],
   "source": [
    "# AdaBoost\n",
    "sum(ab_model.predict(df_test))"
   ]
  },
  {
   "cell_type": "code",
   "execution_count": 83,
   "id": "13fbea5b",
   "metadata": {
    "execution": {
     "iopub.execute_input": "2023-01-17T01:51:57.762152Z",
     "iopub.status.busy": "2023-01-17T01:51:57.761477Z",
     "iopub.status.idle": "2023-01-17T01:51:57.828894Z",
     "shell.execute_reply": "2023-01-17T01:51:57.828176Z",
     "shell.execute_reply.started": "2023-01-17T01:34:31.973130Z"
    },
    "papermill": {
     "duration": 0.173635,
     "end_time": "2023-01-17T01:51:57.829051",
     "exception": false,
     "start_time": "2023-01-17T01:51:57.655416",
     "status": "completed"
    },
    "tags": []
   },
   "outputs": [
    {
     "data": {
      "text/plain": [
       "330"
      ]
     },
     "execution_count": 83,
     "metadata": {},
     "output_type": "execute_result"
    }
   ],
   "source": [
    "# GradientBoosting randomized search\n",
    "sum(rs_rf.predict(df_test))"
   ]
  },
  {
   "cell_type": "markdown",
   "id": "017056cc",
   "metadata": {
    "papermill": {
     "duration": 0.103545,
     "end_time": "2023-01-17T01:51:58.034164",
     "exception": false,
     "start_time": "2023-01-17T01:51:57.930619",
     "status": "completed"
    },
    "tags": []
   },
   "source": [
    "## Prepare submission file"
   ]
  },
  {
   "cell_type": "code",
   "execution_count": 84,
   "id": "7488d556",
   "metadata": {
    "execution": {
     "iopub.execute_input": "2023-01-17T01:51:58.248161Z",
     "iopub.status.busy": "2023-01-17T01:51:58.247476Z",
     "iopub.status.idle": "2023-01-17T01:51:58.314079Z",
     "shell.execute_reply": "2023-01-17T01:51:58.313474Z",
     "shell.execute_reply.started": "2023-01-17T01:34:32.051078Z"
    },
    "papermill": {
     "duration": 0.176042,
     "end_time": "2023-01-17T01:51:58.314239",
     "exception": false,
     "start_time": "2023-01-17T01:51:58.138197",
     "status": "completed"
    },
    "tags": []
   },
   "outputs": [],
   "source": [
    "# submission = gb_model.predict(df_test)\n",
    "# test random forest to see if the score is better\n",
    "\n",
    "submission = rs_rf.predict(df_test)"
   ]
  },
  {
   "cell_type": "code",
   "execution_count": 85,
   "id": "ff47e3fd",
   "metadata": {
    "execution": {
     "iopub.execute_input": "2023-01-17T01:51:58.527032Z",
     "iopub.status.busy": "2023-01-17T01:51:58.526320Z",
     "iopub.status.idle": "2023-01-17T01:51:58.528938Z",
     "shell.execute_reply": "2023-01-17T01:51:58.529677Z",
     "shell.execute_reply.started": "2023-01-17T01:34:32.127918Z"
    },
    "papermill": {
     "duration": 0.11209,
     "end_time": "2023-01-17T01:51:58.529912",
     "exception": false,
     "start_time": "2023-01-17T01:51:58.417822",
     "status": "completed"
    },
    "tags": []
   },
   "outputs": [],
   "source": [
    "test = pd.DataFrame({\"PassengerId\": test_PassengerId.values,\n",
    "                   \"Survived\": submission,\n",
    "                  })"
   ]
  },
  {
   "cell_type": "code",
   "execution_count": 86,
   "id": "92b216f4",
   "metadata": {
    "execution": {
     "iopub.execute_input": "2023-01-17T01:51:58.741671Z",
     "iopub.status.busy": "2023-01-17T01:51:58.740629Z",
     "iopub.status.idle": "2023-01-17T01:51:58.746503Z",
     "shell.execute_reply": "2023-01-17T01:51:58.745873Z",
     "shell.execute_reply.started": "2023-01-17T01:34:32.134539Z"
    },
    "papermill": {
     "duration": 0.114677,
     "end_time": "2023-01-17T01:51:58.746661",
     "exception": false,
     "start_time": "2023-01-17T01:51:58.631984",
     "status": "completed"
    },
    "tags": []
   },
   "outputs": [],
   "source": [
    "test.to_csv(\"submission.csv\", index=False)"
   ]
  }
 ],
 "metadata": {
  "kernelspec": {
   "display_name": "Python 3",
   "language": "python",
   "name": "python3"
  },
  "language_info": {
   "codemirror_mode": {
    "name": "ipython",
    "version": 3
   },
   "file_extension": ".py",
   "mimetype": "text/x-python",
   "name": "python",
   "nbconvert_exporter": "python",
   "pygments_lexer": "ipython3",
   "version": "3.7.12"
  },
  "papermill": {
   "default_parameters": {},
   "duration": 123.08504,
   "end_time": "2023-01-17T01:51:59.662441",
   "environment_variables": {},
   "exception": null,
   "input_path": "__notebook__.ipynb",
   "output_path": "__notebook__.ipynb",
   "parameters": {},
   "start_time": "2023-01-17T01:49:56.577401",
   "version": "2.3.3"
  }
 },
 "nbformat": 4,
 "nbformat_minor": 5
}
