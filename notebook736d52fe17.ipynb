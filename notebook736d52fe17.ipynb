{
 "cells": [
  {
   "cell_type": "markdown",
   "id": "a8d9ee29",
   "metadata": {
    "papermill": {
     "duration": 0.086825,
     "end_time": "2022-05-26T10:04:56.139305",
     "exception": false,
     "start_time": "2022-05-26T10:04:56.052480",
     "status": "completed"
    },
    "tags": []
   },
   "source": [
    "## Importing Libraries"
   ]
  },
  {
   "cell_type": "code",
   "execution_count": 1,
   "id": "eccb2100",
   "metadata": {
    "execution": {
     "iopub.execute_input": "2022-05-26T10:04:56.295488Z",
     "iopub.status.busy": "2022-05-26T10:04:56.293726Z",
     "iopub.status.idle": "2022-05-26T10:04:57.313396Z",
     "shell.execute_reply": "2022-05-26T10:04:57.314101Z",
     "shell.execute_reply.started": "2022-05-26T09:27:27.390143Z"
    },
    "papermill": {
     "duration": 1.099784,
     "end_time": "2022-05-26T10:04:57.314490",
     "exception": false,
     "start_time": "2022-05-26T10:04:56.214706",
     "status": "completed"
    },
    "tags": []
   },
   "outputs": [
    {
     "name": "stdout",
     "output_type": "stream",
     "text": [
      "/kaggle/input/titanic/train.csv\n",
      "/kaggle/input/titanic/test.csv\n",
      "/kaggle/input/titanic/gender_submission.csv\n"
     ]
    }
   ],
   "source": [
    "# This Python 3 environment comes with many helpful analytics libraries installed\n",
    "# It is defined by the kaggle/python Docker image: https://github.com/kaggle/docker-python\n",
    "\n",
    "import numpy as np  #for algebraic operations on arrays\n",
    "import pandas as pd  #for data exploration and manipulation\n",
    "\n",
    "\n",
    "##plotting libraries\n",
    "import matplotlib.pyplot as plt\n",
    "import seaborn as sns\n",
    "%matplotlib inline\n",
    "\n",
    "import os\n",
    "for dirname, _, filenames in os.walk('/kaggle/input'):\n",
    "    for filename in filenames:\n",
    "        print(os.path.join(dirname, filename))\n",
    "\n",
    "# You can write up to 20GB to the current directory (/kaggle/working/) that gets preserved as output when you create a version using \"Save & Run All\" \n",
    "# You can also write temporary files to /kaggle/temp/, but they won't be saved outside of the current session"
   ]
  },
  {
   "cell_type": "markdown",
   "id": "90f9d4c6",
   "metadata": {
    "papermill": {
     "duration": 0.074943,
     "end_time": "2022-05-26T10:04:57.466493",
     "exception": false,
     "start_time": "2022-05-26T10:04:57.391550",
     "status": "completed"
    },
    "tags": []
   },
   "source": [
    "## Loading the dataset"
   ]
  },
  {
   "cell_type": "code",
   "execution_count": 2,
   "id": "e08d9fa9",
   "metadata": {
    "execution": {
     "iopub.execute_input": "2022-05-26T10:04:57.621405Z",
     "iopub.status.busy": "2022-05-26T10:04:57.620785Z",
     "iopub.status.idle": "2022-05-26T10:04:57.640812Z",
     "shell.execute_reply": "2022-05-26T10:04:57.641346Z",
     "shell.execute_reply.started": "2022-05-26T09:27:27.402739Z"
    },
    "papermill": {
     "duration": 0.099757,
     "end_time": "2022-05-26T10:04:57.641531",
     "exception": false,
     "start_time": "2022-05-26T10:04:57.541774",
     "status": "completed"
    },
    "tags": []
   },
   "outputs": [],
   "source": [
    "df_train = pd.read_csv('/kaggle/input/titanic/train.csv')"
   ]
  },
  {
   "cell_type": "markdown",
   "id": "304b396a",
   "metadata": {
    "papermill": {
     "duration": 0.074996,
     "end_time": "2022-05-26T10:04:57.793119",
     "exception": false,
     "start_time": "2022-05-26T10:04:57.718123",
     "status": "completed"
    },
    "tags": []
   },
   "source": [
    "### View the first five lines"
   ]
  },
  {
   "cell_type": "code",
   "execution_count": 3,
   "id": "340bdcb1",
   "metadata": {
    "execution": {
     "iopub.execute_input": "2022-05-26T10:04:57.948413Z",
     "iopub.status.busy": "2022-05-26T10:04:57.947794Z",
     "iopub.status.idle": "2022-05-26T10:04:57.971358Z",
     "shell.execute_reply": "2022-05-26T10:04:57.971870Z",
     "shell.execute_reply.started": "2022-05-26T09:27:27.425167Z"
    },
    "papermill": {
     "duration": 0.102908,
     "end_time": "2022-05-26T10:04:57.972039",
     "exception": false,
     "start_time": "2022-05-26T10:04:57.869131",
     "status": "completed"
    },
    "tags": []
   },
   "outputs": [
    {
     "data": {
      "text/html": [
       "<div>\n",
       "<style scoped>\n",
       "    .dataframe tbody tr th:only-of-type {\n",
       "        vertical-align: middle;\n",
       "    }\n",
       "\n",
       "    .dataframe tbody tr th {\n",
       "        vertical-align: top;\n",
       "    }\n",
       "\n",
       "    .dataframe thead th {\n",
       "        text-align: right;\n",
       "    }\n",
       "</style>\n",
       "<table border=\"1\" class=\"dataframe\">\n",
       "  <thead>\n",
       "    <tr style=\"text-align: right;\">\n",
       "      <th></th>\n",
       "      <th>PassengerId</th>\n",
       "      <th>Survived</th>\n",
       "      <th>Pclass</th>\n",
       "      <th>Name</th>\n",
       "      <th>Sex</th>\n",
       "      <th>Age</th>\n",
       "      <th>SibSp</th>\n",
       "      <th>Parch</th>\n",
       "      <th>Ticket</th>\n",
       "      <th>Fare</th>\n",
       "      <th>Cabin</th>\n",
       "      <th>Embarked</th>\n",
       "    </tr>\n",
       "  </thead>\n",
       "  <tbody>\n",
       "    <tr>\n",
       "      <th>0</th>\n",
       "      <td>1</td>\n",
       "      <td>0</td>\n",
       "      <td>3</td>\n",
       "      <td>Braund, Mr. Owen Harris</td>\n",
       "      <td>male</td>\n",
       "      <td>22.0</td>\n",
       "      <td>1</td>\n",
       "      <td>0</td>\n",
       "      <td>A/5 21171</td>\n",
       "      <td>7.2500</td>\n",
       "      <td>NaN</td>\n",
       "      <td>S</td>\n",
       "    </tr>\n",
       "    <tr>\n",
       "      <th>1</th>\n",
       "      <td>2</td>\n",
       "      <td>1</td>\n",
       "      <td>1</td>\n",
       "      <td>Cumings, Mrs. John Bradley (Florence Briggs Th...</td>\n",
       "      <td>female</td>\n",
       "      <td>38.0</td>\n",
       "      <td>1</td>\n",
       "      <td>0</td>\n",
       "      <td>PC 17599</td>\n",
       "      <td>71.2833</td>\n",
       "      <td>C85</td>\n",
       "      <td>C</td>\n",
       "    </tr>\n",
       "    <tr>\n",
       "      <th>2</th>\n",
       "      <td>3</td>\n",
       "      <td>1</td>\n",
       "      <td>3</td>\n",
       "      <td>Heikkinen, Miss. Laina</td>\n",
       "      <td>female</td>\n",
       "      <td>26.0</td>\n",
       "      <td>0</td>\n",
       "      <td>0</td>\n",
       "      <td>STON/O2. 3101282</td>\n",
       "      <td>7.9250</td>\n",
       "      <td>NaN</td>\n",
       "      <td>S</td>\n",
       "    </tr>\n",
       "    <tr>\n",
       "      <th>3</th>\n",
       "      <td>4</td>\n",
       "      <td>1</td>\n",
       "      <td>1</td>\n",
       "      <td>Futrelle, Mrs. Jacques Heath (Lily May Peel)</td>\n",
       "      <td>female</td>\n",
       "      <td>35.0</td>\n",
       "      <td>1</td>\n",
       "      <td>0</td>\n",
       "      <td>113803</td>\n",
       "      <td>53.1000</td>\n",
       "      <td>C123</td>\n",
       "      <td>S</td>\n",
       "    </tr>\n",
       "    <tr>\n",
       "      <th>4</th>\n",
       "      <td>5</td>\n",
       "      <td>0</td>\n",
       "      <td>3</td>\n",
       "      <td>Allen, Mr. William Henry</td>\n",
       "      <td>male</td>\n",
       "      <td>35.0</td>\n",
       "      <td>0</td>\n",
       "      <td>0</td>\n",
       "      <td>373450</td>\n",
       "      <td>8.0500</td>\n",
       "      <td>NaN</td>\n",
       "      <td>S</td>\n",
       "    </tr>\n",
       "  </tbody>\n",
       "</table>\n",
       "</div>"
      ],
      "text/plain": [
       "   PassengerId  Survived  Pclass  \\\n",
       "0            1         0       3   \n",
       "1            2         1       1   \n",
       "2            3         1       3   \n",
       "3            4         1       1   \n",
       "4            5         0       3   \n",
       "\n",
       "                                                Name     Sex   Age  SibSp  \\\n",
       "0                            Braund, Mr. Owen Harris    male  22.0      1   \n",
       "1  Cumings, Mrs. John Bradley (Florence Briggs Th...  female  38.0      1   \n",
       "2                             Heikkinen, Miss. Laina  female  26.0      0   \n",
       "3       Futrelle, Mrs. Jacques Heath (Lily May Peel)  female  35.0      1   \n",
       "4                           Allen, Mr. William Henry    male  35.0      0   \n",
       "\n",
       "   Parch            Ticket     Fare Cabin Embarked  \n",
       "0      0         A/5 21171   7.2500   NaN        S  \n",
       "1      0          PC 17599  71.2833   C85        C  \n",
       "2      0  STON/O2. 3101282   7.9250   NaN        S  \n",
       "3      0            113803  53.1000  C123        S  \n",
       "4      0            373450   8.0500   NaN        S  "
      ]
     },
     "execution_count": 3,
     "metadata": {},
     "output_type": "execute_result"
    }
   ],
   "source": [
    "df_train.head()"
   ]
  },
  {
   "cell_type": "markdown",
   "id": "9de45430",
   "metadata": {
    "papermill": {
     "duration": 0.077039,
     "end_time": "2022-05-26T10:04:58.126601",
     "exception": false,
     "start_time": "2022-05-26T10:04:58.049562",
     "status": "completed"
    },
    "tags": []
   },
   "source": [
    "## Exploratory data analysis"
   ]
  },
  {
   "cell_type": "code",
   "execution_count": 4,
   "id": "d8c317b6",
   "metadata": {
    "execution": {
     "iopub.execute_input": "2022-05-26T10:04:58.282825Z",
     "iopub.status.busy": "2022-05-26T10:04:58.282217Z",
     "iopub.status.idle": "2022-05-26T10:04:58.286832Z",
     "shell.execute_reply": "2022-05-26T10:04:58.287413Z",
     "shell.execute_reply.started": "2022-05-26T09:27:27.443682Z"
    },
    "papermill": {
     "duration": 0.084777,
     "end_time": "2022-05-26T10:04:58.287573",
     "exception": false,
     "start_time": "2022-05-26T10:04:58.202796",
     "status": "completed"
    },
    "tags": []
   },
   "outputs": [
    {
     "data": {
      "text/plain": [
       "(891, 12)"
      ]
     },
     "execution_count": 4,
     "metadata": {},
     "output_type": "execute_result"
    }
   ],
   "source": [
    "df_train.shape"
   ]
  },
  {
   "cell_type": "code",
   "execution_count": 5,
   "id": "d83c351d",
   "metadata": {
    "execution": {
     "iopub.execute_input": "2022-05-26T10:04:58.442402Z",
     "iopub.status.busy": "2022-05-26T10:04:58.441769Z",
     "iopub.status.idle": "2022-05-26T10:04:58.456339Z",
     "shell.execute_reply": "2022-05-26T10:04:58.456930Z",
     "shell.execute_reply.started": "2022-05-26T09:27:27.458358Z"
    },
    "papermill": {
     "duration": 0.093804,
     "end_time": "2022-05-26T10:04:58.457104",
     "exception": false,
     "start_time": "2022-05-26T10:04:58.363300",
     "status": "completed"
    },
    "tags": []
   },
   "outputs": [
    {
     "data": {
      "text/html": [
       "<div>\n",
       "<style scoped>\n",
       "    .dataframe tbody tr th:only-of-type {\n",
       "        vertical-align: middle;\n",
       "    }\n",
       "\n",
       "    .dataframe tbody tr th {\n",
       "        vertical-align: top;\n",
       "    }\n",
       "\n",
       "    .dataframe thead th {\n",
       "        text-align: right;\n",
       "    }\n",
       "</style>\n",
       "<table border=\"1\" class=\"dataframe\">\n",
       "  <thead>\n",
       "    <tr style=\"text-align: right;\">\n",
       "      <th></th>\n",
       "      <th>0</th>\n",
       "      <th>1</th>\n",
       "      <th>2</th>\n",
       "      <th>3</th>\n",
       "      <th>4</th>\n",
       "    </tr>\n",
       "  </thead>\n",
       "  <tbody>\n",
       "    <tr>\n",
       "      <th>PassengerId</th>\n",
       "      <td>1</td>\n",
       "      <td>2</td>\n",
       "      <td>3</td>\n",
       "      <td>4</td>\n",
       "      <td>5</td>\n",
       "    </tr>\n",
       "    <tr>\n",
       "      <th>Survived</th>\n",
       "      <td>0</td>\n",
       "      <td>1</td>\n",
       "      <td>1</td>\n",
       "      <td>1</td>\n",
       "      <td>0</td>\n",
       "    </tr>\n",
       "    <tr>\n",
       "      <th>Pclass</th>\n",
       "      <td>3</td>\n",
       "      <td>1</td>\n",
       "      <td>3</td>\n",
       "      <td>1</td>\n",
       "      <td>3</td>\n",
       "    </tr>\n",
       "    <tr>\n",
       "      <th>Name</th>\n",
       "      <td>Braund, Mr. Owen Harris</td>\n",
       "      <td>Cumings, Mrs. John Bradley (Florence Briggs Th...</td>\n",
       "      <td>Heikkinen, Miss. Laina</td>\n",
       "      <td>Futrelle, Mrs. Jacques Heath (Lily May Peel)</td>\n",
       "      <td>Allen, Mr. William Henry</td>\n",
       "    </tr>\n",
       "    <tr>\n",
       "      <th>Sex</th>\n",
       "      <td>male</td>\n",
       "      <td>female</td>\n",
       "      <td>female</td>\n",
       "      <td>female</td>\n",
       "      <td>male</td>\n",
       "    </tr>\n",
       "    <tr>\n",
       "      <th>Age</th>\n",
       "      <td>22.0</td>\n",
       "      <td>38.0</td>\n",
       "      <td>26.0</td>\n",
       "      <td>35.0</td>\n",
       "      <td>35.0</td>\n",
       "    </tr>\n",
       "    <tr>\n",
       "      <th>SibSp</th>\n",
       "      <td>1</td>\n",
       "      <td>1</td>\n",
       "      <td>0</td>\n",
       "      <td>1</td>\n",
       "      <td>0</td>\n",
       "    </tr>\n",
       "    <tr>\n",
       "      <th>Parch</th>\n",
       "      <td>0</td>\n",
       "      <td>0</td>\n",
       "      <td>0</td>\n",
       "      <td>0</td>\n",
       "      <td>0</td>\n",
       "    </tr>\n",
       "    <tr>\n",
       "      <th>Ticket</th>\n",
       "      <td>A/5 21171</td>\n",
       "      <td>PC 17599</td>\n",
       "      <td>STON/O2. 3101282</td>\n",
       "      <td>113803</td>\n",
       "      <td>373450</td>\n",
       "    </tr>\n",
       "    <tr>\n",
       "      <th>Fare</th>\n",
       "      <td>7.25</td>\n",
       "      <td>71.2833</td>\n",
       "      <td>7.925</td>\n",
       "      <td>53.1</td>\n",
       "      <td>8.05</td>\n",
       "    </tr>\n",
       "    <tr>\n",
       "      <th>Cabin</th>\n",
       "      <td>NaN</td>\n",
       "      <td>C85</td>\n",
       "      <td>NaN</td>\n",
       "      <td>C123</td>\n",
       "      <td>NaN</td>\n",
       "    </tr>\n",
       "    <tr>\n",
       "      <th>Embarked</th>\n",
       "      <td>S</td>\n",
       "      <td>C</td>\n",
       "      <td>S</td>\n",
       "      <td>S</td>\n",
       "      <td>S</td>\n",
       "    </tr>\n",
       "  </tbody>\n",
       "</table>\n",
       "</div>"
      ],
      "text/plain": [
       "                                   0  \\\n",
       "PassengerId                        1   \n",
       "Survived                           0   \n",
       "Pclass                             3   \n",
       "Name         Braund, Mr. Owen Harris   \n",
       "Sex                             male   \n",
       "Age                             22.0   \n",
       "SibSp                              1   \n",
       "Parch                              0   \n",
       "Ticket                     A/5 21171   \n",
       "Fare                            7.25   \n",
       "Cabin                            NaN   \n",
       "Embarked                           S   \n",
       "\n",
       "                                                             1  \\\n",
       "PassengerId                                                  2   \n",
       "Survived                                                     1   \n",
       "Pclass                                                       1   \n",
       "Name         Cumings, Mrs. John Bradley (Florence Briggs Th...   \n",
       "Sex                                                     female   \n",
       "Age                                                       38.0   \n",
       "SibSp                                                        1   \n",
       "Parch                                                        0   \n",
       "Ticket                                                PC 17599   \n",
       "Fare                                                   71.2833   \n",
       "Cabin                                                      C85   \n",
       "Embarked                                                     C   \n",
       "\n",
       "                                  2  \\\n",
       "PassengerId                       3   \n",
       "Survived                          1   \n",
       "Pclass                            3   \n",
       "Name         Heikkinen, Miss. Laina   \n",
       "Sex                          female   \n",
       "Age                            26.0   \n",
       "SibSp                             0   \n",
       "Parch                             0   \n",
       "Ticket             STON/O2. 3101282   \n",
       "Fare                          7.925   \n",
       "Cabin                           NaN   \n",
       "Embarked                          S   \n",
       "\n",
       "                                                        3  \\\n",
       "PassengerId                                             4   \n",
       "Survived                                                1   \n",
       "Pclass                                                  1   \n",
       "Name         Futrelle, Mrs. Jacques Heath (Lily May Peel)   \n",
       "Sex                                                female   \n",
       "Age                                                  35.0   \n",
       "SibSp                                                   1   \n",
       "Parch                                                   0   \n",
       "Ticket                                             113803   \n",
       "Fare                                                 53.1   \n",
       "Cabin                                                C123   \n",
       "Embarked                                                S   \n",
       "\n",
       "                                    4  \n",
       "PassengerId                         5  \n",
       "Survived                            0  \n",
       "Pclass                              3  \n",
       "Name         Allen, Mr. William Henry  \n",
       "Sex                              male  \n",
       "Age                              35.0  \n",
       "SibSp                               0  \n",
       "Parch                               0  \n",
       "Ticket                         373450  \n",
       "Fare                             8.05  \n",
       "Cabin                             NaN  \n",
       "Embarked                            S  "
      ]
     },
     "execution_count": 5,
     "metadata": {},
     "output_type": "execute_result"
    }
   ],
   "source": [
    "df_train.head().T"
   ]
  },
  {
   "cell_type": "markdown",
   "id": "87df7930",
   "metadata": {
    "papermill": {
     "duration": 0.077128,
     "end_time": "2022-05-26T10:04:58.610955",
     "exception": false,
     "start_time": "2022-05-26T10:04:58.533827",
     "status": "completed"
    },
    "tags": []
   },
   "source": [
    "There are a lot of variables/features here but the most interesting feature is the column Survived. This is the target variable for our ML model which we want to predict (1 or 0)\n",
    "\n",
    "It has 2 values:\n",
    "\n",
    "1 - Survived.\n",
    "\n",
    "0 - No survived."
   ]
  },
  {
   "cell_type": "code",
   "execution_count": 6,
   "id": "8255efb4",
   "metadata": {
    "execution": {
     "iopub.execute_input": "2022-05-26T10:04:58.768244Z",
     "iopub.status.busy": "2022-05-26T10:04:58.767569Z",
     "iopub.status.idle": "2022-05-26T10:04:58.790624Z",
     "shell.execute_reply": "2022-05-26T10:04:58.790094Z",
     "shell.execute_reply.started": "2022-05-26T09:27:27.479499Z"
    },
    "papermill": {
     "duration": 0.103037,
     "end_time": "2022-05-26T10:04:58.790771",
     "exception": false,
     "start_time": "2022-05-26T10:04:58.687734",
     "status": "completed"
    },
    "tags": []
   },
   "outputs": [
    {
     "name": "stdout",
     "output_type": "stream",
     "text": [
      "<class 'pandas.core.frame.DataFrame'>\n",
      "RangeIndex: 891 entries, 0 to 890\n",
      "Data columns (total 12 columns):\n",
      " #   Column       Non-Null Count  Dtype  \n",
      "---  ------       --------------  -----  \n",
      " 0   PassengerId  891 non-null    int64  \n",
      " 1   Survived     891 non-null    int64  \n",
      " 2   Pclass       891 non-null    int64  \n",
      " 3   Name         891 non-null    object \n",
      " 4   Sex          891 non-null    object \n",
      " 5   Age          714 non-null    float64\n",
      " 6   SibSp        891 non-null    int64  \n",
      " 7   Parch        891 non-null    int64  \n",
      " 8   Ticket       891 non-null    object \n",
      " 9   Fare         891 non-null    float64\n",
      " 10  Cabin        204 non-null    object \n",
      " 11  Embarked     889 non-null    object \n",
      "dtypes: float64(2), int64(5), object(5)\n",
      "memory usage: 83.7+ KB\n"
     ]
    }
   ],
   "source": [
    "# checking data information\n",
    "df_train.info()"
   ]
  },
  {
   "cell_type": "markdown",
   "id": "fb154382",
   "metadata": {
    "papermill": {
     "duration": 0.078012,
     "end_time": "2022-05-26T10:04:58.946500",
     "exception": false,
     "start_time": "2022-05-26T10:04:58.868488",
     "status": "completed"
    },
    "tags": []
   },
   "source": [
    "**Interpreting Data Information**\n",
    "\n",
    "- We have 891 rows, any column that contains lesser number of rows has missing values.\n",
    "- We have 12 columns.\n",
    "- There are categorical features that have data type float64.\n",
    "- There are numerical features that have data type object.\n",
    "\n",
    "We can see quite a number of columns with missing values (Age, Cabin)."
   ]
  },
  {
   "cell_type": "code",
   "execution_count": 7,
   "id": "457bd773",
   "metadata": {
    "execution": {
     "iopub.execute_input": "2022-05-26T10:04:59.114857Z",
     "iopub.status.busy": "2022-05-26T10:04:59.113847Z",
     "iopub.status.idle": "2022-05-26T10:04:59.139101Z",
     "shell.execute_reply": "2022-05-26T10:04:59.139606Z",
     "shell.execute_reply.started": "2022-05-26T09:27:27.499087Z"
    },
    "papermill": {
     "duration": 0.115298,
     "end_time": "2022-05-26T10:04:59.139778",
     "exception": false,
     "start_time": "2022-05-26T10:04:59.024480",
     "status": "completed"
    },
    "tags": []
   },
   "outputs": [
    {
     "data": {
      "text/html": [
       "<div>\n",
       "<style scoped>\n",
       "    .dataframe tbody tr th:only-of-type {\n",
       "        vertical-align: middle;\n",
       "    }\n",
       "\n",
       "    .dataframe tbody tr th {\n",
       "        vertical-align: top;\n",
       "    }\n",
       "\n",
       "    .dataframe thead th {\n",
       "        text-align: right;\n",
       "    }\n",
       "</style>\n",
       "<table border=\"1\" class=\"dataframe\">\n",
       "  <thead>\n",
       "    <tr style=\"text-align: right;\">\n",
       "      <th></th>\n",
       "      <th>PassengerId</th>\n",
       "      <th>Survived</th>\n",
       "      <th>Pclass</th>\n",
       "      <th>Age</th>\n",
       "      <th>SibSp</th>\n",
       "      <th>Parch</th>\n",
       "      <th>Fare</th>\n",
       "    </tr>\n",
       "  </thead>\n",
       "  <tbody>\n",
       "    <tr>\n",
       "      <th>count</th>\n",
       "      <td>891.000000</td>\n",
       "      <td>891.000000</td>\n",
       "      <td>891.000000</td>\n",
       "      <td>714.000000</td>\n",
       "      <td>891.000000</td>\n",
       "      <td>891.000000</td>\n",
       "      <td>891.000000</td>\n",
       "    </tr>\n",
       "    <tr>\n",
       "      <th>mean</th>\n",
       "      <td>446.000000</td>\n",
       "      <td>0.383838</td>\n",
       "      <td>2.308642</td>\n",
       "      <td>29.699118</td>\n",
       "      <td>0.523008</td>\n",
       "      <td>0.381594</td>\n",
       "      <td>32.204208</td>\n",
       "    </tr>\n",
       "    <tr>\n",
       "      <th>std</th>\n",
       "      <td>257.353842</td>\n",
       "      <td>0.486592</td>\n",
       "      <td>0.836071</td>\n",
       "      <td>14.526497</td>\n",
       "      <td>1.102743</td>\n",
       "      <td>0.806057</td>\n",
       "      <td>49.693429</td>\n",
       "    </tr>\n",
       "    <tr>\n",
       "      <th>min</th>\n",
       "      <td>1.000000</td>\n",
       "      <td>0.000000</td>\n",
       "      <td>1.000000</td>\n",
       "      <td>0.420000</td>\n",
       "      <td>0.000000</td>\n",
       "      <td>0.000000</td>\n",
       "      <td>0.000000</td>\n",
       "    </tr>\n",
       "    <tr>\n",
       "      <th>25%</th>\n",
       "      <td>223.500000</td>\n",
       "      <td>0.000000</td>\n",
       "      <td>2.000000</td>\n",
       "      <td>20.125000</td>\n",
       "      <td>0.000000</td>\n",
       "      <td>0.000000</td>\n",
       "      <td>7.910400</td>\n",
       "    </tr>\n",
       "    <tr>\n",
       "      <th>50%</th>\n",
       "      <td>446.000000</td>\n",
       "      <td>0.000000</td>\n",
       "      <td>3.000000</td>\n",
       "      <td>28.000000</td>\n",
       "      <td>0.000000</td>\n",
       "      <td>0.000000</td>\n",
       "      <td>14.454200</td>\n",
       "    </tr>\n",
       "    <tr>\n",
       "      <th>75%</th>\n",
       "      <td>668.500000</td>\n",
       "      <td>1.000000</td>\n",
       "      <td>3.000000</td>\n",
       "      <td>38.000000</td>\n",
       "      <td>1.000000</td>\n",
       "      <td>0.000000</td>\n",
       "      <td>31.000000</td>\n",
       "    </tr>\n",
       "    <tr>\n",
       "      <th>max</th>\n",
       "      <td>891.000000</td>\n",
       "      <td>1.000000</td>\n",
       "      <td>3.000000</td>\n",
       "      <td>80.000000</td>\n",
       "      <td>8.000000</td>\n",
       "      <td>6.000000</td>\n",
       "      <td>512.329200</td>\n",
       "    </tr>\n",
       "  </tbody>\n",
       "</table>\n",
       "</div>"
      ],
      "text/plain": [
       "       PassengerId    Survived      Pclass         Age       SibSp  \\\n",
       "count   891.000000  891.000000  891.000000  714.000000  891.000000   \n",
       "mean    446.000000    0.383838    2.308642   29.699118    0.523008   \n",
       "std     257.353842    0.486592    0.836071   14.526497    1.102743   \n",
       "min       1.000000    0.000000    1.000000    0.420000    0.000000   \n",
       "25%     223.500000    0.000000    2.000000   20.125000    0.000000   \n",
       "50%     446.000000    0.000000    3.000000   28.000000    0.000000   \n",
       "75%     668.500000    1.000000    3.000000   38.000000    1.000000   \n",
       "max     891.000000    1.000000    3.000000   80.000000    8.000000   \n",
       "\n",
       "            Parch        Fare  \n",
       "count  891.000000  891.000000  \n",
       "mean     0.381594   32.204208  \n",
       "std      0.806057   49.693429  \n",
       "min      0.000000    0.000000  \n",
       "25%      0.000000    7.910400  \n",
       "50%      0.000000   14.454200  \n",
       "75%      0.000000   31.000000  \n",
       "max      6.000000  512.329200  "
      ]
     },
     "execution_count": 7,
     "metadata": {},
     "output_type": "execute_result"
    }
   ],
   "source": [
    "# statistical summary of numerical variables\n",
    "df_train.describe()"
   ]
  },
  {
   "cell_type": "code",
   "execution_count": 8,
   "id": "dcb970bd",
   "metadata": {
    "execution": {
     "iopub.execute_input": "2022-05-26T10:04:59.299445Z",
     "iopub.status.busy": "2022-05-26T10:04:59.298845Z",
     "iopub.status.idle": "2022-05-26T10:04:59.318951Z",
     "shell.execute_reply": "2022-05-26T10:04:59.318456Z",
     "shell.execute_reply.started": "2022-05-26T09:27:27.530819Z"
    },
    "papermill": {
     "duration": 0.100866,
     "end_time": "2022-05-26T10:04:59.319098",
     "exception": false,
     "start_time": "2022-05-26T10:04:59.218232",
     "status": "completed"
    },
    "tags": []
   },
   "outputs": [
    {
     "data": {
      "text/html": [
       "<div>\n",
       "<style scoped>\n",
       "    .dataframe tbody tr th:only-of-type {\n",
       "        vertical-align: middle;\n",
       "    }\n",
       "\n",
       "    .dataframe tbody tr th {\n",
       "        vertical-align: top;\n",
       "    }\n",
       "\n",
       "    .dataframe thead th {\n",
       "        text-align: right;\n",
       "    }\n",
       "</style>\n",
       "<table border=\"1\" class=\"dataframe\">\n",
       "  <thead>\n",
       "    <tr style=\"text-align: right;\">\n",
       "      <th></th>\n",
       "      <th>Name</th>\n",
       "      <th>Sex</th>\n",
       "      <th>Ticket</th>\n",
       "      <th>Cabin</th>\n",
       "      <th>Embarked</th>\n",
       "    </tr>\n",
       "  </thead>\n",
       "  <tbody>\n",
       "    <tr>\n",
       "      <th>count</th>\n",
       "      <td>891</td>\n",
       "      <td>891</td>\n",
       "      <td>891</td>\n",
       "      <td>204</td>\n",
       "      <td>889</td>\n",
       "    </tr>\n",
       "    <tr>\n",
       "      <th>unique</th>\n",
       "      <td>891</td>\n",
       "      <td>2</td>\n",
       "      <td>681</td>\n",
       "      <td>147</td>\n",
       "      <td>3</td>\n",
       "    </tr>\n",
       "    <tr>\n",
       "      <th>top</th>\n",
       "      <td>Braund, Mr. Owen Harris</td>\n",
       "      <td>male</td>\n",
       "      <td>347082</td>\n",
       "      <td>B96 B98</td>\n",
       "      <td>S</td>\n",
       "    </tr>\n",
       "    <tr>\n",
       "      <th>freq</th>\n",
       "      <td>1</td>\n",
       "      <td>577</td>\n",
       "      <td>7</td>\n",
       "      <td>4</td>\n",
       "      <td>644</td>\n",
       "    </tr>\n",
       "  </tbody>\n",
       "</table>\n",
       "</div>"
      ],
      "text/plain": [
       "                           Name   Sex  Ticket    Cabin Embarked\n",
       "count                       891   891     891      204      889\n",
       "unique                      891     2     681      147        3\n",
       "top     Braund, Mr. Owen Harris  male  347082  B96 B98        S\n",
       "freq                          1   577       7        4      644"
      ]
     },
     "execution_count": 8,
     "metadata": {},
     "output_type": "execute_result"
    }
   ],
   "source": [
    "# summary statistics for categorical columns\n",
    "df_train.describe(include=['object'])"
   ]
  },
  {
   "cell_type": "markdown",
   "id": "679d074d",
   "metadata": {
    "papermill": {
     "duration": 0.077362,
     "end_time": "2022-05-26T10:04:59.474568",
     "exception": false,
     "start_time": "2022-05-26T10:04:59.397206",
     "status": "completed"
    },
    "tags": []
   },
   "source": [
    "## Univariate Analysis"
   ]
  },
  {
   "cell_type": "code",
   "execution_count": 9,
   "id": "332f6a40",
   "metadata": {
    "execution": {
     "iopub.execute_input": "2022-05-26T10:04:59.637095Z",
     "iopub.status.busy": "2022-05-26T10:04:59.636460Z",
     "iopub.status.idle": "2022-05-26T10:04:59.639414Z",
     "shell.execute_reply": "2022-05-26T10:04:59.639966Z",
     "shell.execute_reply.started": "2022-05-26T09:27:27.554408Z"
    },
    "papermill": {
     "duration": 0.087486,
     "end_time": "2022-05-26T10:04:59.640135",
     "exception": false,
     "start_time": "2022-05-26T10:04:59.552649",
     "status": "completed"
    },
    "tags": []
   },
   "outputs": [
    {
     "data": {
      "text/plain": [
       "0"
      ]
     },
     "execution_count": 9,
     "metadata": {},
     "output_type": "execute_result"
    }
   ],
   "source": [
    "# exploring the target variable\n",
    "# checking for missing values\n",
    "df_train['Survived'].isnull().sum()"
   ]
  },
  {
   "cell_type": "code",
   "execution_count": 10,
   "id": "182f3583",
   "metadata": {
    "execution": {
     "iopub.execute_input": "2022-05-26T10:04:59.800560Z",
     "iopub.status.busy": "2022-05-26T10:04:59.799935Z",
     "iopub.status.idle": "2022-05-26T10:04:59.804770Z",
     "shell.execute_reply": "2022-05-26T10:04:59.805264Z",
     "shell.execute_reply.started": "2022-05-26T09:27:27.640580Z"
    },
    "papermill": {
     "duration": 0.086295,
     "end_time": "2022-05-26T10:04:59.805421",
     "exception": false,
     "start_time": "2022-05-26T10:04:59.719126",
     "status": "completed"
    },
    "tags": []
   },
   "outputs": [
    {
     "data": {
      "text/plain": [
       "2"
      ]
     },
     "execution_count": 10,
     "metadata": {},
     "output_type": "execute_result"
    }
   ],
   "source": [
    "# number of unique values\n",
    "df_train['Survived'].nunique()"
   ]
  },
  {
   "cell_type": "code",
   "execution_count": 11,
   "id": "219c88e3",
   "metadata": {
    "execution": {
     "iopub.execute_input": "2022-05-26T10:04:59.966308Z",
     "iopub.status.busy": "2022-05-26T10:04:59.965677Z",
     "iopub.status.idle": "2022-05-26T10:04:59.971419Z",
     "shell.execute_reply": "2022-05-26T10:04:59.972026Z",
     "shell.execute_reply.started": "2022-05-26T09:27:27.649705Z"
    },
    "papermill": {
     "duration": 0.087813,
     "end_time": "2022-05-26T10:04:59.972193",
     "exception": false,
     "start_time": "2022-05-26T10:04:59.884380",
     "status": "completed"
    },
    "tags": []
   },
   "outputs": [
    {
     "data": {
      "text/plain": [
       "0    549\n",
       "1    342\n",
       "Name: Survived, dtype: int64"
      ]
     },
     "execution_count": 11,
     "metadata": {},
     "output_type": "execute_result"
    }
   ],
   "source": [
    "# frequency distribution\n",
    "df_train['Survived'].value_counts()"
   ]
  },
  {
   "cell_type": "code",
   "execution_count": 12,
   "id": "4095634b",
   "metadata": {
    "execution": {
     "iopub.execute_input": "2022-05-26T10:05:00.136076Z",
     "iopub.status.busy": "2022-05-26T10:05:00.135427Z",
     "iopub.status.idle": "2022-05-26T10:05:00.142129Z",
     "shell.execute_reply": "2022-05-26T10:05:00.142722Z",
     "shell.execute_reply.started": "2022-05-26T09:27:27.661810Z"
    },
    "papermill": {
     "duration": 0.0914,
     "end_time": "2022-05-26T10:05:00.142888",
     "exception": false,
     "start_time": "2022-05-26T10:05:00.051488",
     "status": "completed"
    },
    "tags": []
   },
   "outputs": [
    {
     "data": {
      "text/plain": [
       "0    0.616162\n",
       "1    0.383838\n",
       "Name: Survived, dtype: float64"
      ]
     },
     "execution_count": 12,
     "metadata": {},
     "output_type": "execute_result"
    }
   ],
   "source": [
    "# ratio of freq distribution of values\n",
    "df_train['Survived'].value_counts() / len(df_train)"
   ]
  },
  {
   "cell_type": "code",
   "execution_count": 13,
   "id": "b9650f6d",
   "metadata": {
    "execution": {
     "iopub.execute_input": "2022-05-26T10:05:00.305793Z",
     "iopub.status.busy": "2022-05-26T10:05:00.305150Z",
     "iopub.status.idle": "2022-05-26T10:05:00.496421Z",
     "shell.execute_reply": "2022-05-26T10:05:00.496971Z",
     "shell.execute_reply.started": "2022-05-26T09:27:27.675075Z"
    },
    "papermill": {
     "duration": 0.274402,
     "end_time": "2022-05-26T10:05:00.497154",
     "exception": false,
     "start_time": "2022-05-26T10:05:00.222752",
     "status": "completed"
    },
    "tags": []
   },
   "outputs": [
    {
     "data": {
      "image/png": "[encoded data removed]",
      "text/plain": [
       "<Figure size 432x576 with 1 Axes>"
      ]
     },
     "metadata": {
      "needs_background": "light"
     },
     "output_type": "display_data"
    }
   ],
   "source": [
    "# visualizing the frequency distribution\n",
    "f, ax = plt.subplots(figsize=(6, 8))\n",
    "ax = sns.countplot(x=\"Survived\", data=df_train, palette=\"Set2\")\n",
    "plt.show()"
   ]
  },
  {
   "cell_type": "markdown",
   "id": "449c07c6",
   "metadata": {
    "papermill": {
     "duration": 0.08101,
     "end_time": "2022-05-26T10:05:00.659248",
     "exception": false,
     "start_time": "2022-05-26T10:05:00.578238",
     "status": "completed"
    },
    "tags": []
   },
   "source": [
    "Takeaways from Univariate Analysis :\n",
    "\n",
    "1. We have 2 categories of values, 1 and 0.\n",
    "2. We have far more negative(0) values than psitive(1) values.\n",
    "3. 0 appears 61.6% of time, 1 appears 38.8% of time."
   ]
  },
  {
   "cell_type": "markdown",
   "id": "3aeb99b4",
   "metadata": {
    "papermill": {
     "duration": 0.082153,
     "end_time": "2022-05-26T10:05:00.823565",
     "exception": false,
     "start_time": "2022-05-26T10:05:00.741412",
     "status": "completed"
    },
    "tags": []
   },
   "source": [
    "### Biravriate Analysis\n",
    "\n",
    "Bivariate Analysis requires you to learn about relationships between pairs of variables.\n",
    "\n",
    "First, segregating the categorical from the dataframe."
   ]
  },
  {
   "cell_type": "code",
   "execution_count": 14,
   "id": "f9bdde36",
   "metadata": {
    "execution": {
     "iopub.execute_input": "2022-05-26T10:05:01.000804Z",
     "iopub.status.busy": "2022-05-26T10:05:01.000106Z",
     "iopub.status.idle": "2022-05-26T10:05:01.002789Z",
     "shell.execute_reply": "2022-05-26T10:05:01.003274Z",
     "shell.execute_reply.started": "2022-05-26T09:27:27.798429Z"
    },
    "papermill": {
     "duration": 0.099245,
     "end_time": "2022-05-26T10:05:01.003440",
     "exception": false,
     "start_time": "2022-05-26T10:05:00.904195",
     "status": "completed"
    },
    "tags": []
   },
   "outputs": [
    {
     "data": {
      "text/html": [
       "<div>\n",
       "<style scoped>\n",
       "    .dataframe tbody tr th:only-of-type {\n",
       "        vertical-align: middle;\n",
       "    }\n",
       "\n",
       "    .dataframe tbody tr th {\n",
       "        vertical-align: top;\n",
       "    }\n",
       "\n",
       "    .dataframe thead th {\n",
       "        text-align: right;\n",
       "    }\n",
       "</style>\n",
       "<table border=\"1\" class=\"dataframe\">\n",
       "  <thead>\n",
       "    <tr style=\"text-align: right;\">\n",
       "      <th></th>\n",
       "      <th>Name</th>\n",
       "      <th>Sex</th>\n",
       "      <th>Ticket</th>\n",
       "      <th>Cabin</th>\n",
       "      <th>Embarked</th>\n",
       "    </tr>\n",
       "  </thead>\n",
       "  <tbody>\n",
       "    <tr>\n",
       "      <th>0</th>\n",
       "      <td>Braund, Mr. Owen Harris</td>\n",
       "      <td>male</td>\n",
       "      <td>A/5 21171</td>\n",
       "      <td>NaN</td>\n",
       "      <td>S</td>\n",
       "    </tr>\n",
       "    <tr>\n",
       "      <th>1</th>\n",
       "      <td>Cumings, Mrs. John Bradley (Florence Briggs Th...</td>\n",
       "      <td>female</td>\n",
       "      <td>PC 17599</td>\n",
       "      <td>C85</td>\n",
       "      <td>C</td>\n",
       "    </tr>\n",
       "    <tr>\n",
       "      <th>2</th>\n",
       "      <td>Heikkinen, Miss. Laina</td>\n",
       "      <td>female</td>\n",
       "      <td>STON/O2. 3101282</td>\n",
       "      <td>NaN</td>\n",
       "      <td>S</td>\n",
       "    </tr>\n",
       "    <tr>\n",
       "      <th>3</th>\n",
       "      <td>Futrelle, Mrs. Jacques Heath (Lily May Peel)</td>\n",
       "      <td>female</td>\n",
       "      <td>113803</td>\n",
       "      <td>C123</td>\n",
       "      <td>S</td>\n",
       "    </tr>\n",
       "    <tr>\n",
       "      <th>4</th>\n",
       "      <td>Allen, Mr. William Henry</td>\n",
       "      <td>male</td>\n",
       "      <td>373450</td>\n",
       "      <td>NaN</td>\n",
       "      <td>S</td>\n",
       "    </tr>\n",
       "  </tbody>\n",
       "</table>\n",
       "</div>"
      ],
      "text/plain": [
       "                                                Name     Sex  \\\n",
       "0                            Braund, Mr. Owen Harris    male   \n",
       "1  Cumings, Mrs. John Bradley (Florence Briggs Th...  female   \n",
       "2                             Heikkinen, Miss. Laina  female   \n",
       "3       Futrelle, Mrs. Jacques Heath (Lily May Peel)  female   \n",
       "4                           Allen, Mr. William Henry    male   \n",
       "\n",
       "             Ticket Cabin Embarked  \n",
       "0         A/5 21171   NaN        S  \n",
       "1          PC 17599   C85        C  \n",
       "2  STON/O2. 3101282   NaN        S  \n",
       "3            113803  C123        S  \n",
       "4            373450   NaN        S  "
      ]
     },
     "execution_count": 14,
     "metadata": {},
     "output_type": "execute_result"
    }
   ],
   "source": [
    "cat_vars = ['object']\n",
    "cat_df = df_train.select_dtypes(include=cat_vars)\n",
    "cat_df.head()"
   ]
  },
  {
   "cell_type": "markdown",
   "id": "93f30a78",
   "metadata": {
    "papermill": {
     "duration": 0.082024,
     "end_time": "2022-05-26T10:05:01.169356",
     "exception": false,
     "start_time": "2022-05-26T10:05:01.087332",
     "status": "completed"
    },
    "tags": []
   },
   "source": [
    "We have 5 categorical columns out of which:\n",
    "\n",
    "Sex is a binary categorical features."
   ]
  },
  {
   "cell_type": "code",
   "execution_count": 15,
   "id": "02ad655b",
   "metadata": {
    "execution": {
     "iopub.execute_input": "2022-05-26T10:05:01.341242Z",
     "iopub.status.busy": "2022-05-26T10:05:01.340488Z",
     "iopub.status.idle": "2022-05-26T10:05:01.343092Z",
     "shell.execute_reply": "2022-05-26T10:05:01.343695Z",
     "shell.execute_reply.started": "2022-05-26T09:27:27.816258Z"
    },
    "papermill": {
     "duration": 0.091407,
     "end_time": "2022-05-26T10:05:01.343861",
     "exception": false,
     "start_time": "2022-05-26T10:05:01.252454",
     "status": "completed"
    },
    "tags": []
   },
   "outputs": [
    {
     "data": {
      "text/plain": [
       "Name          0\n",
       "Sex           0\n",
       "Ticket        0\n",
       "Cabin       687\n",
       "Embarked      2\n",
       "dtype: int64"
      ]
     },
     "execution_count": 15,
     "metadata": {},
     "output_type": "execute_result"
    }
   ],
   "source": [
    "##counting the missing values in categorical features\n",
    "cat_df.isnull().sum()"
   ]
  },
  {
   "cell_type": "markdown",
   "id": "99325531",
   "metadata": {
    "papermill": {
     "duration": 0.082204,
     "end_time": "2022-05-26T10:05:01.507272",
     "exception": false,
     "start_time": "2022-05-26T10:05:01.425068",
     "status": "completed"
    },
    "tags": []
   },
   "source": [
    "Next, we need to check for the number of labels each of these variables has. The number of labels a variable has defines its cardinality."
   ]
  },
  {
   "cell_type": "code",
   "execution_count": 16,
   "id": "80f8668e",
   "metadata": {
    "execution": {
     "iopub.execute_input": "2022-05-26T10:05:01.675901Z",
     "iopub.status.busy": "2022-05-26T10:05:01.675195Z",
     "iopub.status.idle": "2022-05-26T10:05:01.684065Z",
     "shell.execute_reply": "2022-05-26T10:05:01.684531Z",
     "shell.execute_reply.started": "2022-05-26T09:27:27.830469Z"
    },
    "papermill": {
     "duration": 0.094069,
     "end_time": "2022-05-26T10:05:01.684721",
     "exception": false,
     "start_time": "2022-05-26T10:05:01.590652",
     "status": "completed"
    },
    "tags": []
   },
   "outputs": [
    {
     "name": "stdout",
     "output_type": "stream",
     "text": [
      "Name has 891 labels\n",
      "Sex has 2 labels\n",
      "Ticket has 681 labels\n",
      "Cabin has 148 labels\n",
      "Embarked has 4 labels\n"
     ]
    }
   ],
   "source": [
    "for var in list(cat_df.columns):\n",
    "    print(var, 'has', len(cat_df[var].unique()), 'labels')"
   ]
  },
  {
   "cell_type": "code",
   "execution_count": 17,
   "id": "73534246",
   "metadata": {
    "execution": {
     "iopub.execute_input": "2022-05-26T10:05:01.855093Z",
     "iopub.status.busy": "2022-05-26T10:05:01.854284Z",
     "iopub.status.idle": "2022-05-26T10:05:01.861669Z",
     "shell.execute_reply": "2022-05-26T10:05:01.862185Z",
     "shell.execute_reply.started": "2022-05-26T09:27:27.845207Z"
    },
    "papermill": {
     "duration": 0.094896,
     "end_time": "2022-05-26T10:05:01.862356",
     "exception": false,
     "start_time": "2022-05-26T10:05:01.767460",
     "status": "completed"
    },
    "tags": []
   },
   "outputs": [
    {
     "data": {
      "text/plain": [
       "Index(['Name', 'Sex', 'Ticket', 'Cabin', 'Embarked'], dtype='object')"
      ]
     },
     "execution_count": 17,
     "metadata": {},
     "output_type": "execute_result"
    }
   ],
   "source": [
    "cat_df = df_train.select_dtypes(include=cat_vars)\n",
    "cat_df.columns"
   ]
  },
  {
   "cell_type": "code",
   "execution_count": 18,
   "id": "b26ef3cc",
   "metadata": {
    "execution": {
     "iopub.execute_input": "2022-05-26T10:05:02.035013Z",
     "iopub.status.busy": "2022-05-26T10:05:02.034315Z",
     "iopub.status.idle": "2022-05-26T10:05:02.042377Z",
     "shell.execute_reply": "2022-05-26T10:05:02.043117Z",
     "shell.execute_reply.started": "2022-05-26T09:27:27.856423Z"
    },
    "papermill": {
     "duration": 0.09903,
     "end_time": "2022-05-26T10:05:02.043349",
     "exception": false,
     "start_time": "2022-05-26T10:05:01.944319",
     "status": "completed"
    },
    "tags": []
   },
   "outputs": [
    {
     "name": "stdout",
     "output_type": "stream",
     "text": [
      "Name          0\n",
      "Sex           0\n",
      "Ticket        0\n",
      "Cabin       687\n",
      "Embarked      2\n",
      "dtype: int64 =============\n",
      "Name has 891 labels\n",
      "Sex has 2 labels\n",
      "Ticket has 681 labels\n",
      "Cabin has 148 labels\n",
      "Embarked has 4 labels\n"
     ]
    }
   ],
   "source": [
    "##printing missing value and labels in each column\n",
    "print(cat_df.isnull().sum(), \"=============\")\n",
    "for var in list(cat_df.columns):\n",
    "    print(var, 'has', len(cat_df[var].unique()), 'labels')"
   ]
  },
  {
   "cell_type": "code",
   "execution_count": 19,
   "id": "9ce5afbf",
   "metadata": {
    "execution": {
     "iopub.execute_input": "2022-05-26T10:05:02.216158Z",
     "iopub.status.busy": "2022-05-26T10:05:02.215408Z",
     "iopub.status.idle": "2022-05-26T10:05:02.235175Z",
     "shell.execute_reply": "2022-05-26T10:05:02.235673Z",
     "shell.execute_reply.started": "2022-05-26T09:27:27.872305Z"
    },
    "papermill": {
     "duration": 0.106526,
     "end_time": "2022-05-26T10:05:02.235860",
     "exception": false,
     "start_time": "2022-05-26T10:05:02.129334",
     "status": "completed"
    },
    "tags": []
   },
   "outputs": [
    {
     "name": "stdout",
     "output_type": "stream",
     "text": [
      "Abbott, Mr. Rossmore Edward              1\n",
      "Abbott, Mrs. Stanton (Rosa Hunt)         1\n",
      "Abelson, Mr. Samuel                      1\n",
      "Abelson, Mrs. Samuel (Hannah Wizosky)    1\n",
      "Adahl, Mr. Mauritz Nils Martin           1\n",
      "                                        ..\n",
      "de Mulder, Mr. Theodore                  1\n",
      "de Pelsmaeker, Mr. Alfons                1\n",
      "del Carlo, Mr. Sebastiano                1\n",
      "van Billiard, Mr. Austin Blyler          1\n",
      "van Melkebeke, Mr. Philemon              1\n",
      "Length: 890, dtype: int64\n"
     ]
    }
   ],
   "source": [
    "##one-hot encoding Name column\n",
    "pd.get_dummies(df_train['Name'], drop_first=True).head()\n",
    "\n",
    "##printing the sum of 1s in each column\n",
    "print(pd.get_dummies(df_train['Name'], drop_first=True).sum(axis=0))"
   ]
  },
  {
   "cell_type": "code",
   "execution_count": 20,
   "id": "10d7006f",
   "metadata": {
    "execution": {
     "iopub.execute_input": "2022-05-26T10:05:02.414230Z",
     "iopub.status.busy": "2022-05-26T10:05:02.413352Z",
     "iopub.status.idle": "2022-05-26T10:05:02.416293Z",
     "shell.execute_reply": "2022-05-26T10:05:02.416848Z",
     "shell.execute_reply.started": "2022-05-26T09:27:27.897382Z"
    },
    "papermill": {
     "duration": 0.094187,
     "end_time": "2022-05-26T10:05:02.417027",
     "exception": false,
     "start_time": "2022-05-26T10:05:02.322840",
     "status": "completed"
    },
    "tags": []
   },
   "outputs": [
    {
     "name": "stdout",
     "output_type": "stream",
     "text": [
      "342 passengers survived out of 891\n"
     ]
    }
   ],
   "source": [
    "\n",
    "# Examining how many passengers survived\n",
    "print(sum(df_train['Survived']),'passengers survived out of',len(df_train))"
   ]
  },
  {
   "cell_type": "code",
   "execution_count": 21,
   "id": "66b8dd58",
   "metadata": {
    "execution": {
     "iopub.execute_input": "2022-05-26T10:05:02.598161Z",
     "iopub.status.busy": "2022-05-26T10:05:02.597143Z",
     "iopub.status.idle": "2022-05-26T10:05:02.611557Z",
     "shell.execute_reply": "2022-05-26T10:05:02.612190Z",
     "shell.execute_reply.started": "2022-05-26T09:27:27.905850Z"
    },
    "papermill": {
     "duration": 0.109512,
     "end_time": "2022-05-26T10:05:02.612373",
     "exception": false,
     "start_time": "2022-05-26T10:05:02.502861",
     "status": "completed"
    },
    "tags": []
   },
   "outputs": [
    {
     "data": {
      "text/html": [
       "<div>\n",
       "<style scoped>\n",
       "    .dataframe tbody tr th:only-of-type {\n",
       "        vertical-align: middle;\n",
       "    }\n",
       "\n",
       "    .dataframe tbody tr th {\n",
       "        vertical-align: top;\n",
       "    }\n",
       "\n",
       "    .dataframe thead th {\n",
       "        text-align: right;\n",
       "    }\n",
       "</style>\n",
       "<table border=\"1\" class=\"dataframe\">\n",
       "  <thead>\n",
       "    <tr style=\"text-align: right;\">\n",
       "      <th></th>\n",
       "      <th>Name</th>\n",
       "      <th>Age</th>\n",
       "    </tr>\n",
       "  </thead>\n",
       "  <tbody>\n",
       "    <tr>\n",
       "      <th>0</th>\n",
       "      <td>Braund, Mr. Owen Harris</td>\n",
       "      <td>22.0</td>\n",
       "    </tr>\n",
       "    <tr>\n",
       "      <th>1</th>\n",
       "      <td>Cumings, Mrs. John Bradley (Florence Briggs Th...</td>\n",
       "      <td>38.0</td>\n",
       "    </tr>\n",
       "    <tr>\n",
       "      <th>2</th>\n",
       "      <td>Heikkinen, Miss. Laina</td>\n",
       "      <td>26.0</td>\n",
       "    </tr>\n",
       "    <tr>\n",
       "      <th>3</th>\n",
       "      <td>Futrelle, Mrs. Jacques Heath (Lily May Peel)</td>\n",
       "      <td>35.0</td>\n",
       "    </tr>\n",
       "    <tr>\n",
       "      <th>4</th>\n",
       "      <td>Allen, Mr. William Henry</td>\n",
       "      <td>35.0</td>\n",
       "    </tr>\n",
       "    <tr>\n",
       "      <th>...</th>\n",
       "      <td>...</td>\n",
       "      <td>...</td>\n",
       "    </tr>\n",
       "    <tr>\n",
       "      <th>886</th>\n",
       "      <td>Montvila, Rev. Juozas</td>\n",
       "      <td>27.0</td>\n",
       "    </tr>\n",
       "    <tr>\n",
       "      <th>887</th>\n",
       "      <td>Graham, Miss. Margaret Edith</td>\n",
       "      <td>19.0</td>\n",
       "    </tr>\n",
       "    <tr>\n",
       "      <th>888</th>\n",
       "      <td>Johnston, Miss. Catherine Helen \"Carrie\"</td>\n",
       "      <td>NaN</td>\n",
       "    </tr>\n",
       "    <tr>\n",
       "      <th>889</th>\n",
       "      <td>Behr, Mr. Karl Howell</td>\n",
       "      <td>26.0</td>\n",
       "    </tr>\n",
       "    <tr>\n",
       "      <th>890</th>\n",
       "      <td>Dooley, Mr. Patrick</td>\n",
       "      <td>32.0</td>\n",
       "    </tr>\n",
       "  </tbody>\n",
       "</table>\n",
       "<p>891 rows × 2 columns</p>\n",
       "</div>"
      ],
      "text/plain": [
       "                                                  Name   Age\n",
       "0                              Braund, Mr. Owen Harris  22.0\n",
       "1    Cumings, Mrs. John Bradley (Florence Briggs Th...  38.0\n",
       "2                               Heikkinen, Miss. Laina  26.0\n",
       "3         Futrelle, Mrs. Jacques Heath (Lily May Peel)  35.0\n",
       "4                             Allen, Mr. William Henry  35.0\n",
       "..                                                 ...   ...\n",
       "886                              Montvila, Rev. Juozas  27.0\n",
       "887                       Graham, Miss. Margaret Edith  19.0\n",
       "888           Johnston, Miss. Catherine Helen \"Carrie\"   NaN\n",
       "889                              Behr, Mr. Karl Howell  26.0\n",
       "890                                Dooley, Mr. Patrick  32.0\n",
       "\n",
       "[891 rows x 2 columns]"
      ]
     },
     "execution_count": 21,
     "metadata": {},
     "output_type": "execute_result"
    }
   ],
   "source": [
    "# One can look at several columns together\n",
    "df_train[[\"Name\", \"Age\"]]"
   ]
  },
  {
   "cell_type": "markdown",
   "id": "72558833",
   "metadata": {
    "papermill": {
     "duration": 0.087058,
     "end_time": "2022-05-26T10:05:02.783325",
     "exception": false,
     "start_time": "2022-05-26T10:05:02.696267",
     "status": "completed"
    },
    "tags": []
   },
   "source": [
    "## Cleaning up the data"
   ]
  },
  {
   "cell_type": "code",
   "execution_count": 22,
   "id": "3d3e14c0",
   "metadata": {
    "execution": {
     "iopub.execute_input": "2022-05-26T10:05:02.962280Z",
     "iopub.status.busy": "2022-05-26T10:05:02.961504Z",
     "iopub.status.idle": "2022-05-26T10:05:02.968452Z",
     "shell.execute_reply": "2022-05-26T10:05:02.969143Z",
     "shell.execute_reply.started": "2022-05-26T09:27:27.929121Z"
    },
    "papermill": {
     "duration": 0.098129,
     "end_time": "2022-05-26T10:05:02.969327",
     "exception": false,
     "start_time": "2022-05-26T10:05:02.871198",
     "status": "completed"
    },
    "tags": []
   },
   "outputs": [
    {
     "data": {
      "text/plain": [
       "PassengerId      0\n",
       "Survived         0\n",
       "Pclass           0\n",
       "Name             0\n",
       "Sex              0\n",
       "Age            177\n",
       "SibSp            0\n",
       "Parch            0\n",
       "Ticket           0\n",
       "Fare             0\n",
       "Cabin          687\n",
       "Embarked         2\n",
       "dtype: int64"
      ]
     },
     "execution_count": 22,
     "metadata": {},
     "output_type": "execute_result"
    }
   ],
   "source": [
    "df_train.isnull().sum()"
   ]
  },
  {
   "cell_type": "markdown",
   "id": "7d18b37a",
   "metadata": {
    "papermill": {
     "duration": 0.084802,
     "end_time": "2022-05-26T10:05:03.141266",
     "exception": false,
     "start_time": "2022-05-26T10:05:03.056464",
     "status": "completed"
    },
    "tags": []
   },
   "source": [
    "**The Cabin column is missing too many values to be useful (687). We have to drop it. Age and Embarked are useful so we'll use a technique to handle them**"
   ]
  },
  {
   "cell_type": "code",
   "execution_count": 23,
   "id": "0857d132",
   "metadata": {
    "execution": {
     "iopub.execute_input": "2022-05-26T10:05:03.313620Z",
     "iopub.status.busy": "2022-05-26T10:05:03.312635Z",
     "iopub.status.idle": "2022-05-26T10:05:03.319644Z",
     "shell.execute_reply": "2022-05-26T10:05:03.320228Z",
     "shell.execute_reply.started": "2022-05-26T09:27:27.949072Z"
    },
    "papermill": {
     "duration": 0.095097,
     "end_time": "2022-05-26T10:05:03.320401",
     "exception": false,
     "start_time": "2022-05-26T10:05:03.225304",
     "status": "completed"
    },
    "tags": []
   },
   "outputs": [
    {
     "data": {
      "text/plain": [
       "0       NaN\n",
       "1       C85\n",
       "2       NaN\n",
       "3      C123\n",
       "4       NaN\n",
       "       ... \n",
       "886     NaN\n",
       "887     B42\n",
       "888     NaN\n",
       "889    C148\n",
       "890     NaN\n",
       "Name: Cabin, Length: 891, dtype: object"
      ]
     },
     "execution_count": 23,
     "metadata": {},
     "output_type": "execute_result"
    }
   ],
   "source": [
    "df_train['Cabin']"
   ]
  },
  {
   "cell_type": "code",
   "execution_count": 24,
   "id": "0c6cccde",
   "metadata": {
    "execution": {
     "iopub.execute_input": "2022-05-26T10:05:03.493102Z",
     "iopub.status.busy": "2022-05-26T10:05:03.492073Z",
     "iopub.status.idle": "2022-05-26T10:05:03.499039Z",
     "shell.execute_reply": "2022-05-26T10:05:03.499868Z",
     "shell.execute_reply.started": "2022-05-26T09:27:27.958852Z"
    },
    "papermill": {
     "duration": 0.094962,
     "end_time": "2022-05-26T10:05:03.500097",
     "exception": false,
     "start_time": "2022-05-26T10:05:03.405135",
     "status": "completed"
    },
    "tags": []
   },
   "outputs": [
    {
     "name": "stdout",
     "output_type": "stream",
     "text": [
      "The Cabin column is missing 687 values out of 891\n"
     ]
    }
   ],
   "source": [
    "print(\"The Cabin column is missing\", sum(df_train['Cabin'].isna()), \"values out of\",len(df_train['Cabin']))"
   ]
  },
  {
   "cell_type": "markdown",
   "id": "c7f23fca",
   "metadata": {
    "papermill": {
     "duration": 0.085662,
     "end_time": "2022-05-26T10:05:03.670457",
     "exception": false,
     "start_time": "2022-05-26T10:05:03.584795",
     "status": "completed"
    },
    "tags": []
   },
   "source": [
    "**Drop missing values**"
   ]
  },
  {
   "cell_type": "code",
   "execution_count": 25,
   "id": "2a851efd",
   "metadata": {
    "execution": {
     "iopub.execute_input": "2022-05-26T10:05:03.843509Z",
     "iopub.status.busy": "2022-05-26T10:05:03.842552Z",
     "iopub.status.idle": "2022-05-26T10:05:03.847390Z",
     "shell.execute_reply": "2022-05-26T10:05:03.847968Z",
     "shell.execute_reply.started": "2022-05-26T09:27:27.969598Z"
    },
    "papermill": {
     "duration": 0.09294,
     "end_time": "2022-05-26T10:05:03.848141",
     "exception": false,
     "start_time": "2022-05-26T10:05:03.755201",
     "status": "completed"
    },
    "tags": []
   },
   "outputs": [],
   "source": [
    "# Drop missing values\n",
    "df_train = df_train.drop('Cabin', axis=1)"
   ]
  },
  {
   "cell_type": "code",
   "execution_count": 26,
   "id": "fc5f0b00",
   "metadata": {
    "execution": {
     "iopub.execute_input": "2022-05-26T10:05:04.025188Z",
     "iopub.status.busy": "2022-05-26T10:05:04.024166Z",
     "iopub.status.idle": "2022-05-26T10:05:04.038969Z",
     "shell.execute_reply": "2022-05-26T10:05:04.039524Z",
     "shell.execute_reply.started": "2022-05-26T09:27:27.981553Z"
    },
    "papermill": {
     "duration": 0.10587,
     "end_time": "2022-05-26T10:05:04.039711",
     "exception": false,
     "start_time": "2022-05-26T10:05:03.933841",
     "status": "completed"
    },
    "tags": []
   },
   "outputs": [
    {
     "data": {
      "text/html": [
       "<div>\n",
       "<style scoped>\n",
       "    .dataframe tbody tr th:only-of-type {\n",
       "        vertical-align: middle;\n",
       "    }\n",
       "\n",
       "    .dataframe tbody tr th {\n",
       "        vertical-align: top;\n",
       "    }\n",
       "\n",
       "    .dataframe thead th {\n",
       "        text-align: right;\n",
       "    }\n",
       "</style>\n",
       "<table border=\"1\" class=\"dataframe\">\n",
       "  <thead>\n",
       "    <tr style=\"text-align: right;\">\n",
       "      <th></th>\n",
       "      <th>PassengerId</th>\n",
       "      <th>Survived</th>\n",
       "      <th>Pclass</th>\n",
       "      <th>Name</th>\n",
       "      <th>Sex</th>\n",
       "      <th>Age</th>\n",
       "      <th>SibSp</th>\n",
       "      <th>Parch</th>\n",
       "      <th>Ticket</th>\n",
       "      <th>Fare</th>\n",
       "      <th>Embarked</th>\n",
       "    </tr>\n",
       "  </thead>\n",
       "  <tbody>\n",
       "    <tr>\n",
       "      <th>0</th>\n",
       "      <td>1</td>\n",
       "      <td>0</td>\n",
       "      <td>3</td>\n",
       "      <td>Braund, Mr. Owen Harris</td>\n",
       "      <td>male</td>\n",
       "      <td>22.0</td>\n",
       "      <td>1</td>\n",
       "      <td>0</td>\n",
       "      <td>A/5 21171</td>\n",
       "      <td>7.2500</td>\n",
       "      <td>S</td>\n",
       "    </tr>\n",
       "    <tr>\n",
       "      <th>1</th>\n",
       "      <td>2</td>\n",
       "      <td>1</td>\n",
       "      <td>1</td>\n",
       "      <td>Cumings, Mrs. John Bradley (Florence Briggs Th...</td>\n",
       "      <td>female</td>\n",
       "      <td>38.0</td>\n",
       "      <td>1</td>\n",
       "      <td>0</td>\n",
       "      <td>PC 17599</td>\n",
       "      <td>71.2833</td>\n",
       "      <td>C</td>\n",
       "    </tr>\n",
       "    <tr>\n",
       "      <th>2</th>\n",
       "      <td>3</td>\n",
       "      <td>1</td>\n",
       "      <td>3</td>\n",
       "      <td>Heikkinen, Miss. Laina</td>\n",
       "      <td>female</td>\n",
       "      <td>26.0</td>\n",
       "      <td>0</td>\n",
       "      <td>0</td>\n",
       "      <td>STON/O2. 3101282</td>\n",
       "      <td>7.9250</td>\n",
       "      <td>S</td>\n",
       "    </tr>\n",
       "    <tr>\n",
       "      <th>3</th>\n",
       "      <td>4</td>\n",
       "      <td>1</td>\n",
       "      <td>1</td>\n",
       "      <td>Futrelle, Mrs. Jacques Heath (Lily May Peel)</td>\n",
       "      <td>female</td>\n",
       "      <td>35.0</td>\n",
       "      <td>1</td>\n",
       "      <td>0</td>\n",
       "      <td>113803</td>\n",
       "      <td>53.1000</td>\n",
       "      <td>S</td>\n",
       "    </tr>\n",
       "    <tr>\n",
       "      <th>4</th>\n",
       "      <td>5</td>\n",
       "      <td>0</td>\n",
       "      <td>3</td>\n",
       "      <td>Allen, Mr. William Henry</td>\n",
       "      <td>male</td>\n",
       "      <td>35.0</td>\n",
       "      <td>0</td>\n",
       "      <td>0</td>\n",
       "      <td>373450</td>\n",
       "      <td>8.0500</td>\n",
       "      <td>S</td>\n",
       "    </tr>\n",
       "  </tbody>\n",
       "</table>\n",
       "</div>"
      ],
      "text/plain": [
       "   PassengerId  Survived  Pclass  \\\n",
       "0            1         0       3   \n",
       "1            2         1       1   \n",
       "2            3         1       3   \n",
       "3            4         1       1   \n",
       "4            5         0       3   \n",
       "\n",
       "                                                Name     Sex   Age  SibSp  \\\n",
       "0                            Braund, Mr. Owen Harris    male  22.0      1   \n",
       "1  Cumings, Mrs. John Bradley (Florence Briggs Th...  female  38.0      1   \n",
       "2                             Heikkinen, Miss. Laina  female  26.0      0   \n",
       "3       Futrelle, Mrs. Jacques Heath (Lily May Peel)  female  35.0      1   \n",
       "4                           Allen, Mr. William Henry    male  35.0      0   \n",
       "\n",
       "   Parch            Ticket     Fare Embarked  \n",
       "0      0         A/5 21171   7.2500        S  \n",
       "1      0          PC 17599  71.2833        C  \n",
       "2      0  STON/O2. 3101282   7.9250        S  \n",
       "3      0            113803  53.1000        S  \n",
       "4      0            373450   8.0500        S  "
      ]
     },
     "execution_count": 26,
     "metadata": {},
     "output_type": "execute_result"
    }
   ],
   "source": [
    "df_train.head()"
   ]
  },
  {
   "cell_type": "markdown",
   "id": "9bc5318c",
   "metadata": {
    "papermill": {
     "duration": 0.08918,
     "end_time": "2022-05-26T10:05:04.215058",
     "exception": false,
     "start_time": "2022-05-26T10:05:04.125878",
     "status": "completed"
    },
    "tags": []
   },
   "source": [
    "Other columns such as Age or Embarked are missing some values, but they can still be useful.\n",
    "\n",
    "For the age column, let's fill in the missing values with the median of all ages.\n",
    "\n",
    "For the Embarked column, let's make a new category called 'U', for Unknown port of embarkment."
   ]
  },
  {
   "cell_type": "code",
   "execution_count": 27,
   "id": "5fc31172",
   "metadata": {
    "execution": {
     "iopub.execute_input": "2022-05-26T10:05:04.393143Z",
     "iopub.status.busy": "2022-05-26T10:05:04.392099Z",
     "iopub.status.idle": "2022-05-26T10:05:04.405648Z",
     "shell.execute_reply": "2022-05-26T10:05:04.406172Z",
     "shell.execute_reply.started": "2022-05-26T09:27:28.001862Z"
    },
    "papermill": {
     "duration": 0.103254,
     "end_time": "2022-05-26T10:05:04.406341",
     "exception": false,
     "start_time": "2022-05-26T10:05:04.303087",
     "status": "completed"
    },
    "tags": []
   },
   "outputs": [
    {
     "name": "stdout",
     "output_type": "stream",
     "text": [
      "<class 'pandas.core.frame.DataFrame'>\n",
      "RangeIndex: 891 entries, 0 to 890\n",
      "Data columns (total 11 columns):\n",
      " #   Column       Non-Null Count  Dtype  \n",
      "---  ------       --------------  -----  \n",
      " 0   PassengerId  891 non-null    int64  \n",
      " 1   Survived     891 non-null    int64  \n",
      " 2   Pclass       891 non-null    int64  \n",
      " 3   Name         891 non-null    object \n",
      " 4   Sex          891 non-null    object \n",
      " 5   Age          714 non-null    float64\n",
      " 6   SibSp        891 non-null    int64  \n",
      " 7   Parch        891 non-null    int64  \n",
      " 8   Ticket       891 non-null    object \n",
      " 9   Fare         891 non-null    float64\n",
      " 10  Embarked     889 non-null    object \n",
      "dtypes: float64(2), int64(5), object(4)\n",
      "memory usage: 76.7+ KB\n"
     ]
    }
   ],
   "source": [
    "df_train.info()"
   ]
  },
  {
   "cell_type": "markdown",
   "id": "a0c35d8a",
   "metadata": {
    "papermill": {
     "duration": 0.086657,
     "end_time": "2022-05-26T10:05:04.578148",
     "exception": false,
     "start_time": "2022-05-26T10:05:04.491491",
     "status": "completed"
    },
    "tags": []
   },
   "source": [
    "**For the age column, let's fill in the missing values with the median of all ages.**"
   ]
  },
  {
   "cell_type": "code",
   "execution_count": 28,
   "id": "93cd3d3f",
   "metadata": {
    "execution": {
     "iopub.execute_input": "2022-05-26T10:05:04.754062Z",
     "iopub.status.busy": "2022-05-26T10:05:04.753338Z",
     "iopub.status.idle": "2022-05-26T10:05:04.760287Z",
     "shell.execute_reply": "2022-05-26T10:05:04.760839Z",
     "shell.execute_reply.started": "2022-05-26T09:27:28.019001Z"
    },
    "papermill": {
     "duration": 0.096124,
     "end_time": "2022-05-26T10:05:04.761056",
     "exception": false,
     "start_time": "2022-05-26T10:05:04.664932",
     "status": "completed"
    },
    "tags": []
   },
   "outputs": [
    {
     "data": {
      "text/plain": [
       "0      22.0\n",
       "1      38.0\n",
       "2      26.0\n",
       "3      35.0\n",
       "4      35.0\n",
       "       ... \n",
       "886    27.0\n",
       "887    19.0\n",
       "888     NaN\n",
       "889    26.0\n",
       "890    32.0\n",
       "Name: Age, Length: 891, dtype: float64"
      ]
     },
     "execution_count": 28,
     "metadata": {},
     "output_type": "execute_result"
    }
   ],
   "source": [
    "df_train.Age"
   ]
  },
  {
   "cell_type": "code",
   "execution_count": 29,
   "id": "a9a040fa",
   "metadata": {
    "execution": {
     "iopub.execute_input": "2022-05-26T10:05:04.940128Z",
     "iopub.status.busy": "2022-05-26T10:05:04.939303Z",
     "iopub.status.idle": "2022-05-26T10:05:04.943971Z",
     "shell.execute_reply": "2022-05-26T10:05:04.944470Z",
     "shell.execute_reply.started": "2022-05-26T09:27:28.034321Z"
    },
    "papermill": {
     "duration": 0.095292,
     "end_time": "2022-05-26T10:05:04.944657",
     "exception": false,
     "start_time": "2022-05-26T10:05:04.849365",
     "status": "completed"
    },
    "tags": []
   },
   "outputs": [
    {
     "data": {
      "text/plain": [
       "28.0"
      ]
     },
     "execution_count": 29,
     "metadata": {},
     "output_type": "execute_result"
    }
   ],
   "source": [
    "# get the median of all ages\n",
    "median_age = df_train.Age.median()\n",
    "median_age"
   ]
  },
  {
   "cell_type": "code",
   "execution_count": 30,
   "id": "7f54692f",
   "metadata": {
    "execution": {
     "iopub.execute_input": "2022-05-26T10:05:05.124383Z",
     "iopub.status.busy": "2022-05-26T10:05:05.122219Z",
     "iopub.status.idle": "2022-05-26T10:05:05.127945Z",
     "shell.execute_reply": "2022-05-26T10:05:05.127164Z",
     "shell.execute_reply.started": "2022-05-26T09:27:28.048252Z"
    },
    "papermill": {
     "duration": 0.097568,
     "end_time": "2022-05-26T10:05:05.128123",
     "exception": false,
     "start_time": "2022-05-26T10:05:05.030555",
     "status": "completed"
    },
    "tags": []
   },
   "outputs": [],
   "source": [
    "# fill in the missing values with the median of all ages\n",
    "df_train.Age = df_train.Age.fillna(median_age)"
   ]
  },
  {
   "cell_type": "code",
   "execution_count": 31,
   "id": "3f6add07",
   "metadata": {
    "execution": {
     "iopub.execute_input": "2022-05-26T10:05:05.310380Z",
     "iopub.status.busy": "2022-05-26T10:05:05.309673Z",
     "iopub.status.idle": "2022-05-26T10:05:05.316298Z",
     "shell.execute_reply": "2022-05-26T10:05:05.316882Z",
     "shell.execute_reply.started": "2022-05-26T09:27:28.060031Z"
    },
    "papermill": {
     "duration": 0.097334,
     "end_time": "2022-05-26T10:05:05.317061",
     "exception": false,
     "start_time": "2022-05-26T10:05:05.219727",
     "status": "completed"
    },
    "tags": []
   },
   "outputs": [
    {
     "data": {
      "text/plain": [
       "0      22.0\n",
       "1      38.0\n",
       "2      26.0\n",
       "3      35.0\n",
       "4      35.0\n",
       "       ... \n",
       "886    27.0\n",
       "887    19.0\n",
       "888    28.0\n",
       "889    26.0\n",
       "890    32.0\n",
       "Name: Age, Length: 891, dtype: float64"
      ]
     },
     "execution_count": 31,
     "metadata": {},
     "output_type": "execute_result"
    }
   ],
   "source": [
    "df_train.Age"
   ]
  },
  {
   "cell_type": "markdown",
   "id": "98e9384b",
   "metadata": {
    "papermill": {
     "duration": 0.10873,
     "end_time": "2022-05-26T10:05:05.512198",
     "exception": false,
     "start_time": "2022-05-26T10:05:05.403468",
     "status": "completed"
    },
    "tags": []
   },
   "source": [
    "**For the Embarked column, let's make a new category called 'U', for Unknown port of embarkment.**"
   ]
  },
  {
   "cell_type": "code",
   "execution_count": 32,
   "id": "6053e9ca",
   "metadata": {
    "execution": {
     "iopub.execute_input": "2022-05-26T10:05:05.694125Z",
     "iopub.status.busy": "2022-05-26T10:05:05.693485Z",
     "iopub.status.idle": "2022-05-26T10:05:05.698807Z",
     "shell.execute_reply": "2022-05-26T10:05:05.698270Z",
     "shell.execute_reply.started": "2022-05-26T09:27:28.073135Z"
    },
    "papermill": {
     "duration": 0.096661,
     "end_time": "2022-05-26T10:05:05.698962",
     "exception": false,
     "start_time": "2022-05-26T10:05:05.602301",
     "status": "completed"
    },
    "tags": []
   },
   "outputs": [],
   "source": [
    "df_train.Embarked = df_train.Embarked.fillna('U')"
   ]
  },
  {
   "cell_type": "code",
   "execution_count": 33,
   "id": "3c0126be",
   "metadata": {
    "execution": {
     "iopub.execute_input": "2022-05-26T10:05:05.880363Z",
     "iopub.status.busy": "2022-05-26T10:05:05.879446Z",
     "iopub.status.idle": "2022-05-26T10:05:05.882815Z",
     "shell.execute_reply": "2022-05-26T10:05:05.883314Z",
     "shell.execute_reply.started": "2022-05-26T09:27:28.083244Z"
    },
    "papermill": {
     "duration": 0.098006,
     "end_time": "2022-05-26T10:05:05.883485",
     "exception": false,
     "start_time": "2022-05-26T10:05:05.785479",
     "status": "completed"
    },
    "tags": []
   },
   "outputs": [
    {
     "data": {
      "text/plain": [
       "PassengerId    0\n",
       "Survived       0\n",
       "Pclass         0\n",
       "Name           0\n",
       "Sex            0\n",
       "Age            0\n",
       "SibSp          0\n",
       "Parch          0\n",
       "Ticket         0\n",
       "Fare           0\n",
       "Embarked       0\n",
       "dtype: int64"
      ]
     },
     "execution_count": 33,
     "metadata": {},
     "output_type": "execute_result"
    }
   ],
   "source": [
    "# check again empty values\n",
    "df_train.isnull().sum()"
   ]
  },
  {
   "cell_type": "markdown",
   "id": "e2e7d00d",
   "metadata": {
    "papermill": {
     "duration": 0.089026,
     "end_time": "2022-05-26T10:05:06.061233",
     "exception": false,
     "start_time": "2022-05-26T10:05:05.972207",
     "status": "completed"
    },
    "tags": []
   },
   "source": [
    "## Feature engineering"
   ]
  },
  {
   "cell_type": "markdown",
   "id": "e4c2c21c",
   "metadata": {
    "papermill": {
     "duration": 0.086653,
     "end_time": "2022-05-26T10:05:06.239764",
     "exception": false,
     "start_time": "2022-05-26T10:05:06.153111",
     "status": "completed"
    },
    "tags": []
   },
   "source": [
    "### One-hot encoding"
   ]
  },
  {
   "cell_type": "code",
   "execution_count": 34,
   "id": "7b5f1167",
   "metadata": {
    "execution": {
     "iopub.execute_input": "2022-05-26T10:05:06.417188Z",
     "iopub.status.busy": "2022-05-26T10:05:06.416570Z",
     "iopub.status.idle": "2022-05-26T10:05:06.427934Z",
     "shell.execute_reply": "2022-05-26T10:05:06.428686Z",
     "shell.execute_reply.started": "2022-05-26T09:27:28.098757Z"
    },
    "papermill": {
     "duration": 0.101783,
     "end_time": "2022-05-26T10:05:06.428908",
     "exception": false,
     "start_time": "2022-05-26T10:05:06.327125",
     "status": "completed"
    },
    "tags": []
   },
   "outputs": [
    {
     "name": "stdout",
     "output_type": "stream",
     "text": [
      "<class 'pandas.core.frame.DataFrame'>\n",
      "RangeIndex: 891 entries, 0 to 890\n",
      "Data columns (total 11 columns):\n",
      " #   Column       Non-Null Count  Dtype  \n",
      "---  ------       --------------  -----  \n",
      " 0   PassengerId  891 non-null    int64  \n",
      " 1   Survived     891 non-null    int64  \n",
      " 2   Pclass       891 non-null    int64  \n",
      " 3   Name         891 non-null    object \n",
      " 4   Sex          891 non-null    object \n",
      " 5   Age          891 non-null    float64\n",
      " 6   SibSp        891 non-null    int64  \n",
      " 7   Parch        891 non-null    int64  \n",
      " 8   Ticket       891 non-null    object \n",
      " 9   Fare         891 non-null    float64\n",
      " 10  Embarked     891 non-null    object \n",
      "dtypes: float64(2), int64(5), object(4)\n",
      "memory usage: 76.7+ KB\n"
     ]
    }
   ],
   "source": [
    "# check categorical columns\n",
    "df_train.info()"
   ]
  },
  {
   "cell_type": "code",
   "execution_count": 35,
   "id": "53d5a9bd",
   "metadata": {
    "execution": {
     "iopub.execute_input": "2022-05-26T10:05:06.608753Z",
     "iopub.status.busy": "2022-05-26T10:05:06.608061Z",
     "iopub.status.idle": "2022-05-26T10:05:06.623334Z",
     "shell.execute_reply": "2022-05-26T10:05:06.624318Z",
     "shell.execute_reply.started": "2022-05-26T09:27:28.114455Z"
    },
    "papermill": {
     "duration": 0.106347,
     "end_time": "2022-05-26T10:05:06.624642",
     "exception": false,
     "start_time": "2022-05-26T10:05:06.518295",
     "status": "completed"
    },
    "tags": []
   },
   "outputs": [
    {
     "name": "stdout",
     "output_type": "stream",
     "text": [
      "     Sex_female  Sex_male\n",
      "0             0         1\n",
      "1             1         0\n",
      "2             1         0\n",
      "3             1         0\n",
      "4             0         1\n",
      "..          ...       ...\n",
      "886           0         1\n",
      "887           1         0\n",
      "888           1         0\n",
      "889           0         1\n",
      "890           0         1\n",
      "\n",
      "[891 rows x 2 columns]\n",
      "     Embarked_C  Embarked_Q  Embarked_S  Embarked_U\n",
      "0             0           0           1           0\n",
      "1             1           0           0           0\n",
      "2             0           0           1           0\n",
      "3             0           0           1           0\n",
      "4             0           0           1           0\n",
      "..          ...         ...         ...         ...\n",
      "886           0           0           1           0\n",
      "887           0           0           1           0\n",
      "888           0           0           1           0\n",
      "889           1           0           0           0\n",
      "890           0           1           0           0\n",
      "\n",
      "[891 rows x 4 columns]\n"
     ]
    }
   ],
   "source": [
    "gender_columns = pd.get_dummies(df_train.Sex, prefix='Sex')\n",
    "print(gender_columns)\n",
    "embarked_columns = pd.get_dummies(df_train.Embarked, prefix='Embarked')\n",
    "print(embarked_columns)"
   ]
  },
  {
   "cell_type": "code",
   "execution_count": 36,
   "id": "7ff0e0cb",
   "metadata": {
    "execution": {
     "iopub.execute_input": "2022-05-26T10:05:06.818131Z",
     "iopub.status.busy": "2022-05-26T10:05:06.807742Z",
     "iopub.status.idle": "2022-05-26T10:05:06.821921Z",
     "shell.execute_reply": "2022-05-26T10:05:06.821307Z",
     "shell.execute_reply.started": "2022-05-26T09:27:28.135062Z"
    },
    "papermill": {
     "duration": 0.107611,
     "end_time": "2022-05-26T10:05:06.822072",
     "exception": false,
     "start_time": "2022-05-26T10:05:06.714461",
     "status": "completed"
    },
    "tags": []
   },
   "outputs": [
    {
     "data": {
      "text/html": [
       "<div>\n",
       "<style scoped>\n",
       "    .dataframe tbody tr th:only-of-type {\n",
       "        vertical-align: middle;\n",
       "    }\n",
       "\n",
       "    .dataframe tbody tr th {\n",
       "        vertical-align: top;\n",
       "    }\n",
       "\n",
       "    .dataframe thead th {\n",
       "        text-align: right;\n",
       "    }\n",
       "</style>\n",
       "<table border=\"1\" class=\"dataframe\">\n",
       "  <thead>\n",
       "    <tr style=\"text-align: right;\">\n",
       "      <th></th>\n",
       "      <th>PassengerId</th>\n",
       "      <th>Survived</th>\n",
       "      <th>Pclass</th>\n",
       "      <th>Name</th>\n",
       "      <th>Sex</th>\n",
       "      <th>Age</th>\n",
       "      <th>SibSp</th>\n",
       "      <th>Parch</th>\n",
       "      <th>Ticket</th>\n",
       "      <th>Fare</th>\n",
       "      <th>Embarked</th>\n",
       "    </tr>\n",
       "  </thead>\n",
       "  <tbody>\n",
       "    <tr>\n",
       "      <th>0</th>\n",
       "      <td>1</td>\n",
       "      <td>0</td>\n",
       "      <td>3</td>\n",
       "      <td>Braund, Mr. Owen Harris</td>\n",
       "      <td>male</td>\n",
       "      <td>22.0</td>\n",
       "      <td>1</td>\n",
       "      <td>0</td>\n",
       "      <td>A/5 21171</td>\n",
       "      <td>7.2500</td>\n",
       "      <td>S</td>\n",
       "    </tr>\n",
       "    <tr>\n",
       "      <th>1</th>\n",
       "      <td>2</td>\n",
       "      <td>1</td>\n",
       "      <td>1</td>\n",
       "      <td>Cumings, Mrs. John Bradley (Florence Briggs Th...</td>\n",
       "      <td>female</td>\n",
       "      <td>38.0</td>\n",
       "      <td>1</td>\n",
       "      <td>0</td>\n",
       "      <td>PC 17599</td>\n",
       "      <td>71.2833</td>\n",
       "      <td>C</td>\n",
       "    </tr>\n",
       "    <tr>\n",
       "      <th>2</th>\n",
       "      <td>3</td>\n",
       "      <td>1</td>\n",
       "      <td>3</td>\n",
       "      <td>Heikkinen, Miss. Laina</td>\n",
       "      <td>female</td>\n",
       "      <td>26.0</td>\n",
       "      <td>0</td>\n",
       "      <td>0</td>\n",
       "      <td>STON/O2. 3101282</td>\n",
       "      <td>7.9250</td>\n",
       "      <td>S</td>\n",
       "    </tr>\n",
       "    <tr>\n",
       "      <th>3</th>\n",
       "      <td>4</td>\n",
       "      <td>1</td>\n",
       "      <td>1</td>\n",
       "      <td>Futrelle, Mrs. Jacques Heath (Lily May Peel)</td>\n",
       "      <td>female</td>\n",
       "      <td>35.0</td>\n",
       "      <td>1</td>\n",
       "      <td>0</td>\n",
       "      <td>113803</td>\n",
       "      <td>53.1000</td>\n",
       "      <td>S</td>\n",
       "    </tr>\n",
       "    <tr>\n",
       "      <th>4</th>\n",
       "      <td>5</td>\n",
       "      <td>0</td>\n",
       "      <td>3</td>\n",
       "      <td>Allen, Mr. William Henry</td>\n",
       "      <td>male</td>\n",
       "      <td>35.0</td>\n",
       "      <td>0</td>\n",
       "      <td>0</td>\n",
       "      <td>373450</td>\n",
       "      <td>8.0500</td>\n",
       "      <td>S</td>\n",
       "    </tr>\n",
       "  </tbody>\n",
       "</table>\n",
       "</div>"
      ],
      "text/plain": [
       "   PassengerId  Survived  Pclass  \\\n",
       "0            1         0       3   \n",
       "1            2         1       1   \n",
       "2            3         1       3   \n",
       "3            4         1       1   \n",
       "4            5         0       3   \n",
       "\n",
       "                                                Name     Sex   Age  SibSp  \\\n",
       "0                            Braund, Mr. Owen Harris    male  22.0      1   \n",
       "1  Cumings, Mrs. John Bradley (Florence Briggs Th...  female  38.0      1   \n",
       "2                             Heikkinen, Miss. Laina  female  26.0      0   \n",
       "3       Futrelle, Mrs. Jacques Heath (Lily May Peel)  female  35.0      1   \n",
       "4                           Allen, Mr. William Henry    male  35.0      0   \n",
       "\n",
       "   Parch            Ticket     Fare Embarked  \n",
       "0      0         A/5 21171   7.2500        S  \n",
       "1      0          PC 17599  71.2833        C  \n",
       "2      0  STON/O2. 3101282   7.9250        S  \n",
       "3      0            113803  53.1000        S  \n",
       "4      0            373450   8.0500        S  "
      ]
     },
     "execution_count": 36,
     "metadata": {},
     "output_type": "execute_result"
    }
   ],
   "source": [
    "df_train.head()"
   ]
  },
  {
   "cell_type": "code",
   "execution_count": 37,
   "id": "8ef8f265",
   "metadata": {
    "execution": {
     "iopub.execute_input": "2022-05-26T10:05:07.004785Z",
     "iopub.status.busy": "2022-05-26T10:05:07.004132Z",
     "iopub.status.idle": "2022-05-26T10:05:07.011059Z",
     "shell.execute_reply": "2022-05-26T10:05:07.011617Z",
     "shell.execute_reply.started": "2022-05-26T09:27:28.151916Z"
    },
    "papermill": {
     "duration": 0.100369,
     "end_time": "2022-05-26T10:05:07.011799",
     "exception": false,
     "start_time": "2022-05-26T10:05:06.911430",
     "status": "completed"
    },
    "tags": []
   },
   "outputs": [],
   "source": [
    "# concat dataset with new columns\n",
    "df_train = pd.concat([df_train, gender_columns], axis=1)\n",
    "df_train = pd.concat([df_train, embarked_columns], axis=1)"
   ]
  },
  {
   "cell_type": "code",
   "execution_count": 38,
   "id": "4ec13c97",
   "metadata": {
    "execution": {
     "iopub.execute_input": "2022-05-26T10:05:07.193112Z",
     "iopub.status.busy": "2022-05-26T10:05:07.192434Z",
     "iopub.status.idle": "2022-05-26T10:05:07.208883Z",
     "shell.execute_reply": "2022-05-26T10:05:07.208323Z",
     "shell.execute_reply.started": "2022-05-26T09:27:28.166599Z"
    },
    "papermill": {
     "duration": 0.107407,
     "end_time": "2022-05-26T10:05:07.209031",
     "exception": false,
     "start_time": "2022-05-26T10:05:07.101624",
     "status": "completed"
    },
    "tags": []
   },
   "outputs": [
    {
     "data": {
      "text/html": [
       "<div>\n",
       "<style scoped>\n",
       "    .dataframe tbody tr th:only-of-type {\n",
       "        vertical-align: middle;\n",
       "    }\n",
       "\n",
       "    .dataframe tbody tr th {\n",
       "        vertical-align: top;\n",
       "    }\n",
       "\n",
       "    .dataframe thead th {\n",
       "        text-align: right;\n",
       "    }\n",
       "</style>\n",
       "<table border=\"1\" class=\"dataframe\">\n",
       "  <thead>\n",
       "    <tr style=\"text-align: right;\">\n",
       "      <th></th>\n",
       "      <th>PassengerId</th>\n",
       "      <th>Survived</th>\n",
       "      <th>Pclass</th>\n",
       "      <th>Name</th>\n",
       "      <th>Sex</th>\n",
       "      <th>Age</th>\n",
       "      <th>SibSp</th>\n",
       "      <th>Parch</th>\n",
       "      <th>Ticket</th>\n",
       "      <th>Fare</th>\n",
       "      <th>Embarked</th>\n",
       "      <th>Sex_female</th>\n",
       "      <th>Sex_male</th>\n",
       "      <th>Embarked_C</th>\n",
       "      <th>Embarked_Q</th>\n",
       "      <th>Embarked_S</th>\n",
       "      <th>Embarked_U</th>\n",
       "    </tr>\n",
       "  </thead>\n",
       "  <tbody>\n",
       "    <tr>\n",
       "      <th>0</th>\n",
       "      <td>1</td>\n",
       "      <td>0</td>\n",
       "      <td>3</td>\n",
       "      <td>Braund, Mr. Owen Harris</td>\n",
       "      <td>male</td>\n",
       "      <td>22.0</td>\n",
       "      <td>1</td>\n",
       "      <td>0</td>\n",
       "      <td>A/5 21171</td>\n",
       "      <td>7.2500</td>\n",
       "      <td>S</td>\n",
       "      <td>0</td>\n",
       "      <td>1</td>\n",
       "      <td>0</td>\n",
       "      <td>0</td>\n",
       "      <td>1</td>\n",
       "      <td>0</td>\n",
       "    </tr>\n",
       "    <tr>\n",
       "      <th>1</th>\n",
       "      <td>2</td>\n",
       "      <td>1</td>\n",
       "      <td>1</td>\n",
       "      <td>Cumings, Mrs. John Bradley (Florence Briggs Th...</td>\n",
       "      <td>female</td>\n",
       "      <td>38.0</td>\n",
       "      <td>1</td>\n",
       "      <td>0</td>\n",
       "      <td>PC 17599</td>\n",
       "      <td>71.2833</td>\n",
       "      <td>C</td>\n",
       "      <td>1</td>\n",
       "      <td>0</td>\n",
       "      <td>1</td>\n",
       "      <td>0</td>\n",
       "      <td>0</td>\n",
       "      <td>0</td>\n",
       "    </tr>\n",
       "    <tr>\n",
       "      <th>2</th>\n",
       "      <td>3</td>\n",
       "      <td>1</td>\n",
       "      <td>3</td>\n",
       "      <td>Heikkinen, Miss. Laina</td>\n",
       "      <td>female</td>\n",
       "      <td>26.0</td>\n",
       "      <td>0</td>\n",
       "      <td>0</td>\n",
       "      <td>STON/O2. 3101282</td>\n",
       "      <td>7.9250</td>\n",
       "      <td>S</td>\n",
       "      <td>1</td>\n",
       "      <td>0</td>\n",
       "      <td>0</td>\n",
       "      <td>0</td>\n",
       "      <td>1</td>\n",
       "      <td>0</td>\n",
       "    </tr>\n",
       "    <tr>\n",
       "      <th>3</th>\n",
       "      <td>4</td>\n",
       "      <td>1</td>\n",
       "      <td>1</td>\n",
       "      <td>Futrelle, Mrs. Jacques Heath (Lily May Peel)</td>\n",
       "      <td>female</td>\n",
       "      <td>35.0</td>\n",
       "      <td>1</td>\n",
       "      <td>0</td>\n",
       "      <td>113803</td>\n",
       "      <td>53.1000</td>\n",
       "      <td>S</td>\n",
       "      <td>1</td>\n",
       "      <td>0</td>\n",
       "      <td>0</td>\n",
       "      <td>0</td>\n",
       "      <td>1</td>\n",
       "      <td>0</td>\n",
       "    </tr>\n",
       "    <tr>\n",
       "      <th>4</th>\n",
       "      <td>5</td>\n",
       "      <td>0</td>\n",
       "      <td>3</td>\n",
       "      <td>Allen, Mr. William Henry</td>\n",
       "      <td>male</td>\n",
       "      <td>35.0</td>\n",
       "      <td>0</td>\n",
       "      <td>0</td>\n",
       "      <td>373450</td>\n",
       "      <td>8.0500</td>\n",
       "      <td>S</td>\n",
       "      <td>0</td>\n",
       "      <td>1</td>\n",
       "      <td>0</td>\n",
       "      <td>0</td>\n",
       "      <td>1</td>\n",
       "      <td>0</td>\n",
       "    </tr>\n",
       "  </tbody>\n",
       "</table>\n",
       "</div>"
      ],
      "text/plain": [
       "   PassengerId  Survived  Pclass  \\\n",
       "0            1         0       3   \n",
       "1            2         1       1   \n",
       "2            3         1       3   \n",
       "3            4         1       1   \n",
       "4            5         0       3   \n",
       "\n",
       "                                                Name     Sex   Age  SibSp  \\\n",
       "0                            Braund, Mr. Owen Harris    male  22.0      1   \n",
       "1  Cumings, Mrs. John Bradley (Florence Briggs Th...  female  38.0      1   \n",
       "2                             Heikkinen, Miss. Laina  female  26.0      0   \n",
       "3       Futrelle, Mrs. Jacques Heath (Lily May Peel)  female  35.0      1   \n",
       "4                           Allen, Mr. William Henry    male  35.0      0   \n",
       "\n",
       "   Parch            Ticket     Fare Embarked  Sex_female  Sex_male  \\\n",
       "0      0         A/5 21171   7.2500        S           0         1   \n",
       "1      0          PC 17599  71.2833        C           1         0   \n",
       "2      0  STON/O2. 3101282   7.9250        S           1         0   \n",
       "3      0            113803  53.1000        S           1         0   \n",
       "4      0            373450   8.0500        S           0         1   \n",
       "\n",
       "   Embarked_C  Embarked_Q  Embarked_S  Embarked_U  \n",
       "0           0           0           1           0  \n",
       "1           1           0           0           0  \n",
       "2           0           0           1           0  \n",
       "3           0           0           1           0  \n",
       "4           0           0           1           0  "
      ]
     },
     "execution_count": 38,
     "metadata": {},
     "output_type": "execute_result"
    }
   ],
   "source": [
    "df_train.head()"
   ]
  },
  {
   "cell_type": "code",
   "execution_count": 39,
   "id": "fecbfa56",
   "metadata": {
    "execution": {
     "iopub.execute_input": "2022-05-26T10:05:07.393136Z",
     "iopub.status.busy": "2022-05-26T10:05:07.392377Z",
     "iopub.status.idle": "2022-05-26T10:05:07.397448Z",
     "shell.execute_reply": "2022-05-26T10:05:07.396936Z",
     "shell.execute_reply.started": "2022-05-26T09:27:28.188786Z"
    },
    "papermill": {
     "duration": 0.099342,
     "end_time": "2022-05-26T10:05:07.397610",
     "exception": false,
     "start_time": "2022-05-26T10:05:07.298268",
     "status": "completed"
    },
    "tags": []
   },
   "outputs": [],
   "source": [
    "# drop Sex and Embarked\n",
    "df_train = df_train.drop(['Sex', 'Embarked'], axis=1)"
   ]
  },
  {
   "cell_type": "code",
   "execution_count": 40,
   "id": "f22b0291",
   "metadata": {
    "execution": {
     "iopub.execute_input": "2022-05-26T10:05:07.585498Z",
     "iopub.status.busy": "2022-05-26T10:05:07.578701Z",
     "iopub.status.idle": "2022-05-26T10:05:07.595785Z",
     "shell.execute_reply": "2022-05-26T10:05:07.595252Z",
     "shell.execute_reply.started": "2022-05-26T09:27:28.198953Z"
    },
    "papermill": {
     "duration": 0.1095,
     "end_time": "2022-05-26T10:05:07.595937",
     "exception": false,
     "start_time": "2022-05-26T10:05:07.486437",
     "status": "completed"
    },
    "tags": []
   },
   "outputs": [
    {
     "data": {
      "text/html": [
       "<div>\n",
       "<style scoped>\n",
       "    .dataframe tbody tr th:only-of-type {\n",
       "        vertical-align: middle;\n",
       "    }\n",
       "\n",
       "    .dataframe tbody tr th {\n",
       "        vertical-align: top;\n",
       "    }\n",
       "\n",
       "    .dataframe thead th {\n",
       "        text-align: right;\n",
       "    }\n",
       "</style>\n",
       "<table border=\"1\" class=\"dataframe\">\n",
       "  <thead>\n",
       "    <tr style=\"text-align: right;\">\n",
       "      <th></th>\n",
       "      <th>PassengerId</th>\n",
       "      <th>Survived</th>\n",
       "      <th>Pclass</th>\n",
       "      <th>Name</th>\n",
       "      <th>Age</th>\n",
       "      <th>SibSp</th>\n",
       "      <th>Parch</th>\n",
       "      <th>Ticket</th>\n",
       "      <th>Fare</th>\n",
       "      <th>Sex_female</th>\n",
       "      <th>Sex_male</th>\n",
       "      <th>Embarked_C</th>\n",
       "      <th>Embarked_Q</th>\n",
       "      <th>Embarked_S</th>\n",
       "      <th>Embarked_U</th>\n",
       "    </tr>\n",
       "  </thead>\n",
       "  <tbody>\n",
       "    <tr>\n",
       "      <th>0</th>\n",
       "      <td>1</td>\n",
       "      <td>0</td>\n",
       "      <td>3</td>\n",
       "      <td>Braund, Mr. Owen Harris</td>\n",
       "      <td>22.0</td>\n",
       "      <td>1</td>\n",
       "      <td>0</td>\n",
       "      <td>A/5 21171</td>\n",
       "      <td>7.2500</td>\n",
       "      <td>0</td>\n",
       "      <td>1</td>\n",
       "      <td>0</td>\n",
       "      <td>0</td>\n",
       "      <td>1</td>\n",
       "      <td>0</td>\n",
       "    </tr>\n",
       "    <tr>\n",
       "      <th>1</th>\n",
       "      <td>2</td>\n",
       "      <td>1</td>\n",
       "      <td>1</td>\n",
       "      <td>Cumings, Mrs. John Bradley (Florence Briggs Th...</td>\n",
       "      <td>38.0</td>\n",
       "      <td>1</td>\n",
       "      <td>0</td>\n",
       "      <td>PC 17599</td>\n",
       "      <td>71.2833</td>\n",
       "      <td>1</td>\n",
       "      <td>0</td>\n",
       "      <td>1</td>\n",
       "      <td>0</td>\n",
       "      <td>0</td>\n",
       "      <td>0</td>\n",
       "    </tr>\n",
       "    <tr>\n",
       "      <th>2</th>\n",
       "      <td>3</td>\n",
       "      <td>1</td>\n",
       "      <td>3</td>\n",
       "      <td>Heikkinen, Miss. Laina</td>\n",
       "      <td>26.0</td>\n",
       "      <td>0</td>\n",
       "      <td>0</td>\n",
       "      <td>STON/O2. 3101282</td>\n",
       "      <td>7.9250</td>\n",
       "      <td>1</td>\n",
       "      <td>0</td>\n",
       "      <td>0</td>\n",
       "      <td>0</td>\n",
       "      <td>1</td>\n",
       "      <td>0</td>\n",
       "    </tr>\n",
       "    <tr>\n",
       "      <th>3</th>\n",
       "      <td>4</td>\n",
       "      <td>1</td>\n",
       "      <td>1</td>\n",
       "      <td>Futrelle, Mrs. Jacques Heath (Lily May Peel)</td>\n",
       "      <td>35.0</td>\n",
       "      <td>1</td>\n",
       "      <td>0</td>\n",
       "      <td>113803</td>\n",
       "      <td>53.1000</td>\n",
       "      <td>1</td>\n",
       "      <td>0</td>\n",
       "      <td>0</td>\n",
       "      <td>0</td>\n",
       "      <td>1</td>\n",
       "      <td>0</td>\n",
       "    </tr>\n",
       "    <tr>\n",
       "      <th>4</th>\n",
       "      <td>5</td>\n",
       "      <td>0</td>\n",
       "      <td>3</td>\n",
       "      <td>Allen, Mr. William Henry</td>\n",
       "      <td>35.0</td>\n",
       "      <td>0</td>\n",
       "      <td>0</td>\n",
       "      <td>373450</td>\n",
       "      <td>8.0500</td>\n",
       "      <td>0</td>\n",
       "      <td>1</td>\n",
       "      <td>0</td>\n",
       "      <td>0</td>\n",
       "      <td>1</td>\n",
       "      <td>0</td>\n",
       "    </tr>\n",
       "  </tbody>\n",
       "</table>\n",
       "</div>"
      ],
      "text/plain": [
       "   PassengerId  Survived  Pclass  \\\n",
       "0            1         0       3   \n",
       "1            2         1       1   \n",
       "2            3         1       3   \n",
       "3            4         1       1   \n",
       "4            5         0       3   \n",
       "\n",
       "                                                Name   Age  SibSp  Parch  \\\n",
       "0                            Braund, Mr. Owen Harris  22.0      1      0   \n",
       "1  Cumings, Mrs. John Bradley (Florence Briggs Th...  38.0      1      0   \n",
       "2                             Heikkinen, Miss. Laina  26.0      0      0   \n",
       "3       Futrelle, Mrs. Jacques Heath (Lily May Peel)  35.0      1      0   \n",
       "4                           Allen, Mr. William Henry  35.0      0      0   \n",
       "\n",
       "             Ticket     Fare  Sex_female  Sex_male  Embarked_C  Embarked_Q  \\\n",
       "0         A/5 21171   7.2500           0         1           0           0   \n",
       "1          PC 17599  71.2833           1         0           1           0   \n",
       "2  STON/O2. 3101282   7.9250           1         0           0           0   \n",
       "3            113803  53.1000           1         0           0           0   \n",
       "4            373450   8.0500           0         1           0           0   \n",
       "\n",
       "   Embarked_S  Embarked_U  \n",
       "0           1           0  \n",
       "1           0           0  \n",
       "2           1           0  \n",
       "3           1           0  \n",
       "4           1           0  "
      ]
     },
     "execution_count": 40,
     "metadata": {},
     "output_type": "execute_result"
    }
   ],
   "source": [
    "df_train.head()"
   ]
  },
  {
   "cell_type": "code",
   "execution_count": 41,
   "id": "e4fc696d",
   "metadata": {
    "execution": {
     "iopub.execute_input": "2022-05-26T10:05:07.786405Z",
     "iopub.status.busy": "2022-05-26T10:05:07.783146Z",
     "iopub.status.idle": "2022-05-26T10:05:07.791773Z",
     "shell.execute_reply": "2022-05-26T10:05:07.791119Z",
     "shell.execute_reply.started": "2022-05-26T09:27:28.220318Z"
    },
    "papermill": {
     "duration": 0.104993,
     "end_time": "2022-05-26T10:05:07.791921",
     "exception": false,
     "start_time": "2022-05-26T10:05:07.686928",
     "status": "completed"
    },
    "tags": []
   },
   "outputs": [],
   "source": [
    "# Pclass has 3 class so it's categorical\n",
    "categorized_pclass_columns = pd.get_dummies(df_train['Pclass'], prefix='Pclass')\n",
    "df_train = pd.concat([df_train, categorized_pclass_columns], axis=1)\n",
    "df_train = df_train.drop(['Pclass'], axis=1)"
   ]
  },
  {
   "cell_type": "code",
   "execution_count": 42,
   "id": "e7243087",
   "metadata": {
    "execution": {
     "iopub.execute_input": "2022-05-26T10:05:07.977523Z",
     "iopub.status.busy": "2022-05-26T10:05:07.976846Z",
     "iopub.status.idle": "2022-05-26T10:05:07.994035Z",
     "shell.execute_reply": "2022-05-26T10:05:07.993478Z",
     "shell.execute_reply.started": "2022-05-26T09:27:28.229598Z"
    },
    "papermill": {
     "duration": 0.111975,
     "end_time": "2022-05-26T10:05:07.994175",
     "exception": false,
     "start_time": "2022-05-26T10:05:07.882200",
     "status": "completed"
    },
    "tags": []
   },
   "outputs": [
    {
     "data": {
      "text/html": [
       "<div>\n",
       "<style scoped>\n",
       "    .dataframe tbody tr th:only-of-type {\n",
       "        vertical-align: middle;\n",
       "    }\n",
       "\n",
       "    .dataframe tbody tr th {\n",
       "        vertical-align: top;\n",
       "    }\n",
       "\n",
       "    .dataframe thead th {\n",
       "        text-align: right;\n",
       "    }\n",
       "</style>\n",
       "<table border=\"1\" class=\"dataframe\">\n",
       "  <thead>\n",
       "    <tr style=\"text-align: right;\">\n",
       "      <th></th>\n",
       "      <th>PassengerId</th>\n",
       "      <th>Survived</th>\n",
       "      <th>Name</th>\n",
       "      <th>Age</th>\n",
       "      <th>SibSp</th>\n",
       "      <th>Parch</th>\n",
       "      <th>Ticket</th>\n",
       "      <th>Fare</th>\n",
       "      <th>Sex_female</th>\n",
       "      <th>Sex_male</th>\n",
       "      <th>Embarked_C</th>\n",
       "      <th>Embarked_Q</th>\n",
       "      <th>Embarked_S</th>\n",
       "      <th>Embarked_U</th>\n",
       "      <th>Pclass_1</th>\n",
       "      <th>Pclass_2</th>\n",
       "      <th>Pclass_3</th>\n",
       "    </tr>\n",
       "  </thead>\n",
       "  <tbody>\n",
       "    <tr>\n",
       "      <th>0</th>\n",
       "      <td>1</td>\n",
       "      <td>0</td>\n",
       "      <td>Braund, Mr. Owen Harris</td>\n",
       "      <td>22.0</td>\n",
       "      <td>1</td>\n",
       "      <td>0</td>\n",
       "      <td>A/5 21171</td>\n",
       "      <td>7.2500</td>\n",
       "      <td>0</td>\n",
       "      <td>1</td>\n",
       "      <td>0</td>\n",
       "      <td>0</td>\n",
       "      <td>1</td>\n",
       "      <td>0</td>\n",
       "      <td>0</td>\n",
       "      <td>0</td>\n",
       "      <td>1</td>\n",
       "    </tr>\n",
       "    <tr>\n",
       "      <th>1</th>\n",
       "      <td>2</td>\n",
       "      <td>1</td>\n",
       "      <td>Cumings, Mrs. John Bradley (Florence Briggs Th...</td>\n",
       "      <td>38.0</td>\n",
       "      <td>1</td>\n",
       "      <td>0</td>\n",
       "      <td>PC 17599</td>\n",
       "      <td>71.2833</td>\n",
       "      <td>1</td>\n",
       "      <td>0</td>\n",
       "      <td>1</td>\n",
       "      <td>0</td>\n",
       "      <td>0</td>\n",
       "      <td>0</td>\n",
       "      <td>1</td>\n",
       "      <td>0</td>\n",
       "      <td>0</td>\n",
       "    </tr>\n",
       "    <tr>\n",
       "      <th>2</th>\n",
       "      <td>3</td>\n",
       "      <td>1</td>\n",
       "      <td>Heikkinen, Miss. Laina</td>\n",
       "      <td>26.0</td>\n",
       "      <td>0</td>\n",
       "      <td>0</td>\n",
       "      <td>STON/O2. 3101282</td>\n",
       "      <td>7.9250</td>\n",
       "      <td>1</td>\n",
       "      <td>0</td>\n",
       "      <td>0</td>\n",
       "      <td>0</td>\n",
       "      <td>1</td>\n",
       "      <td>0</td>\n",
       "      <td>0</td>\n",
       "      <td>0</td>\n",
       "      <td>1</td>\n",
       "    </tr>\n",
       "    <tr>\n",
       "      <th>3</th>\n",
       "      <td>4</td>\n",
       "      <td>1</td>\n",
       "      <td>Futrelle, Mrs. Jacques Heath (Lily May Peel)</td>\n",
       "      <td>35.0</td>\n",
       "      <td>1</td>\n",
       "      <td>0</td>\n",
       "      <td>113803</td>\n",
       "      <td>53.1000</td>\n",
       "      <td>1</td>\n",
       "      <td>0</td>\n",
       "      <td>0</td>\n",
       "      <td>0</td>\n",
       "      <td>1</td>\n",
       "      <td>0</td>\n",
       "      <td>1</td>\n",
       "      <td>0</td>\n",
       "      <td>0</td>\n",
       "    </tr>\n",
       "    <tr>\n",
       "      <th>4</th>\n",
       "      <td>5</td>\n",
       "      <td>0</td>\n",
       "      <td>Allen, Mr. William Henry</td>\n",
       "      <td>35.0</td>\n",
       "      <td>0</td>\n",
       "      <td>0</td>\n",
       "      <td>373450</td>\n",
       "      <td>8.0500</td>\n",
       "      <td>0</td>\n",
       "      <td>1</td>\n",
       "      <td>0</td>\n",
       "      <td>0</td>\n",
       "      <td>1</td>\n",
       "      <td>0</td>\n",
       "      <td>0</td>\n",
       "      <td>0</td>\n",
       "      <td>1</td>\n",
       "    </tr>\n",
       "  </tbody>\n",
       "</table>\n",
       "</div>"
      ],
      "text/plain": [
       "   PassengerId  Survived                                               Name  \\\n",
       "0            1         0                            Braund, Mr. Owen Harris   \n",
       "1            2         1  Cumings, Mrs. John Bradley (Florence Briggs Th...   \n",
       "2            3         1                             Heikkinen, Miss. Laina   \n",
       "3            4         1       Futrelle, Mrs. Jacques Heath (Lily May Peel)   \n",
       "4            5         0                           Allen, Mr. William Henry   \n",
       "\n",
       "    Age  SibSp  Parch            Ticket     Fare  Sex_female  Sex_male  \\\n",
       "0  22.0      1      0         A/5 21171   7.2500           0         1   \n",
       "1  38.0      1      0          PC 17599  71.2833           1         0   \n",
       "2  26.0      0      0  STON/O2. 3101282   7.9250           1         0   \n",
       "3  35.0      1      0            113803  53.1000           1         0   \n",
       "4  35.0      0      0            373450   8.0500           0         1   \n",
       "\n",
       "   Embarked_C  Embarked_Q  Embarked_S  Embarked_U  Pclass_1  Pclass_2  \\\n",
       "0           0           0           1           0         0         0   \n",
       "1           1           0           0           0         1         0   \n",
       "2           0           0           1           0         0         0   \n",
       "3           0           0           1           0         1         0   \n",
       "4           0           0           1           0         0         0   \n",
       "\n",
       "   Pclass_3  \n",
       "0         1  \n",
       "1         0  \n",
       "2         1  \n",
       "3         0  \n",
       "4         1  "
      ]
     },
     "execution_count": 42,
     "metadata": {},
     "output_type": "execute_result"
    }
   ],
   "source": [
    "df_train.head()"
   ]
  },
  {
   "cell_type": "markdown",
   "id": "5dd3215b",
   "metadata": {
    "papermill": {
     "duration": 0.089748,
     "end_time": "2022-05-26T10:05:08.174997",
     "exception": false,
     "start_time": "2022-05-26T10:05:08.085249",
     "status": "completed"
    },
    "tags": []
   },
   "source": [
    "### Binning (numerical to categorical)"
   ]
  },
  {
   "cell_type": "markdown",
   "id": "ee97a2e3",
   "metadata": {
    "papermill": {
     "duration": 0.090631,
     "end_time": "2022-05-26T10:05:08.357890",
     "exception": false,
     "start_time": "2022-05-26T10:05:08.267259",
     "status": "completed"
    },
    "tags": []
   },
   "source": [
    "**The goal is to check the best possibility of survival when the passenger is between an age of groups**"
   ]
  },
  {
   "cell_type": "code",
   "execution_count": 43,
   "id": "d73dfae2",
   "metadata": {
    "execution": {
     "iopub.execute_input": "2022-05-26T10:05:08.553014Z",
     "iopub.status.busy": "2022-05-26T10:05:08.544698Z",
     "iopub.status.idle": "2022-05-26T10:05:08.556487Z",
     "shell.execute_reply": "2022-05-26T10:05:08.555874Z",
     "shell.execute_reply.started": "2022-05-26T09:27:28.252520Z"
    },
    "papermill": {
     "duration": 0.108011,
     "end_time": "2022-05-26T10:05:08.556648",
     "exception": false,
     "start_time": "2022-05-26T10:05:08.448637",
     "status": "completed"
    },
    "tags": []
   },
   "outputs": [],
   "source": [
    "bins = [0, 10, 20, 30, 40, 50, 60, 70, 80]\n",
    "categorized_age = pd.cut(df_train.Age, bins)\n",
    "df_train['Categorized_age'] = categorized_age\n",
    "df_train = df_train.drop([\"Age\"], axis=1)"
   ]
  },
  {
   "cell_type": "code",
   "execution_count": 44,
   "id": "4f1a57f4",
   "metadata": {
    "execution": {
     "iopub.execute_input": "2022-05-26T10:05:08.748667Z",
     "iopub.status.busy": "2022-05-26T10:05:08.747299Z",
     "iopub.status.idle": "2022-05-26T10:05:08.751684Z",
     "shell.execute_reply": "2022-05-26T10:05:08.751183Z",
     "shell.execute_reply.started": "2022-05-26T09:27:28.266851Z"
    },
    "papermill": {
     "duration": 0.104915,
     "end_time": "2022-05-26T10:05:08.751828",
     "exception": false,
     "start_time": "2022-05-26T10:05:08.646913",
     "status": "completed"
    },
    "tags": []
   },
   "outputs": [],
   "source": [
    "# one-hot encoding\n",
    "categorized_age_columns = pd.get_dummies(df_train['Categorized_age'], prefix='Categorized_age')\n",
    "df_train = pd.concat([df_train, categorized_age_columns], axis=1)\n",
    "df_train = df_train.drop(['Categorized_age'], axis=1)"
   ]
  },
  {
   "cell_type": "code",
   "execution_count": 45,
   "id": "e47264bd",
   "metadata": {
    "execution": {
     "iopub.execute_input": "2022-05-26T10:05:08.948657Z",
     "iopub.status.busy": "2022-05-26T10:05:08.938955Z",
     "iopub.status.idle": "2022-05-26T10:05:08.952333Z",
     "shell.execute_reply": "2022-05-26T10:05:08.951419Z",
     "shell.execute_reply.started": "2022-05-26T09:27:28.287865Z"
    },
    "papermill": {
     "duration": 0.109918,
     "end_time": "2022-05-26T10:05:08.952527",
     "exception": false,
     "start_time": "2022-05-26T10:05:08.842609",
     "status": "completed"
    },
    "tags": []
   },
   "outputs": [
    {
     "name": "stdout",
     "output_type": "stream",
     "text": [
      "<class 'pandas.core.frame.DataFrame'>\n",
      "RangeIndex: 891 entries, 0 to 890\n",
      "Data columns (total 24 columns):\n",
      " #   Column                    Non-Null Count  Dtype  \n",
      "---  ------                    --------------  -----  \n",
      " 0   PassengerId               891 non-null    int64  \n",
      " 1   Survived                  891 non-null    int64  \n",
      " 2   Name                      891 non-null    object \n",
      " 3   SibSp                     891 non-null    int64  \n",
      " 4   Parch                     891 non-null    int64  \n",
      " 5   Ticket                    891 non-null    object \n",
      " 6   Fare                      891 non-null    float64\n",
      " 7   Sex_female                891 non-null    uint8  \n",
      " 8   Sex_male                  891 non-null    uint8  \n",
      " 9   Embarked_C                891 non-null    uint8  \n",
      " 10  Embarked_Q                891 non-null    uint8  \n",
      " 11  Embarked_S                891 non-null    uint8  \n",
      " 12  Embarked_U                891 non-null    uint8  \n",
      " 13  Pclass_1                  891 non-null    uint8  \n",
      " 14  Pclass_2                  891 non-null    uint8  \n",
      " 15  Pclass_3                  891 non-null    uint8  \n",
      " 16  Categorized_age_(0, 10]   891 non-null    uint8  \n",
      " 17  Categorized_age_(10, 20]  891 non-null    uint8  \n",
      " 18  Categorized_age_(20, 30]  891 non-null    uint8  \n",
      " 19  Categorized_age_(30, 40]  891 non-null    uint8  \n",
      " 20  Categorized_age_(40, 50]  891 non-null    uint8  \n",
      " 21  Categorized_age_(50, 60]  891 non-null    uint8  \n",
      " 22  Categorized_age_(60, 70]  891 non-null    uint8  \n",
      " 23  Categorized_age_(70, 80]  891 non-null    uint8  \n",
      "dtypes: float64(1), int64(4), object(2), uint8(17)\n",
      "memory usage: 63.6+ KB\n"
     ]
    }
   ],
   "source": [
    "df_train.info()"
   ]
  },
  {
   "cell_type": "markdown",
   "id": "7e30055d",
   "metadata": {
    "papermill": {
     "duration": 0.090975,
     "end_time": "2022-05-26T10:05:09.135295",
     "exception": false,
     "start_time": "2022-05-26T10:05:09.044320",
     "status": "completed"
    },
    "tags": []
   },
   "source": [
    "### Feature selection"
   ]
  },
  {
   "cell_type": "code",
   "execution_count": 46,
   "id": "26fe91ef",
   "metadata": {
    "execution": {
     "iopub.execute_input": "2022-05-26T10:05:09.323490Z",
     "iopub.status.busy": "2022-05-26T10:05:09.322825Z",
     "iopub.status.idle": "2022-05-26T10:05:09.325213Z",
     "shell.execute_reply": "2022-05-26T10:05:09.324665Z",
     "shell.execute_reply.started": "2022-05-26T09:27:28.305471Z"
    },
    "papermill": {
     "duration": 0.099141,
     "end_time": "2022-05-26T10:05:09.325350",
     "exception": false,
     "start_time": "2022-05-26T10:05:09.226209",
     "status": "completed"
    },
    "tags": []
   },
   "outputs": [],
   "source": [
    "# we have to drop Name, Ticket because there are too many unique values\n",
    "# we keep PassengerId for the submission\n",
    "df_train = df_train.drop(['Name', 'Ticket'], axis=1)"
   ]
  },
  {
   "cell_type": "code",
   "execution_count": 47,
   "id": "7d53e067",
   "metadata": {
    "execution": {
     "iopub.execute_input": "2022-05-26T10:05:09.524753Z",
     "iopub.status.busy": "2022-05-26T10:05:09.508968Z",
     "iopub.status.idle": "2022-05-26T10:05:09.528535Z",
     "shell.execute_reply": "2022-05-26T10:05:09.527895Z",
     "shell.execute_reply.started": "2022-05-26T09:27:28.312349Z"
    },
    "papermill": {
     "duration": 0.112756,
     "end_time": "2022-05-26T10:05:09.528700",
     "exception": false,
     "start_time": "2022-05-26T10:05:09.415944",
     "status": "completed"
    },
    "tags": []
   },
   "outputs": [
    {
     "data": {
      "text/html": [
       "<div>\n",
       "<style scoped>\n",
       "    .dataframe tbody tr th:only-of-type {\n",
       "        vertical-align: middle;\n",
       "    }\n",
       "\n",
       "    .dataframe tbody tr th {\n",
       "        vertical-align: top;\n",
       "    }\n",
       "\n",
       "    .dataframe thead th {\n",
       "        text-align: right;\n",
       "    }\n",
       "</style>\n",
       "<table border=\"1\" class=\"dataframe\">\n",
       "  <thead>\n",
       "    <tr style=\"text-align: right;\">\n",
       "      <th></th>\n",
       "      <th>PassengerId</th>\n",
       "      <th>Survived</th>\n",
       "      <th>SibSp</th>\n",
       "      <th>Parch</th>\n",
       "      <th>Fare</th>\n",
       "      <th>Sex_female</th>\n",
       "      <th>Sex_male</th>\n",
       "      <th>Embarked_C</th>\n",
       "      <th>Embarked_Q</th>\n",
       "      <th>Embarked_S</th>\n",
       "      <th>...</th>\n",
       "      <th>Pclass_2</th>\n",
       "      <th>Pclass_3</th>\n",
       "      <th>Categorized_age_(0, 10]</th>\n",
       "      <th>Categorized_age_(10, 20]</th>\n",
       "      <th>Categorized_age_(20, 30]</th>\n",
       "      <th>Categorized_age_(30, 40]</th>\n",
       "      <th>Categorized_age_(40, 50]</th>\n",
       "      <th>Categorized_age_(50, 60]</th>\n",
       "      <th>Categorized_age_(60, 70]</th>\n",
       "      <th>Categorized_age_(70, 80]</th>\n",
       "    </tr>\n",
       "  </thead>\n",
       "  <tbody>\n",
       "    <tr>\n",
       "      <th>0</th>\n",
       "      <td>1</td>\n",
       "      <td>0</td>\n",
       "      <td>1</td>\n",
       "      <td>0</td>\n",
       "      <td>7.2500</td>\n",
       "      <td>0</td>\n",
       "      <td>1</td>\n",
       "      <td>0</td>\n",
       "      <td>0</td>\n",
       "      <td>1</td>\n",
       "      <td>...</td>\n",
       "      <td>0</td>\n",
       "      <td>1</td>\n",
       "      <td>0</td>\n",
       "      <td>0</td>\n",
       "      <td>1</td>\n",
       "      <td>0</td>\n",
       "      <td>0</td>\n",
       "      <td>0</td>\n",
       "      <td>0</td>\n",
       "      <td>0</td>\n",
       "    </tr>\n",
       "    <tr>\n",
       "      <th>1</th>\n",
       "      <td>2</td>\n",
       "      <td>1</td>\n",
       "      <td>1</td>\n",
       "      <td>0</td>\n",
       "      <td>71.2833</td>\n",
       "      <td>1</td>\n",
       "      <td>0</td>\n",
       "      <td>1</td>\n",
       "      <td>0</td>\n",
       "      <td>0</td>\n",
       "      <td>...</td>\n",
       "      <td>0</td>\n",
       "      <td>0</td>\n",
       "      <td>0</td>\n",
       "      <td>0</td>\n",
       "      <td>0</td>\n",
       "      <td>1</td>\n",
       "      <td>0</td>\n",
       "      <td>0</td>\n",
       "      <td>0</td>\n",
       "      <td>0</td>\n",
       "    </tr>\n",
       "    <tr>\n",
       "      <th>2</th>\n",
       "      <td>3</td>\n",
       "      <td>1</td>\n",
       "      <td>0</td>\n",
       "      <td>0</td>\n",
       "      <td>7.9250</td>\n",
       "      <td>1</td>\n",
       "      <td>0</td>\n",
       "      <td>0</td>\n",
       "      <td>0</td>\n",
       "      <td>1</td>\n",
       "      <td>...</td>\n",
       "      <td>0</td>\n",
       "      <td>1</td>\n",
       "      <td>0</td>\n",
       "      <td>0</td>\n",
       "      <td>1</td>\n",
       "      <td>0</td>\n",
       "      <td>0</td>\n",
       "      <td>0</td>\n",
       "      <td>0</td>\n",
       "      <td>0</td>\n",
       "    </tr>\n",
       "    <tr>\n",
       "      <th>3</th>\n",
       "      <td>4</td>\n",
       "      <td>1</td>\n",
       "      <td>1</td>\n",
       "      <td>0</td>\n",
       "      <td>53.1000</td>\n",
       "      <td>1</td>\n",
       "      <td>0</td>\n",
       "      <td>0</td>\n",
       "      <td>0</td>\n",
       "      <td>1</td>\n",
       "      <td>...</td>\n",
       "      <td>0</td>\n",
       "      <td>0</td>\n",
       "      <td>0</td>\n",
       "      <td>0</td>\n",
       "      <td>0</td>\n",
       "      <td>1</td>\n",
       "      <td>0</td>\n",
       "      <td>0</td>\n",
       "      <td>0</td>\n",
       "      <td>0</td>\n",
       "    </tr>\n",
       "    <tr>\n",
       "      <th>4</th>\n",
       "      <td>5</td>\n",
       "      <td>0</td>\n",
       "      <td>0</td>\n",
       "      <td>0</td>\n",
       "      <td>8.0500</td>\n",
       "      <td>0</td>\n",
       "      <td>1</td>\n",
       "      <td>0</td>\n",
       "      <td>0</td>\n",
       "      <td>1</td>\n",
       "      <td>...</td>\n",
       "      <td>0</td>\n",
       "      <td>1</td>\n",
       "      <td>0</td>\n",
       "      <td>0</td>\n",
       "      <td>0</td>\n",
       "      <td>1</td>\n",
       "      <td>0</td>\n",
       "      <td>0</td>\n",
       "      <td>0</td>\n",
       "      <td>0</td>\n",
       "    </tr>\n",
       "  </tbody>\n",
       "</table>\n",
       "<p>5 rows × 22 columns</p>\n",
       "</div>"
      ],
      "text/plain": [
       "   PassengerId  Survived  SibSp  Parch     Fare  Sex_female  Sex_male  \\\n",
       "0            1         0      1      0   7.2500           0         1   \n",
       "1            2         1      1      0  71.2833           1         0   \n",
       "2            3         1      0      0   7.9250           1         0   \n",
       "3            4         1      1      0  53.1000           1         0   \n",
       "4            5         0      0      0   8.0500           0         1   \n",
       "\n",
       "   Embarked_C  Embarked_Q  Embarked_S  ...  Pclass_2  Pclass_3  \\\n",
       "0           0           0           1  ...         0         1   \n",
       "1           1           0           0  ...         0         0   \n",
       "2           0           0           1  ...         0         1   \n",
       "3           0           0           1  ...         0         0   \n",
       "4           0           0           1  ...         0         1   \n",
       "\n",
       "   Categorized_age_(0, 10]  Categorized_age_(10, 20]  \\\n",
       "0                        0                         0   \n",
       "1                        0                         0   \n",
       "2                        0                         0   \n",
       "3                        0                         0   \n",
       "4                        0                         0   \n",
       "\n",
       "   Categorized_age_(20, 30]  Categorized_age_(30, 40]  \\\n",
       "0                         1                         0   \n",
       "1                         0                         1   \n",
       "2                         1                         0   \n",
       "3                         0                         1   \n",
       "4                         0                         1   \n",
       "\n",
       "   Categorized_age_(40, 50]  Categorized_age_(50, 60]  \\\n",
       "0                         0                         0   \n",
       "1                         0                         0   \n",
       "2                         0                         0   \n",
       "3                         0                         0   \n",
       "4                         0                         0   \n",
       "\n",
       "   Categorized_age_(60, 70]  Categorized_age_(70, 80]  \n",
       "0                         0                         0  \n",
       "1                         0                         0  \n",
       "2                         0                         0  \n",
       "3                         0                         0  \n",
       "4                         0                         0  \n",
       "\n",
       "[5 rows x 22 columns]"
      ]
     },
     "execution_count": 47,
     "metadata": {},
     "output_type": "execute_result"
    }
   ],
   "source": [
    "df_train.head()"
   ]
  },
  {
   "cell_type": "code",
   "execution_count": 48,
   "id": "e4f73b08",
   "metadata": {
    "execution": {
     "iopub.execute_input": "2022-05-26T10:05:09.716609Z",
     "iopub.status.busy": "2022-05-26T10:05:09.715614Z",
     "iopub.status.idle": "2022-05-26T10:05:09.728156Z",
     "shell.execute_reply": "2022-05-26T10:05:09.728679Z",
     "shell.execute_reply.started": "2022-05-26T09:27:28.340731Z"
    },
    "papermill": {
     "duration": 0.10829,
     "end_time": "2022-05-26T10:05:09.728854",
     "exception": false,
     "start_time": "2022-05-26T10:05:09.620564",
     "status": "completed"
    },
    "tags": []
   },
   "outputs": [
    {
     "name": "stdout",
     "output_type": "stream",
     "text": [
      "<class 'pandas.core.frame.DataFrame'>\n",
      "RangeIndex: 891 entries, 0 to 890\n",
      "Data columns (total 22 columns):\n",
      " #   Column                    Non-Null Count  Dtype  \n",
      "---  ------                    --------------  -----  \n",
      " 0   PassengerId               891 non-null    int64  \n",
      " 1   Survived                  891 non-null    int64  \n",
      " 2   SibSp                     891 non-null    int64  \n",
      " 3   Parch                     891 non-null    int64  \n",
      " 4   Fare                      891 non-null    float64\n",
      " 5   Sex_female                891 non-null    uint8  \n",
      " 6   Sex_male                  891 non-null    uint8  \n",
      " 7   Embarked_C                891 non-null    uint8  \n",
      " 8   Embarked_Q                891 non-null    uint8  \n",
      " 9   Embarked_S                891 non-null    uint8  \n",
      " 10  Embarked_U                891 non-null    uint8  \n",
      " 11  Pclass_1                  891 non-null    uint8  \n",
      " 12  Pclass_2                  891 non-null    uint8  \n",
      " 13  Pclass_3                  891 non-null    uint8  \n",
      " 14  Categorized_age_(0, 10]   891 non-null    uint8  \n",
      " 15  Categorized_age_(10, 20]  891 non-null    uint8  \n",
      " 16  Categorized_age_(20, 30]  891 non-null    uint8  \n",
      " 17  Categorized_age_(30, 40]  891 non-null    uint8  \n",
      " 18  Categorized_age_(40, 50]  891 non-null    uint8  \n",
      " 19  Categorized_age_(50, 60]  891 non-null    uint8  \n",
      " 20  Categorized_age_(60, 70]  891 non-null    uint8  \n",
      " 21  Categorized_age_(70, 80]  891 non-null    uint8  \n",
      "dtypes: float64(1), int64(4), uint8(17)\n",
      "memory usage: 49.7 KB\n"
     ]
    }
   ],
   "source": [
    "df_train.info()"
   ]
  },
  {
   "cell_type": "markdown",
   "id": "9ba435ca",
   "metadata": {
    "papermill": {
     "duration": 0.098331,
     "end_time": "2022-05-26T10:05:09.931484",
     "exception": false,
     "start_time": "2022-05-26T10:05:09.833153",
     "status": "completed"
    },
    "tags": []
   },
   "source": [
    "## Training models"
   ]
  },
  {
   "cell_type": "code",
   "execution_count": 49,
   "id": "62b11272",
   "metadata": {
    "execution": {
     "iopub.execute_input": "2022-05-26T10:05:10.145664Z",
     "iopub.status.busy": "2022-05-26T10:05:10.143800Z",
     "iopub.status.idle": "2022-05-26T10:05:10.148918Z",
     "shell.execute_reply": "2022-05-26T10:05:10.149424Z",
     "shell.execute_reply.started": "2022-05-26T09:27:28.357459Z"
    },
    "papermill": {
     "duration": 0.121155,
     "end_time": "2022-05-26T10:05:10.149634",
     "exception": false,
     "start_time": "2022-05-26T10:05:10.028479",
     "status": "completed"
    },
    "tags": []
   },
   "outputs": [],
   "source": [
    "# separate the features from the labels\n",
    "features = df_train.drop([\"Survived\"], axis=1)\n",
    "labels = df_train[\"Survived\"]"
   ]
  },
  {
   "cell_type": "code",
   "execution_count": 50,
   "id": "060049e0",
   "metadata": {
    "execution": {
     "iopub.execute_input": "2022-05-26T10:05:10.342156Z",
     "iopub.status.busy": "2022-05-26T10:05:10.341440Z",
     "iopub.status.idle": "2022-05-26T10:05:10.513025Z",
     "shell.execute_reply": "2022-05-26T10:05:10.512427Z",
     "shell.execute_reply.started": "2022-05-26T09:27:28.368860Z"
    },
    "papermill": {
     "duration": 0.26764,
     "end_time": "2022-05-26T10:05:10.513169",
     "exception": false,
     "start_time": "2022-05-26T10:05:10.245529",
     "status": "completed"
    },
    "tags": []
   },
   "outputs": [],
   "source": [
    "from sklearn.model_selection import train_test_split"
   ]
  },
  {
   "cell_type": "code",
   "execution_count": 51,
   "id": "0f8996f5",
   "metadata": {
    "execution": {
     "iopub.execute_input": "2022-05-26T10:05:10.712608Z",
     "iopub.status.busy": "2022-05-26T10:05:10.711961Z",
     "iopub.status.idle": "2022-05-26T10:05:10.719332Z",
     "shell.execute_reply": "2022-05-26T10:05:10.719879Z",
     "shell.execute_reply.started": "2022-05-26T09:27:28.376718Z"
    },
    "papermill": {
     "duration": 0.109292,
     "end_time": "2022-05-26T10:05:10.720051",
     "exception": false,
     "start_time": "2022-05-26T10:05:10.610759",
     "status": "completed"
    },
    "tags": []
   },
   "outputs": [],
   "source": [
    "# 60% training, 20% validation, and 20% testing\n",
    "# fix random_state to make sure we always get the same split\n",
    "features_train, features_validation_test, labels_train, labels_validation_test = train_test_split(\n",
    "    features, labels, test_size=0.4, random_state=100)"
   ]
  },
  {
   "cell_type": "code",
   "execution_count": 52,
   "id": "c72d4169",
   "metadata": {
    "execution": {
     "iopub.execute_input": "2022-05-26T10:05:10.908218Z",
     "iopub.status.busy": "2022-05-26T10:05:10.907375Z",
     "iopub.status.idle": "2022-05-26T10:05:10.912636Z",
     "shell.execute_reply": "2022-05-26T10:05:10.913120Z",
     "shell.execute_reply.started": "2022-05-26T09:27:28.390887Z"
    },
    "papermill": {
     "duration": 0.100355,
     "end_time": "2022-05-26T10:05:10.913282",
     "exception": false,
     "start_time": "2022-05-26T10:05:10.812927",
     "status": "completed"
    },
    "tags": []
   },
   "outputs": [],
   "source": [
    "# we need to perform the operation twice\n",
    "features_validation, features_test, labels_validation, labels_test = train_test_split(\n",
    "    features_validation_test, labels_validation_test, test_size=0.5, random_state=100)"
   ]
  },
  {
   "cell_type": "markdown",
   "id": "bd2b4c0c",
   "metadata": {
    "papermill": {
     "duration": 0.092253,
     "end_time": "2022-05-26T10:05:11.097255",
     "exception": false,
     "start_time": "2022-05-26T10:05:11.005002",
     "status": "completed"
    },
    "tags": []
   },
   "source": [
    "### Training different models"
   ]
  },
  {
   "cell_type": "markdown",
   "id": "ae8d27f3",
   "metadata": {
    "papermill": {
     "duration": 0.090974,
     "end_time": "2022-05-26T10:05:11.280363",
     "exception": false,
     "start_time": "2022-05-26T10:05:11.189389",
     "status": "completed"
    },
    "tags": []
   },
   "source": [
    "**Logistic regression**\n",
    "\n",
    "**Decision tree**\n",
    "\n",
    "**Naive Bayes**\n",
    "\n",
    "**Support vector machine (SVM)**"
   ]
  },
  {
   "cell_type": "code",
   "execution_count": 53,
   "id": "6b6696c3",
   "metadata": {
    "execution": {
     "iopub.execute_input": "2022-05-26T10:05:11.471308Z",
     "iopub.status.busy": "2022-05-26T10:05:11.468163Z",
     "iopub.status.idle": "2022-05-26T10:05:11.912871Z",
     "shell.execute_reply": "2022-05-26T10:05:11.914451Z",
     "shell.execute_reply.started": "2022-05-26T09:27:28.404582Z"
    },
    "papermill": {
     "duration": 0.541174,
     "end_time": "2022-05-26T10:05:11.914786",
     "exception": false,
     "start_time": "2022-05-26T10:05:11.373612",
     "status": "completed"
    },
    "tags": []
   },
   "outputs": [
    {
     "data": {
      "text/plain": [
       "LogisticRegression(max_iter=1000)"
      ]
     },
     "execution_count": 53,
     "metadata": {},
     "output_type": "execute_result"
    }
   ],
   "source": [
    "from sklearn.linear_model import LogisticRegression\n",
    "from sklearn.tree import DecisionTreeClassifier\n",
    "from sklearn.naive_bayes import GaussianNB\n",
    "from sklearn.svm import SVC\n",
    "from sklearn.ensemble import RandomForestClassifier\n",
    "from sklearn.ensemble import GradientBoostingClassifier\n",
    "from sklearn.ensemble import AdaBoostClassifier\n",
    "\n",
    "lr_model = LogisticRegression(max_iter=1000,solver='lbfgs')\n",
    "lr_model.fit(features_train, labels_train)"
   ]
  },
  {
   "cell_type": "code",
   "execution_count": 54,
   "id": "6fae1bab",
   "metadata": {
    "execution": {
     "iopub.execute_input": "2022-05-26T10:05:12.157871Z",
     "iopub.status.busy": "2022-05-26T10:05:12.154739Z",
     "iopub.status.idle": "2022-05-26T10:05:12.167052Z",
     "shell.execute_reply": "2022-05-26T10:05:12.166393Z",
     "shell.execute_reply.started": "2022-05-26T09:27:28.632373Z"
    },
    "papermill": {
     "duration": 0.10817,
     "end_time": "2022-05-26T10:05:12.167198",
     "exception": false,
     "start_time": "2022-05-26T10:05:12.059028",
     "status": "completed"
    },
    "tags": []
   },
   "outputs": [
    {
     "data": {
      "text/plain": [
       "DecisionTreeClassifier()"
      ]
     },
     "execution_count": 54,
     "metadata": {},
     "output_type": "execute_result"
    }
   ],
   "source": [
    "dt_model = DecisionTreeClassifier()\n",
    "dt_model.fit(features_train, labels_train)"
   ]
  },
  {
   "cell_type": "code",
   "execution_count": 55,
   "id": "d19bc68d",
   "metadata": {
    "execution": {
     "iopub.execute_input": "2022-05-26T10:05:12.358637Z",
     "iopub.status.busy": "2022-05-26T10:05:12.357561Z",
     "iopub.status.idle": "2022-05-26T10:05:12.362507Z",
     "shell.execute_reply": "2022-05-26T10:05:12.363040Z",
     "shell.execute_reply.started": "2022-05-26T09:27:28.650852Z"
    },
    "papermill": {
     "duration": 0.103852,
     "end_time": "2022-05-26T10:05:12.363199",
     "exception": false,
     "start_time": "2022-05-26T10:05:12.259347",
     "status": "completed"
    },
    "tags": []
   },
   "outputs": [
    {
     "data": {
      "text/plain": [
       "GaussianNB()"
      ]
     },
     "execution_count": 55,
     "metadata": {},
     "output_type": "execute_result"
    }
   ],
   "source": [
    "nb_model = GaussianNB()\n",
    "nb_model.fit(features_train, labels_train)"
   ]
  },
  {
   "cell_type": "code",
   "execution_count": 56,
   "id": "133d7924",
   "metadata": {
    "execution": {
     "iopub.execute_input": "2022-05-26T10:05:12.555653Z",
     "iopub.status.busy": "2022-05-26T10:05:12.554986Z",
     "iopub.status.idle": "2022-05-26T10:05:12.574199Z",
     "shell.execute_reply": "2022-05-26T10:05:12.574696Z",
     "shell.execute_reply.started": "2022-05-26T09:27:28.664474Z"
    },
    "papermill": {
     "duration": 0.114646,
     "end_time": "2022-05-26T10:05:12.574864",
     "exception": false,
     "start_time": "2022-05-26T10:05:12.460218",
     "status": "completed"
    },
    "tags": []
   },
   "outputs": [
    {
     "data": {
      "text/plain": [
       "SVC()"
      ]
     },
     "execution_count": 56,
     "metadata": {},
     "output_type": "execute_result"
    }
   ],
   "source": [
    "svm_model = SVC()\n",
    "svm_model.fit(features_train, labels_train)"
   ]
  },
  {
   "cell_type": "code",
   "execution_count": 57,
   "id": "bb1c6c0e",
   "metadata": {
    "execution": {
     "iopub.execute_input": "2022-05-26T10:05:12.764564Z",
     "iopub.status.busy": "2022-05-26T10:05:12.763925Z",
     "iopub.status.idle": "2022-05-26T10:05:12.986487Z",
     "shell.execute_reply": "2022-05-26T10:05:12.987000Z",
     "shell.execute_reply.started": "2022-05-26T09:27:28.702641Z"
    },
    "papermill": {
     "duration": 0.319751,
     "end_time": "2022-05-26T10:05:12.987179",
     "exception": false,
     "start_time": "2022-05-26T10:05:12.667428",
     "status": "completed"
    },
    "tags": []
   },
   "outputs": [
    {
     "data": {
      "text/plain": [
       "RandomForestClassifier()"
      ]
     },
     "execution_count": 57,
     "metadata": {},
     "output_type": "execute_result"
    }
   ],
   "source": [
    "rf_model = RandomForestClassifier()\n",
    "rf_model.fit(features_train, labels_train)"
   ]
  },
  {
   "cell_type": "code",
   "execution_count": 58,
   "id": "dc30cb33",
   "metadata": {
    "execution": {
     "iopub.execute_input": "2022-05-26T10:05:13.177500Z",
     "iopub.status.busy": "2022-05-26T10:05:13.176875Z",
     "iopub.status.idle": "2022-05-26T10:05:13.304760Z",
     "shell.execute_reply": "2022-05-26T10:05:13.305348Z",
     "shell.execute_reply.started": "2022-05-26T09:27:28.900762Z"
    },
    "papermill": {
     "duration": 0.224636,
     "end_time": "2022-05-26T10:05:13.305529",
     "exception": false,
     "start_time": "2022-05-26T10:05:13.080893",
     "status": "completed"
    },
    "tags": []
   },
   "outputs": [
    {
     "data": {
      "text/plain": [
       "GradientBoostingClassifier()"
      ]
     },
     "execution_count": 58,
     "metadata": {},
     "output_type": "execute_result"
    }
   ],
   "source": [
    "gb_model = GradientBoostingClassifier()\n",
    "gb_model.fit(features_train, labels_train)"
   ]
  },
  {
   "cell_type": "code",
   "execution_count": 59,
   "id": "ff0cffc7",
   "metadata": {
    "execution": {
     "iopub.execute_input": "2022-05-26T10:05:13.500789Z",
     "iopub.status.busy": "2022-05-26T10:05:13.497967Z",
     "iopub.status.idle": "2022-05-26T10:05:13.600969Z",
     "shell.execute_reply": "2022-05-26T10:05:13.600464Z",
     "shell.execute_reply.started": "2022-05-26T09:27:29.022789Z"
    },
    "papermill": {
     "duration": 0.202323,
     "end_time": "2022-05-26T10:05:13.601126",
     "exception": false,
     "start_time": "2022-05-26T10:05:13.398803",
     "status": "completed"
    },
    "tags": []
   },
   "outputs": [
    {
     "data": {
      "text/plain": [
       "AdaBoostClassifier()"
      ]
     },
     "execution_count": 59,
     "metadata": {},
     "output_type": "execute_result"
    }
   ],
   "source": [
    "ab_model = AdaBoostClassifier()\n",
    "ab_model.fit(features_train, labels_train)"
   ]
  },
  {
   "cell_type": "markdown",
   "id": "21ac3724",
   "metadata": {
    "papermill": {
     "duration": 0.094236,
     "end_time": "2022-05-26T10:05:13.789362",
     "exception": false,
     "start_time": "2022-05-26T10:05:13.695126",
     "status": "completed"
    },
    "tags": []
   },
   "source": [
    "## Evaluating models"
   ]
  },
  {
   "cell_type": "markdown",
   "id": "35434fc0",
   "metadata": {
    "papermill": {
     "duration": 0.093429,
     "end_time": "2022-05-26T10:05:13.976617",
     "exception": false,
     "start_time": "2022-05-26T10:05:13.883188",
     "status": "completed"
    },
    "tags": []
   },
   "source": [
    "### Accuracy"
   ]
  },
  {
   "cell_type": "code",
   "execution_count": 60,
   "id": "c10fff7a",
   "metadata": {
    "execution": {
     "iopub.execute_input": "2022-05-26T10:05:14.175117Z",
     "iopub.status.busy": "2022-05-26T10:05:14.170484Z",
     "iopub.status.idle": "2022-05-26T10:05:14.218056Z",
     "shell.execute_reply": "2022-05-26T10:05:14.217394Z",
     "shell.execute_reply.started": "2022-05-26T09:27:29.117312Z"
    },
    "papermill": {
     "duration": 0.14821,
     "end_time": "2022-05-26T10:05:14.218205",
     "exception": false,
     "start_time": "2022-05-26T10:05:14.069995",
     "status": "completed"
    },
    "scrolled": true,
    "tags": []
   },
   "outputs": [
    {
     "name": "stdout",
     "output_type": "stream",
     "text": [
      "Scores of the models\n",
      "Logistic regression: 0.7696629213483146\n",
      "Decision tree: 0.7359550561797753\n",
      "Naive Bayes: 0.7471910112359551\n",
      "SVM: 0.6235955056179775\n",
      "Random forest: 0.7584269662921348\n",
      "Gradient boosting: 0.797752808988764\n",
      "AdaBoost: 0.7584269662921348\n"
     ]
    }
   ],
   "source": [
    "print(\"Scores of the models\")\n",
    "print(\"Logistic regression:\", lr_model.score(features_validation, labels_validation))\n",
    "print(\"Decision tree:\", dt_model.score(features_validation, labels_validation))\n",
    "print(\"Naive Bayes:\", nb_model.score(features_validation, labels_validation))\n",
    "print(\"SVM:\", svm_model.score(features_validation, labels_validation))\n",
    "print(\"Random forest:\", rf_model.score(features_validation, labels_validation))\n",
    "print(\"Gradient boosting:\", gb_model.score(features_validation, labels_validation))\n",
    "print(\"AdaBoost:\", ab_model.score(features_validation, labels_validation))"
   ]
  },
  {
   "cell_type": "markdown",
   "id": "d6df64bd",
   "metadata": {
    "papermill": {
     "duration": 0.094332,
     "end_time": "2022-05-26T10:05:14.406510",
     "exception": false,
     "start_time": "2022-05-26T10:05:14.312178",
     "status": "completed"
    },
    "tags": []
   },
   "source": [
    "### F1-score"
   ]
  },
  {
   "cell_type": "code",
   "execution_count": 61,
   "id": "d9858093",
   "metadata": {
    "execution": {
     "iopub.execute_input": "2022-05-26T10:05:14.613728Z",
     "iopub.status.busy": "2022-05-26T10:05:14.612962Z",
     "iopub.status.idle": "2022-05-26T10:05:14.651862Z",
     "shell.execute_reply": "2022-05-26T10:05:14.651159Z",
     "shell.execute_reply.started": "2022-05-26T10:03:33.633516Z"
    },
    "papermill": {
     "duration": 0.15149,
     "end_time": "2022-05-26T10:05:14.652021",
     "exception": false,
     "start_time": "2022-05-26T10:05:14.500531",
     "status": "completed"
    },
    "tags": []
   },
   "outputs": [
    {
     "name": "stdout",
     "output_type": "stream",
     "text": [
      "F1-scores of the models:\n",
      "Logistic regression: 0.6870229007633588\n",
      "Decision Tree: 0.6618705035971223\n",
      "Naive Bayes: 0.6808510638297872\n",
      "Support Vector Machine: 0.10666666666666666\n",
      "Random Forest: 0.6614173228346457\n",
      "Gradient boosting: 0.7230769230769231\n",
      "AdaBoost: 0.6766917293233083\n"
     ]
    }
   ],
   "source": [
    "from sklearn.metrics import f1_score\n",
    "\n",
    "print(\"F1-scores of the models:\")\n",
    "\n",
    "lr_predicted_labels = lr_model.predict(features_validation)\n",
    "print(\"Logistic regression:\", f1_score(labels_validation, lr_predicted_labels))\n",
    "\n",
    "dt_predicted_labels = dt_model.predict(features_validation)\n",
    "print(\"Decision Tree:\", f1_score(labels_validation, dt_predicted_labels))\n",
    "\n",
    "nb_predicted_labels = nb_model.predict(features_validation)\n",
    "print(\"Naive Bayes:\", f1_score(labels_validation, nb_predicted_labels))\n",
    "\n",
    "svm_predicted_labels = svm_model.predict(features_validation)\n",
    "print(\"Support Vector Machine:\", f1_score(labels_validation, svm_predicted_labels))\n",
    "\n",
    "rf_predicted_labels = rf_model.predict(features_validation)\n",
    "print(\"Random Forest:\", f1_score(labels_validation, rf_predicted_labels))\n",
    "\n",
    "gb_predicted_labels = gb_model.predict(features_validation)\n",
    "print(\"Gradient boosting:\", f1_score(labels_validation, gb_predicted_labels))\n",
    "\n",
    "ab_predicted_labels = ab_model.predict(features_validation)\n",
    "print(\"AdaBoost:\", f1_score(labels_validation, ab_predicted_labels))"
   ]
  },
  {
   "cell_type": "markdown",
   "id": "76d8b119",
   "metadata": {
    "papermill": {
     "duration": 0.09445,
     "end_time": "2022-05-26T10:05:14.840960",
     "exception": false,
     "start_time": "2022-05-26T10:05:14.746510",
     "status": "completed"
    },
    "tags": []
   },
   "source": [
    "## Clean test dataset"
   ]
  },
  {
   "cell_type": "markdown",
   "id": "19a0f594",
   "metadata": {
    "papermill": {
     "duration": 0.094578,
     "end_time": "2022-05-26T10:05:15.032493",
     "exception": false,
     "start_time": "2022-05-26T10:05:14.937915",
     "status": "completed"
    },
    "tags": []
   },
   "source": [
    "**This is a file with more passengers on the Titanic, except it doesn’t have the Survived column.**\n",
    "**Basically we redo the same operations that the training dataset, but we need to check the values to see if there are some differences**"
   ]
  },
  {
   "cell_type": "code",
   "execution_count": 62,
   "id": "07254559",
   "metadata": {
    "execution": {
     "iopub.execute_input": "2022-05-26T10:05:15.225140Z",
     "iopub.status.busy": "2022-05-26T10:05:15.224410Z",
     "iopub.status.idle": "2022-05-26T10:05:15.236450Z",
     "shell.execute_reply": "2022-05-26T10:05:15.235948Z",
     "shell.execute_reply.started": "2022-05-26T09:27:29.167179Z"
    },
    "papermill": {
     "duration": 0.110112,
     "end_time": "2022-05-26T10:05:15.236606",
     "exception": false,
     "start_time": "2022-05-26T10:05:15.126494",
     "status": "completed"
    },
    "tags": []
   },
   "outputs": [],
   "source": [
    "df_test = pd.read_csv('/kaggle/input/titanic/test.csv')"
   ]
  },
  {
   "cell_type": "code",
   "execution_count": 63,
   "id": "3e467576",
   "metadata": {
    "execution": {
     "iopub.execute_input": "2022-05-26T10:05:15.433410Z",
     "iopub.status.busy": "2022-05-26T10:05:15.432756Z",
     "iopub.status.idle": "2022-05-26T10:05:15.435876Z",
     "shell.execute_reply": "2022-05-26T10:05:15.435222Z",
     "shell.execute_reply.started": "2022-05-26T09:27:29.177966Z"
    },
    "papermill": {
     "duration": 0.105338,
     "end_time": "2022-05-26T10:05:15.436031",
     "exception": false,
     "start_time": "2022-05-26T10:05:15.330693",
     "status": "completed"
    },
    "tags": []
   },
   "outputs": [
    {
     "data": {
      "text/plain": [
       "PassengerId      0\n",
       "Pclass           0\n",
       "Name             0\n",
       "Sex              0\n",
       "Age             86\n",
       "SibSp            0\n",
       "Parch            0\n",
       "Ticket           0\n",
       "Fare             1\n",
       "Cabin          327\n",
       "Embarked         0\n",
       "dtype: int64"
      ]
     },
     "execution_count": 63,
     "metadata": {},
     "output_type": "execute_result"
    }
   ],
   "source": [
    "# Check empty values\n",
    "df_test.isnull().sum()"
   ]
  },
  {
   "cell_type": "markdown",
   "id": "17867370",
   "metadata": {
    "papermill": {
     "duration": 0.094673,
     "end_time": "2022-05-26T10:05:15.625368",
     "exception": false,
     "start_time": "2022-05-26T10:05:15.530695",
     "status": "completed"
    },
    "tags": []
   },
   "source": [
    "### Cleaning data"
   ]
  },
  {
   "cell_type": "code",
   "execution_count": 64,
   "id": "bb1d40e1",
   "metadata": {
    "execution": {
     "iopub.execute_input": "2022-05-26T10:05:15.821528Z",
     "iopub.status.busy": "2022-05-26T10:05:15.820871Z",
     "iopub.status.idle": "2022-05-26T10:05:15.823543Z",
     "shell.execute_reply": "2022-05-26T10:05:15.823051Z",
     "shell.execute_reply.started": "2022-05-26T09:27:29.193147Z"
    },
    "papermill": {
     "duration": 0.103598,
     "end_time": "2022-05-26T10:05:15.823717",
     "exception": false,
     "start_time": "2022-05-26T10:05:15.720119",
     "status": "completed"
    },
    "tags": []
   },
   "outputs": [],
   "source": [
    "# One Fare is messing, we're gonna replace it with the Fare's mean\n",
    "fare_mean = df_test.Fare.mean()\n",
    "fare_mean\n",
    "df_test.Fare = df_test.Fare.fillna(fare_mean)"
   ]
  },
  {
   "cell_type": "code",
   "execution_count": 65,
   "id": "291ef955",
   "metadata": {
    "execution": {
     "iopub.execute_input": "2022-05-26T10:05:16.021950Z",
     "iopub.status.busy": "2022-05-26T10:05:16.021243Z",
     "iopub.status.idle": "2022-05-26T10:05:16.024767Z",
     "shell.execute_reply": "2022-05-26T10:05:16.024132Z",
     "shell.execute_reply.started": "2022-05-26T09:27:29.207260Z"
    },
    "papermill": {
     "duration": 0.106741,
     "end_time": "2022-05-26T10:05:16.024912",
     "exception": false,
     "start_time": "2022-05-26T10:05:15.918171",
     "status": "completed"
    },
    "tags": []
   },
   "outputs": [
    {
     "data": {
      "text/plain": [
       "PassengerId      0\n",
       "Pclass           0\n",
       "Name             0\n",
       "Sex              0\n",
       "Age             86\n",
       "SibSp            0\n",
       "Parch            0\n",
       "Ticket           0\n",
       "Fare             0\n",
       "Cabin          327\n",
       "Embarked         0\n",
       "dtype: int64"
      ]
     },
     "execution_count": 65,
     "metadata": {},
     "output_type": "execute_result"
    }
   ],
   "source": [
    "df_test.isnull().sum()"
   ]
  },
  {
   "cell_type": "code",
   "execution_count": 66,
   "id": "41cde213",
   "metadata": {
    "execution": {
     "iopub.execute_input": "2022-05-26T10:05:16.231786Z",
     "iopub.status.busy": "2022-05-26T10:05:16.231107Z",
     "iopub.status.idle": "2022-05-26T10:05:16.234635Z",
     "shell.execute_reply": "2022-05-26T10:05:16.234099Z",
     "shell.execute_reply.started": "2022-05-26T09:27:29.223859Z"
    },
    "papermill": {
     "duration": 0.114593,
     "end_time": "2022-05-26T10:05:16.234777",
     "exception": false,
     "start_time": "2022-05-26T10:05:16.120184",
     "status": "completed"
    },
    "tags": []
   },
   "outputs": [
    {
     "data": {
      "text/html": [
       "<div>\n",
       "<style scoped>\n",
       "    .dataframe tbody tr th:only-of-type {\n",
       "        vertical-align: middle;\n",
       "    }\n",
       "\n",
       "    .dataframe tbody tr th {\n",
       "        vertical-align: top;\n",
       "    }\n",
       "\n",
       "    .dataframe thead th {\n",
       "        text-align: right;\n",
       "    }\n",
       "</style>\n",
       "<table border=\"1\" class=\"dataframe\">\n",
       "  <thead>\n",
       "    <tr style=\"text-align: right;\">\n",
       "      <th></th>\n",
       "      <th>PassengerId</th>\n",
       "      <th>Pclass</th>\n",
       "      <th>Name</th>\n",
       "      <th>Sex</th>\n",
       "      <th>Age</th>\n",
       "      <th>SibSp</th>\n",
       "      <th>Parch</th>\n",
       "      <th>Ticket</th>\n",
       "      <th>Fare</th>\n",
       "      <th>Embarked</th>\n",
       "    </tr>\n",
       "  </thead>\n",
       "  <tbody>\n",
       "    <tr>\n",
       "      <th>0</th>\n",
       "      <td>892</td>\n",
       "      <td>3</td>\n",
       "      <td>Kelly, Mr. James</td>\n",
       "      <td>male</td>\n",
       "      <td>34.5</td>\n",
       "      <td>0</td>\n",
       "      <td>0</td>\n",
       "      <td>330911</td>\n",
       "      <td>7.8292</td>\n",
       "      <td>Q</td>\n",
       "    </tr>\n",
       "    <tr>\n",
       "      <th>1</th>\n",
       "      <td>893</td>\n",
       "      <td>3</td>\n",
       "      <td>Wilkes, Mrs. James (Ellen Needs)</td>\n",
       "      <td>female</td>\n",
       "      <td>47.0</td>\n",
       "      <td>1</td>\n",
       "      <td>0</td>\n",
       "      <td>363272</td>\n",
       "      <td>7.0000</td>\n",
       "      <td>S</td>\n",
       "    </tr>\n",
       "    <tr>\n",
       "      <th>2</th>\n",
       "      <td>894</td>\n",
       "      <td>2</td>\n",
       "      <td>Myles, Mr. Thomas Francis</td>\n",
       "      <td>male</td>\n",
       "      <td>62.0</td>\n",
       "      <td>0</td>\n",
       "      <td>0</td>\n",
       "      <td>240276</td>\n",
       "      <td>9.6875</td>\n",
       "      <td>Q</td>\n",
       "    </tr>\n",
       "    <tr>\n",
       "      <th>3</th>\n",
       "      <td>895</td>\n",
       "      <td>3</td>\n",
       "      <td>Wirz, Mr. Albert</td>\n",
       "      <td>male</td>\n",
       "      <td>27.0</td>\n",
       "      <td>0</td>\n",
       "      <td>0</td>\n",
       "      <td>315154</td>\n",
       "      <td>8.6625</td>\n",
       "      <td>S</td>\n",
       "    </tr>\n",
       "    <tr>\n",
       "      <th>4</th>\n",
       "      <td>896</td>\n",
       "      <td>3</td>\n",
       "      <td>Hirvonen, Mrs. Alexander (Helga E Lindqvist)</td>\n",
       "      <td>female</td>\n",
       "      <td>22.0</td>\n",
       "      <td>1</td>\n",
       "      <td>1</td>\n",
       "      <td>3101298</td>\n",
       "      <td>12.2875</td>\n",
       "      <td>S</td>\n",
       "    </tr>\n",
       "  </tbody>\n",
       "</table>\n",
       "</div>"
      ],
      "text/plain": [
       "   PassengerId  Pclass                                          Name     Sex  \\\n",
       "0          892       3                              Kelly, Mr. James    male   \n",
       "1          893       3              Wilkes, Mrs. James (Ellen Needs)  female   \n",
       "2          894       2                     Myles, Mr. Thomas Francis    male   \n",
       "3          895       3                              Wirz, Mr. Albert    male   \n",
       "4          896       3  Hirvonen, Mrs. Alexander (Helga E Lindqvist)  female   \n",
       "\n",
       "    Age  SibSp  Parch   Ticket     Fare Embarked  \n",
       "0  34.5      0      0   330911   7.8292        Q  \n",
       "1  47.0      1      0   363272   7.0000        S  \n",
       "2  62.0      0      0   240276   9.6875        Q  \n",
       "3  27.0      0      0   315154   8.6625        S  \n",
       "4  22.0      1      1  3101298  12.2875        S  "
      ]
     },
     "execution_count": 66,
     "metadata": {},
     "output_type": "execute_result"
    }
   ],
   "source": [
    "# Drop Cabin and fill Age with the median previously found\n",
    "df_test = df_test.drop(['Cabin'], axis=1)\n",
    "df_test.Age = df_test.Age.fillna(28.0)\n",
    "df_test.head()"
   ]
  },
  {
   "cell_type": "markdown",
   "id": "aa175ab4",
   "metadata": {
    "papermill": {
     "duration": 0.09882,
     "end_time": "2022-05-26T10:05:16.429802",
     "exception": false,
     "start_time": "2022-05-26T10:05:16.330982",
     "status": "completed"
    },
    "tags": []
   },
   "source": [
    "### Feature engineering"
   ]
  },
  {
   "cell_type": "code",
   "execution_count": 67,
   "id": "2c31117d",
   "metadata": {
    "execution": {
     "iopub.execute_input": "2022-05-26T10:05:16.646753Z",
     "iopub.status.busy": "2022-05-26T10:05:16.644057Z",
     "iopub.status.idle": "2022-05-26T10:05:16.687711Z",
     "shell.execute_reply": "2022-05-26T10:05:16.687059Z",
     "shell.execute_reply.started": "2022-05-26T09:27:29.248789Z"
    },
    "papermill": {
     "duration": 0.148143,
     "end_time": "2022-05-26T10:05:16.687852",
     "exception": false,
     "start_time": "2022-05-26T10:05:16.539709",
     "status": "completed"
    },
    "tags": []
   },
   "outputs": [
    {
     "data": {
      "text/html": [
       "<div>\n",
       "<style scoped>\n",
       "    .dataframe tbody tr th:only-of-type {\n",
       "        vertical-align: middle;\n",
       "    }\n",
       "\n",
       "    .dataframe tbody tr th {\n",
       "        vertical-align: top;\n",
       "    }\n",
       "\n",
       "    .dataframe thead th {\n",
       "        text-align: right;\n",
       "    }\n",
       "</style>\n",
       "<table border=\"1\" class=\"dataframe\">\n",
       "  <thead>\n",
       "    <tr style=\"text-align: right;\">\n",
       "      <th></th>\n",
       "      <th>PassengerId</th>\n",
       "      <th>SibSp</th>\n",
       "      <th>Parch</th>\n",
       "      <th>Fare</th>\n",
       "      <th>Sex_female</th>\n",
       "      <th>Sex_male</th>\n",
       "      <th>Embarked_C</th>\n",
       "      <th>Embarked_Q</th>\n",
       "      <th>Embarked_S</th>\n",
       "      <th>Embarked_U</th>\n",
       "      <th>...</th>\n",
       "      <th>Pclass_2</th>\n",
       "      <th>Pclass_3</th>\n",
       "      <th>Categorized_age_(0, 10]</th>\n",
       "      <th>Categorized_age_(10, 20]</th>\n",
       "      <th>Categorized_age_(20, 30]</th>\n",
       "      <th>Categorized_age_(30, 40]</th>\n",
       "      <th>Categorized_age_(40, 50]</th>\n",
       "      <th>Categorized_age_(50, 60]</th>\n",
       "      <th>Categorized_age_(60, 70]</th>\n",
       "      <th>Categorized_age_(70, 80]</th>\n",
       "    </tr>\n",
       "  </thead>\n",
       "  <tbody>\n",
       "    <tr>\n",
       "      <th>0</th>\n",
       "      <td>892</td>\n",
       "      <td>0</td>\n",
       "      <td>0</td>\n",
       "      <td>7.8292</td>\n",
       "      <td>0</td>\n",
       "      <td>1</td>\n",
       "      <td>0</td>\n",
       "      <td>1</td>\n",
       "      <td>0</td>\n",
       "      <td>0</td>\n",
       "      <td>...</td>\n",
       "      <td>0</td>\n",
       "      <td>1</td>\n",
       "      <td>0</td>\n",
       "      <td>0</td>\n",
       "      <td>1</td>\n",
       "      <td>0</td>\n",
       "      <td>0</td>\n",
       "      <td>0</td>\n",
       "      <td>0</td>\n",
       "      <td>0</td>\n",
       "    </tr>\n",
       "    <tr>\n",
       "      <th>1</th>\n",
       "      <td>893</td>\n",
       "      <td>1</td>\n",
       "      <td>0</td>\n",
       "      <td>7.0000</td>\n",
       "      <td>1</td>\n",
       "      <td>0</td>\n",
       "      <td>0</td>\n",
       "      <td>0</td>\n",
       "      <td>1</td>\n",
       "      <td>0</td>\n",
       "      <td>...</td>\n",
       "      <td>0</td>\n",
       "      <td>1</td>\n",
       "      <td>0</td>\n",
       "      <td>0</td>\n",
       "      <td>0</td>\n",
       "      <td>1</td>\n",
       "      <td>0</td>\n",
       "      <td>0</td>\n",
       "      <td>0</td>\n",
       "      <td>0</td>\n",
       "    </tr>\n",
       "    <tr>\n",
       "      <th>2</th>\n",
       "      <td>894</td>\n",
       "      <td>0</td>\n",
       "      <td>0</td>\n",
       "      <td>9.6875</td>\n",
       "      <td>0</td>\n",
       "      <td>1</td>\n",
       "      <td>0</td>\n",
       "      <td>1</td>\n",
       "      <td>0</td>\n",
       "      <td>0</td>\n",
       "      <td>...</td>\n",
       "      <td>1</td>\n",
       "      <td>0</td>\n",
       "      <td>0</td>\n",
       "      <td>0</td>\n",
       "      <td>1</td>\n",
       "      <td>0</td>\n",
       "      <td>0</td>\n",
       "      <td>0</td>\n",
       "      <td>0</td>\n",
       "      <td>0</td>\n",
       "    </tr>\n",
       "    <tr>\n",
       "      <th>3</th>\n",
       "      <td>895</td>\n",
       "      <td>0</td>\n",
       "      <td>0</td>\n",
       "      <td>8.6625</td>\n",
       "      <td>0</td>\n",
       "      <td>1</td>\n",
       "      <td>0</td>\n",
       "      <td>0</td>\n",
       "      <td>1</td>\n",
       "      <td>0</td>\n",
       "      <td>...</td>\n",
       "      <td>0</td>\n",
       "      <td>1</td>\n",
       "      <td>0</td>\n",
       "      <td>0</td>\n",
       "      <td>0</td>\n",
       "      <td>1</td>\n",
       "      <td>0</td>\n",
       "      <td>0</td>\n",
       "      <td>0</td>\n",
       "      <td>0</td>\n",
       "    </tr>\n",
       "    <tr>\n",
       "      <th>4</th>\n",
       "      <td>896</td>\n",
       "      <td>1</td>\n",
       "      <td>1</td>\n",
       "      <td>12.2875</td>\n",
       "      <td>1</td>\n",
       "      <td>0</td>\n",
       "      <td>0</td>\n",
       "      <td>0</td>\n",
       "      <td>1</td>\n",
       "      <td>0</td>\n",
       "      <td>...</td>\n",
       "      <td>0</td>\n",
       "      <td>1</td>\n",
       "      <td>0</td>\n",
       "      <td>0</td>\n",
       "      <td>0</td>\n",
       "      <td>1</td>\n",
       "      <td>0</td>\n",
       "      <td>0</td>\n",
       "      <td>0</td>\n",
       "      <td>0</td>\n",
       "    </tr>\n",
       "    <tr>\n",
       "      <th>...</th>\n",
       "      <td>...</td>\n",
       "      <td>...</td>\n",
       "      <td>...</td>\n",
       "      <td>...</td>\n",
       "      <td>...</td>\n",
       "      <td>...</td>\n",
       "      <td>...</td>\n",
       "      <td>...</td>\n",
       "      <td>...</td>\n",
       "      <td>...</td>\n",
       "      <td>...</td>\n",
       "      <td>...</td>\n",
       "      <td>...</td>\n",
       "      <td>...</td>\n",
       "      <td>...</td>\n",
       "      <td>...</td>\n",
       "      <td>...</td>\n",
       "      <td>...</td>\n",
       "      <td>...</td>\n",
       "      <td>...</td>\n",
       "      <td>...</td>\n",
       "    </tr>\n",
       "    <tr>\n",
       "      <th>413</th>\n",
       "      <td>1305</td>\n",
       "      <td>0</td>\n",
       "      <td>0</td>\n",
       "      <td>8.0500</td>\n",
       "      <td>0</td>\n",
       "      <td>1</td>\n",
       "      <td>0</td>\n",
       "      <td>0</td>\n",
       "      <td>1</td>\n",
       "      <td>0</td>\n",
       "      <td>...</td>\n",
       "      <td>0</td>\n",
       "      <td>1</td>\n",
       "      <td>0</td>\n",
       "      <td>0</td>\n",
       "      <td>1</td>\n",
       "      <td>0</td>\n",
       "      <td>0</td>\n",
       "      <td>0</td>\n",
       "      <td>0</td>\n",
       "      <td>0</td>\n",
       "    </tr>\n",
       "    <tr>\n",
       "      <th>414</th>\n",
       "      <td>1306</td>\n",
       "      <td>0</td>\n",
       "      <td>0</td>\n",
       "      <td>108.9000</td>\n",
       "      <td>1</td>\n",
       "      <td>0</td>\n",
       "      <td>1</td>\n",
       "      <td>0</td>\n",
       "      <td>0</td>\n",
       "      <td>0</td>\n",
       "      <td>...</td>\n",
       "      <td>0</td>\n",
       "      <td>0</td>\n",
       "      <td>0</td>\n",
       "      <td>0</td>\n",
       "      <td>0</td>\n",
       "      <td>0</td>\n",
       "      <td>1</td>\n",
       "      <td>0</td>\n",
       "      <td>0</td>\n",
       "      <td>0</td>\n",
       "    </tr>\n",
       "    <tr>\n",
       "      <th>415</th>\n",
       "      <td>1307</td>\n",
       "      <td>0</td>\n",
       "      <td>0</td>\n",
       "      <td>7.2500</td>\n",
       "      <td>0</td>\n",
       "      <td>1</td>\n",
       "      <td>0</td>\n",
       "      <td>0</td>\n",
       "      <td>1</td>\n",
       "      <td>0</td>\n",
       "      <td>...</td>\n",
       "      <td>0</td>\n",
       "      <td>1</td>\n",
       "      <td>0</td>\n",
       "      <td>0</td>\n",
       "      <td>1</td>\n",
       "      <td>0</td>\n",
       "      <td>0</td>\n",
       "      <td>0</td>\n",
       "      <td>0</td>\n",
       "      <td>0</td>\n",
       "    </tr>\n",
       "    <tr>\n",
       "      <th>416</th>\n",
       "      <td>1308</td>\n",
       "      <td>0</td>\n",
       "      <td>0</td>\n",
       "      <td>8.0500</td>\n",
       "      <td>0</td>\n",
       "      <td>1</td>\n",
       "      <td>0</td>\n",
       "      <td>0</td>\n",
       "      <td>1</td>\n",
       "      <td>0</td>\n",
       "      <td>...</td>\n",
       "      <td>0</td>\n",
       "      <td>1</td>\n",
       "      <td>0</td>\n",
       "      <td>0</td>\n",
       "      <td>0</td>\n",
       "      <td>1</td>\n",
       "      <td>0</td>\n",
       "      <td>0</td>\n",
       "      <td>0</td>\n",
       "      <td>0</td>\n",
       "    </tr>\n",
       "    <tr>\n",
       "      <th>417</th>\n",
       "      <td>1309</td>\n",
       "      <td>1</td>\n",
       "      <td>1</td>\n",
       "      <td>22.3583</td>\n",
       "      <td>0</td>\n",
       "      <td>1</td>\n",
       "      <td>1</td>\n",
       "      <td>0</td>\n",
       "      <td>0</td>\n",
       "      <td>0</td>\n",
       "      <td>...</td>\n",
       "      <td>0</td>\n",
       "      <td>1</td>\n",
       "      <td>0</td>\n",
       "      <td>1</td>\n",
       "      <td>0</td>\n",
       "      <td>0</td>\n",
       "      <td>0</td>\n",
       "      <td>0</td>\n",
       "      <td>0</td>\n",
       "      <td>0</td>\n",
       "    </tr>\n",
       "  </tbody>\n",
       "</table>\n",
       "<p>418 rows × 21 columns</p>\n",
       "</div>"
      ],
      "text/plain": [
       "     PassengerId  SibSp  Parch      Fare  Sex_female  Sex_male  Embarked_C  \\\n",
       "0            892      0      0    7.8292           0         1           0   \n",
       "1            893      1      0    7.0000           1         0           0   \n",
       "2            894      0      0    9.6875           0         1           0   \n",
       "3            895      0      0    8.6625           0         1           0   \n",
       "4            896      1      1   12.2875           1         0           0   \n",
       "..           ...    ...    ...       ...         ...       ...         ...   \n",
       "413         1305      0      0    8.0500           0         1           0   \n",
       "414         1306      0      0  108.9000           1         0           1   \n",
       "415         1307      0      0    7.2500           0         1           0   \n",
       "416         1308      0      0    8.0500           0         1           0   \n",
       "417         1309      1      1   22.3583           0         1           1   \n",
       "\n",
       "     Embarked_Q  Embarked_S  Embarked_U  ...  Pclass_2  Pclass_3  \\\n",
       "0             1           0           0  ...         0         1   \n",
       "1             0           1           0  ...         0         1   \n",
       "2             1           0           0  ...         1         0   \n",
       "3             0           1           0  ...         0         1   \n",
       "4             0           1           0  ...         0         1   \n",
       "..          ...         ...         ...  ...       ...       ...   \n",
       "413           0           1           0  ...         0         1   \n",
       "414           0           0           0  ...         0         0   \n",
       "415           0           1           0  ...         0         1   \n",
       "416           0           1           0  ...         0         1   \n",
       "417           0           0           0  ...         0         1   \n",
       "\n",
       "     Categorized_age_(0, 10]  Categorized_age_(10, 20]  \\\n",
       "0                          0                         0   \n",
       "1                          0                         0   \n",
       "2                          0                         0   \n",
       "3                          0                         0   \n",
       "4                          0                         0   \n",
       "..                       ...                       ...   \n",
       "413                        0                         0   \n",
       "414                        0                         0   \n",
       "415                        0                         0   \n",
       "416                        0                         0   \n",
       "417                        0                         1   \n",
       "\n",
       "     Categorized_age_(20, 30]  Categorized_age_(30, 40]  \\\n",
       "0                           1                         0   \n",
       "1                           0                         1   \n",
       "2                           1                         0   \n",
       "3                           0                         1   \n",
       "4                           0                         1   \n",
       "..                        ...                       ...   \n",
       "413                         1                         0   \n",
       "414                         0                         0   \n",
       "415                         1                         0   \n",
       "416                         0                         1   \n",
       "417                         0                         0   \n",
       "\n",
       "     Categorized_age_(40, 50]  Categorized_age_(50, 60]  \\\n",
       "0                           0                         0   \n",
       "1                           0                         0   \n",
       "2                           0                         0   \n",
       "3                           0                         0   \n",
       "4                           0                         0   \n",
       "..                        ...                       ...   \n",
       "413                         0                         0   \n",
       "414                         1                         0   \n",
       "415                         0                         0   \n",
       "416                         0                         0   \n",
       "417                         0                         0   \n",
       "\n",
       "     Categorized_age_(60, 70]  Categorized_age_(70, 80]  \n",
       "0                           0                         0  \n",
       "1                           0                         0  \n",
       "2                           0                         0  \n",
       "3                           0                         0  \n",
       "4                           0                         0  \n",
       "..                        ...                       ...  \n",
       "413                         0                         0  \n",
       "414                         0                         0  \n",
       "415                         0                         0  \n",
       "416                         0                         0  \n",
       "417                         0                         0  \n",
       "\n",
       "[418 rows x 21 columns]"
      ]
     },
     "execution_count": 67,
     "metadata": {},
     "output_type": "execute_result"
    }
   ],
   "source": [
    "test_gender_columns = pd.get_dummies(df_test['Sex'], prefix='Sex')\n",
    "test_embarked_columns = pd.get_dummies(df_test[\"Embarked\"], prefix=\"Embarked\")\n",
    "df_test = pd.concat([df_test, test_gender_columns], axis=1)\n",
    "df_test = pd.concat([df_test, test_embarked_columns], axis=1)\n",
    "df_test = df_test.drop(['Sex', 'Embarked'], axis=1)\n",
    "\n",
    "# the test data has no missing 'Embarked' fields. Therefore, the processed test data will not\n",
    "# have an 'Embarked_Q' column. We need to artificially add one filled with zeros.\n",
    "df_test['Embarked_U'] = pd.DataFrame([0 for i in range(len(df_test))])\n",
    "\n",
    "test_categorized_pclass_columns = pd.get_dummies(df_test['Pclass'], prefix='Pclass')\n",
    "df_test = pd.concat([df_test, test_categorized_pclass_columns], axis=1)\n",
    "df_test = df_test.drop(['Pclass'], axis=1)\n",
    "\n",
    "bins = [0, 10, 20, 30, 40, 50, 60, 70, 80]\n",
    "test_categorized_age = pd.cut(df_test['Age'], bins)\n",
    "df_test['Categorized_age'] = categorized_age\n",
    "df_test = df_test.drop([\"Age\"], axis=1)\n",
    "\n",
    "test_cagegorized_age_columns = pd.get_dummies(df_test['Categorized_age'], prefix='Categorized_age')\n",
    "df_test = pd.concat([df_test, test_cagegorized_age_columns], axis=1)\n",
    "df_test = df_test.drop(['Categorized_age'], axis=1)\n",
    "\n",
    "df_test = df_test.drop(['Name', 'Ticket'], axis=1)\n",
    "df_test"
   ]
  },
  {
   "cell_type": "code",
   "execution_count": 68,
   "id": "3cba7634",
   "metadata": {
    "execution": {
     "iopub.execute_input": "2022-05-26T10:05:16.896290Z",
     "iopub.status.busy": "2022-05-26T10:05:16.895599Z",
     "iopub.status.idle": "2022-05-26T10:05:16.898748Z",
     "shell.execute_reply": "2022-05-26T10:05:16.899589Z",
     "shell.execute_reply.started": "2022-05-26T09:27:29.296189Z"
    },
    "papermill": {
     "duration": 0.113862,
     "end_time": "2022-05-26T10:05:16.899812",
     "exception": false,
     "start_time": "2022-05-26T10:05:16.785950",
     "status": "completed"
    },
    "tags": []
   },
   "outputs": [
    {
     "name": "stdout",
     "output_type": "stream",
     "text": [
      "<class 'pandas.core.frame.DataFrame'>\n",
      "RangeIndex: 418 entries, 0 to 417\n",
      "Data columns (total 21 columns):\n",
      " #   Column                    Non-Null Count  Dtype  \n",
      "---  ------                    --------------  -----  \n",
      " 0   PassengerId               418 non-null    int64  \n",
      " 1   SibSp                     418 non-null    int64  \n",
      " 2   Parch                     418 non-null    int64  \n",
      " 3   Fare                      418 non-null    float64\n",
      " 4   Sex_female                418 non-null    uint8  \n",
      " 5   Sex_male                  418 non-null    uint8  \n",
      " 6   Embarked_C                418 non-null    uint8  \n",
      " 7   Embarked_Q                418 non-null    uint8  \n",
      " 8   Embarked_S                418 non-null    uint8  \n",
      " 9   Embarked_U                418 non-null    int64  \n",
      " 10  Pclass_1                  418 non-null    uint8  \n",
      " 11  Pclass_2                  418 non-null    uint8  \n",
      " 12  Pclass_3                  418 non-null    uint8  \n",
      " 13  Categorized_age_(0, 10]   418 non-null    uint8  \n",
      " 14  Categorized_age_(10, 20]  418 non-null    uint8  \n",
      " 15  Categorized_age_(20, 30]  418 non-null    uint8  \n",
      " 16  Categorized_age_(30, 40]  418 non-null    uint8  \n",
      " 17  Categorized_age_(40, 50]  418 non-null    uint8  \n",
      " 18  Categorized_age_(50, 60]  418 non-null    uint8  \n",
      " 19  Categorized_age_(60, 70]  418 non-null    uint8  \n",
      " 20  Categorized_age_(70, 80]  418 non-null    uint8  \n",
      "dtypes: float64(1), int64(4), uint8(16)\n",
      "memory usage: 23.0 KB\n"
     ]
    }
   ],
   "source": [
    "df_test.info()"
   ]
  },
  {
   "cell_type": "markdown",
   "id": "3d6751a9",
   "metadata": {
    "papermill": {
     "duration": 0.096736,
     "end_time": "2022-05-26T10:05:17.095674",
     "exception": false,
     "start_time": "2022-05-26T10:05:16.998938",
     "status": "completed"
    },
    "tags": []
   },
   "source": [
    "**Check how many how many survivors were predicted by all the models**"
   ]
  },
  {
   "cell_type": "code",
   "execution_count": 69,
   "id": "988989db",
   "metadata": {
    "execution": {
     "iopub.execute_input": "2022-05-26T10:05:17.292479Z",
     "iopub.status.busy": "2022-05-26T10:05:17.291845Z",
     "iopub.status.idle": "2022-05-26T10:05:17.298979Z",
     "shell.execute_reply": "2022-05-26T10:05:17.299529Z",
     "shell.execute_reply.started": "2022-05-26T09:52:51.244549Z"
    },
    "papermill": {
     "duration": 0.107341,
     "end_time": "2022-05-26T10:05:17.299731",
     "exception": false,
     "start_time": "2022-05-26T10:05:17.192390",
     "status": "completed"
    },
    "tags": []
   },
   "outputs": [
    {
     "data": {
      "text/plain": [
       "154"
      ]
     },
     "execution_count": 69,
     "metadata": {},
     "output_type": "execute_result"
    }
   ],
   "source": [
    "# Logistic regression\n",
    "sum(lr_model.predict(df_test))"
   ]
  },
  {
   "cell_type": "code",
   "execution_count": 70,
   "id": "c2cd26a5",
   "metadata": {
    "execution": {
     "iopub.execute_input": "2022-05-26T10:05:17.498608Z",
     "iopub.status.busy": "2022-05-26T10:05:17.497958Z",
     "iopub.status.idle": "2022-05-26T10:05:17.505138Z",
     "shell.execute_reply": "2022-05-26T10:05:17.505854Z",
     "shell.execute_reply.started": "2022-05-26T09:53:28.999238Z"
    },
    "papermill": {
     "duration": 0.108405,
     "end_time": "2022-05-26T10:05:17.506046",
     "exception": false,
     "start_time": "2022-05-26T10:05:17.397641",
     "status": "completed"
    },
    "tags": []
   },
   "outputs": [
    {
     "data": {
      "text/plain": [
       "191"
      ]
     },
     "execution_count": 70,
     "metadata": {},
     "output_type": "execute_result"
    }
   ],
   "source": [
    "# Decision tree\n",
    "sum(dt_model.predict(df_test))"
   ]
  },
  {
   "cell_type": "code",
   "execution_count": 71,
   "id": "805498bc",
   "metadata": {
    "execution": {
     "iopub.execute_input": "2022-05-26T10:05:17.709099Z",
     "iopub.status.busy": "2022-05-26T10:05:17.708421Z",
     "iopub.status.idle": "2022-05-26T10:05:17.712568Z",
     "shell.execute_reply": "2022-05-26T10:05:17.713118Z",
     "shell.execute_reply.started": "2022-05-26T09:53:31.872942Z"
    },
    "papermill": {
     "duration": 0.108754,
     "end_time": "2022-05-26T10:05:17.713284",
     "exception": false,
     "start_time": "2022-05-26T10:05:17.604530",
     "status": "completed"
    },
    "tags": []
   },
   "outputs": [
    {
     "data": {
      "text/plain": [
       "193"
      ]
     },
     "execution_count": 71,
     "metadata": {},
     "output_type": "execute_result"
    }
   ],
   "source": [
    "# Naive Bayes\n",
    "sum(nb_model.predict(df_test))"
   ]
  },
  {
   "cell_type": "code",
   "execution_count": 72,
   "id": "aff61515",
   "metadata": {
    "execution": {
     "iopub.execute_input": "2022-05-26T10:05:17.913230Z",
     "iopub.status.busy": "2022-05-26T10:05:17.912476Z",
     "iopub.status.idle": "2022-05-26T10:05:17.927304Z",
     "shell.execute_reply": "2022-05-26T10:05:17.926644Z",
     "shell.execute_reply.started": "2022-05-26T09:54:31.732780Z"
    },
    "papermill": {
     "duration": 0.115506,
     "end_time": "2022-05-26T10:05:17.927447",
     "exception": false,
     "start_time": "2022-05-26T10:05:17.811941",
     "status": "completed"
    },
    "tags": []
   },
   "outputs": [
    {
     "data": {
      "text/plain": [
       "15"
      ]
     },
     "execution_count": 72,
     "metadata": {},
     "output_type": "execute_result"
    }
   ],
   "source": [
    "# Support vector machine\n",
    "sum(svm_model.predict(df_test))"
   ]
  },
  {
   "cell_type": "code",
   "execution_count": 73,
   "id": "5eb361a5",
   "metadata": {
    "execution": {
     "iopub.execute_input": "2022-05-26T10:05:18.130798Z",
     "iopub.status.busy": "2022-05-26T10:05:18.130087Z",
     "iopub.status.idle": "2022-05-26T10:05:18.135566Z",
     "shell.execute_reply": "2022-05-26T10:05:18.136199Z",
     "shell.execute_reply.started": "2022-05-26T09:54:37.234789Z"
    },
    "papermill": {
     "duration": 0.110346,
     "end_time": "2022-05-26T10:05:18.136382",
     "exception": false,
     "start_time": "2022-05-26T10:05:18.026036",
     "status": "completed"
    },
    "tags": []
   },
   "outputs": [
    {
     "data": {
      "text/plain": [
       "143"
      ]
     },
     "execution_count": 73,
     "metadata": {},
     "output_type": "execute_result"
    }
   ],
   "source": [
    "# Gradient boosting\n",
    "sum(gb_model.predict(df_test))"
   ]
  },
  {
   "cell_type": "code",
   "execution_count": 74,
   "id": "24a83883",
   "metadata": {
    "execution": {
     "iopub.execute_input": "2022-05-26T10:05:18.341740Z",
     "iopub.status.busy": "2022-05-26T10:05:18.338294Z",
     "iopub.status.idle": "2022-05-26T10:05:18.355994Z",
     "shell.execute_reply": "2022-05-26T10:05:18.356519Z",
     "shell.execute_reply.started": "2022-05-26T09:57:15.440963Z"
    },
    "papermill": {
     "duration": 0.120279,
     "end_time": "2022-05-26T10:05:18.356716",
     "exception": false,
     "start_time": "2022-05-26T10:05:18.236437",
     "status": "completed"
    },
    "tags": []
   },
   "outputs": [
    {
     "data": {
      "text/plain": [
       "61"
      ]
     },
     "execution_count": 74,
     "metadata": {},
     "output_type": "execute_result"
    }
   ],
   "source": [
    "# AdaBoost\n",
    "sum(ab_model.predict(df_test))"
   ]
  },
  {
   "cell_type": "markdown",
   "id": "59b14779",
   "metadata": {
    "papermill": {
     "duration": 0.098506,
     "end_time": "2022-05-26T10:05:18.555182",
     "exception": false,
     "start_time": "2022-05-26T10:05:18.456676",
     "status": "completed"
    },
    "tags": []
   },
   "source": [
    "## Prepare submission file"
   ]
  },
  {
   "cell_type": "code",
   "execution_count": 75,
   "id": "518fb167",
   "metadata": {
    "execution": {
     "iopub.execute_input": "2022-05-26T10:05:18.757092Z",
     "iopub.status.busy": "2022-05-26T10:05:18.756363Z",
     "iopub.status.idle": "2022-05-26T10:05:18.761600Z",
     "shell.execute_reply": "2022-05-26T10:05:18.762126Z",
     "shell.execute_reply.started": "2022-05-26T10:00:09.407141Z"
    },
    "papermill": {
     "duration": 0.108257,
     "end_time": "2022-05-26T10:05:18.762301",
     "exception": false,
     "start_time": "2022-05-26T10:05:18.654044",
     "status": "completed"
    },
    "tags": []
   },
   "outputs": [],
   "source": [
    "# submission = gb_model.predict(df_test)\n",
    "# test random forest to see if the score is better\n",
    "\n",
    "submission = lr_model.predict(df_test)"
   ]
  },
  {
   "cell_type": "code",
   "execution_count": 76,
   "id": "9c9e5dcb",
   "metadata": {
    "execution": {
     "iopub.execute_input": "2022-05-26T10:05:18.967648Z",
     "iopub.status.busy": "2022-05-26T10:05:18.966968Z",
     "iopub.status.idle": "2022-05-26T10:05:18.971303Z",
     "shell.execute_reply": "2022-05-26T10:05:18.971857Z",
     "shell.execute_reply.started": "2022-05-26T09:27:29.329101Z"
    },
    "papermill": {
     "duration": 0.108187,
     "end_time": "2022-05-26T10:05:18.972060",
     "exception": false,
     "start_time": "2022-05-26T10:05:18.863873",
     "status": "completed"
    },
    "tags": []
   },
   "outputs": [],
   "source": [
    "test = pd.DataFrame({\"PassengerId\": df_test[\"PassengerId\"].values,\n",
    "                   \"Survived\": submission,\n",
    "                  })"
   ]
  },
  {
   "cell_type": "code",
   "execution_count": 77,
   "id": "a67ff149",
   "metadata": {
    "execution": {
     "iopub.execute_input": "2022-05-26T10:05:19.174185Z",
     "iopub.status.busy": "2022-05-26T10:05:19.173507Z",
     "iopub.status.idle": "2022-05-26T10:05:19.183016Z",
     "shell.execute_reply": "2022-05-26T10:05:19.182264Z",
     "shell.execute_reply.started": "2022-05-26T09:27:29.339228Z"
    },
    "papermill": {
     "duration": 0.111872,
     "end_time": "2022-05-26T10:05:19.183162",
     "exception": false,
     "start_time": "2022-05-26T10:05:19.071290",
     "status": "completed"
    },
    "tags": []
   },
   "outputs": [],
   "source": [
    "test.to_csv(\"submission.csv\", index=False)"
   ]
  }
 ],
 "metadata": {
  "kernelspec": {
   "display_name": "Python 3",
   "language": "python",
   "name": "python3"
  },
  "language_info": {
   "codemirror_mode": {
    "name": "ipython",
    "version": 3
   },
   "file_extension": ".py",
   "mimetype": "text/x-python",
   "name": "python",
   "nbconvert_exporter": "python",
   "pygments_lexer": "ipython3",
   "version": "3.7.12"
  },
  "papermill": {
   "default_parameters": {},
   "duration": 34.134017,
   "end_time": "2022-05-26T10:05:19.992559",
   "environment_variables": {},
   "exception": null,
   "input_path": "__notebook__.ipynb",
   "output_path": "__notebook__.ipynb",
   "parameters": {},
   "start_time": "2022-05-26T10:04:45.858542",
   "version": "2.3.3"
  }
 },
 "nbformat": 4,
 "nbformat_minor": 5
}
